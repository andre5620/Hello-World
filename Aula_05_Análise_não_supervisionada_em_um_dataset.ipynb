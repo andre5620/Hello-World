{
  "nbformat": 4,
  "nbformat_minor": 0,
  "metadata": {
    "kernelspec": {
      "display_name": "Python 3",
      "language": "python",
      "name": "python3"
    },
    "language_info": {
      "codemirror_mode": {
        "name": "ipython",
        "version": 3
      },
      "file_extension": ".py",
      "mimetype": "text/x-python",
      "name": "python",
      "nbconvert_exporter": "python",
      "pygments_lexer": "ipython3",
      "version": "3.7.4"
    },
    "colab": {
      "name": "Aula 05 - Análise não-supervisionada em um dataset",
      "provenance": [],
      "include_colab_link": true
    }
  },
  "cells": [
    {
      "cell_type": "markdown",
      "metadata": {
        "id": "view-in-github",
        "colab_type": "text"
      },
      "source": [
        "<a href=\"https://colab.research.google.com/github/andre5620/Hello-World/blob/master/Aula_05_An%C3%A1lise_n%C3%A3o_supervisionada_em_um_dataset.ipynb\" target=\"_parent\"><img src=\"https://colab.research.google.com/assets/colab-badge.svg\" alt=\"Open In Colab\"/></a>"
      ]
    },
    {
      "cell_type": "markdown",
      "metadata": {
        "id": "3aq4ZGp9dQXx"
      },
      "source": [
        "Trabalho realizado pelos alunos Marcelo de Fazio e Mario Estolano"
      ]
    },
    {
      "cell_type": "markdown",
      "metadata": {
        "id": "kb-v6P0PdQXy"
      },
      "source": [
        "## Entendimento do problema"
      ]
    },
    {
      "cell_type": "markdown",
      "metadata": {
        "id": "ItoUDGGrdQX0"
      },
      "source": [
        "O problema que abordamos refere-se a identificação de estados brasileiros que possuem curvas semelhantes de casos novos de infecção ao vírus COVID-19, a partir do primeiro caso identificado.\n",
        "Utilizaremos as técnicas de agrupamento abordadas na aula, entre elas K-means e o agrupamento hieráquico aglomerativo.\n",
        "Todo o código foi feito em python. \n",
        "Considerando que utilizamos a linguagem R em sala de aula, o trabalho propiciou uma maneira de praticarmos os conceitos ensinados em sala de aula, bem como a capacidade de aperfeiçoar as nossas técnicas e ferramentas de análise de dados utilizando outra linguagem(python).\n",
        "O trabalho foi realizado de forma colaborativa, sendo desenvolvido e aperfeiçoado pelos dois integrantes do grupo em todas as etapas: na codificação, na análise e na avaliação dos resultados encontrados. "
      ]
    },
    {
      "cell_type": "markdown",
      "metadata": {
        "id": "3k8m8qdmdQX1"
      },
      "source": [
        "## Entendimento dos dados"
      ]
    },
    {
      "cell_type": "code",
      "metadata": {
        "id": "OvBMMw0zdQX3"
      },
      "source": [
        "# bibliotecas necessárias para a exploração dos dados\n",
        "import pandas as pd\n",
        "import numpy as np\n",
        "import matplotlib.pyplot as plt\n",
        "import seaborn as sns\n",
        "import plotly.express as px"
      ],
      "execution_count": 1,
      "outputs": []
    },
    {
      "cell_type": "code",
      "metadata": {
        "id": "iXYQM1pQdQX7"
      },
      "source": [
        "# Para que possamos comparar desconsiderar o tempo como critério de semelhança utilizaremos a função do código enviado pela \n",
        "# professora,  para contabilizar a partir da janela do primeiro caso, adaptada para a nosssa base de dados\n",
        "def create_ts(df):\n",
        "    ts=df\n",
        "    ts=ts.drop(['regiao','casosAcumulados', 'obitosNovos','obitosAcumulados'], axis=1)\n",
        "    ts=ts.reset_index(drop=False)\n",
        "    ts= ts.pivot(index=\"estado\",columns= 'data', values='casosNovos').reset_index()\n",
        "    ts.set_index('estado')\n",
        "    ts=ts.T\n",
        "    ts.columns=ts.loc['estado']\n",
        "    ts=ts.drop('estado')\n",
        "    ts=ts.fillna(0)\n",
        "    ts=ts.reindex(sorted(ts.columns), axis=1)\n",
        "    return (ts)"
      ],
      "execution_count": 2,
      "outputs": []
    },
    {
      "cell_type": "code",
      "metadata": {
        "colab": {
          "resources": {
            "http://localhost:8080/nbextensions/google.colab/files.js": {
              "data": "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",
              "ok": true,
              "headers": [
                [
                  "content-type",
                  "application/javascript"
                ]
              ],
              "status": 200,
              "status_text": ""
            }
          },
          "base_uri": "https://localhost:8080/",
          "height": 39
        },
        "id": "AsVJ2Espyfur",
        "outputId": "85e3f0a5-d37e-4ff6-8f52-3e8b620db3df"
      },
      "source": [
        "import io\n",
        "from google.colab import files\n",
        "uploaded = files.upload()"
      ],
      "execution_count": null,
      "outputs": [
        {
          "output_type": "display_data",
          "data": {
            "text/plain": [
              "<IPython.core.display.HTML object>"
            ],
            "text/html": [
              "\n",
              "     <input type=\"file\" id=\"files-3a8c9875-e29f-474a-8d62-279c7490da64\" name=\"files[]\" multiple disabled\n",
              "        style=\"border:none\" />\n",
              "     <output id=\"result-3a8c9875-e29f-474a-8d62-279c7490da64\">\n",
              "      Upload widget is only available when the cell has been executed in the\n",
              "      current browser session. Please rerun this cell to enable.\n",
              "      </output>\n",
              "      <script src=\"/nbextensions/google.colab/files.js\"></script> "
            ]
          },
          "metadata": {}
        }
      ]
    },
    {
      "cell_type": "code",
      "metadata": {
        "id": "JOKssa0bdQX-"
      },
      "source": [
        "# leitura da base de dados no dia 08/05/2020\n",
        "df = pd.read_csv(\"covid_08_05.csv\",sep=\";\")"
      ],
      "execution_count": null,
      "outputs": []
    },
    {
      "cell_type": "code",
      "metadata": {
        "id": "zCLX8JxkdQYC",
        "colab": {
          "base_uri": "https://localhost:8080/",
          "height": 206
        },
        "outputId": "b88358e2-d713-49dd-f554-8e4f2b376c36"
      },
      "source": [
        "# verificação da leitura dos dados do início do arquivo\n",
        "df.head()"
      ],
      "execution_count": null,
      "outputs": [
        {
          "output_type": "execute_result",
          "data": {
            "text/html": [
              "<div>\n",
              "<style scoped>\n",
              "    .dataframe tbody tr th:only-of-type {\n",
              "        vertical-align: middle;\n",
              "    }\n",
              "\n",
              "    .dataframe tbody tr th {\n",
              "        vertical-align: top;\n",
              "    }\n",
              "\n",
              "    .dataframe thead th {\n",
              "        text-align: right;\n",
              "    }\n",
              "</style>\n",
              "<table border=\"1\" class=\"dataframe\">\n",
              "  <thead>\n",
              "    <tr style=\"text-align: right;\">\n",
              "      <th></th>\n",
              "      <th>regiao</th>\n",
              "      <th>estado</th>\n",
              "      <th>data</th>\n",
              "      <th>casosNovos</th>\n",
              "      <th>casosAcumulados</th>\n",
              "      <th>obitosNovos</th>\n",
              "      <th>obitosAcumulados</th>\n",
              "    </tr>\n",
              "  </thead>\n",
              "  <tbody>\n",
              "    <tr>\n",
              "      <th>0</th>\n",
              "      <td>Norte</td>\n",
              "      <td>RO</td>\n",
              "      <td>2020-01-30</td>\n",
              "      <td>0</td>\n",
              "      <td>0</td>\n",
              "      <td>0</td>\n",
              "      <td>0</td>\n",
              "    </tr>\n",
              "    <tr>\n",
              "      <th>1</th>\n",
              "      <td>Norte</td>\n",
              "      <td>RO</td>\n",
              "      <td>2020-01-31</td>\n",
              "      <td>0</td>\n",
              "      <td>0</td>\n",
              "      <td>0</td>\n",
              "      <td>0</td>\n",
              "    </tr>\n",
              "    <tr>\n",
              "      <th>2</th>\n",
              "      <td>Norte</td>\n",
              "      <td>RO</td>\n",
              "      <td>2020-02-01</td>\n",
              "      <td>0</td>\n",
              "      <td>0</td>\n",
              "      <td>0</td>\n",
              "      <td>0</td>\n",
              "    </tr>\n",
              "    <tr>\n",
              "      <th>3</th>\n",
              "      <td>Norte</td>\n",
              "      <td>RO</td>\n",
              "      <td>2020-02-02</td>\n",
              "      <td>0</td>\n",
              "      <td>0</td>\n",
              "      <td>0</td>\n",
              "      <td>0</td>\n",
              "    </tr>\n",
              "    <tr>\n",
              "      <th>4</th>\n",
              "      <td>Norte</td>\n",
              "      <td>RO</td>\n",
              "      <td>2020-02-03</td>\n",
              "      <td>0</td>\n",
              "      <td>0</td>\n",
              "      <td>0</td>\n",
              "      <td>0</td>\n",
              "    </tr>\n",
              "  </tbody>\n",
              "</table>\n",
              "</div>"
            ],
            "text/plain": [
              "  regiao estado        data  ...  casosAcumulados  obitosNovos  obitosAcumulados\n",
              "0  Norte     RO  2020-01-30  ...                0            0                 0\n",
              "1  Norte     RO  2020-01-31  ...                0            0                 0\n",
              "2  Norte     RO  2020-02-01  ...                0            0                 0\n",
              "3  Norte     RO  2020-02-02  ...                0            0                 0\n",
              "4  Norte     RO  2020-02-03  ...                0            0                 0\n",
              "\n",
              "[5 rows x 7 columns]"
            ]
          },
          "metadata": {},
          "execution_count": 5
        }
      ]
    },
    {
      "cell_type": "code",
      "metadata": {
        "id": "rYG8VrtEdQYG",
        "colab": {
          "base_uri": "https://localhost:8080/",
          "height": 206
        },
        "outputId": "2e2251f9-5915-4a21-e576-02f759475fd7"
      },
      "source": [
        "# verificação da leitura dos dados do final do arquivo\n",
        "df.tail()"
      ],
      "execution_count": null,
      "outputs": [
        {
          "output_type": "execute_result",
          "data": {
            "text/html": [
              "<div>\n",
              "<style scoped>\n",
              "    .dataframe tbody tr th:only-of-type {\n",
              "        vertical-align: middle;\n",
              "    }\n",
              "\n",
              "    .dataframe tbody tr th {\n",
              "        vertical-align: top;\n",
              "    }\n",
              "\n",
              "    .dataframe thead th {\n",
              "        text-align: right;\n",
              "    }\n",
              "</style>\n",
              "<table border=\"1\" class=\"dataframe\">\n",
              "  <thead>\n",
              "    <tr style=\"text-align: right;\">\n",
              "      <th></th>\n",
              "      <th>regiao</th>\n",
              "      <th>estado</th>\n",
              "      <th>data</th>\n",
              "      <th>casosNovos</th>\n",
              "      <th>casosAcumulados</th>\n",
              "      <th>obitosNovos</th>\n",
              "      <th>obitosAcumulados</th>\n",
              "    </tr>\n",
              "  </thead>\n",
              "  <tbody>\n",
              "    <tr>\n",
              "      <th>2668</th>\n",
              "      <td>Centro-Oeste</td>\n",
              "      <td>DF</td>\n",
              "      <td>2020-05-03</td>\n",
              "      <td>83</td>\n",
              "      <td>1649</td>\n",
              "      <td>2</td>\n",
              "      <td>33</td>\n",
              "    </tr>\n",
              "    <tr>\n",
              "      <th>2669</th>\n",
              "      <td>Centro-Oeste</td>\n",
              "      <td>DF</td>\n",
              "      <td>2020-05-04</td>\n",
              "      <td>119</td>\n",
              "      <td>1768</td>\n",
              "      <td>0</td>\n",
              "      <td>33</td>\n",
              "    </tr>\n",
              "    <tr>\n",
              "      <th>2670</th>\n",
              "      <td>Centro-Oeste</td>\n",
              "      <td>DF</td>\n",
              "      <td>2020-05-05</td>\n",
              "      <td>50</td>\n",
              "      <td>1818</td>\n",
              "      <td>0</td>\n",
              "      <td>33</td>\n",
              "    </tr>\n",
              "    <tr>\n",
              "      <th>2671</th>\n",
              "      <td>Centro-Oeste</td>\n",
              "      <td>DF</td>\n",
              "      <td>2020-05-06</td>\n",
              "      <td>88</td>\n",
              "      <td>1906</td>\n",
              "      <td>1</td>\n",
              "      <td>34</td>\n",
              "    </tr>\n",
              "    <tr>\n",
              "      <th>2672</th>\n",
              "      <td>Centro-Oeste</td>\n",
              "      <td>DF</td>\n",
              "      <td>2020-05-07</td>\n",
              "      <td>352</td>\n",
              "      <td>2258</td>\n",
              "      <td>1</td>\n",
              "      <td>35</td>\n",
              "    </tr>\n",
              "  </tbody>\n",
              "</table>\n",
              "</div>"
            ],
            "text/plain": [
              "            regiao estado  ... obitosNovos  obitosAcumulados\n",
              "2668  Centro-Oeste     DF  ...           2                33\n",
              "2669  Centro-Oeste     DF  ...           0                33\n",
              "2670  Centro-Oeste     DF  ...           0                33\n",
              "2671  Centro-Oeste     DF  ...           1                34\n",
              "2672  Centro-Oeste     DF  ...           1                35\n",
              "\n",
              "[5 rows x 7 columns]"
            ]
          },
          "metadata": {},
          "execution_count": 6
        }
      ]
    },
    {
      "cell_type": "code",
      "metadata": {
        "id": "AkARInvHdQYJ",
        "colab": {
          "base_uri": "https://localhost:8080/"
        },
        "outputId": "fdbaabf3-f1d1-4708-9d86-c58a6166b05f"
      },
      "source": [
        "# verificação os tipos dos dados\n",
        "df.dtypes"
      ],
      "execution_count": null,
      "outputs": [
        {
          "output_type": "execute_result",
          "data": {
            "text/plain": [
              "regiao              object\n",
              "estado              object\n",
              "data                object\n",
              "casosNovos           int64\n",
              "casosAcumulados      int64\n",
              "obitosNovos          int64\n",
              "obitosAcumulados     int64\n",
              "dtype: object"
            ]
          },
          "metadata": {},
          "execution_count": 7
        }
      ]
    },
    {
      "cell_type": "code",
      "metadata": {
        "id": "7HcEFU6udQYN"
      },
      "source": [
        "# transformando a data em um objeto do tipo tempo\n",
        "df['data'] = df['data'].astype('datetime64[ns]')"
      ],
      "execution_count": null,
      "outputs": []
    },
    {
      "cell_type": "code",
      "metadata": {
        "id": "-M7FC4D5dQYQ",
        "colab": {
          "base_uri": "https://localhost:8080/",
          "height": 300
        },
        "outputId": "cfa7aa0d-565c-49ee-aa7d-e5e5e11f1eca"
      },
      "source": [
        "# descrição da tabela\n",
        "df.describe()"
      ],
      "execution_count": null,
      "outputs": [
        {
          "output_type": "execute_result",
          "data": {
            "text/html": [
              "<div>\n",
              "<style scoped>\n",
              "    .dataframe tbody tr th:only-of-type {\n",
              "        vertical-align: middle;\n",
              "    }\n",
              "\n",
              "    .dataframe tbody tr th {\n",
              "        vertical-align: top;\n",
              "    }\n",
              "\n",
              "    .dataframe thead th {\n",
              "        text-align: right;\n",
              "    }\n",
              "</style>\n",
              "<table border=\"1\" class=\"dataframe\">\n",
              "  <thead>\n",
              "    <tr style=\"text-align: right;\">\n",
              "      <th></th>\n",
              "      <th>casosNovos</th>\n",
              "      <th>casosAcumulados</th>\n",
              "      <th>obitosNovos</th>\n",
              "      <th>obitosAcumulados</th>\n",
              "    </tr>\n",
              "  </thead>\n",
              "  <tbody>\n",
              "    <tr>\n",
              "      <th>count</th>\n",
              "      <td>2673.000000</td>\n",
              "      <td>2673.000000</td>\n",
              "      <td>2673.000000</td>\n",
              "      <td>2673.000000</td>\n",
              "    </tr>\n",
              "    <tr>\n",
              "      <th>mean</th>\n",
              "      <td>50.544706</td>\n",
              "      <td>690.875795</td>\n",
              "      <td>3.421624</td>\n",
              "      <td>44.888141</td>\n",
              "    </tr>\n",
              "    <tr>\n",
              "      <th>std</th>\n",
              "      <td>187.445668</td>\n",
              "      <td>2624.807049</td>\n",
              "      <td>14.876913</td>\n",
              "      <td>210.740571</td>\n",
              "    </tr>\n",
              "    <tr>\n",
              "      <th>min</th>\n",
              "      <td>0.000000</td>\n",
              "      <td>0.000000</td>\n",
              "      <td>0.000000</td>\n",
              "      <td>0.000000</td>\n",
              "    </tr>\n",
              "    <tr>\n",
              "      <th>25%</th>\n",
              "      <td>0.000000</td>\n",
              "      <td>0.000000</td>\n",
              "      <td>0.000000</td>\n",
              "      <td>0.000000</td>\n",
              "    </tr>\n",
              "    <tr>\n",
              "      <th>50%</th>\n",
              "      <td>0.000000</td>\n",
              "      <td>6.000000</td>\n",
              "      <td>0.000000</td>\n",
              "      <td>0.000000</td>\n",
              "    </tr>\n",
              "    <tr>\n",
              "      <th>75%</th>\n",
              "      <td>26.000000</td>\n",
              "      <td>297.000000</td>\n",
              "      <td>1.000000</td>\n",
              "      <td>10.000000</td>\n",
              "    </tr>\n",
              "    <tr>\n",
              "      <th>max</th>\n",
              "      <td>3800.000000</td>\n",
              "      <td>39928.000000</td>\n",
              "      <td>224.000000</td>\n",
              "      <td>3206.000000</td>\n",
              "    </tr>\n",
              "  </tbody>\n",
              "</table>\n",
              "</div>"
            ],
            "text/plain": [
              "        casosNovos  casosAcumulados  obitosNovos  obitosAcumulados\n",
              "count  2673.000000      2673.000000  2673.000000       2673.000000\n",
              "mean     50.544706       690.875795     3.421624         44.888141\n",
              "std     187.445668      2624.807049    14.876913        210.740571\n",
              "min       0.000000         0.000000     0.000000          0.000000\n",
              "25%       0.000000         0.000000     0.000000          0.000000\n",
              "50%       0.000000         6.000000     0.000000          0.000000\n",
              "75%      26.000000       297.000000     1.000000         10.000000\n",
              "max    3800.000000     39928.000000   224.000000       3206.000000"
            ]
          },
          "metadata": {},
          "execution_count": 9
        }
      ]
    },
    {
      "cell_type": "markdown",
      "metadata": {
        "id": "qlShKG08dQYU"
      },
      "source": [
        "Vamos analisar os dados por regiãos para identificada"
      ]
    },
    {
      "cell_type": "code",
      "metadata": {
        "id": "mN-0FWhvdQYV"
      },
      "source": [
        "#Modificações para tornar o layout mais legível do matplotlib\n",
        "import locale\n",
        "import matplotlib\n",
        "#locale.setlocale(locale.LC_ALL, 'pt_BR.UTF-8')\n",
        "#sns.set_style(\"white\")\n",
        "plt.rcParams[\"font.family\"] = \"serif\"\n",
        "plt.rcParams[\"font.style\"] = \"normal\"\n",
        "plt.rcParams['font.size'] = 12\n",
        "plt.rcParams['axes.formatter.use_locale'] = True\n",
        "plt.rcParams['figure.figsize'] = [10, 5]\n",
        "#0085bd\n",
        "#297fd5"
      ],
      "execution_count": null,
      "outputs": []
    },
    {
      "cell_type": "code",
      "metadata": {
        "id": "H2890D5ddQYY",
        "colab": {
          "base_uri": "https://localhost:8080/",
          "height": 542
        },
        "outputId": "5e79967e-72ce-4894-b40a-ae602e7ee898"
      },
      "source": [
        "fig = px.histogram(df, x=\"regiao\", y=\"casosNovos\", \n",
        "             template = 'plotly_white',  \n",
        "             title=\"Quantidade de casos de COVID-19 por região do Brasil\",\n",
        "             histfunc=\"sum\",\n",
        "             color_discrete_sequence=['indianred'],\n",
        "             opacity=0.95)\n",
        "fig.update_traces(hovertemplate='Região: %{x} <br>Casos Novos: %{y}') \n",
        "fig.update_layout(xaxis_title=\"Região\",\n",
        "                  yaxis_title=\"\",\n",
        "                  xaxis={'categoryorder':'total descending'})\n",
        "fig.show()"
      ],
      "execution_count": null,
      "outputs": [
        {
          "output_type": "display_data",
          "data": {
            "text/html": [
              "<html>\n",
              "<head><meta charset=\"utf-8\" /></head>\n",
              "<body>\n",
              "    <div>\n",
              "            <script src=\"https://cdnjs.cloudflare.com/ajax/libs/mathjax/2.7.5/MathJax.js?config=TeX-AMS-MML_SVG\"></script><script type=\"text/javascript\">if (window.MathJax) {MathJax.Hub.Config({SVG: {font: \"STIX-Web\"}});}</script>\n",
              "                <script type=\"text/javascript\">window.PlotlyConfig = {MathJaxConfig: 'local'};</script>\n",
              "        <script src=\"https://cdn.plot.ly/plotly-latest.min.js\"></script>    \n",
              "            <div id=\"7e991d44-d11a-4114-97c3-436fefdf3bce\" class=\"plotly-graph-div\" style=\"height:525px; width:100%;\"></div>\n",
              "            <script type=\"text/javascript\">\n",
              "                \n",
              "                    window.PLOTLYENV=window.PLOTLYENV || {};\n",
              "                    \n",
              "                if (document.getElementById(\"7e991d44-d11a-4114-97c3-436fefdf3bce\")) {\n",
              "                    Plotly.newPlot(\n",
              "                        '7e991d44-d11a-4114-97c3-436fefdf3bce',\n",
              "                        [{\"alignmentgroup\": \"True\", \"bingroup\": \"x\", \"histfunc\": \"sum\", \"hoverlabel\": {\"namelength\": 0}, \"hovertemplate\": \"Regi\\u00e3o: %{x} <br>Casos Novos: %{y}\", \"legendgroup\": \"\", \"marker\": {\"color\": \"indianred\", \"opacity\": 0.95}, \"name\": \"\", \"offsetgroup\": \"\", \"orientation\": \"v\", \"showlegend\": false, \"type\": \"histogram\", \"x\": [\"Norte\", \"Norte\", \"Norte\", \"Norte\", \"Norte\", \"Norte\", \"Norte\", \"Norte\", \"Norte\", \"Norte\", \"Norte\", \"Norte\", \"Norte\", \"Norte\", \"Norte\", \"Norte\", \"Norte\", \"Norte\", \"Norte\", \"Norte\", \"Norte\", \"Norte\", \"Norte\", \"Norte\", \"Norte\", \"Norte\", \"Norte\", \"Norte\", \"Norte\", \"Norte\", \"Norte\", \"Norte\", \"Norte\", \"Norte\", \"Norte\", \"Norte\", \"Norte\", \"Norte\", \"Norte\", \"Norte\", \"Norte\", \"Norte\", \"Norte\", \"Norte\", \"Norte\", \"Norte\", \"Norte\", \"Norte\", \"Norte\", \"Norte\", \"Norte\", \"Norte\", \"Norte\", \"Norte\", \"Norte\", \"Norte\", \"Norte\", \"Norte\", \"Norte\", \"Norte\", \"Norte\", \"Norte\", \"Norte\", \"Norte\", \"Norte\", \"Norte\", \"Norte\", \"Norte\", \"Norte\", \"Norte\", \"Norte\", \"Norte\", \"Norte\", \"Norte\", \"Norte\", \"Norte\", \"Norte\", \"Norte\", \"Norte\", \"Norte\", \"Norte\", \"Norte\", \"Norte\", \"Norte\", \"Norte\", \"Norte\", \"Norte\", \"Norte\", \"Norte\", \"Norte\", \"Norte\", \"Norte\", \"Norte\", \"Norte\", \"Norte\", \"Norte\", \"Norte\", \"Norte\", \"Norte\", \"Norte\", \"Norte\", \"Norte\", \"Norte\", \"Norte\", \"Norte\", \"Norte\", \"Norte\", \"Norte\", \"Norte\", \"Norte\", \"Norte\", \"Norte\", \"Norte\", \"Norte\", \"Norte\", \"Norte\", \"Norte\", \"Norte\", \"Norte\", \"Norte\", \"Norte\", \"Norte\", \"Norte\", \"Norte\", \"Norte\", \"Norte\", \"Norte\", \"Norte\", \"Norte\", \"Norte\", \"Norte\", \"Norte\", \"Norte\", \"Norte\", \"Norte\", \"Norte\", \"Norte\", \"Norte\", \"Norte\", \"Norte\", \"Norte\", \"Norte\", \"Norte\", \"Norte\", \"Norte\", \"Norte\", \"Norte\", \"Norte\", \"Norte\", \"Norte\", \"Norte\", \"Norte\", \"Norte\", \"Norte\", \"Norte\", \"Norte\", \"Norte\", \"Norte\", \"Norte\", \"Norte\", \"Norte\", \"Norte\", \"Norte\", \"Norte\", \"Norte\", \"Norte\", \"Norte\", \"Norte\", \"Norte\", \"Norte\", \"Norte\", \"Norte\", \"Norte\", \"Norte\", \"Norte\", \"Norte\", \"Norte\", \"Norte\", \"Norte\", \"Norte\", \"Norte\", \"Norte\", \"Norte\", \"Norte\", \"Norte\", \"Norte\", \"Norte\", \"Norte\", \"Norte\", \"Norte\", \"Norte\", \"Norte\", \"Norte\", \"Norte\", \"Norte\", \"Norte\", \"Norte\", \"Norte\", \"Norte\", \"Norte\", \"Norte\", \"Norte\", \"Norte\", \"Norte\", \"Norte\", \"Norte\", \"Norte\", \"Norte\", \"Norte\", \"Norte\", \"Norte\", \"Norte\", \"Norte\", \"Norte\", \"Norte\", \"Norte\", \"Norte\", \"Norte\", \"Norte\", \"Norte\", \"Norte\", \"Norte\", \"Norte\", \"Norte\", \"Norte\", \"Norte\", \"Norte\", \"Norte\", \"Norte\", \"Norte\", \"Norte\", \"Norte\", \"Norte\", \"Norte\", \"Norte\", \"Norte\", \"Norte\", \"Norte\", \"Norte\", \"Norte\", \"Norte\", \"Norte\", \"Norte\", \"Norte\", \"Norte\", \"Norte\", \"Norte\", \"Norte\", \"Norte\", \"Norte\", \"Norte\", \"Norte\", \"Norte\", \"Norte\", \"Norte\", \"Norte\", \"Norte\", \"Norte\", \"Norte\", \"Norte\", \"Norte\", \"Norte\", \"Norte\", \"Norte\", \"Norte\", \"Norte\", \"Norte\", \"Norte\", \"Norte\", \"Norte\", \"Norte\", \"Norte\", \"Norte\", \"Norte\", \"Norte\", \"Norte\", \"Norte\", \"Norte\", \"Norte\", \"Norte\", \"Norte\", \"Norte\", \"Norte\", \"Norte\", \"Norte\", \"Norte\", \"Norte\", \"Norte\", \"Norte\", \"Norte\", \"Norte\", \"Norte\", \"Norte\", \"Norte\", \"Norte\", \"Norte\", \"Norte\", \"Norte\", \"Norte\", \"Norte\", \"Norte\", \"Norte\", \"Norte\", \"Norte\", \"Norte\", \"Norte\", \"Norte\", \"Norte\", \"Norte\", \"Norte\", \"Norte\", \"Norte\", \"Norte\", \"Norte\", \"Norte\", \"Norte\", \"Norte\", \"Norte\", \"Norte\", \"Norte\", \"Norte\", \"Norte\", \"Norte\", \"Norte\", \"Norte\", \"Norte\", \"Norte\", \"Norte\", \"Norte\", \"Norte\", \"Norte\", \"Norte\", \"Norte\", \"Norte\", \"Norte\", \"Norte\", \"Norte\", \"Norte\", \"Norte\", \"Norte\", \"Norte\", \"Norte\", \"Norte\", \"Norte\", \"Norte\", \"Norte\", \"Norte\", \"Norte\", \"Norte\", \"Norte\", \"Norte\", \"Norte\", \"Norte\", \"Norte\", \"Norte\", \"Norte\", \"Norte\", \"Norte\", \"Norte\", \"Norte\", \"Norte\", \"Norte\", \"Norte\", \"Norte\", \"Norte\", \"Norte\", \"Norte\", \"Norte\", \"Norte\", \"Norte\", \"Norte\", \"Norte\", \"Norte\", \"Norte\", \"Norte\", \"Norte\", \"Norte\", \"Norte\", \"Norte\", \"Norte\", \"Norte\", \"Norte\", \"Norte\", \"Norte\", \"Norte\", \"Norte\", \"Norte\", \"Norte\", \"Norte\", \"Norte\", \"Norte\", \"Norte\", \"Norte\", \"Norte\", \"Norte\", \"Norte\", \"Norte\", \"Norte\", \"Norte\", \"Norte\", \"Norte\", \"Norte\", \"Norte\", \"Norte\", \"Norte\", \"Norte\", \"Norte\", \"Norte\", \"Norte\", \"Norte\", \"Norte\", \"Norte\", \"Norte\", \"Norte\", \"Norte\", \"Norte\", \"Norte\", \"Norte\", \"Norte\", \"Norte\", \"Norte\", \"Norte\", \"Norte\", \"Norte\", \"Norte\", \"Norte\", \"Norte\", \"Norte\", \"Norte\", \"Norte\", \"Norte\", \"Norte\", \"Norte\", \"Norte\", \"Norte\", \"Norte\", \"Norte\", \"Norte\", \"Norte\", \"Norte\", \"Norte\", \"Norte\", \"Norte\", \"Norte\", \"Norte\", \"Norte\", \"Norte\", \"Norte\", \"Norte\", \"Norte\", \"Norte\", \"Norte\", \"Norte\", \"Norte\", \"Norte\", \"Norte\", \"Norte\", \"Norte\", \"Norte\", \"Norte\", \"Norte\", \"Norte\", \"Norte\", \"Norte\", \"Norte\", \"Norte\", \"Norte\", \"Norte\", \"Norte\", \"Norte\", \"Norte\", \"Norte\", \"Norte\", \"Norte\", \"Norte\", \"Norte\", \"Norte\", \"Norte\", \"Norte\", \"Norte\", \"Norte\", \"Norte\", \"Norte\", \"Norte\", \"Norte\", \"Norte\", \"Norte\", \"Norte\", \"Norte\", \"Norte\", \"Norte\", \"Norte\", \"Norte\", \"Norte\", \"Norte\", \"Norte\", \"Norte\", \"Norte\", \"Norte\", \"Norte\", \"Norte\", \"Norte\", \"Norte\", \"Norte\", \"Norte\", \"Norte\", \"Norte\", \"Norte\", \"Norte\", \"Norte\", \"Norte\", \"Norte\", \"Norte\", \"Norte\", \"Norte\", \"Norte\", \"Norte\", \"Norte\", \"Norte\", \"Norte\", \"Norte\", \"Norte\", \"Norte\", \"Norte\", \"Norte\", \"Norte\", \"Norte\", \"Norte\", \"Norte\", \"Norte\", \"Norte\", \"Norte\", \"Norte\", \"Norte\", \"Norte\", \"Norte\", \"Norte\", \"Norte\", \"Norte\", \"Norte\", \"Norte\", \"Norte\", \"Norte\", \"Norte\", \"Norte\", \"Norte\", \"Norte\", \"Norte\", \"Norte\", \"Norte\", \"Norte\", \"Norte\", \"Norte\", \"Norte\", \"Norte\", \"Norte\", \"Norte\", \"Norte\", \"Norte\", \"Norte\", \"Norte\", \"Norte\", \"Norte\", \"Norte\", \"Norte\", \"Norte\", \"Norte\", \"Norte\", \"Norte\", \"Norte\", \"Norte\", \"Norte\", \"Norte\", \"Norte\", \"Norte\", \"Norte\", \"Norte\", \"Norte\", \"Norte\", \"Norte\", \"Norte\", \"Norte\", \"Norte\", \"Norte\", \"Norte\", \"Norte\", \"Norte\", \"Norte\", \"Norte\", \"Norte\", \"Norte\", \"Norte\", \"Norte\", \"Norte\", \"Norte\", \"Norte\", \"Norte\", \"Norte\", \"Norte\", \"Norte\", \"Norte\", \"Norte\", \"Norte\", \"Norte\", \"Norte\", \"Norte\", \"Norte\", \"Norte\", \"Norte\", \"Norte\", \"Norte\", \"Norte\", \"Norte\", \"Norte\", \"Norte\", \"Norte\", \"Norte\", \"Norte\", \"Norte\", \"Norte\", \"Norte\", \"Norte\", \"Norte\", \"Norte\", \"Norte\", \"Norte\", \"Norte\", \"Norte\", \"Norte\", \"Norte\", \"Norte\", \"Norte\", \"Norte\", \"Norte\", \"Norte\", \"Norte\", \"Norte\", \"Norte\", \"Norte\", \"Norte\", \"Norte\", \"Norte\", \"Norte\", \"Norte\", \"Norte\", \"Norte\", \"Norte\", \"Norte\", \"Norte\", \"Norte\", \"Norte\", \"Norte\", \"Norte\", \"Norte\", \"Norte\", \"Norte\", \"Norte\", \"Norte\", \"Norte\", \"Norte\", \"Norte\", \"Norte\", \"Norte\", \"Norte\", \"Norte\", \"Norte\", \"Norte\", \"Norte\", \"Norte\", \"Norte\", \"Norte\", \"Norte\", \"Norte\", \"Norte\", \"Norte\", \"Norte\", \"Norte\", \"Norte\", \"Norte\", \"Norte\", \"Norte\", \"Norte\", \"Norte\", \"Norte\", \"Norte\", \"Norte\", \"Norte\", \"Norte\", \"Norte\", \"Norte\", \"Norte\", \"Norte\", \"Norte\", \"Nordeste\", \"Nordeste\", \"Nordeste\", \"Nordeste\", \"Nordeste\", \"Nordeste\", \"Nordeste\", \"Nordeste\", \"Nordeste\", \"Nordeste\", \"Nordeste\", \"Nordeste\", \"Nordeste\", \"Nordeste\", \"Nordeste\", \"Nordeste\", \"Nordeste\", \"Nordeste\", \"Nordeste\", \"Nordeste\", \"Nordeste\", \"Nordeste\", \"Nordeste\", \"Nordeste\", \"Nordeste\", \"Nordeste\", \"Nordeste\", \"Nordeste\", \"Nordeste\", \"Nordeste\", \"Nordeste\", \"Nordeste\", \"Nordeste\", \"Nordeste\", \"Nordeste\", \"Nordeste\", \"Nordeste\", \"Nordeste\", \"Nordeste\", \"Nordeste\", \"Nordeste\", \"Nordeste\", \"Nordeste\", \"Nordeste\", \"Nordeste\", \"Nordeste\", \"Nordeste\", \"Nordeste\", \"Nordeste\", \"Nordeste\", \"Nordeste\", \"Nordeste\", \"Nordeste\", \"Nordeste\", \"Nordeste\", \"Nordeste\", \"Nordeste\", \"Nordeste\", \"Nordeste\", \"Nordeste\", \"Nordeste\", \"Nordeste\", \"Nordeste\", \"Nordeste\", \"Nordeste\", \"Nordeste\", \"Nordeste\", \"Nordeste\", \"Nordeste\", \"Nordeste\", \"Nordeste\", \"Nordeste\", \"Nordeste\", \"Nordeste\", \"Nordeste\", \"Nordeste\", \"Nordeste\", \"Nordeste\", \"Nordeste\", \"Nordeste\", \"Nordeste\", \"Nordeste\", \"Nordeste\", \"Nordeste\", \"Nordeste\", \"Nordeste\", \"Nordeste\", \"Nordeste\", \"Nordeste\", \"Nordeste\", \"Nordeste\", \"Nordeste\", \"Nordeste\", \"Nordeste\", \"Nordeste\", \"Nordeste\", \"Nordeste\", \"Nordeste\", \"Nordeste\", \"Nordeste\", \"Nordeste\", \"Nordeste\", \"Nordeste\", \"Nordeste\", \"Nordeste\", \"Nordeste\", \"Nordeste\", \"Nordeste\", \"Nordeste\", \"Nordeste\", \"Nordeste\", \"Nordeste\", \"Nordeste\", \"Nordeste\", \"Nordeste\", \"Nordeste\", \"Nordeste\", \"Nordeste\", \"Nordeste\", \"Nordeste\", \"Nordeste\", \"Nordeste\", \"Nordeste\", \"Nordeste\", \"Nordeste\", \"Nordeste\", \"Nordeste\", \"Nordeste\", \"Nordeste\", \"Nordeste\", \"Nordeste\", \"Nordeste\", \"Nordeste\", \"Nordeste\", \"Nordeste\", \"Nordeste\", \"Nordeste\", \"Nordeste\", \"Nordeste\", \"Nordeste\", \"Nordeste\", \"Nordeste\", \"Nordeste\", \"Nordeste\", \"Nordeste\", \"Nordeste\", \"Nordeste\", \"Nordeste\", \"Nordeste\", \"Nordeste\", \"Nordeste\", \"Nordeste\", \"Nordeste\", \"Nordeste\", \"Nordeste\", \"Nordeste\", \"Nordeste\", \"Nordeste\", \"Nordeste\", \"Nordeste\", \"Nordeste\", \"Nordeste\", \"Nordeste\", \"Nordeste\", \"Nordeste\", \"Nordeste\", \"Nordeste\", \"Nordeste\", \"Nordeste\", \"Nordeste\", \"Nordeste\", \"Nordeste\", \"Nordeste\", \"Nordeste\", \"Nordeste\", \"Nordeste\", \"Nordeste\", \"Nordeste\", \"Nordeste\", \"Nordeste\", \"Nordeste\", \"Nordeste\", \"Nordeste\", \"Nordeste\", \"Nordeste\", \"Nordeste\", \"Nordeste\", \"Nordeste\", \"Nordeste\", \"Nordeste\", \"Nordeste\", \"Nordeste\", \"Nordeste\", \"Nordeste\", \"Nordeste\", \"Nordeste\", \"Nordeste\", \"Nordeste\", \"Nordeste\", \"Nordeste\", \"Nordeste\", \"Nordeste\", \"Nordeste\", \"Nordeste\", \"Nordeste\", \"Nordeste\", \"Nordeste\", \"Nordeste\", \"Nordeste\", \"Nordeste\", \"Nordeste\", \"Nordeste\", \"Nordeste\", \"Nordeste\", \"Nordeste\", \"Nordeste\", \"Nordeste\", \"Nordeste\", \"Nordeste\", \"Nordeste\", \"Nordeste\", \"Nordeste\", \"Nordeste\", \"Nordeste\", \"Nordeste\", \"Nordeste\", \"Nordeste\", \"Nordeste\", \"Nordeste\", \"Nordeste\", \"Nordeste\", \"Nordeste\", \"Nordeste\", \"Nordeste\", \"Nordeste\", \"Nordeste\", \"Nordeste\", \"Nordeste\", \"Nordeste\", \"Nordeste\", \"Nordeste\", \"Nordeste\", \"Nordeste\", \"Nordeste\", \"Nordeste\", \"Nordeste\", \"Nordeste\", \"Nordeste\", \"Nordeste\", \"Nordeste\", \"Nordeste\", \"Nordeste\", \"Nordeste\", \"Nordeste\", \"Nordeste\", \"Nordeste\", \"Nordeste\", \"Nordeste\", \"Nordeste\", \"Nordeste\", \"Nordeste\", \"Nordeste\", \"Nordeste\", \"Nordeste\", \"Nordeste\", \"Nordeste\", \"Nordeste\", \"Nordeste\", \"Nordeste\", \"Nordeste\", \"Nordeste\", \"Nordeste\", \"Nordeste\", \"Nordeste\", \"Nordeste\", \"Nordeste\", \"Nordeste\", \"Nordeste\", \"Nordeste\", \"Nordeste\", \"Nordeste\", \"Nordeste\", \"Nordeste\", \"Nordeste\", \"Nordeste\", \"Nordeste\", \"Nordeste\", \"Nordeste\", \"Nordeste\", \"Nordeste\", \"Nordeste\", \"Nordeste\", \"Nordeste\", \"Nordeste\", \"Nordeste\", \"Nordeste\", \"Nordeste\", \"Nordeste\", \"Nordeste\", \"Nordeste\", \"Nordeste\", \"Nordeste\", \"Nordeste\", \"Nordeste\", \"Nordeste\", \"Nordeste\", \"Nordeste\", \"Nordeste\", \"Nordeste\", \"Nordeste\", \"Nordeste\", \"Nordeste\", \"Nordeste\", \"Nordeste\", \"Nordeste\", \"Nordeste\", \"Nordeste\", \"Nordeste\", \"Nordeste\", \"Nordeste\", \"Nordeste\", \"Nordeste\", \"Nordeste\", \"Nordeste\", \"Nordeste\", \"Nordeste\", \"Nordeste\", \"Nordeste\", \"Nordeste\", \"Nordeste\", \"Nordeste\", \"Nordeste\", \"Nordeste\", \"Nordeste\", \"Nordeste\", \"Nordeste\", \"Nordeste\", \"Nordeste\", \"Nordeste\", \"Nordeste\", \"Nordeste\", \"Nordeste\", \"Nordeste\", \"Nordeste\", \"Nordeste\", \"Nordeste\", \"Nordeste\", \"Nordeste\", \"Nordeste\", \"Nordeste\", \"Nordeste\", \"Nordeste\", \"Nordeste\", \"Nordeste\", \"Nordeste\", \"Nordeste\", \"Nordeste\", \"Nordeste\", \"Nordeste\", \"Nordeste\", \"Nordeste\", \"Nordeste\", \"Nordeste\", \"Nordeste\", \"Nordeste\", \"Nordeste\", \"Nordeste\", \"Nordeste\", \"Nordeste\", \"Nordeste\", \"Nordeste\", \"Nordeste\", \"Nordeste\", \"Nordeste\", \"Nordeste\", \"Nordeste\", \"Nordeste\", \"Nordeste\", \"Nordeste\", \"Nordeste\", \"Nordeste\", \"Nordeste\", \"Nordeste\", \"Nordeste\", \"Nordeste\", \"Nordeste\", \"Nordeste\", \"Nordeste\", \"Nordeste\", \"Nordeste\", \"Nordeste\", \"Nordeste\", \"Nordeste\", \"Nordeste\", \"Nordeste\", \"Nordeste\", \"Nordeste\", \"Nordeste\", \"Nordeste\", \"Nordeste\", \"Nordeste\", \"Nordeste\", \"Nordeste\", \"Nordeste\", \"Nordeste\", \"Nordeste\", \"Nordeste\", \"Nordeste\", \"Nordeste\", \"Nordeste\", \"Nordeste\", \"Nordeste\", \"Nordeste\", \"Nordeste\", \"Nordeste\", \"Nordeste\", \"Nordeste\", \"Nordeste\", \"Nordeste\", \"Nordeste\", \"Nordeste\", \"Nordeste\", \"Nordeste\", \"Nordeste\", \"Nordeste\", \"Nordeste\", \"Nordeste\", \"Nordeste\", \"Nordeste\", \"Nordeste\", \"Nordeste\", \"Nordeste\", \"Nordeste\", \"Nordeste\", \"Nordeste\", \"Nordeste\", \"Nordeste\", \"Nordeste\", \"Nordeste\", \"Nordeste\", \"Nordeste\", \"Nordeste\", \"Nordeste\", \"Nordeste\", \"Nordeste\", \"Nordeste\", \"Nordeste\", \"Nordeste\", \"Nordeste\", \"Nordeste\", \"Nordeste\", \"Nordeste\", \"Nordeste\", \"Nordeste\", \"Nordeste\", \"Nordeste\", \"Nordeste\", \"Nordeste\", \"Nordeste\", \"Nordeste\", \"Nordeste\", \"Nordeste\", \"Nordeste\", \"Nordeste\", \"Nordeste\", \"Nordeste\", \"Nordeste\", \"Nordeste\", \"Nordeste\", \"Nordeste\", \"Nordeste\", \"Nordeste\", \"Nordeste\", \"Nordeste\", \"Nordeste\", \"Nordeste\", \"Nordeste\", \"Nordeste\", \"Nordeste\", \"Nordeste\", \"Nordeste\", \"Nordeste\", \"Nordeste\", \"Nordeste\", \"Nordeste\", \"Nordeste\", \"Nordeste\", \"Nordeste\", \"Nordeste\", \"Nordeste\", \"Nordeste\", \"Nordeste\", \"Nordeste\", \"Nordeste\", \"Nordeste\", \"Nordeste\", \"Nordeste\", \"Nordeste\", \"Nordeste\", \"Nordeste\", \"Nordeste\", \"Nordeste\", \"Nordeste\", \"Nordeste\", \"Nordeste\", \"Nordeste\", \"Nordeste\", \"Nordeste\", \"Nordeste\", \"Nordeste\", \"Nordeste\", \"Nordeste\", \"Nordeste\", \"Nordeste\", \"Nordeste\", \"Nordeste\", \"Nordeste\", \"Nordeste\", \"Nordeste\", \"Nordeste\", \"Nordeste\", \"Nordeste\", \"Nordeste\", \"Nordeste\", \"Nordeste\", \"Nordeste\", \"Nordeste\", \"Nordeste\", \"Nordeste\", \"Nordeste\", \"Nordeste\", \"Nordeste\", \"Nordeste\", \"Nordeste\", \"Nordeste\", \"Nordeste\", \"Nordeste\", \"Nordeste\", \"Nordeste\", \"Nordeste\", \"Nordeste\", \"Nordeste\", \"Nordeste\", \"Nordeste\", \"Nordeste\", \"Nordeste\", \"Nordeste\", \"Nordeste\", \"Nordeste\", \"Nordeste\", \"Nordeste\", \"Nordeste\", \"Nordeste\", \"Nordeste\", \"Nordeste\", \"Nordeste\", \"Nordeste\", \"Nordeste\", \"Nordeste\", \"Nordeste\", \"Nordeste\", \"Nordeste\", \"Nordeste\", \"Nordeste\", \"Nordeste\", \"Nordeste\", \"Nordeste\", \"Nordeste\", \"Nordeste\", \"Nordeste\", \"Nordeste\", \"Nordeste\", \"Nordeste\", \"Nordeste\", \"Nordeste\", \"Nordeste\", \"Nordeste\", \"Nordeste\", \"Nordeste\", \"Nordeste\", \"Nordeste\", \"Nordeste\", \"Nordeste\", \"Nordeste\", \"Nordeste\", \"Nordeste\", \"Nordeste\", \"Nordeste\", \"Nordeste\", \"Nordeste\", \"Nordeste\", \"Nordeste\", \"Nordeste\", \"Nordeste\", \"Nordeste\", \"Nordeste\", \"Nordeste\", \"Nordeste\", \"Nordeste\", \"Nordeste\", \"Nordeste\", \"Nordeste\", \"Nordeste\", \"Nordeste\", \"Nordeste\", \"Nordeste\", \"Nordeste\", \"Nordeste\", \"Nordeste\", \"Nordeste\", \"Nordeste\", \"Nordeste\", \"Nordeste\", \"Nordeste\", \"Nordeste\", \"Nordeste\", \"Nordeste\", \"Nordeste\", \"Nordeste\", \"Nordeste\", \"Nordeste\", \"Nordeste\", \"Nordeste\", \"Nordeste\", \"Nordeste\", \"Nordeste\", \"Nordeste\", \"Nordeste\", \"Nordeste\", \"Nordeste\", \"Nordeste\", \"Nordeste\", \"Nordeste\", \"Nordeste\", \"Nordeste\", \"Nordeste\", \"Nordeste\", \"Nordeste\", \"Nordeste\", \"Nordeste\", \"Nordeste\", \"Nordeste\", \"Nordeste\", \"Nordeste\", \"Nordeste\", \"Nordeste\", \"Nordeste\", \"Nordeste\", \"Nordeste\", \"Nordeste\", \"Nordeste\", \"Nordeste\", \"Nordeste\", \"Nordeste\", \"Nordeste\", \"Nordeste\", \"Nordeste\", \"Nordeste\", \"Nordeste\", \"Nordeste\", \"Nordeste\", \"Nordeste\", \"Nordeste\", \"Nordeste\", \"Nordeste\", \"Nordeste\", \"Nordeste\", \"Nordeste\", \"Nordeste\", \"Nordeste\", \"Nordeste\", \"Nordeste\", \"Nordeste\", \"Nordeste\", \"Nordeste\", \"Nordeste\", \"Nordeste\", \"Nordeste\", \"Nordeste\", \"Nordeste\", \"Nordeste\", \"Nordeste\", \"Nordeste\", \"Nordeste\", \"Nordeste\", \"Nordeste\", \"Nordeste\", \"Nordeste\", \"Nordeste\", \"Nordeste\", \"Nordeste\", \"Nordeste\", \"Nordeste\", \"Nordeste\", \"Nordeste\", \"Nordeste\", \"Nordeste\", \"Nordeste\", \"Nordeste\", \"Nordeste\", \"Nordeste\", \"Nordeste\", \"Nordeste\", \"Nordeste\", \"Nordeste\", \"Nordeste\", \"Nordeste\", \"Nordeste\", \"Nordeste\", \"Nordeste\", \"Nordeste\", \"Nordeste\", \"Nordeste\", \"Nordeste\", \"Nordeste\", \"Nordeste\", \"Nordeste\", \"Nordeste\", \"Nordeste\", \"Nordeste\", \"Nordeste\", \"Nordeste\", \"Nordeste\", \"Nordeste\", \"Nordeste\", \"Nordeste\", \"Nordeste\", \"Nordeste\", \"Nordeste\", \"Nordeste\", \"Nordeste\", \"Nordeste\", \"Nordeste\", \"Nordeste\", \"Nordeste\", \"Nordeste\", \"Nordeste\", \"Nordeste\", \"Nordeste\", \"Nordeste\", \"Nordeste\", \"Nordeste\", \"Nordeste\", \"Nordeste\", \"Nordeste\", \"Nordeste\", \"Nordeste\", \"Nordeste\", \"Nordeste\", \"Nordeste\", \"Nordeste\", \"Nordeste\", \"Nordeste\", \"Nordeste\", \"Nordeste\", \"Nordeste\", \"Nordeste\", \"Nordeste\", \"Nordeste\", \"Nordeste\", \"Nordeste\", \"Nordeste\", \"Nordeste\", \"Nordeste\", \"Nordeste\", \"Nordeste\", \"Nordeste\", \"Nordeste\", \"Nordeste\", \"Nordeste\", \"Nordeste\", \"Nordeste\", \"Nordeste\", \"Nordeste\", \"Nordeste\", \"Nordeste\", \"Nordeste\", \"Nordeste\", \"Nordeste\", \"Nordeste\", \"Nordeste\", \"Nordeste\", \"Nordeste\", \"Nordeste\", \"Nordeste\", \"Nordeste\", \"Nordeste\", \"Nordeste\", \"Nordeste\", \"Nordeste\", \"Nordeste\", \"Nordeste\", \"Nordeste\", \"Nordeste\", \"Nordeste\", \"Nordeste\", \"Nordeste\", \"Nordeste\", \"Nordeste\", \"Nordeste\", \"Nordeste\", \"Nordeste\", \"Nordeste\", \"Nordeste\", \"Nordeste\", \"Nordeste\", \"Nordeste\", \"Nordeste\", \"Nordeste\", \"Nordeste\", \"Nordeste\", \"Nordeste\", \"Nordeste\", \"Nordeste\", \"Nordeste\", \"Nordeste\", \"Nordeste\", \"Nordeste\", \"Nordeste\", \"Nordeste\", \"Nordeste\", \"Nordeste\", \"Nordeste\", \"Nordeste\", \"Nordeste\", \"Nordeste\", \"Nordeste\", \"Nordeste\", \"Nordeste\", \"Nordeste\", \"Nordeste\", \"Nordeste\", \"Nordeste\", \"Nordeste\", \"Nordeste\", \"Nordeste\", \"Nordeste\", \"Nordeste\", \"Nordeste\", \"Nordeste\", \"Nordeste\", \"Nordeste\", \"Nordeste\", \"Nordeste\", \"Nordeste\", \"Nordeste\", \"Nordeste\", \"Nordeste\", \"Nordeste\", \"Nordeste\", \"Nordeste\", \"Nordeste\", \"Nordeste\", \"Nordeste\", \"Nordeste\", \"Nordeste\", \"Nordeste\", \"Nordeste\", \"Nordeste\", \"Nordeste\", \"Nordeste\", \"Nordeste\", \"Nordeste\", \"Nordeste\", \"Nordeste\", \"Nordeste\", \"Nordeste\", \"Nordeste\", \"Nordeste\", \"Nordeste\", \"Nordeste\", \"Nordeste\", \"Nordeste\", \"Nordeste\", \"Nordeste\", \"Nordeste\", \"Nordeste\", \"Nordeste\", \"Nordeste\", \"Nordeste\", \"Nordeste\", \"Nordeste\", \"Nordeste\", \"Nordeste\", \"Nordeste\", \"Nordeste\", \"Nordeste\", \"Nordeste\", \"Nordeste\", \"Nordeste\", \"Nordeste\", \"Sudeste\", \"Sudeste\", \"Sudeste\", \"Sudeste\", \"Sudeste\", \"Sudeste\", \"Sudeste\", \"Sudeste\", \"Sudeste\", \"Sudeste\", \"Sudeste\", \"Sudeste\", \"Sudeste\", \"Sudeste\", \"Sudeste\", \"Sudeste\", \"Sudeste\", \"Sudeste\", \"Sudeste\", \"Sudeste\", \"Sudeste\", \"Sudeste\", \"Sudeste\", \"Sudeste\", \"Sudeste\", \"Sudeste\", \"Sudeste\", \"Sudeste\", \"Sudeste\", \"Sudeste\", \"Sudeste\", \"Sudeste\", \"Sudeste\", \"Sudeste\", \"Sudeste\", \"Sudeste\", \"Sudeste\", \"Sudeste\", \"Sudeste\", \"Sudeste\", \"Sudeste\", \"Sudeste\", \"Sudeste\", \"Sudeste\", \"Sudeste\", \"Sudeste\", \"Sudeste\", \"Sudeste\", \"Sudeste\", \"Sudeste\", \"Sudeste\", \"Sudeste\", \"Sudeste\", \"Sudeste\", \"Sudeste\", \"Sudeste\", \"Sudeste\", \"Sudeste\", \"Sudeste\", \"Sudeste\", \"Sudeste\", \"Sudeste\", \"Sudeste\", \"Sudeste\", \"Sudeste\", \"Sudeste\", \"Sudeste\", \"Sudeste\", \"Sudeste\", \"Sudeste\", \"Sudeste\", \"Sudeste\", \"Sudeste\", \"Sudeste\", \"Sudeste\", \"Sudeste\", \"Sudeste\", \"Sudeste\", \"Sudeste\", \"Sudeste\", \"Sudeste\", \"Sudeste\", \"Sudeste\", \"Sudeste\", \"Sudeste\", \"Sudeste\", \"Sudeste\", \"Sudeste\", \"Sudeste\", \"Sudeste\", \"Sudeste\", \"Sudeste\", \"Sudeste\", \"Sudeste\", \"Sudeste\", \"Sudeste\", \"Sudeste\", \"Sudeste\", \"Sudeste\", \"Sudeste\", \"Sudeste\", \"Sudeste\", \"Sudeste\", \"Sudeste\", \"Sudeste\", \"Sudeste\", \"Sudeste\", \"Sudeste\", \"Sudeste\", \"Sudeste\", \"Sudeste\", \"Sudeste\", \"Sudeste\", \"Sudeste\", \"Sudeste\", \"Sudeste\", \"Sudeste\", \"Sudeste\", \"Sudeste\", \"Sudeste\", \"Sudeste\", \"Sudeste\", \"Sudeste\", \"Sudeste\", \"Sudeste\", \"Sudeste\", \"Sudeste\", \"Sudeste\", \"Sudeste\", \"Sudeste\", \"Sudeste\", \"Sudeste\", \"Sudeste\", \"Sudeste\", \"Sudeste\", \"Sudeste\", \"Sudeste\", \"Sudeste\", \"Sudeste\", \"Sudeste\", \"Sudeste\", \"Sudeste\", \"Sudeste\", \"Sudeste\", \"Sudeste\", \"Sudeste\", \"Sudeste\", \"Sudeste\", \"Sudeste\", \"Sudeste\", \"Sudeste\", \"Sudeste\", \"Sudeste\", \"Sudeste\", \"Sudeste\", \"Sudeste\", \"Sudeste\", \"Sudeste\", \"Sudeste\", \"Sudeste\", \"Sudeste\", \"Sudeste\", \"Sudeste\", \"Sudeste\", \"Sudeste\", \"Sudeste\", \"Sudeste\", \"Sudeste\", \"Sudeste\", \"Sudeste\", \"Sudeste\", \"Sudeste\", \"Sudeste\", \"Sudeste\", \"Sudeste\", \"Sudeste\", \"Sudeste\", \"Sudeste\", \"Sudeste\", \"Sudeste\", \"Sudeste\", \"Sudeste\", \"Sudeste\", \"Sudeste\", \"Sudeste\", \"Sudeste\", \"Sudeste\", \"Sudeste\", \"Sudeste\", \"Sudeste\", \"Sudeste\", \"Sudeste\", \"Sudeste\", \"Sudeste\", \"Sudeste\", \"Sudeste\", \"Sudeste\", \"Sudeste\", \"Sudeste\", \"Sudeste\", \"Sudeste\", \"Sudeste\", \"Sudeste\", \"Sudeste\", \"Sudeste\", \"Sudeste\", \"Sudeste\", \"Sudeste\", \"Sudeste\", \"Sudeste\", \"Sudeste\", \"Sudeste\", \"Sudeste\", \"Sudeste\", \"Sudeste\", \"Sudeste\", \"Sudeste\", \"Sudeste\", \"Sudeste\", \"Sudeste\", \"Sudeste\", \"Sudeste\", \"Sudeste\", \"Sudeste\", \"Sudeste\", \"Sudeste\", \"Sudeste\", \"Sudeste\", \"Sudeste\", \"Sudeste\", \"Sudeste\", \"Sudeste\", \"Sudeste\", \"Sudeste\", \"Sudeste\", \"Sudeste\", \"Sudeste\", \"Sudeste\", \"Sudeste\", \"Sudeste\", \"Sudeste\", \"Sudeste\", \"Sudeste\", \"Sudeste\", \"Sudeste\", \"Sudeste\", \"Sudeste\", \"Sudeste\", \"Sudeste\", \"Sudeste\", \"Sudeste\", \"Sudeste\", \"Sudeste\", \"Sudeste\", \"Sudeste\", \"Sudeste\", \"Sudeste\", \"Sudeste\", \"Sudeste\", \"Sudeste\", \"Sudeste\", \"Sudeste\", \"Sudeste\", \"Sudeste\", \"Sudeste\", \"Sudeste\", \"Sudeste\", \"Sudeste\", \"Sudeste\", \"Sudeste\", \"Sudeste\", \"Sudeste\", \"Sudeste\", \"Sudeste\", \"Sudeste\", \"Sudeste\", \"Sudeste\", \"Sudeste\", \"Sudeste\", \"Sudeste\", \"Sudeste\", \"Sudeste\", \"Sudeste\", \"Sudeste\", \"Sudeste\", \"Sudeste\", \"Sudeste\", \"Sudeste\", \"Sudeste\", \"Sudeste\", \"Sudeste\", \"Sudeste\", \"Sudeste\", \"Sudeste\", \"Sudeste\", \"Sudeste\", \"Sudeste\", \"Sudeste\", \"Sudeste\", \"Sudeste\", \"Sudeste\", \"Sudeste\", \"Sudeste\", \"Sudeste\", \"Sudeste\", \"Sudeste\", \"Sudeste\", \"Sudeste\", \"Sudeste\", \"Sudeste\", \"Sudeste\", \"Sudeste\", \"Sudeste\", \"Sudeste\", \"Sudeste\", \"Sudeste\", \"Sudeste\", \"Sudeste\", \"Sudeste\", \"Sudeste\", \"Sudeste\", \"Sudeste\", \"Sudeste\", \"Sudeste\", \"Sudeste\", \"Sudeste\", \"Sudeste\", \"Sudeste\", \"Sudeste\", \"Sudeste\", \"Sudeste\", \"Sudeste\", \"Sudeste\", \"Sudeste\", \"Sudeste\", \"Sudeste\", \"Sudeste\", \"Sudeste\", \"Sudeste\", \"Sudeste\", \"Sudeste\", \"Sudeste\", \"Sudeste\", \"Sudeste\", \"Sudeste\", \"Sudeste\", \"Sudeste\", \"Sudeste\", \"Sudeste\", \"Sudeste\", \"Sudeste\", \"Sudeste\", \"Sudeste\", \"Sudeste\", \"Sudeste\", \"Sudeste\", \"Sudeste\", \"Sudeste\", \"Sudeste\", \"Sudeste\", \"Sudeste\", \"Sudeste\", \"Sudeste\", \"Sudeste\", \"Sudeste\", \"Sudeste\", \"Sudeste\", \"Sudeste\", \"Sudeste\", \"Sudeste\", \"Sudeste\", \"Sudeste\", \"Sudeste\", \"Sudeste\", \"Sudeste\", \"Sudeste\", \"Sudeste\", \"Sudeste\", \"Sudeste\", \"Sudeste\", \"Sudeste\", \"Sudeste\", \"Sudeste\", \"Sudeste\", \"Sudeste\", \"Sudeste\", \"Sudeste\", \"Sudeste\", \"Sudeste\", \"Sudeste\", \"Sudeste\", \"Sudeste\", \"Sudeste\", \"Sudeste\", \"Sudeste\", \"Sudeste\", \"Sul\", \"Sul\", \"Sul\", \"Sul\", \"Sul\", \"Sul\", \"Sul\", \"Sul\", \"Sul\", \"Sul\", \"Sul\", \"Sul\", \"Sul\", \"Sul\", \"Sul\", \"Sul\", \"Sul\", \"Sul\", \"Sul\", \"Sul\", \"Sul\", \"Sul\", \"Sul\", \"Sul\", \"Sul\", \"Sul\", \"Sul\", \"Sul\", \"Sul\", \"Sul\", \"Sul\", \"Sul\", \"Sul\", \"Sul\", \"Sul\", \"Sul\", \"Sul\", \"Sul\", \"Sul\", \"Sul\", \"Sul\", \"Sul\", \"Sul\", \"Sul\", \"Sul\", \"Sul\", \"Sul\", \"Sul\", \"Sul\", \"Sul\", \"Sul\", \"Sul\", \"Sul\", \"Sul\", \"Sul\", \"Sul\", \"Sul\", \"Sul\", \"Sul\", \"Sul\", \"Sul\", \"Sul\", \"Sul\", \"Sul\", \"Sul\", \"Sul\", \"Sul\", \"Sul\", \"Sul\", \"Sul\", \"Sul\", \"Sul\", \"Sul\", \"Sul\", \"Sul\", \"Sul\", \"Sul\", \"Sul\", \"Sul\", \"Sul\", \"Sul\", \"Sul\", \"Sul\", \"Sul\", \"Sul\", \"Sul\", \"Sul\", \"Sul\", \"Sul\", \"Sul\", \"Sul\", \"Sul\", \"Sul\", \"Sul\", \"Sul\", \"Sul\", \"Sul\", \"Sul\", \"Sul\", \"Sul\", \"Sul\", \"Sul\", \"Sul\", \"Sul\", \"Sul\", \"Sul\", \"Sul\", \"Sul\", \"Sul\", \"Sul\", \"Sul\", \"Sul\", \"Sul\", \"Sul\", \"Sul\", \"Sul\", \"Sul\", \"Sul\", \"Sul\", \"Sul\", \"Sul\", \"Sul\", \"Sul\", \"Sul\", \"Sul\", \"Sul\", \"Sul\", \"Sul\", \"Sul\", \"Sul\", \"Sul\", \"Sul\", \"Sul\", \"Sul\", \"Sul\", \"Sul\", \"Sul\", \"Sul\", \"Sul\", \"Sul\", \"Sul\", \"Sul\", \"Sul\", \"Sul\", \"Sul\", \"Sul\", \"Sul\", \"Sul\", \"Sul\", \"Sul\", \"Sul\", \"Sul\", \"Sul\", \"Sul\", \"Sul\", \"Sul\", \"Sul\", \"Sul\", \"Sul\", \"Sul\", \"Sul\", \"Sul\", \"Sul\", \"Sul\", \"Sul\", \"Sul\", \"Sul\", \"Sul\", \"Sul\", \"Sul\", \"Sul\", \"Sul\", \"Sul\", \"Sul\", \"Sul\", \"Sul\", \"Sul\", \"Sul\", \"Sul\", \"Sul\", \"Sul\", \"Sul\", \"Sul\", \"Sul\", \"Sul\", \"Sul\", \"Sul\", \"Sul\", \"Sul\", \"Sul\", \"Sul\", \"Sul\", \"Sul\", \"Sul\", \"Sul\", \"Sul\", \"Sul\", \"Sul\", \"Sul\", \"Sul\", \"Sul\", \"Sul\", \"Sul\", \"Sul\", \"Sul\", \"Sul\", \"Sul\", \"Sul\", \"Sul\", \"Sul\", \"Sul\", \"Sul\", \"Sul\", \"Sul\", \"Sul\", \"Sul\", \"Sul\", \"Sul\", \"Sul\", \"Sul\", \"Sul\", \"Sul\", \"Sul\", \"Sul\", \"Sul\", \"Sul\", \"Sul\", \"Sul\", \"Sul\", \"Sul\", \"Sul\", \"Sul\", \"Sul\", \"Sul\", \"Sul\", \"Sul\", \"Sul\", \"Sul\", \"Sul\", \"Sul\", \"Sul\", \"Sul\", \"Sul\", \"Sul\", \"Sul\", \"Sul\", \"Sul\", \"Sul\", \"Sul\", \"Sul\", \"Sul\", \"Sul\", \"Sul\", \"Sul\", \"Sul\", \"Sul\", \"Sul\", \"Sul\", \"Sul\", \"Sul\", \"Sul\", \"Sul\", \"Sul\", \"Sul\", \"Sul\", \"Sul\", \"Sul\", \"Sul\", \"Sul\", \"Sul\", \"Sul\", \"Sul\", \"Sul\", \"Sul\", \"Sul\", \"Sul\", \"Sul\", \"Sul\", \"Sul\", \"Sul\", \"Sul\", \"Sul\", \"Sul\", \"Sul\", \"Sul\", \"Sul\", \"Sul\", \"Sul\", \"Sul\", \"Sul\", \"Sul\", \"Sul\", \"Sul\", \"Sul\", \"Sul\", \"Sul\", \"Sul\", \"Centro-Oeste\", \"Centro-Oeste\", \"Centro-Oeste\", \"Centro-Oeste\", \"Centro-Oeste\", \"Centro-Oeste\", \"Centro-Oeste\", \"Centro-Oeste\", \"Centro-Oeste\", \"Centro-Oeste\", \"Centro-Oeste\", \"Centro-Oeste\", \"Centro-Oeste\", \"Centro-Oeste\", \"Centro-Oeste\", \"Centro-Oeste\", \"Centro-Oeste\", \"Centro-Oeste\", \"Centro-Oeste\", \"Centro-Oeste\", \"Centro-Oeste\", \"Centro-Oeste\", \"Centro-Oeste\", \"Centro-Oeste\", \"Centro-Oeste\", \"Centro-Oeste\", \"Centro-Oeste\", \"Centro-Oeste\", \"Centro-Oeste\", \"Centro-Oeste\", \"Centro-Oeste\", \"Centro-Oeste\", \"Centro-Oeste\", \"Centro-Oeste\", \"Centro-Oeste\", \"Centro-Oeste\", \"Centro-Oeste\", \"Centro-Oeste\", \"Centro-Oeste\", \"Centro-Oeste\", \"Centro-Oeste\", \"Centro-Oeste\", \"Centro-Oeste\", \"Centro-Oeste\", \"Centro-Oeste\", \"Centro-Oeste\", \"Centro-Oeste\", \"Centro-Oeste\", \"Centro-Oeste\", \"Centro-Oeste\", \"Centro-Oeste\", \"Centro-Oeste\", \"Centro-Oeste\", \"Centro-Oeste\", \"Centro-Oeste\", \"Centro-Oeste\", \"Centro-Oeste\", \"Centro-Oeste\", \"Centro-Oeste\", \"Centro-Oeste\", \"Centro-Oeste\", \"Centro-Oeste\", \"Centro-Oeste\", \"Centro-Oeste\", \"Centro-Oeste\", \"Centro-Oeste\", \"Centro-Oeste\", \"Centro-Oeste\", \"Centro-Oeste\", \"Centro-Oeste\", \"Centro-Oeste\", \"Centro-Oeste\", \"Centro-Oeste\", \"Centro-Oeste\", \"Centro-Oeste\", \"Centro-Oeste\", \"Centro-Oeste\", \"Centro-Oeste\", \"Centro-Oeste\", \"Centro-Oeste\", \"Centro-Oeste\", \"Centro-Oeste\", \"Centro-Oeste\", \"Centro-Oeste\", \"Centro-Oeste\", \"Centro-Oeste\", \"Centro-Oeste\", \"Centro-Oeste\", \"Centro-Oeste\", \"Centro-Oeste\", \"Centro-Oeste\", \"Centro-Oeste\", \"Centro-Oeste\", \"Centro-Oeste\", \"Centro-Oeste\", \"Centro-Oeste\", \"Centro-Oeste\", \"Centro-Oeste\", \"Centro-Oeste\", \"Centro-Oeste\", \"Centro-Oeste\", \"Centro-Oeste\", \"Centro-Oeste\", \"Centro-Oeste\", \"Centro-Oeste\", \"Centro-Oeste\", \"Centro-Oeste\", \"Centro-Oeste\", \"Centro-Oeste\", \"Centro-Oeste\", \"Centro-Oeste\", \"Centro-Oeste\", \"Centro-Oeste\", \"Centro-Oeste\", \"Centro-Oeste\", \"Centro-Oeste\", \"Centro-Oeste\", \"Centro-Oeste\", \"Centro-Oeste\", \"Centro-Oeste\", \"Centro-Oeste\", \"Centro-Oeste\", \"Centro-Oeste\", \"Centro-Oeste\", \"Centro-Oeste\", \"Centro-Oeste\", \"Centro-Oeste\", \"Centro-Oeste\", \"Centro-Oeste\", \"Centro-Oeste\", \"Centro-Oeste\", \"Centro-Oeste\", \"Centro-Oeste\", \"Centro-Oeste\", \"Centro-Oeste\", \"Centro-Oeste\", \"Centro-Oeste\", \"Centro-Oeste\", \"Centro-Oeste\", \"Centro-Oeste\", \"Centro-Oeste\", \"Centro-Oeste\", \"Centro-Oeste\", \"Centro-Oeste\", \"Centro-Oeste\", \"Centro-Oeste\", \"Centro-Oeste\", \"Centro-Oeste\", \"Centro-Oeste\", \"Centro-Oeste\", \"Centro-Oeste\", \"Centro-Oeste\", \"Centro-Oeste\", \"Centro-Oeste\", \"Centro-Oeste\", \"Centro-Oeste\", \"Centro-Oeste\", \"Centro-Oeste\", \"Centro-Oeste\", \"Centro-Oeste\", \"Centro-Oeste\", \"Centro-Oeste\", \"Centro-Oeste\", \"Centro-Oeste\", \"Centro-Oeste\", \"Centro-Oeste\", \"Centro-Oeste\", \"Centro-Oeste\", \"Centro-Oeste\", \"Centro-Oeste\", \"Centro-Oeste\", \"Centro-Oeste\", \"Centro-Oeste\", \"Centro-Oeste\", \"Centro-Oeste\", \"Centro-Oeste\", \"Centro-Oeste\", \"Centro-Oeste\", \"Centro-Oeste\", \"Centro-Oeste\", \"Centro-Oeste\", \"Centro-Oeste\", \"Centro-Oeste\", \"Centro-Oeste\", \"Centro-Oeste\", \"Centro-Oeste\", \"Centro-Oeste\", \"Centro-Oeste\", \"Centro-Oeste\", \"Centro-Oeste\", \"Centro-Oeste\", \"Centro-Oeste\", \"Centro-Oeste\", \"Centro-Oeste\", \"Centro-Oeste\", \"Centro-Oeste\", \"Centro-Oeste\", \"Centro-Oeste\", \"Centro-Oeste\", \"Centro-Oeste\", \"Centro-Oeste\", \"Centro-Oeste\", \"Centro-Oeste\", \"Centro-Oeste\", \"Centro-Oeste\", \"Centro-Oeste\", \"Centro-Oeste\", \"Centro-Oeste\", \"Centro-Oeste\", \"Centro-Oeste\", \"Centro-Oeste\", \"Centro-Oeste\", \"Centro-Oeste\", \"Centro-Oeste\", \"Centro-Oeste\", \"Centro-Oeste\", \"Centro-Oeste\", \"Centro-Oeste\", \"Centro-Oeste\", \"Centro-Oeste\", \"Centro-Oeste\", \"Centro-Oeste\", \"Centro-Oeste\", \"Centro-Oeste\", \"Centro-Oeste\", \"Centro-Oeste\", \"Centro-Oeste\", \"Centro-Oeste\", \"Centro-Oeste\", \"Centro-Oeste\", \"Centro-Oeste\", \"Centro-Oeste\", \"Centro-Oeste\", \"Centro-Oeste\", \"Centro-Oeste\", \"Centro-Oeste\", \"Centro-Oeste\", \"Centro-Oeste\", \"Centro-Oeste\", \"Centro-Oeste\", \"Centro-Oeste\", \"Centro-Oeste\", \"Centro-Oeste\", \"Centro-Oeste\", \"Centro-Oeste\", \"Centro-Oeste\", \"Centro-Oeste\", \"Centro-Oeste\", \"Centro-Oeste\", \"Centro-Oeste\", \"Centro-Oeste\", \"Centro-Oeste\", \"Centro-Oeste\", \"Centro-Oeste\", \"Centro-Oeste\", \"Centro-Oeste\", \"Centro-Oeste\", \"Centro-Oeste\", \"Centro-Oeste\", \"Centro-Oeste\", \"Centro-Oeste\", \"Centro-Oeste\", \"Centro-Oeste\", \"Centro-Oeste\", \"Centro-Oeste\", \"Centro-Oeste\", \"Centro-Oeste\", \"Centro-Oeste\", \"Centro-Oeste\", \"Centro-Oeste\", \"Centro-Oeste\", \"Centro-Oeste\", \"Centro-Oeste\", \"Centro-Oeste\", \"Centro-Oeste\", \"Centro-Oeste\", \"Centro-Oeste\", \"Centro-Oeste\", \"Centro-Oeste\", \"Centro-Oeste\", \"Centro-Oeste\", \"Centro-Oeste\", \"Centro-Oeste\", \"Centro-Oeste\", \"Centro-Oeste\", \"Centro-Oeste\", \"Centro-Oeste\", \"Centro-Oeste\", \"Centro-Oeste\", \"Centro-Oeste\", \"Centro-Oeste\", \"Centro-Oeste\", \"Centro-Oeste\", \"Centro-Oeste\", \"Centro-Oeste\", \"Centro-Oeste\", \"Centro-Oeste\", \"Centro-Oeste\", \"Centro-Oeste\", \"Centro-Oeste\", \"Centro-Oeste\", \"Centro-Oeste\", \"Centro-Oeste\", \"Centro-Oeste\", \"Centro-Oeste\", \"Centro-Oeste\", \"Centro-Oeste\", \"Centro-Oeste\", \"Centro-Oeste\", \"Centro-Oeste\", \"Centro-Oeste\", \"Centro-Oeste\", \"Centro-Oeste\", \"Centro-Oeste\", \"Centro-Oeste\", \"Centro-Oeste\", \"Centro-Oeste\", \"Centro-Oeste\", \"Centro-Oeste\", \"Centro-Oeste\", \"Centro-Oeste\", \"Centro-Oeste\", \"Centro-Oeste\", \"Centro-Oeste\", \"Centro-Oeste\", \"Centro-Oeste\", \"Centro-Oeste\", \"Centro-Oeste\", \"Centro-Oeste\", \"Centro-Oeste\", \"Centro-Oeste\", \"Centro-Oeste\", \"Centro-Oeste\", \"Centro-Oeste\", \"Centro-Oeste\", \"Centro-Oeste\", \"Centro-Oeste\", \"Centro-Oeste\", \"Centro-Oeste\", \"Centro-Oeste\", \"Centro-Oeste\", \"Centro-Oeste\", \"Centro-Oeste\", \"Centro-Oeste\", \"Centro-Oeste\", \"Centro-Oeste\", \"Centro-Oeste\", \"Centro-Oeste\", \"Centro-Oeste\", \"Centro-Oeste\", \"Centro-Oeste\", \"Centro-Oeste\", \"Centro-Oeste\", \"Centro-Oeste\", \"Centro-Oeste\", \"Centro-Oeste\", \"Centro-Oeste\", \"Centro-Oeste\", \"Centro-Oeste\", \"Centro-Oeste\", \"Centro-Oeste\", \"Centro-Oeste\", \"Centro-Oeste\", \"Centro-Oeste\", \"Centro-Oeste\", \"Centro-Oeste\", \"Centro-Oeste\", \"Centro-Oeste\", \"Centro-Oeste\", \"Centro-Oeste\", \"Centro-Oeste\", \"Centro-Oeste\", \"Centro-Oeste\", \"Centro-Oeste\", \"Centro-Oeste\", \"Centro-Oeste\", \"Centro-Oeste\", \"Centro-Oeste\", \"Centro-Oeste\", \"Centro-Oeste\", \"Centro-Oeste\", \"Centro-Oeste\", \"Centro-Oeste\", \"Centro-Oeste\", \"Centro-Oeste\", \"Centro-Oeste\", \"Centro-Oeste\", \"Centro-Oeste\", \"Centro-Oeste\", \"Centro-Oeste\", \"Centro-Oeste\", \"Centro-Oeste\", \"Centro-Oeste\", \"Centro-Oeste\", \"Centro-Oeste\", \"Centro-Oeste\"], \"xaxis\": \"x\", \"y\": [0, 0, 0, 0, 0, 0, 0, 0, 0, 0, 0, 0, 0, 0, 0, 0, 0, 0, 0, 0, 0, 0, 0, 0, 0, 0, 0, 0, 0, 0, 0, 0, 0, 0, 0, 0, 0, 0, 0, 0, 0, 0, 0, 0, 0, 0, 0, 0, 0, 0, 1, 0, 2, 0, 0, 2, 0, 1, 0, 0, 0, 2, 1, 1, 0, 1, 1, 2, 4, 0, 10, 4, 1, 2, 7, 22, 5, 7, 16, 18, 18, 32, 39, 24, 27, 40, 38, 36, 29, 20, 20, 69, 83, 68, 52, 51, 105, 82, 155, 0, 0, 0, 0, 0, 0, 0, 0, 0, 0, 0, 0, 0, 0, 0, 0, 0, 0, 0, 0, 0, 0, 0, 0, 0, 0, 0, 0, 0, 0, 0, 0, 0, 0, 0, 0, 0, 0, 0, 0, 0, 0, 0, 0, 0, 0, 0, 0, 0, 3, 4, 2, 2, 0, 6, 6, 1, 1, 0, 9, 8, 0, 1, 0, 3, 0, 2, 2, 0, 4, 8, 8, 2, 5, 13, 9, 2, 9, 25, 7, 21, 13, 19, 19, 13, 7, 24, 21, 0, 32, 43, 50, 82, 67, 104, 76, 84, 126, 71, 0, 0, 0, 0, 0, 0, 0, 0, 0, 0, 0, 0, 0, 0, 0, 0, 0, 0, 0, 0, 0, 0, 0, 0, 0, 0, 0, 0, 0, 0, 0, 0, 0, 0, 0, 0, 0, 0, 0, 0, 0, 0, 0, 0, 0, 1, 0, 0, 0, 2, 0, 8, 15, 6, 15, 7, 13, 14, 30, 29, 11, 24, 25, 29, 31, 51, 106, 115, 104, 168, 95, 82, 69, 156, 69, 209, 70, 165, 90, 88, 147, 116, 110, 209, 409, 306, 441, 198, 95, 409, 464, 453, 469, 339, 621, 559, 867, 1134, 856, 0, 0, 0, 0, 0, 0, 0, 0, 0, 0, 0, 0, 0, 0, 0, 0, 0, 0, 0, 0, 0, 0, 0, 0, 0, 0, 0, 0, 0, 0, 0, 0, 0, 0, 0, 0, 0, 0, 0, 0, 0, 0, 0, 0, 0, 0, 0, 0, 0, 0, 0, 0, 2, 0, 0, 6, 0, 2, 2, 4, 0, 0, 6, 4, 4, 7, 5, 0, 0, 7, 3, 11, 12, 4, 4, 30, 1, 28, 22, 37, 21, 22, 3, 33, 17, 7, 41, 56, 6, 18, 27, 67, 83, 66, 72, 66, 63, 63, 88, 0, 0, 0, 0, 0, 0, 0, 0, 0, 0, 0, 0, 0, 0, 0, 0, 0, 0, 0, 0, 0, 0, 0, 0, 0, 0, 0, 0, 0, 0, 0, 0, 0, 0, 0, 0, 0, 0, 0, 0, 0, 0, 0, 0, 0, 0, 0, 0, 0, 1, 1, 0, 2, 1, 0, 2, 6, 0, 4, 1, 3, 11, 8, 6, 4, 30, 6, 16, 36, 29, 1, 2, 47, 29, 24, 53, 61, 54, 119, 83, 45, 217, 124, 169, 72, 179, 133, 288, 261, 134, 160, 454, 300, 284, 403, 262, 347, 545, 507, 0, 0, 0, 0, 0, 0, 0, 0, 0, 0, 0, 0, 0, 0, 0, 0, 0, 0, 0, 0, 0, 0, 0, 0, 0, 0, 0, 0, 0, 0, 0, 0, 0, 0, 0, 0, 0, 0, 0, 0, 0, 0, 0, 0, 0, 0, 0, 0, 0, 0, 1, 0, 0, 0, 0, 0, 1, 0, 2, 0, 4, 2, 1, 0, 8, 9, 1, 5, 14, 59, 21, 38, 27, 37, 12, 65, 27, 28, 8, 23, 23, 17, 24, 22, 69, 85, 52, 113, 44, 76, 98, 64, 41, 66, 295, 251, 198, 115, 153, 0, 0, 0, 0, 0, 0, 0, 0, 0, 0, 0, 0, 0, 0, 0, 0, 0, 0, 0, 0, 0, 0, 0, 0, 0, 0, 0, 0, 0, 0, 0, 0, 0, 0, 0, 0, 0, 0, 0, 0, 0, 0, 0, 0, 0, 0, 0, 0, 0, 1, 0, 1, 0, 3, 2, 0, 0, 1, 1, 0, 1, 1, 1, 0, 0, 2, 3, 0, 2, 4, 0, 0, 0, 2, 1, 0, 0, 3, 2, 2, 0, 1, 3, 0, 0, 6, 7, 8, 9, 12, 37, 21, 27, 27, 55, 21, 36, 48, 72, 0, 0, 0, 0, 0, 0, 0, 0, 0, 0, 0, 0, 0, 0, 0, 0, 0, 0, 0, 0, 0, 0, 0, 0, 0, 0, 0, 0, 0, 0, 0, 0, 0, 0, 0, 0, 0, 0, 0, 0, 0, 0, 0, 0, 0, 0, 0, 0, 0, 0, 0, 1, 1, 0, 6, 0, 2, 3, 1, 2, 7, 8, 21, 19, 10, 7, 8, 37, 39, 58, 43, 20, 51, 54, 47, 33, 152, 65, 102, 243, 165, 115, 76, 208, 153, 194, 154, 118, 187, 118, 276, 386, 316, 299, 235, 187, 303, 498, 361, 0, 0, 0, 0, 0, 0, 0, 0, 0, 0, 0, 0, 0, 0, 0, 0, 0, 0, 0, 0, 0, 0, 0, 0, 0, 0, 0, 0, 0, 0, 0, 0, 0, 0, 0, 0, 0, 0, 0, 0, 0, 0, 0, 0, 0, 0, 0, 0, 0, 0, 3, 1, 0, 2, 0, 2, 1, 0, 2, 3, 2, 2, 0, 1, 2, 1, 1, 0, 5, 3, 7, 2, 1, 3, 6, 8, 17, 16, 11, 21, 22, 13, 28, 20, 11, 39, 41, 34, 33, 44, 46, 59, 87, 65, 77, 42, 91, 74, 102, 0, 0, 0, 0, 0, 0, 0, 0, 0, 0, 0, 0, 0, 0, 0, 0, 0, 0, 0, 0, 0, 0, 0, 0, 0, 0, 0, 0, 0, 0, 0, 0, 0, 0, 0, 0, 0, 0, 0, 0, 0, 0, 0, 0, 0, 0, 0, 5, 4, 11, 35, 13, 44, 51, 19, 18, 35, 47, 32, 34, 24, 18, 54, 106, 77, 103, 93, 190, 38, 240, 134, 53, 104, 94, 124, 205, 152, 229, 298, 350, 218, 230, 234, 194, 688, 202, 621, 412, 893, 192, 349, 339, 273, 352, 139, 2670, 430, 834, 1584, 0, 0, 0, 0, 0, 0, 0, 0, 0, 0, 0, 0, 0, 0, 0, 0, 0, 0, 0, 0, 0, 0, 0, 0, 0, 0, 0, 0, 0, 0, 0, 0, 0, 0, 0, 0, 0, 0, 0, 0, 0, 0, 0, 1, 0, 0, 0, 0, 0, 0, 0, 5, 3, 4, 0, 1, 5, 9, 17, 23, 9, 5, 10, 13, 71, 36, 30, 4, 8, 7, 0, 2, 26, 13, 37, 37, 23, 1, 63, 53, 15, 64, 13, 38, 62, 46, 27, 44, 7, 25, 229, 91, 120, 69, 26, 29, 115, 38, 165, 0, 0, 0, 0, 0, 0, 0, 0, 0, 0, 0, 0, 0, 0, 0, 0, 0, 0, 0, 0, 0, 0, 0, 0, 0, 0, 0, 0, 0, 0, 0, 0, 0, 0, 0, 0, 0, 0, 0, 0, 0, 0, 0, 0, 0, 0, 0, 0, 0, 1, 0, 0, 0, 1, 1, 0, 2, 4, 5, 0, 1, 2, 3, 1, 8, 3, 2, 1, 1, 5, 14, 24, 6, 16, 10, 25, 15, 14, 30, 10, 31, 9, 18, 38, 44, 41, 61, 52, 44, 90, 66, 115, 112, 108, 135, 50, 142, 132, 164, 0, 0, 0, 0, 0, 0, 0, 0, 0, 0, 0, 0, 0, 0, 0, 0, 0, 0, 0, 0, 0, 0, 0, 0, 0, 0, 0, 0, 0, 0, 0, 0, 0, 0, 0, 0, 0, 0, 0, 0, 0, 0, 2, 0, 0, 0, 0, 14, 0, 12, 2, 0, 7, 5, 0, 4, 2, 8, 12, 5, 5, 9, 8, 11, 30, 40, 25, 22, 129, 49, 154, 129, 132, 144, 194, 130, 200, 199, 323, 187, 266, 231, 218, 390, 221, 480, 508, 391, 460, 366, 470, 682, 458, 811, 498, 220, 462, 556, 943, 0, 0, 0, 0, 0, 0, 0, 0, 0, 0, 0, 0, 0, 0, 0, 0, 0, 0, 0, 0, 0, 0, 0, 0, 0, 0, 0, 0, 0, 0, 0, 0, 0, 0, 0, 0, 0, 0, 1, 0, 0, 0, 0, 0, 0, 0, 0, 0, 0, 3, 1, 2, 0, 0, 2, 2, 0, 0, 3, 3, 0, 1, 0, 0, 4, 1, 5, 3, 1, 5, 0, 8, 3, 0, 2, 22, 10, 7, 21, 22, 27, 12, 39, 33, 81, 89, 88, 53, 89, 134, 180, 87, 182, 146, 69, 97, 68, 97, 164, 0, 0, 0, 0, 0, 0, 0, 0, 0, 0, 0, 0, 0, 0, 0, 0, 0, 0, 0, 0, 0, 0, 0, 0, 0, 0, 0, 0, 0, 0, 0, 0, 0, 0, 0, 0, 0, 0, 0, 0, 0, 0, 0, 0, 0, 1, 0, 3, 1, 1, 0, 4, 0, 0, 5, 1, 0, 0, 0, 0, 0, 3, 1, 3, 2, 2, 5, 0, 4, 0, 3, 3, 0, 2, 0, 1, 1, 2, 5, 18, 12, 3, 6, 25, 7, 20, 9, 6, 38, 83, 57, 110, 70, 84, 129, 42, 126, 100, 216, 0, 0, 0, 0, 0, 0, 0, 0, 0, 0, 0, 0, 0, 0, 0, 0, 0, 0, 0, 0, 0, 0, 0, 0, 0, 0, 0, 0, 0, 0, 0, 0, 0, 0, 0, 0, 1, 1, 0, 0, 0, 0, 0, 0, 0, 0, 0, 1, 0, 27, 3, 8, 8, 14, 13, 8, 20, 11, 12, 27, 22, 37, 33, 21, 15, 50, 69, 30, 25, 41, 62, 45, 31, 38, 50, 36, 48, 144, 108, 134, 37, 111, 148, 155, 145, 173, 119, 128, 145, 186, 106, 205, 234, 182, 228, 239, 306, 261, 227, 0, 0, 0, 0, 0, 0, 0, 0, 0, 0, 0, 0, 0, 0, 0, 0, 0, 0, 0, 0, 0, 0, 0, 0, 0, 0, 0, 0, 0, 0, 0, 0, 0, 0, 0, 0, 0, 0, 1, 0, 0, 0, 0, 1, 0, 0, 3, 2, 8, 14, 6, 3, 45, 45, 2, 3, 20, 36, 16, 26, 30, 14, 39, 56, 27, 33, 68, 27, 34, 55, 41, 43, 52, 56, 9, 69, 19, 55, 63, 56, 77, 35, 41, 53, 25, 111, 62, 67, 38, 63, 109, 69, 108, 88, 95, 229, 105, 153, 165, 0, 0, 0, 0, 0, 0, 0, 0, 0, 0, 0, 0, 0, 0, 0, 0, 0, 0, 0, 0, 0, 0, 0, 0, 0, 0, 0, 0, 0, 0, 0, 0, 0, 0, 0, 0, 1, 0, 0, 0, 0, 0, 0, 0, 0, 0, 0, 0, 8, 2, 2, 13, 0, 3, 4, 6, 0, 8, 6, 7, 12, 12, 12, 24, 19, 14, 13, 28, 15, 18, 46, 27, 49, 34, 47, 33, 94, 197, 102, 96, 147, 69, 44, 101, 50, 18, 214, 108, 93, 78, 233, 358, 197, 286, 138, 140, 176, 166, 270, 0, 0, 0, 0, 0, 0, 0, 0, 0, 0, 0, 0, 0, 0, 0, 0, 0, 0, 0, 0, 0, 0, 0, 0, 0, 0, 0, 0, 0, 0, 0, 0, 0, 0, 0, 1, 0, 1, 1, 0, 5, 5, 3, 0, 6, 2, 7, 2, 12, 20, 44, 10, 67, 47, 72, 65, 51, 72, 65, 42, 57, 51, 124, 160, 82, 172, 148, 67, 227, 250, 278, 248, 143, 248, 376, 179, 333, 201, 405, 194, 222, 134, 407, 246, 620, 110, 546, 283, 833, 560, 365, 584, 713, 380, 593, 582, 670, 904, 861, 0, 0, 0, 0, 0, 0, 0, 0, 0, 0, 0, 0, 0, 0, 0, 0, 0, 0, 0, 0, 0, 0, 0, 0, 0, 0, 0, 1, 0, 0, 1, 0, 0, 0, 1, 3, 4, 3, 3, 0, 3, 11, 12, 14, 9, 71, 16, 12, 76, 46, 110, 63, 172, 114, 65, 52, 190, 171, 183, 45, 66, 822, 642, 525, 542, 418, 154, 246, 816, 1026, 772, 736, 203, 336, 140, 476, 1672, 525, 1273, 1053, 373, 313, 805, 529, 826, 1086, 2178, 711, 981, 2345, 2117, 2540, 1676, 800, 598, 415, 1866, 3800, 2075, 0, 0, 0, 0, 0, 0, 0, 0, 0, 0, 0, 0, 0, 0, 0, 0, 0, 0, 0, 0, 0, 0, 0, 0, 0, 0, 0, 0, 0, 0, 0, 0, 0, 0, 0, 0, 0, 0, 0, 0, 0, 0, 6, 0, 0, 0, 0, 0, 7, 10, 9, 11, 7, 6, 9, 16, 21, 17, 14, 15, 7, 24, 45, 28, 49, 94, 43, 20, 45, 36, 70, 34, 33, 62, 18, 35, 12, 29, 42, 71, 42, 20, 17, 39, 19, 37, 21, 16, 30, 85, 77, 59, 40, 45, 22, 48, 26, 39, 29, 0, 0, 0, 0, 0, 0, 0, 0, 0, 0, 0, 0, 0, 0, 0, 0, 0, 0, 0, 0, 0, 0, 0, 0, 0, 0, 0, 0, 0, 0, 0, 0, 0, 0, 0, 0, 0, 0, 0, 0, 0, 0, 0, 2, 2, 2, 1, 0, 3, 10, 1, 30, 6, 11, 39, 2, 13, 27, 35, 10, 3, 22, 16, 12, 34, 53, 23, 22, 38, 40, 44, 192, 39, 36, 9, 49, 27, 31, 42, 36, 13, 50, 38, 28, 24, 55, 39, 26, 102, 139, 519, 90, 19, 242, 0, 173, 104, 294, 165, 0, 0, 0, 0, 0, 0, 0, 0, 0, 0, 0, 0, 0, 0, 0, 0, 0, 0, 0, 0, 0, 0, 0, 0, 0, 0, 0, 0, 0, 0, 0, 0, 0, 0, 0, 0, 0, 0, 0, 0, 1, 1, 2, 0, 2, 0, 0, 4, 9, 9, 9, 23, 12, 14, 12, 25, 45, 27, 2, 29, 15, 33, 32, 28, 62, 14, 8, 63, 27, 47, 63, 18, 4, 13, 11, 36, 47, 33, 22, 29, 23, 35, 15, 19, 71, 67, 35, 70, 62, 58, 82, 98, 63, 90, 47, 45, 104, 235, 79, 0, 0, 0, 0, 0, 0, 0, 0, 0, 0, 0, 0, 0, 0, 0, 0, 0, 0, 0, 0, 0, 0, 0, 0, 0, 0, 0, 0, 0, 0, 0, 0, 0, 0, 0, 0, 0, 0, 0, 0, 0, 0, 0, 0, 0, 0, 2, 2, 3, 0, 2, 7, 5, 0, 2, 1, 1, 3, 3, 5, 8, 4, 3, 2, 7, 2, 3, 1, 14, 5, 4, 8, 3, 1, 12, 2, 6, 10, 12, 18, 7, 3, 2, 2, 11, 27, 4, 17, 4, 2, 9, 6, 6, 5, 6, 2, 9, 5, 23, 0, 0, 0, 0, 0, 0, 0, 0, 0, 0, 0, 0, 0, 0, 0, 0, 0, 0, 0, 0, 0, 0, 0, 0, 0, 0, 0, 0, 0, 0, 0, 0, 0, 0, 0, 0, 0, 0, 0, 0, 0, 0, 0, 0, 0, 0, 0, 0, 0, 0, 1, 1, 0, 0, 5, 1, 3, 0, 2, 3, 2, 7, 2, 9, 8, 12, 4, 16, 2, 12, 18, 4, 9, 2, 11, 4, 13, 5, 6, 9, 3, 7, 0, 2, 38, 19, 7, 3, 7, 4, 31, 5, 23, 11, 6, 7, 21, 14, 38, 0, 0, 0, 0, 0, 0, 0, 0, 0, 0, 0, 0, 0, 0, 0, 0, 0, 0, 0, 0, 0, 0, 0, 0, 0, 0, 0, 0, 0, 0, 0, 0, 0, 0, 0, 0, 0, 0, 0, 0, 0, 0, 0, 3, 0, 0, 0, 3, 2, 4, 3, 5, 1, 2, 4, 2, 10, 10, 7, 2, 3, 4, 6, 2, 15, 15, 12, 4, 14, 25, 21, 12, 18, 20, 4, 51, 20, 14, 17, 43, 15, 10, 18, 17, 15, 33, 20, 67, 43, 45, 44, 76, 27, 17, 25, 11, 61, 102, 3, 0, 0, 0, 0, 0, 0, 0, 0, 0, 0, 0, 0, 0, 0, 0, 0, 0, 0, 0, 0, 0, 0, 0, 0, 0, 0, 0, 0, 0, 0, 0, 0, 0, 0, 0, 0, 0, 1, 0, 0, 0, 1, 0, 0, 4, 2, 5, 9, 4, 16, 45, 13, 17, 16, 27, 0, 40, 30, 30, 29, 23, 20, 23, 15, 32, 52, 14, 5, 19, 17, 18, 28, 24, 35, 24, 13, 31, 34, 30, 16, 65, 45, 9, 65, 17, 26, 24, 53, 80, 67, 62, 81, 110, 100, 83, 119, 50, 88, 352], \"yaxis\": \"y\"}],\n",
              "                        {\"barmode\": \"relative\", \"legend\": {\"tracegroupgap\": 0}, \"template\": {\"data\": {\"bar\": [{\"error_x\": {\"color\": \"#2a3f5f\"}, \"error_y\": {\"color\": \"#2a3f5f\"}, \"marker\": {\"line\": {\"color\": \"white\", \"width\": 0.5}}, \"type\": \"bar\"}], \"barpolar\": [{\"marker\": {\"line\": {\"color\": \"white\", \"width\": 0.5}}, \"type\": \"barpolar\"}], \"carpet\": [{\"aaxis\": {\"endlinecolor\": \"#2a3f5f\", \"gridcolor\": \"#C8D4E3\", \"linecolor\": \"#C8D4E3\", \"minorgridcolor\": \"#C8D4E3\", \"startlinecolor\": \"#2a3f5f\"}, \"baxis\": {\"endlinecolor\": \"#2a3f5f\", \"gridcolor\": \"#C8D4E3\", \"linecolor\": \"#C8D4E3\", \"minorgridcolor\": \"#C8D4E3\", \"startlinecolor\": \"#2a3f5f\"}, \"type\": \"carpet\"}], \"choropleth\": [{\"colorbar\": {\"outlinewidth\": 0, \"ticks\": \"\"}, \"type\": \"choropleth\"}], \"contour\": [{\"colorbar\": {\"outlinewidth\": 0, \"ticks\": \"\"}, \"colorscale\": [[0.0, \"#0d0887\"], [0.1111111111111111, \"#46039f\"], [0.2222222222222222, \"#7201a8\"], [0.3333333333333333, \"#9c179e\"], [0.4444444444444444, \"#bd3786\"], [0.5555555555555556, \"#d8576b\"], [0.6666666666666666, \"#ed7953\"], [0.7777777777777778, \"#fb9f3a\"], [0.8888888888888888, \"#fdca26\"], [1.0, \"#f0f921\"]], \"type\": \"contour\"}], \"contourcarpet\": [{\"colorbar\": {\"outlinewidth\": 0, \"ticks\": \"\"}, \"type\": \"contourcarpet\"}], \"heatmap\": [{\"colorbar\": {\"outlinewidth\": 0, \"ticks\": \"\"}, \"colorscale\": [[0.0, \"#0d0887\"], [0.1111111111111111, \"#46039f\"], [0.2222222222222222, \"#7201a8\"], [0.3333333333333333, \"#9c179e\"], [0.4444444444444444, \"#bd3786\"], [0.5555555555555556, \"#d8576b\"], [0.6666666666666666, \"#ed7953\"], [0.7777777777777778, \"#fb9f3a\"], [0.8888888888888888, \"#fdca26\"], [1.0, \"#f0f921\"]], \"type\": \"heatmap\"}], \"heatmapgl\": [{\"colorbar\": {\"outlinewidth\": 0, \"ticks\": \"\"}, \"colorscale\": [[0.0, \"#0d0887\"], [0.1111111111111111, \"#46039f\"], [0.2222222222222222, \"#7201a8\"], [0.3333333333333333, \"#9c179e\"], [0.4444444444444444, \"#bd3786\"], [0.5555555555555556, \"#d8576b\"], [0.6666666666666666, \"#ed7953\"], [0.7777777777777778, \"#fb9f3a\"], [0.8888888888888888, \"#fdca26\"], [1.0, \"#f0f921\"]], \"type\": \"heatmapgl\"}], \"histogram\": [{\"marker\": {\"colorbar\": {\"outlinewidth\": 0, \"ticks\": \"\"}}, \"type\": \"histogram\"}], \"histogram2d\": [{\"colorbar\": {\"outlinewidth\": 0, \"ticks\": \"\"}, \"colorscale\": [[0.0, \"#0d0887\"], [0.1111111111111111, \"#46039f\"], [0.2222222222222222, \"#7201a8\"], [0.3333333333333333, \"#9c179e\"], [0.4444444444444444, \"#bd3786\"], [0.5555555555555556, \"#d8576b\"], [0.6666666666666666, \"#ed7953\"], [0.7777777777777778, \"#fb9f3a\"], [0.8888888888888888, \"#fdca26\"], [1.0, \"#f0f921\"]], \"type\": \"histogram2d\"}], \"histogram2dcontour\": [{\"colorbar\": {\"outlinewidth\": 0, \"ticks\": \"\"}, \"colorscale\": [[0.0, \"#0d0887\"], [0.1111111111111111, \"#46039f\"], [0.2222222222222222, \"#7201a8\"], [0.3333333333333333, \"#9c179e\"], [0.4444444444444444, \"#bd3786\"], [0.5555555555555556, \"#d8576b\"], [0.6666666666666666, \"#ed7953\"], [0.7777777777777778, \"#fb9f3a\"], [0.8888888888888888, \"#fdca26\"], [1.0, \"#f0f921\"]], \"type\": \"histogram2dcontour\"}], \"mesh3d\": [{\"colorbar\": {\"outlinewidth\": 0, \"ticks\": \"\"}, \"type\": \"mesh3d\"}], \"parcoords\": [{\"line\": {\"colorbar\": {\"outlinewidth\": 0, \"ticks\": \"\"}}, \"type\": \"parcoords\"}], \"pie\": [{\"automargin\": true, \"type\": \"pie\"}], \"scatter\": [{\"marker\": {\"colorbar\": {\"outlinewidth\": 0, \"ticks\": \"\"}}, \"type\": \"scatter\"}], \"scatter3d\": [{\"line\": {\"colorbar\": {\"outlinewidth\": 0, \"ticks\": \"\"}}, \"marker\": {\"colorbar\": {\"outlinewidth\": 0, \"ticks\": \"\"}}, \"type\": \"scatter3d\"}], \"scattercarpet\": [{\"marker\": {\"colorbar\": {\"outlinewidth\": 0, \"ticks\": \"\"}}, \"type\": \"scattercarpet\"}], \"scattergeo\": [{\"marker\": {\"colorbar\": {\"outlinewidth\": 0, \"ticks\": \"\"}}, \"type\": \"scattergeo\"}], \"scattergl\": [{\"marker\": {\"colorbar\": {\"outlinewidth\": 0, \"ticks\": \"\"}}, \"type\": \"scattergl\"}], \"scattermapbox\": [{\"marker\": {\"colorbar\": {\"outlinewidth\": 0, \"ticks\": \"\"}}, \"type\": \"scattermapbox\"}], \"scatterpolar\": [{\"marker\": {\"colorbar\": {\"outlinewidth\": 0, \"ticks\": \"\"}}, \"type\": \"scatterpolar\"}], \"scatterpolargl\": [{\"marker\": {\"colorbar\": {\"outlinewidth\": 0, \"ticks\": \"\"}}, \"type\": \"scatterpolargl\"}], \"scatterternary\": [{\"marker\": {\"colorbar\": {\"outlinewidth\": 0, \"ticks\": \"\"}}, \"type\": \"scatterternary\"}], \"surface\": [{\"colorbar\": {\"outlinewidth\": 0, \"ticks\": \"\"}, \"colorscale\": [[0.0, \"#0d0887\"], [0.1111111111111111, \"#46039f\"], [0.2222222222222222, \"#7201a8\"], [0.3333333333333333, \"#9c179e\"], [0.4444444444444444, \"#bd3786\"], [0.5555555555555556, \"#d8576b\"], [0.6666666666666666, \"#ed7953\"], [0.7777777777777778, \"#fb9f3a\"], [0.8888888888888888, \"#fdca26\"], [1.0, \"#f0f921\"]], \"type\": \"surface\"}], \"table\": [{\"cells\": {\"fill\": {\"color\": \"#EBF0F8\"}, \"line\": {\"color\": \"white\"}}, \"header\": {\"fill\": {\"color\": \"#C8D4E3\"}, \"line\": {\"color\": \"white\"}}, \"type\": \"table\"}]}, \"layout\": {\"annotationdefaults\": {\"arrowcolor\": \"#2a3f5f\", \"arrowhead\": 0, \"arrowwidth\": 1}, \"coloraxis\": {\"colorbar\": {\"outlinewidth\": 0, \"ticks\": \"\"}}, \"colorscale\": {\"diverging\": [[0, \"#8e0152\"], [0.1, \"#c51b7d\"], [0.2, \"#de77ae\"], [0.3, \"#f1b6da\"], [0.4, \"#fde0ef\"], [0.5, \"#f7f7f7\"], [0.6, \"#e6f5d0\"], [0.7, \"#b8e186\"], [0.8, \"#7fbc41\"], [0.9, \"#4d9221\"], [1, \"#276419\"]], \"sequential\": [[0.0, \"#0d0887\"], [0.1111111111111111, \"#46039f\"], [0.2222222222222222, \"#7201a8\"], [0.3333333333333333, \"#9c179e\"], [0.4444444444444444, \"#bd3786\"], [0.5555555555555556, \"#d8576b\"], [0.6666666666666666, \"#ed7953\"], [0.7777777777777778, \"#fb9f3a\"], [0.8888888888888888, \"#fdca26\"], [1.0, \"#f0f921\"]], \"sequentialminus\": [[0.0, \"#0d0887\"], [0.1111111111111111, \"#46039f\"], [0.2222222222222222, \"#7201a8\"], [0.3333333333333333, \"#9c179e\"], [0.4444444444444444, \"#bd3786\"], [0.5555555555555556, \"#d8576b\"], [0.6666666666666666, \"#ed7953\"], [0.7777777777777778, \"#fb9f3a\"], [0.8888888888888888, \"#fdca26\"], [1.0, \"#f0f921\"]]}, \"colorway\": [\"#636efa\", \"#EF553B\", \"#00cc96\", \"#ab63fa\", \"#FFA15A\", \"#19d3f3\", \"#FF6692\", \"#B6E880\", \"#FF97FF\", \"#FECB52\"], \"font\": {\"color\": \"#2a3f5f\"}, \"geo\": {\"bgcolor\": \"white\", \"lakecolor\": \"white\", \"landcolor\": \"white\", \"showlakes\": true, \"showland\": true, \"subunitcolor\": \"#C8D4E3\"}, \"hoverlabel\": {\"align\": \"left\"}, \"hovermode\": \"closest\", \"mapbox\": {\"style\": \"light\"}, \"paper_bgcolor\": \"white\", \"plot_bgcolor\": \"white\", \"polar\": {\"angularaxis\": {\"gridcolor\": \"#EBF0F8\", \"linecolor\": \"#EBF0F8\", \"ticks\": \"\"}, \"bgcolor\": \"white\", \"radialaxis\": {\"gridcolor\": \"#EBF0F8\", \"linecolor\": \"#EBF0F8\", \"ticks\": \"\"}}, \"scene\": {\"xaxis\": {\"backgroundcolor\": \"white\", \"gridcolor\": \"#DFE8F3\", \"gridwidth\": 2, \"linecolor\": \"#EBF0F8\", \"showbackground\": true, \"ticks\": \"\", \"zerolinecolor\": \"#EBF0F8\"}, \"yaxis\": {\"backgroundcolor\": \"white\", \"gridcolor\": \"#DFE8F3\", \"gridwidth\": 2, \"linecolor\": \"#EBF0F8\", \"showbackground\": true, \"ticks\": \"\", \"zerolinecolor\": \"#EBF0F8\"}, \"zaxis\": {\"backgroundcolor\": \"white\", \"gridcolor\": \"#DFE8F3\", \"gridwidth\": 2, \"linecolor\": \"#EBF0F8\", \"showbackground\": true, \"ticks\": \"\", \"zerolinecolor\": \"#EBF0F8\"}}, \"shapedefaults\": {\"line\": {\"color\": \"#2a3f5f\"}}, \"ternary\": {\"aaxis\": {\"gridcolor\": \"#DFE8F3\", \"linecolor\": \"#A2B1C6\", \"ticks\": \"\"}, \"baxis\": {\"gridcolor\": \"#DFE8F3\", \"linecolor\": \"#A2B1C6\", \"ticks\": \"\"}, \"bgcolor\": \"white\", \"caxis\": {\"gridcolor\": \"#DFE8F3\", \"linecolor\": \"#A2B1C6\", \"ticks\": \"\"}}, \"title\": {\"x\": 0.05}, \"xaxis\": {\"automargin\": true, \"gridcolor\": \"#EBF0F8\", \"linecolor\": \"#EBF0F8\", \"ticks\": \"\", \"title\": {\"standoff\": 15}, \"zerolinecolor\": \"#EBF0F8\", \"zerolinewidth\": 2}, \"yaxis\": {\"automargin\": true, \"gridcolor\": \"#EBF0F8\", \"linecolor\": \"#EBF0F8\", \"ticks\": \"\", \"title\": {\"standoff\": 15}, \"zerolinecolor\": \"#EBF0F8\", \"zerolinewidth\": 2}}}, \"title\": {\"text\": \"Quantidade de casos de COVID-19 por regi\\u00e3o do Brasil\"}, \"xaxis\": {\"anchor\": \"y\", \"categoryorder\": \"total descending\", \"domain\": [0.0, 1.0], \"title\": {\"text\": \"Regi\\u00e3o\"}}, \"yaxis\": {\"anchor\": \"x\", \"domain\": [0.0, 1.0], \"title\": {\"text\": \"\"}}},\n",
              "                        {\"responsive\": true}\n",
              "                    ).then(function(){\n",
              "                            \n",
              "var gd = document.getElementById('7e991d44-d11a-4114-97c3-436fefdf3bce');\n",
              "var x = new MutationObserver(function (mutations, observer) {{\n",
              "        var display = window.getComputedStyle(gd).display;\n",
              "        if (!display || display === 'none') {{\n",
              "            console.log([gd, 'removed!']);\n",
              "            Plotly.purge(gd);\n",
              "            observer.disconnect();\n",
              "        }}\n",
              "}});\n",
              "\n",
              "// Listen for the removal of the full notebook cells\n",
              "var notebookContainer = gd.closest('#notebook-container');\n",
              "if (notebookContainer) {{\n",
              "    x.observe(notebookContainer, {childList: true});\n",
              "}}\n",
              "\n",
              "// Listen for the clearing of the current output cell\n",
              "var outputEl = gd.closest('.output');\n",
              "if (outputEl) {{\n",
              "    x.observe(outputEl, {childList: true});\n",
              "}}\n",
              "\n",
              "                        })\n",
              "                };\n",
              "                \n",
              "            </script>\n",
              "        </div>\n",
              "</body>\n",
              "</html>"
            ]
          },
          "metadata": {}
        }
      ]
    },
    {
      "cell_type": "markdown",
      "metadata": {
        "id": "dPbhMe6rdQYf"
      },
      "source": [
        "Podemos perceber que a maior ocorrência de óbitos se concentra na região sudeste"
      ]
    },
    {
      "cell_type": "code",
      "metadata": {
        "id": "854RslxadQYg",
        "colab": {
          "base_uri": "https://localhost:8080/",
          "height": 542
        },
        "outputId": "6b6b0811-54e0-49bf-be91-de09ac102aac"
      },
      "source": [
        "fig = px.histogram(df, x=\"casosNovos\", y=\"estado\", \n",
        "             template = 'plotly_white',  \n",
        "             title=\"Quantidade de casos de COVID-19 por região do Brasil\",\n",
        "             histfunc=\"sum\",\n",
        "             color_discrete_sequence=['indianred'],\n",
        "             opacity=0.95, orientation='h')\n",
        "fig.update_traces(hovertemplate='Estado: %{y} <br>Casos Novos: %{x}') \n",
        "fig.update_layout(xaxis_title=\"Estado\",\n",
        "                  yaxis_title=\"\",\n",
        "                  yaxis={'categoryorder':'total ascending'},\n",
        "                  font=dict(\n",
        "                    size=10,\n",
        "                ))\n",
        "fig.show()"
      ],
      "execution_count": null,
      "outputs": [
        {
          "output_type": "display_data",
          "data": {
            "text/html": [
              "<html>\n",
              "<head><meta charset=\"utf-8\" /></head>\n",
              "<body>\n",
              "    <div>\n",
              "            <script src=\"https://cdnjs.cloudflare.com/ajax/libs/mathjax/2.7.5/MathJax.js?config=TeX-AMS-MML_SVG\"></script><script type=\"text/javascript\">if (window.MathJax) {MathJax.Hub.Config({SVG: {font: \"STIX-Web\"}});}</script>\n",
              "                <script type=\"text/javascript\">window.PlotlyConfig = {MathJaxConfig: 'local'};</script>\n",
              "        <script src=\"https://cdn.plot.ly/plotly-latest.min.js\"></script>    \n",
              "            <div id=\"a4be4e2c-eeea-4789-926a-81443e7add63\" class=\"plotly-graph-div\" style=\"height:525px; width:100%;\"></div>\n",
              "            <script type=\"text/javascript\">\n",
              "                \n",
              "                    window.PLOTLYENV=window.PLOTLYENV || {};\n",
              "                    \n",
              "                if (document.getElementById(\"a4be4e2c-eeea-4789-926a-81443e7add63\")) {\n",
              "                    Plotly.newPlot(\n",
              "                        'a4be4e2c-eeea-4789-926a-81443e7add63',\n",
              "                        [{\"alignmentgroup\": \"True\", \"bingroup\": \"y\", \"histfunc\": \"sum\", \"hoverlabel\": {\"namelength\": 0}, \"hovertemplate\": \"Estado: %{y} <br>Casos Novos: %{x}\", \"legendgroup\": \"\", \"marker\": {\"color\": \"indianred\", \"opacity\": 0.95}, \"name\": \"\", \"offsetgroup\": \"\", \"orientation\": \"h\", \"showlegend\": false, \"type\": \"histogram\", \"x\": [0, 0, 0, 0, 0, 0, 0, 0, 0, 0, 0, 0, 0, 0, 0, 0, 0, 0, 0, 0, 0, 0, 0, 0, 0, 0, 0, 0, 0, 0, 0, 0, 0, 0, 0, 0, 0, 0, 0, 0, 0, 0, 0, 0, 0, 0, 0, 0, 0, 0, 1, 0, 2, 0, 0, 2, 0, 1, 0, 0, 0, 2, 1, 1, 0, 1, 1, 2, 4, 0, 10, 4, 1, 2, 7, 22, 5, 7, 16, 18, 18, 32, 39, 24, 27, 40, 38, 36, 29, 20, 20, 69, 83, 68, 52, 51, 105, 82, 155, 0, 0, 0, 0, 0, 0, 0, 0, 0, 0, 0, 0, 0, 0, 0, 0, 0, 0, 0, 0, 0, 0, 0, 0, 0, 0, 0, 0, 0, 0, 0, 0, 0, 0, 0, 0, 0, 0, 0, 0, 0, 0, 0, 0, 0, 0, 0, 0, 0, 3, 4, 2, 2, 0, 6, 6, 1, 1, 0, 9, 8, 0, 1, 0, 3, 0, 2, 2, 0, 4, 8, 8, 2, 5, 13, 9, 2, 9, 25, 7, 21, 13, 19, 19, 13, 7, 24, 21, 0, 32, 43, 50, 82, 67, 104, 76, 84, 126, 71, 0, 0, 0, 0, 0, 0, 0, 0, 0, 0, 0, 0, 0, 0, 0, 0, 0, 0, 0, 0, 0, 0, 0, 0, 0, 0, 0, 0, 0, 0, 0, 0, 0, 0, 0, 0, 0, 0, 0, 0, 0, 0, 0, 0, 0, 1, 0, 0, 0, 2, 0, 8, 15, 6, 15, 7, 13, 14, 30, 29, 11, 24, 25, 29, 31, 51, 106, 115, 104, 168, 95, 82, 69, 156, 69, 209, 70, 165, 90, 88, 147, 116, 110, 209, 409, 306, 441, 198, 95, 409, 464, 453, 469, 339, 621, 559, 867, 1134, 856, 0, 0, 0, 0, 0, 0, 0, 0, 0, 0, 0, 0, 0, 0, 0, 0, 0, 0, 0, 0, 0, 0, 0, 0, 0, 0, 0, 0, 0, 0, 0, 0, 0, 0, 0, 0, 0, 0, 0, 0, 0, 0, 0, 0, 0, 0, 0, 0, 0, 0, 0, 0, 2, 0, 0, 6, 0, 2, 2, 4, 0, 0, 6, 4, 4, 7, 5, 0, 0, 7, 3, 11, 12, 4, 4, 30, 1, 28, 22, 37, 21, 22, 3, 33, 17, 7, 41, 56, 6, 18, 27, 67, 83, 66, 72, 66, 63, 63, 88, 0, 0, 0, 0, 0, 0, 0, 0, 0, 0, 0, 0, 0, 0, 0, 0, 0, 0, 0, 0, 0, 0, 0, 0, 0, 0, 0, 0, 0, 0, 0, 0, 0, 0, 0, 0, 0, 0, 0, 0, 0, 0, 0, 0, 0, 0, 0, 0, 0, 1, 1, 0, 2, 1, 0, 2, 6, 0, 4, 1, 3, 11, 8, 6, 4, 30, 6, 16, 36, 29, 1, 2, 47, 29, 24, 53, 61, 54, 119, 83, 45, 217, 124, 169, 72, 179, 133, 288, 261, 134, 160, 454, 300, 284, 403, 262, 347, 545, 507, 0, 0, 0, 0, 0, 0, 0, 0, 0, 0, 0, 0, 0, 0, 0, 0, 0, 0, 0, 0, 0, 0, 0, 0, 0, 0, 0, 0, 0, 0, 0, 0, 0, 0, 0, 0, 0, 0, 0, 0, 0, 0, 0, 0, 0, 0, 0, 0, 0, 0, 1, 0, 0, 0, 0, 0, 1, 0, 2, 0, 4, 2, 1, 0, 8, 9, 1, 5, 14, 59, 21, 38, 27, 37, 12, 65, 27, 28, 8, 23, 23, 17, 24, 22, 69, 85, 52, 113, 44, 76, 98, 64, 41, 66, 295, 251, 198, 115, 153, 0, 0, 0, 0, 0, 0, 0, 0, 0, 0, 0, 0, 0, 0, 0, 0, 0, 0, 0, 0, 0, 0, 0, 0, 0, 0, 0, 0, 0, 0, 0, 0, 0, 0, 0, 0, 0, 0, 0, 0, 0, 0, 0, 0, 0, 0, 0, 0, 0, 1, 0, 1, 0, 3, 2, 0, 0, 1, 1, 0, 1, 1, 1, 0, 0, 2, 3, 0, 2, 4, 0, 0, 0, 2, 1, 0, 0, 3, 2, 2, 0, 1, 3, 0, 0, 6, 7, 8, 9, 12, 37, 21, 27, 27, 55, 21, 36, 48, 72, 0, 0, 0, 0, 0, 0, 0, 0, 0, 0, 0, 0, 0, 0, 0, 0, 0, 0, 0, 0, 0, 0, 0, 0, 0, 0, 0, 0, 0, 0, 0, 0, 0, 0, 0, 0, 0, 0, 0, 0, 0, 0, 0, 0, 0, 0, 0, 0, 0, 0, 0, 1, 1, 0, 6, 0, 2, 3, 1, 2, 7, 8, 21, 19, 10, 7, 8, 37, 39, 58, 43, 20, 51, 54, 47, 33, 152, 65, 102, 243, 165, 115, 76, 208, 153, 194, 154, 118, 187, 118, 276, 386, 316, 299, 235, 187, 303, 498, 361, 0, 0, 0, 0, 0, 0, 0, 0, 0, 0, 0, 0, 0, 0, 0, 0, 0, 0, 0, 0, 0, 0, 0, 0, 0, 0, 0, 0, 0, 0, 0, 0, 0, 0, 0, 0, 0, 0, 0, 0, 0, 0, 0, 0, 0, 0, 0, 0, 0, 0, 3, 1, 0, 2, 0, 2, 1, 0, 2, 3, 2, 2, 0, 1, 2, 1, 1, 0, 5, 3, 7, 2, 1, 3, 6, 8, 17, 16, 11, 21, 22, 13, 28, 20, 11, 39, 41, 34, 33, 44, 46, 59, 87, 65, 77, 42, 91, 74, 102, 0, 0, 0, 0, 0, 0, 0, 0, 0, 0, 0, 0, 0, 0, 0, 0, 0, 0, 0, 0, 0, 0, 0, 0, 0, 0, 0, 0, 0, 0, 0, 0, 0, 0, 0, 0, 0, 0, 0, 0, 0, 0, 0, 0, 0, 0, 0, 5, 4, 11, 35, 13, 44, 51, 19, 18, 35, 47, 32, 34, 24, 18, 54, 106, 77, 103, 93, 190, 38, 240, 134, 53, 104, 94, 124, 205, 152, 229, 298, 350, 218, 230, 234, 194, 688, 202, 621, 412, 893, 192, 349, 339, 273, 352, 139, 2670, 430, 834, 1584, 0, 0, 0, 0, 0, 0, 0, 0, 0, 0, 0, 0, 0, 0, 0, 0, 0, 0, 0, 0, 0, 0, 0, 0, 0, 0, 0, 0, 0, 0, 0, 0, 0, 0, 0, 0, 0, 0, 0, 0, 0, 0, 0, 1, 0, 0, 0, 0, 0, 0, 0, 5, 3, 4, 0, 1, 5, 9, 17, 23, 9, 5, 10, 13, 71, 36, 30, 4, 8, 7, 0, 2, 26, 13, 37, 37, 23, 1, 63, 53, 15, 64, 13, 38, 62, 46, 27, 44, 7, 25, 229, 91, 120, 69, 26, 29, 115, 38, 165, 0, 0, 0, 0, 0, 0, 0, 0, 0, 0, 0, 0, 0, 0, 0, 0, 0, 0, 0, 0, 0, 0, 0, 0, 0, 0, 0, 0, 0, 0, 0, 0, 0, 0, 0, 0, 0, 0, 0, 0, 0, 0, 0, 0, 0, 0, 0, 0, 0, 1, 0, 0, 0, 1, 1, 0, 2, 4, 5, 0, 1, 2, 3, 1, 8, 3, 2, 1, 1, 5, 14, 24, 6, 16, 10, 25, 15, 14, 30, 10, 31, 9, 18, 38, 44, 41, 61, 52, 44, 90, 66, 115, 112, 108, 135, 50, 142, 132, 164, 0, 0, 0, 0, 0, 0, 0, 0, 0, 0, 0, 0, 0, 0, 0, 0, 0, 0, 0, 0, 0, 0, 0, 0, 0, 0, 0, 0, 0, 0, 0, 0, 0, 0, 0, 0, 0, 0, 0, 0, 0, 0, 2, 0, 0, 0, 0, 14, 0, 12, 2, 0, 7, 5, 0, 4, 2, 8, 12, 5, 5, 9, 8, 11, 30, 40, 25, 22, 129, 49, 154, 129, 132, 144, 194, 130, 200, 199, 323, 187, 266, 231, 218, 390, 221, 480, 508, 391, 460, 366, 470, 682, 458, 811, 498, 220, 462, 556, 943, 0, 0, 0, 0, 0, 0, 0, 0, 0, 0, 0, 0, 0, 0, 0, 0, 0, 0, 0, 0, 0, 0, 0, 0, 0, 0, 0, 0, 0, 0, 0, 0, 0, 0, 0, 0, 0, 0, 1, 0, 0, 0, 0, 0, 0, 0, 0, 0, 0, 3, 1, 2, 0, 0, 2, 2, 0, 0, 3, 3, 0, 1, 0, 0, 4, 1, 5, 3, 1, 5, 0, 8, 3, 0, 2, 22, 10, 7, 21, 22, 27, 12, 39, 33, 81, 89, 88, 53, 89, 134, 180, 87, 182, 146, 69, 97, 68, 97, 164, 0, 0, 0, 0, 0, 0, 0, 0, 0, 0, 0, 0, 0, 0, 0, 0, 0, 0, 0, 0, 0, 0, 0, 0, 0, 0, 0, 0, 0, 0, 0, 0, 0, 0, 0, 0, 0, 0, 0, 0, 0, 0, 0, 0, 0, 1, 0, 3, 1, 1, 0, 4, 0, 0, 5, 1, 0, 0, 0, 0, 0, 3, 1, 3, 2, 2, 5, 0, 4, 0, 3, 3, 0, 2, 0, 1, 1, 2, 5, 18, 12, 3, 6, 25, 7, 20, 9, 6, 38, 83, 57, 110, 70, 84, 129, 42, 126, 100, 216, 0, 0, 0, 0, 0, 0, 0, 0, 0, 0, 0, 0, 0, 0, 0, 0, 0, 0, 0, 0, 0, 0, 0, 0, 0, 0, 0, 0, 0, 0, 0, 0, 0, 0, 0, 0, 1, 1, 0, 0, 0, 0, 0, 0, 0, 0, 0, 1, 0, 27, 3, 8, 8, 14, 13, 8, 20, 11, 12, 27, 22, 37, 33, 21, 15, 50, 69, 30, 25, 41, 62, 45, 31, 38, 50, 36, 48, 144, 108, 134, 37, 111, 148, 155, 145, 173, 119, 128, 145, 186, 106, 205, 234, 182, 228, 239, 306, 261, 227, 0, 0, 0, 0, 0, 0, 0, 0, 0, 0, 0, 0, 0, 0, 0, 0, 0, 0, 0, 0, 0, 0, 0, 0, 0, 0, 0, 0, 0, 0, 0, 0, 0, 0, 0, 0, 0, 0, 1, 0, 0, 0, 0, 1, 0, 0, 3, 2, 8, 14, 6, 3, 45, 45, 2, 3, 20, 36, 16, 26, 30, 14, 39, 56, 27, 33, 68, 27, 34, 55, 41, 43, 52, 56, 9, 69, 19, 55, 63, 56, 77, 35, 41, 53, 25, 111, 62, 67, 38, 63, 109, 69, 108, 88, 95, 229, 105, 153, 165, 0, 0, 0, 0, 0, 0, 0, 0, 0, 0, 0, 0, 0, 0, 0, 0, 0, 0, 0, 0, 0, 0, 0, 0, 0, 0, 0, 0, 0, 0, 0, 0, 0, 0, 0, 0, 1, 0, 0, 0, 0, 0, 0, 0, 0, 0, 0, 0, 8, 2, 2, 13, 0, 3, 4, 6, 0, 8, 6, 7, 12, 12, 12, 24, 19, 14, 13, 28, 15, 18, 46, 27, 49, 34, 47, 33, 94, 197, 102, 96, 147, 69, 44, 101, 50, 18, 214, 108, 93, 78, 233, 358, 197, 286, 138, 140, 176, 166, 270, 0, 0, 0, 0, 0, 0, 0, 0, 0, 0, 0, 0, 0, 0, 0, 0, 0, 0, 0, 0, 0, 0, 0, 0, 0, 0, 0, 0, 0, 0, 0, 0, 0, 0, 0, 1, 0, 1, 1, 0, 5, 5, 3, 0, 6, 2, 7, 2, 12, 20, 44, 10, 67, 47, 72, 65, 51, 72, 65, 42, 57, 51, 124, 160, 82, 172, 148, 67, 227, 250, 278, 248, 143, 248, 376, 179, 333, 201, 405, 194, 222, 134, 407, 246, 620, 110, 546, 283, 833, 560, 365, 584, 713, 380, 593, 582, 670, 904, 861, 0, 0, 0, 0, 0, 0, 0, 0, 0, 0, 0, 0, 0, 0, 0, 0, 0, 0, 0, 0, 0, 0, 0, 0, 0, 0, 0, 1, 0, 0, 1, 0, 0, 0, 1, 3, 4, 3, 3, 0, 3, 11, 12, 14, 9, 71, 16, 12, 76, 46, 110, 63, 172, 114, 65, 52, 190, 171, 183, 45, 66, 822, 642, 525, 542, 418, 154, 246, 816, 1026, 772, 736, 203, 336, 140, 476, 1672, 525, 1273, 1053, 373, 313, 805, 529, 826, 1086, 2178, 711, 981, 2345, 2117, 2540, 1676, 800, 598, 415, 1866, 3800, 2075, 0, 0, 0, 0, 0, 0, 0, 0, 0, 0, 0, 0, 0, 0, 0, 0, 0, 0, 0, 0, 0, 0, 0, 0, 0, 0, 0, 0, 0, 0, 0, 0, 0, 0, 0, 0, 0, 0, 0, 0, 0, 0, 6, 0, 0, 0, 0, 0, 7, 10, 9, 11, 7, 6, 9, 16, 21, 17, 14, 15, 7, 24, 45, 28, 49, 94, 43, 20, 45, 36, 70, 34, 33, 62, 18, 35, 12, 29, 42, 71, 42, 20, 17, 39, 19, 37, 21, 16, 30, 85, 77, 59, 40, 45, 22, 48, 26, 39, 29, 0, 0, 0, 0, 0, 0, 0, 0, 0, 0, 0, 0, 0, 0, 0, 0, 0, 0, 0, 0, 0, 0, 0, 0, 0, 0, 0, 0, 0, 0, 0, 0, 0, 0, 0, 0, 0, 0, 0, 0, 0, 0, 0, 2, 2, 2, 1, 0, 3, 10, 1, 30, 6, 11, 39, 2, 13, 27, 35, 10, 3, 22, 16, 12, 34, 53, 23, 22, 38, 40, 44, 192, 39, 36, 9, 49, 27, 31, 42, 36, 13, 50, 38, 28, 24, 55, 39, 26, 102, 139, 519, 90, 19, 242, 0, 173, 104, 294, 165, 0, 0, 0, 0, 0, 0, 0, 0, 0, 0, 0, 0, 0, 0, 0, 0, 0, 0, 0, 0, 0, 0, 0, 0, 0, 0, 0, 0, 0, 0, 0, 0, 0, 0, 0, 0, 0, 0, 0, 0, 1, 1, 2, 0, 2, 0, 0, 4, 9, 9, 9, 23, 12, 14, 12, 25, 45, 27, 2, 29, 15, 33, 32, 28, 62, 14, 8, 63, 27, 47, 63, 18, 4, 13, 11, 36, 47, 33, 22, 29, 23, 35, 15, 19, 71, 67, 35, 70, 62, 58, 82, 98, 63, 90, 47, 45, 104, 235, 79, 0, 0, 0, 0, 0, 0, 0, 0, 0, 0, 0, 0, 0, 0, 0, 0, 0, 0, 0, 0, 0, 0, 0, 0, 0, 0, 0, 0, 0, 0, 0, 0, 0, 0, 0, 0, 0, 0, 0, 0, 0, 0, 0, 0, 0, 0, 2, 2, 3, 0, 2, 7, 5, 0, 2, 1, 1, 3, 3, 5, 8, 4, 3, 2, 7, 2, 3, 1, 14, 5, 4, 8, 3, 1, 12, 2, 6, 10, 12, 18, 7, 3, 2, 2, 11, 27, 4, 17, 4, 2, 9, 6, 6, 5, 6, 2, 9, 5, 23, 0, 0, 0, 0, 0, 0, 0, 0, 0, 0, 0, 0, 0, 0, 0, 0, 0, 0, 0, 0, 0, 0, 0, 0, 0, 0, 0, 0, 0, 0, 0, 0, 0, 0, 0, 0, 0, 0, 0, 0, 0, 0, 0, 0, 0, 0, 0, 0, 0, 0, 1, 1, 0, 0, 5, 1, 3, 0, 2, 3, 2, 7, 2, 9, 8, 12, 4, 16, 2, 12, 18, 4, 9, 2, 11, 4, 13, 5, 6, 9, 3, 7, 0, 2, 38, 19, 7, 3, 7, 4, 31, 5, 23, 11, 6, 7, 21, 14, 38, 0, 0, 0, 0, 0, 0, 0, 0, 0, 0, 0, 0, 0, 0, 0, 0, 0, 0, 0, 0, 0, 0, 0, 0, 0, 0, 0, 0, 0, 0, 0, 0, 0, 0, 0, 0, 0, 0, 0, 0, 0, 0, 0, 3, 0, 0, 0, 3, 2, 4, 3, 5, 1, 2, 4, 2, 10, 10, 7, 2, 3, 4, 6, 2, 15, 15, 12, 4, 14, 25, 21, 12, 18, 20, 4, 51, 20, 14, 17, 43, 15, 10, 18, 17, 15, 33, 20, 67, 43, 45, 44, 76, 27, 17, 25, 11, 61, 102, 3, 0, 0, 0, 0, 0, 0, 0, 0, 0, 0, 0, 0, 0, 0, 0, 0, 0, 0, 0, 0, 0, 0, 0, 0, 0, 0, 0, 0, 0, 0, 0, 0, 0, 0, 0, 0, 0, 1, 0, 0, 0, 1, 0, 0, 4, 2, 5, 9, 4, 16, 45, 13, 17, 16, 27, 0, 40, 30, 30, 29, 23, 20, 23, 15, 32, 52, 14, 5, 19, 17, 18, 28, 24, 35, 24, 13, 31, 34, 30, 16, 65, 45, 9, 65, 17, 26, 24, 53, 80, 67, 62, 81, 110, 100, 83, 119, 50, 88, 352], \"xaxis\": \"x\", \"y\": [\"RO\", \"RO\", \"RO\", \"RO\", \"RO\", \"RO\", \"RO\", \"RO\", \"RO\", \"RO\", \"RO\", \"RO\", \"RO\", \"RO\", \"RO\", \"RO\", \"RO\", \"RO\", \"RO\", \"RO\", \"RO\", \"RO\", \"RO\", \"RO\", \"RO\", \"RO\", \"RO\", \"RO\", \"RO\", \"RO\", \"RO\", \"RO\", \"RO\", \"RO\", \"RO\", \"RO\", \"RO\", \"RO\", \"RO\", \"RO\", \"RO\", \"RO\", \"RO\", \"RO\", \"RO\", \"RO\", \"RO\", \"RO\", \"RO\", \"RO\", \"RO\", \"RO\", \"RO\", \"RO\", \"RO\", \"RO\", \"RO\", \"RO\", \"RO\", \"RO\", \"RO\", \"RO\", \"RO\", \"RO\", \"RO\", \"RO\", \"RO\", \"RO\", \"RO\", \"RO\", \"RO\", \"RO\", \"RO\", \"RO\", \"RO\", \"RO\", \"RO\", \"RO\", \"RO\", \"RO\", \"RO\", \"RO\", \"RO\", \"RO\", \"RO\", \"RO\", \"RO\", \"RO\", \"RO\", \"RO\", \"RO\", \"RO\", \"RO\", \"RO\", \"RO\", \"RO\", \"RO\", \"RO\", \"RO\", \"AC\", \"AC\", \"AC\", \"AC\", \"AC\", \"AC\", \"AC\", \"AC\", \"AC\", \"AC\", \"AC\", \"AC\", \"AC\", \"AC\", \"AC\", \"AC\", \"AC\", \"AC\", \"AC\", \"AC\", \"AC\", \"AC\", \"AC\", \"AC\", \"AC\", \"AC\", \"AC\", \"AC\", \"AC\", \"AC\", \"AC\", \"AC\", \"AC\", \"AC\", \"AC\", \"AC\", \"AC\", \"AC\", \"AC\", \"AC\", \"AC\", \"AC\", \"AC\", \"AC\", \"AC\", \"AC\", \"AC\", \"AC\", \"AC\", \"AC\", \"AC\", \"AC\", \"AC\", \"AC\", \"AC\", \"AC\", \"AC\", \"AC\", \"AC\", \"AC\", \"AC\", \"AC\", \"AC\", \"AC\", \"AC\", \"AC\", \"AC\", \"AC\", \"AC\", \"AC\", \"AC\", \"AC\", \"AC\", \"AC\", \"AC\", \"AC\", \"AC\", \"AC\", \"AC\", \"AC\", \"AC\", \"AC\", \"AC\", \"AC\", \"AC\", \"AC\", \"AC\", \"AC\", \"AC\", \"AC\", \"AC\", \"AC\", \"AC\", \"AC\", \"AC\", \"AC\", \"AC\", \"AC\", \"AC\", \"AM\", \"AM\", \"AM\", \"AM\", \"AM\", \"AM\", \"AM\", \"AM\", \"AM\", \"AM\", \"AM\", \"AM\", \"AM\", \"AM\", \"AM\", \"AM\", \"AM\", \"AM\", \"AM\", \"AM\", \"AM\", \"AM\", \"AM\", \"AM\", \"AM\", \"AM\", \"AM\", \"AM\", \"AM\", \"AM\", \"AM\", \"AM\", \"AM\", \"AM\", \"AM\", \"AM\", \"AM\", \"AM\", \"AM\", \"AM\", \"AM\", \"AM\", \"AM\", \"AM\", \"AM\", \"AM\", \"AM\", \"AM\", \"AM\", \"AM\", \"AM\", \"AM\", \"AM\", \"AM\", \"AM\", \"AM\", \"AM\", \"AM\", \"AM\", \"AM\", \"AM\", \"AM\", \"AM\", \"AM\", \"AM\", \"AM\", \"AM\", \"AM\", \"AM\", \"AM\", \"AM\", \"AM\", \"AM\", \"AM\", \"AM\", \"AM\", \"AM\", \"AM\", \"AM\", \"AM\", \"AM\", \"AM\", \"AM\", \"AM\", \"AM\", \"AM\", \"AM\", \"AM\", \"AM\", \"AM\", \"AM\", \"AM\", \"AM\", \"AM\", \"AM\", \"AM\", \"AM\", \"AM\", \"AM\", \"RR\", \"RR\", \"RR\", \"RR\", \"RR\", \"RR\", \"RR\", \"RR\", \"RR\", \"RR\", \"RR\", \"RR\", \"RR\", \"RR\", \"RR\", \"RR\", \"RR\", \"RR\", \"RR\", \"RR\", \"RR\", \"RR\", \"RR\", \"RR\", \"RR\", \"RR\", \"RR\", \"RR\", \"RR\", \"RR\", \"RR\", \"RR\", \"RR\", \"RR\", \"RR\", \"RR\", \"RR\", \"RR\", \"RR\", \"RR\", \"RR\", \"RR\", \"RR\", \"RR\", \"RR\", \"RR\", \"RR\", \"RR\", \"RR\", \"RR\", \"RR\", \"RR\", \"RR\", \"RR\", \"RR\", \"RR\", \"RR\", \"RR\", \"RR\", \"RR\", \"RR\", \"RR\", \"RR\", \"RR\", \"RR\", \"RR\", \"RR\", \"RR\", \"RR\", \"RR\", \"RR\", \"RR\", \"RR\", \"RR\", \"RR\", \"RR\", \"RR\", \"RR\", \"RR\", \"RR\", \"RR\", \"RR\", \"RR\", \"RR\", \"RR\", \"RR\", \"RR\", \"RR\", \"RR\", \"RR\", \"RR\", \"RR\", \"RR\", \"RR\", \"RR\", \"RR\", \"RR\", \"RR\", \"RR\", \"PA\", \"PA\", \"PA\", \"PA\", \"PA\", \"PA\", \"PA\", \"PA\", \"PA\", \"PA\", \"PA\", \"PA\", \"PA\", \"PA\", \"PA\", \"PA\", \"PA\", \"PA\", \"PA\", \"PA\", \"PA\", \"PA\", \"PA\", \"PA\", \"PA\", \"PA\", \"PA\", \"PA\", \"PA\", \"PA\", \"PA\", \"PA\", \"PA\", \"PA\", \"PA\", \"PA\", \"PA\", \"PA\", \"PA\", \"PA\", \"PA\", \"PA\", \"PA\", \"PA\", \"PA\", \"PA\", \"PA\", \"PA\", \"PA\", \"PA\", \"PA\", \"PA\", \"PA\", \"PA\", \"PA\", \"PA\", \"PA\", \"PA\", \"PA\", \"PA\", \"PA\", \"PA\", \"PA\", \"PA\", \"PA\", \"PA\", \"PA\", \"PA\", \"PA\", \"PA\", \"PA\", \"PA\", \"PA\", \"PA\", \"PA\", \"PA\", \"PA\", \"PA\", \"PA\", \"PA\", \"PA\", \"PA\", \"PA\", \"PA\", \"PA\", \"PA\", \"PA\", \"PA\", \"PA\", \"PA\", \"PA\", \"PA\", \"PA\", \"PA\", \"PA\", \"PA\", \"PA\", \"PA\", \"PA\", \"AP\", \"AP\", \"AP\", \"AP\", \"AP\", \"AP\", \"AP\", \"AP\", \"AP\", \"AP\", \"AP\", \"AP\", \"AP\", \"AP\", \"AP\", \"AP\", \"AP\", \"AP\", \"AP\", \"AP\", \"AP\", \"AP\", \"AP\", \"AP\", \"AP\", \"AP\", \"AP\", \"AP\", \"AP\", \"AP\", \"AP\", \"AP\", \"AP\", \"AP\", \"AP\", \"AP\", \"AP\", \"AP\", \"AP\", \"AP\", \"AP\", \"AP\", \"AP\", \"AP\", \"AP\", \"AP\", \"AP\", \"AP\", \"AP\", \"AP\", \"AP\", \"AP\", \"AP\", \"AP\", \"AP\", \"AP\", \"AP\", \"AP\", \"AP\", \"AP\", \"AP\", \"AP\", \"AP\", \"AP\", \"AP\", \"AP\", \"AP\", \"AP\", \"AP\", \"AP\", \"AP\", \"AP\", \"AP\", \"AP\", \"AP\", \"AP\", \"AP\", \"AP\", \"AP\", \"AP\", \"AP\", \"AP\", \"AP\", \"AP\", \"AP\", \"AP\", \"AP\", \"AP\", \"AP\", \"AP\", \"AP\", \"AP\", \"AP\", \"AP\", \"AP\", \"AP\", \"AP\", \"AP\", \"AP\", \"TO\", \"TO\", \"TO\", \"TO\", \"TO\", \"TO\", \"TO\", \"TO\", \"TO\", \"TO\", \"TO\", \"TO\", \"TO\", \"TO\", \"TO\", \"TO\", \"TO\", \"TO\", \"TO\", \"TO\", \"TO\", \"TO\", \"TO\", \"TO\", \"TO\", \"TO\", \"TO\", \"TO\", \"TO\", \"TO\", \"TO\", \"TO\", \"TO\", \"TO\", \"TO\", \"TO\", \"TO\", \"TO\", \"TO\", \"TO\", \"TO\", \"TO\", \"TO\", \"TO\", \"TO\", \"TO\", \"TO\", \"TO\", \"TO\", \"TO\", \"TO\", \"TO\", \"TO\", \"TO\", \"TO\", \"TO\", \"TO\", \"TO\", \"TO\", \"TO\", \"TO\", \"TO\", \"TO\", \"TO\", \"TO\", \"TO\", \"TO\", \"TO\", \"TO\", \"TO\", \"TO\", \"TO\", \"TO\", \"TO\", \"TO\", \"TO\", \"TO\", \"TO\", \"TO\", \"TO\", \"TO\", \"TO\", \"TO\", \"TO\", \"TO\", \"TO\", \"TO\", \"TO\", \"TO\", \"TO\", \"TO\", \"TO\", \"TO\", \"TO\", \"TO\", \"TO\", \"TO\", \"TO\", \"TO\", \"MA\", \"MA\", \"MA\", \"MA\", \"MA\", \"MA\", \"MA\", \"MA\", \"MA\", \"MA\", \"MA\", \"MA\", \"MA\", \"MA\", \"MA\", \"MA\", \"MA\", \"MA\", \"MA\", \"MA\", \"MA\", \"MA\", \"MA\", \"MA\", \"MA\", \"MA\", \"MA\", \"MA\", \"MA\", \"MA\", \"MA\", \"MA\", \"MA\", \"MA\", \"MA\", \"MA\", \"MA\", \"MA\", \"MA\", \"MA\", \"MA\", \"MA\", \"MA\", \"MA\", \"MA\", \"MA\", \"MA\", \"MA\", \"MA\", \"MA\", \"MA\", \"MA\", \"MA\", \"MA\", \"MA\", \"MA\", \"MA\", \"MA\", \"MA\", \"MA\", \"MA\", \"MA\", \"MA\", \"MA\", \"MA\", \"MA\", \"MA\", \"MA\", \"MA\", \"MA\", \"MA\", \"MA\", \"MA\", \"MA\", \"MA\", \"MA\", \"MA\", \"MA\", \"MA\", \"MA\", \"MA\", \"MA\", \"MA\", \"MA\", \"MA\", \"MA\", \"MA\", \"MA\", \"MA\", \"MA\", \"MA\", \"MA\", \"MA\", \"MA\", \"MA\", \"MA\", \"MA\", \"MA\", \"MA\", \"PI\", \"PI\", \"PI\", \"PI\", \"PI\", \"PI\", \"PI\", \"PI\", \"PI\", \"PI\", \"PI\", \"PI\", \"PI\", \"PI\", \"PI\", \"PI\", \"PI\", \"PI\", \"PI\", \"PI\", \"PI\", \"PI\", \"PI\", \"PI\", \"PI\", \"PI\", \"PI\", \"PI\", \"PI\", \"PI\", \"PI\", \"PI\", \"PI\", \"PI\", \"PI\", \"PI\", \"PI\", \"PI\", \"PI\", \"PI\", \"PI\", \"PI\", \"PI\", \"PI\", \"PI\", \"PI\", \"PI\", \"PI\", \"PI\", \"PI\", \"PI\", \"PI\", \"PI\", \"PI\", \"PI\", \"PI\", \"PI\", \"PI\", \"PI\", \"PI\", \"PI\", \"PI\", \"PI\", \"PI\", \"PI\", \"PI\", \"PI\", \"PI\", \"PI\", \"PI\", \"PI\", \"PI\", \"PI\", \"PI\", \"PI\", \"PI\", \"PI\", \"PI\", \"PI\", \"PI\", \"PI\", \"PI\", \"PI\", \"PI\", \"PI\", \"PI\", \"PI\", \"PI\", \"PI\", \"PI\", \"PI\", \"PI\", \"PI\", \"PI\", \"PI\", \"PI\", \"PI\", \"PI\", \"PI\", \"CE\", \"CE\", \"CE\", \"CE\", \"CE\", \"CE\", \"CE\", \"CE\", \"CE\", \"CE\", \"CE\", \"CE\", \"CE\", \"CE\", \"CE\", \"CE\", \"CE\", \"CE\", \"CE\", \"CE\", \"CE\", \"CE\", \"CE\", \"CE\", \"CE\", \"CE\", \"CE\", \"CE\", \"CE\", \"CE\", \"CE\", \"CE\", \"CE\", \"CE\", \"CE\", \"CE\", \"CE\", \"CE\", \"CE\", \"CE\", \"CE\", \"CE\", \"CE\", \"CE\", \"CE\", \"CE\", \"CE\", \"CE\", \"CE\", \"CE\", \"CE\", \"CE\", \"CE\", \"CE\", \"CE\", \"CE\", \"CE\", \"CE\", \"CE\", \"CE\", \"CE\", \"CE\", \"CE\", \"CE\", \"CE\", \"CE\", \"CE\", \"CE\", \"CE\", \"CE\", \"CE\", \"CE\", \"CE\", \"CE\", \"CE\", \"CE\", \"CE\", \"CE\", \"CE\", \"CE\", \"CE\", \"CE\", \"CE\", \"CE\", \"CE\", \"CE\", \"CE\", \"CE\", \"CE\", \"CE\", \"CE\", \"CE\", \"CE\", \"CE\", \"CE\", \"CE\", \"CE\", \"CE\", \"CE\", \"RN\", \"RN\", \"RN\", \"RN\", \"RN\", \"RN\", \"RN\", \"RN\", \"RN\", \"RN\", \"RN\", \"RN\", \"RN\", \"RN\", \"RN\", \"RN\", \"RN\", \"RN\", \"RN\", \"RN\", \"RN\", \"RN\", \"RN\", \"RN\", \"RN\", \"RN\", \"RN\", \"RN\", \"RN\", \"RN\", \"RN\", \"RN\", \"RN\", \"RN\", \"RN\", \"RN\", \"RN\", \"RN\", \"RN\", \"RN\", \"RN\", \"RN\", \"RN\", \"RN\", \"RN\", \"RN\", \"RN\", \"RN\", \"RN\", \"RN\", \"RN\", \"RN\", \"RN\", \"RN\", \"RN\", \"RN\", \"RN\", \"RN\", \"RN\", \"RN\", \"RN\", \"RN\", \"RN\", \"RN\", \"RN\", \"RN\", \"RN\", \"RN\", \"RN\", \"RN\", \"RN\", \"RN\", \"RN\", \"RN\", \"RN\", \"RN\", \"RN\", \"RN\", \"RN\", \"RN\", \"RN\", \"RN\", \"RN\", \"RN\", \"RN\", \"RN\", \"RN\", \"RN\", \"RN\", \"RN\", \"RN\", \"RN\", \"RN\", \"RN\", \"RN\", \"RN\", \"RN\", \"RN\", \"RN\", \"PB\", \"PB\", \"PB\", \"PB\", \"PB\", \"PB\", \"PB\", \"PB\", \"PB\", \"PB\", \"PB\", \"PB\", \"PB\", \"PB\", \"PB\", \"PB\", \"PB\", \"PB\", \"PB\", \"PB\", \"PB\", \"PB\", \"PB\", \"PB\", \"PB\", \"PB\", \"PB\", \"PB\", \"PB\", \"PB\", \"PB\", \"PB\", \"PB\", \"PB\", \"PB\", \"PB\", \"PB\", \"PB\", \"PB\", \"PB\", \"PB\", \"PB\", \"PB\", \"PB\", \"PB\", \"PB\", \"PB\", \"PB\", \"PB\", \"PB\", \"PB\", \"PB\", \"PB\", \"PB\", \"PB\", \"PB\", \"PB\", \"PB\", \"PB\", \"PB\", \"PB\", \"PB\", \"PB\", \"PB\", \"PB\", \"PB\", \"PB\", \"PB\", \"PB\", \"PB\", \"PB\", \"PB\", \"PB\", \"PB\", \"PB\", \"PB\", \"PB\", \"PB\", \"PB\", \"PB\", \"PB\", \"PB\", \"PB\", \"PB\", \"PB\", \"PB\", \"PB\", \"PB\", \"PB\", \"PB\", \"PB\", \"PB\", \"PB\", \"PB\", \"PB\", \"PB\", \"PB\", \"PB\", \"PB\", \"PE\", \"PE\", \"PE\", \"PE\", \"PE\", \"PE\", \"PE\", \"PE\", \"PE\", \"PE\", \"PE\", \"PE\", \"PE\", \"PE\", \"PE\", \"PE\", \"PE\", \"PE\", \"PE\", \"PE\", \"PE\", \"PE\", \"PE\", \"PE\", \"PE\", \"PE\", \"PE\", \"PE\", \"PE\", \"PE\", \"PE\", \"PE\", \"PE\", \"PE\", \"PE\", \"PE\", \"PE\", \"PE\", \"PE\", \"PE\", \"PE\", \"PE\", \"PE\", \"PE\", \"PE\", \"PE\", \"PE\", \"PE\", \"PE\", \"PE\", \"PE\", \"PE\", \"PE\", \"PE\", \"PE\", \"PE\", \"PE\", \"PE\", \"PE\", \"PE\", \"PE\", \"PE\", \"PE\", \"PE\", \"PE\", \"PE\", \"PE\", \"PE\", \"PE\", \"PE\", \"PE\", \"PE\", \"PE\", \"PE\", \"PE\", \"PE\", \"PE\", \"PE\", \"PE\", \"PE\", \"PE\", \"PE\", \"PE\", \"PE\", \"PE\", \"PE\", \"PE\", \"PE\", \"PE\", \"PE\", \"PE\", \"PE\", \"PE\", \"PE\", \"PE\", \"PE\", \"PE\", \"PE\", \"PE\", \"AL\", \"AL\", \"AL\", \"AL\", \"AL\", \"AL\", \"AL\", \"AL\", \"AL\", \"AL\", \"AL\", \"AL\", \"AL\", \"AL\", \"AL\", \"AL\", \"AL\", \"AL\", \"AL\", \"AL\", \"AL\", \"AL\", \"AL\", \"AL\", \"AL\", \"AL\", \"AL\", \"AL\", \"AL\", \"AL\", \"AL\", \"AL\", \"AL\", \"AL\", \"AL\", \"AL\", \"AL\", \"AL\", \"AL\", \"AL\", \"AL\", \"AL\", \"AL\", \"AL\", \"AL\", \"AL\", \"AL\", \"AL\", \"AL\", \"AL\", \"AL\", \"AL\", \"AL\", \"AL\", \"AL\", \"AL\", \"AL\", \"AL\", \"AL\", \"AL\", \"AL\", \"AL\", \"AL\", \"AL\", \"AL\", \"AL\", \"AL\", \"AL\", \"AL\", \"AL\", \"AL\", \"AL\", \"AL\", \"AL\", \"AL\", \"AL\", \"AL\", \"AL\", \"AL\", \"AL\", \"AL\", \"AL\", \"AL\", \"AL\", \"AL\", \"AL\", \"AL\", \"AL\", \"AL\", \"AL\", \"AL\", \"AL\", \"AL\", \"AL\", \"AL\", \"AL\", \"AL\", \"AL\", \"AL\", \"SE\", \"SE\", \"SE\", \"SE\", \"SE\", \"SE\", \"SE\", \"SE\", \"SE\", \"SE\", \"SE\", \"SE\", \"SE\", \"SE\", \"SE\", \"SE\", \"SE\", \"SE\", \"SE\", \"SE\", \"SE\", \"SE\", \"SE\", \"SE\", \"SE\", \"SE\", \"SE\", \"SE\", \"SE\", \"SE\", \"SE\", \"SE\", \"SE\", \"SE\", \"SE\", \"SE\", \"SE\", \"SE\", \"SE\", \"SE\", \"SE\", \"SE\", \"SE\", \"SE\", \"SE\", \"SE\", \"SE\", \"SE\", \"SE\", \"SE\", \"SE\", \"SE\", \"SE\", \"SE\", \"SE\", \"SE\", \"SE\", \"SE\", \"SE\", \"SE\", \"SE\", \"SE\", \"SE\", \"SE\", \"SE\", \"SE\", \"SE\", \"SE\", \"SE\", \"SE\", \"SE\", \"SE\", \"SE\", \"SE\", \"SE\", \"SE\", \"SE\", \"SE\", \"SE\", \"SE\", \"SE\", \"SE\", \"SE\", \"SE\", \"SE\", \"SE\", \"SE\", \"SE\", \"SE\", \"SE\", \"SE\", \"SE\", \"SE\", \"SE\", \"SE\", \"SE\", \"SE\", \"SE\", \"SE\", \"BA\", \"BA\", \"BA\", \"BA\", \"BA\", \"BA\", \"BA\", \"BA\", \"BA\", \"BA\", \"BA\", \"BA\", \"BA\", \"BA\", \"BA\", \"BA\", \"BA\", \"BA\", \"BA\", \"BA\", \"BA\", \"BA\", \"BA\", \"BA\", \"BA\", \"BA\", \"BA\", \"BA\", \"BA\", \"BA\", \"BA\", \"BA\", \"BA\", \"BA\", \"BA\", \"BA\", \"BA\", \"BA\", \"BA\", \"BA\", \"BA\", \"BA\", \"BA\", \"BA\", \"BA\", \"BA\", \"BA\", \"BA\", \"BA\", \"BA\", \"BA\", \"BA\", \"BA\", \"BA\", \"BA\", \"BA\", \"BA\", \"BA\", \"BA\", \"BA\", \"BA\", \"BA\", \"BA\", \"BA\", \"BA\", \"BA\", \"BA\", \"BA\", \"BA\", \"BA\", \"BA\", \"BA\", \"BA\", \"BA\", \"BA\", \"BA\", \"BA\", \"BA\", \"BA\", \"BA\", \"BA\", \"BA\", \"BA\", \"BA\", \"BA\", \"BA\", \"BA\", \"BA\", \"BA\", \"BA\", \"BA\", \"BA\", \"BA\", \"BA\", \"BA\", \"BA\", \"BA\", \"BA\", \"BA\", \"MG\", \"MG\", \"MG\", \"MG\", \"MG\", \"MG\", \"MG\", \"MG\", \"MG\", \"MG\", \"MG\", \"MG\", \"MG\", \"MG\", \"MG\", \"MG\", \"MG\", \"MG\", \"MG\", \"MG\", \"MG\", \"MG\", \"MG\", \"MG\", \"MG\", \"MG\", \"MG\", \"MG\", \"MG\", \"MG\", \"MG\", \"MG\", \"MG\", \"MG\", \"MG\", \"MG\", \"MG\", \"MG\", \"MG\", \"MG\", \"MG\", \"MG\", \"MG\", \"MG\", \"MG\", \"MG\", \"MG\", \"MG\", \"MG\", \"MG\", \"MG\", \"MG\", \"MG\", \"MG\", \"MG\", \"MG\", \"MG\", \"MG\", \"MG\", \"MG\", \"MG\", \"MG\", \"MG\", \"MG\", \"MG\", \"MG\", \"MG\", \"MG\", \"MG\", \"MG\", \"MG\", \"MG\", \"MG\", \"MG\", \"MG\", \"MG\", \"MG\", \"MG\", \"MG\", \"MG\", \"MG\", \"MG\", \"MG\", \"MG\", \"MG\", \"MG\", \"MG\", \"MG\", \"MG\", \"MG\", \"MG\", \"MG\", \"MG\", \"MG\", \"MG\", \"MG\", \"MG\", \"MG\", \"MG\", \"ES\", \"ES\", \"ES\", \"ES\", \"ES\", \"ES\", \"ES\", \"ES\", \"ES\", \"ES\", \"ES\", \"ES\", \"ES\", \"ES\", \"ES\", \"ES\", \"ES\", \"ES\", \"ES\", \"ES\", \"ES\", \"ES\", \"ES\", \"ES\", \"ES\", \"ES\", \"ES\", \"ES\", \"ES\", \"ES\", \"ES\", \"ES\", \"ES\", \"ES\", \"ES\", \"ES\", \"ES\", \"ES\", \"ES\", \"ES\", \"ES\", \"ES\", \"ES\", \"ES\", \"ES\", \"ES\", \"ES\", \"ES\", \"ES\", \"ES\", \"ES\", \"ES\", \"ES\", \"ES\", \"ES\", \"ES\", \"ES\", \"ES\", \"ES\", \"ES\", \"ES\", \"ES\", \"ES\", \"ES\", \"ES\", \"ES\", \"ES\", \"ES\", \"ES\", \"ES\", \"ES\", \"ES\", \"ES\", \"ES\", \"ES\", \"ES\", \"ES\", \"ES\", \"ES\", \"ES\", \"ES\", \"ES\", \"ES\", \"ES\", \"ES\", \"ES\", \"ES\", \"ES\", \"ES\", \"ES\", \"ES\", \"ES\", \"ES\", \"ES\", \"ES\", \"ES\", \"ES\", \"ES\", \"ES\", \"RJ\", \"RJ\", \"RJ\", \"RJ\", \"RJ\", \"RJ\", \"RJ\", \"RJ\", \"RJ\", \"RJ\", \"RJ\", \"RJ\", \"RJ\", \"RJ\", \"RJ\", \"RJ\", \"RJ\", \"RJ\", \"RJ\", \"RJ\", \"RJ\", \"RJ\", \"RJ\", \"RJ\", \"RJ\", \"RJ\", \"RJ\", \"RJ\", \"RJ\", \"RJ\", \"RJ\", \"RJ\", \"RJ\", \"RJ\", \"RJ\", \"RJ\", \"RJ\", \"RJ\", \"RJ\", \"RJ\", \"RJ\", \"RJ\", \"RJ\", \"RJ\", \"RJ\", \"RJ\", \"RJ\", \"RJ\", \"RJ\", \"RJ\", \"RJ\", \"RJ\", \"RJ\", \"RJ\", \"RJ\", \"RJ\", \"RJ\", \"RJ\", \"RJ\", \"RJ\", \"RJ\", \"RJ\", \"RJ\", \"RJ\", \"RJ\", \"RJ\", \"RJ\", \"RJ\", \"RJ\", \"RJ\", \"RJ\", \"RJ\", \"RJ\", \"RJ\", \"RJ\", \"RJ\", \"RJ\", \"RJ\", \"RJ\", \"RJ\", \"RJ\", \"RJ\", \"RJ\", \"RJ\", \"RJ\", \"RJ\", \"RJ\", \"RJ\", \"RJ\", \"RJ\", \"RJ\", \"RJ\", \"RJ\", \"RJ\", \"RJ\", \"RJ\", \"RJ\", \"RJ\", \"RJ\", \"SP\", \"SP\", \"SP\", \"SP\", \"SP\", \"SP\", \"SP\", \"SP\", \"SP\", \"SP\", \"SP\", \"SP\", \"SP\", \"SP\", \"SP\", \"SP\", \"SP\", \"SP\", \"SP\", \"SP\", \"SP\", \"SP\", \"SP\", \"SP\", \"SP\", \"SP\", \"SP\", \"SP\", \"SP\", \"SP\", \"SP\", \"SP\", \"SP\", \"SP\", \"SP\", \"SP\", \"SP\", \"SP\", \"SP\", \"SP\", \"SP\", \"SP\", \"SP\", \"SP\", \"SP\", \"SP\", \"SP\", \"SP\", \"SP\", \"SP\", \"SP\", \"SP\", \"SP\", \"SP\", \"SP\", \"SP\", \"SP\", \"SP\", \"SP\", \"SP\", \"SP\", \"SP\", \"SP\", \"SP\", \"SP\", \"SP\", \"SP\", \"SP\", \"SP\", \"SP\", \"SP\", \"SP\", \"SP\", \"SP\", \"SP\", \"SP\", \"SP\", \"SP\", \"SP\", \"SP\", \"SP\", \"SP\", \"SP\", \"SP\", \"SP\", \"SP\", \"SP\", \"SP\", \"SP\", \"SP\", \"SP\", \"SP\", \"SP\", \"SP\", \"SP\", \"SP\", \"SP\", \"SP\", \"SP\", \"PR\", \"PR\", \"PR\", \"PR\", \"PR\", \"PR\", \"PR\", \"PR\", \"PR\", \"PR\", \"PR\", \"PR\", \"PR\", \"PR\", \"PR\", \"PR\", \"PR\", \"PR\", \"PR\", \"PR\", \"PR\", \"PR\", \"PR\", \"PR\", \"PR\", \"PR\", \"PR\", \"PR\", \"PR\", \"PR\", \"PR\", \"PR\", \"PR\", \"PR\", \"PR\", \"PR\", \"PR\", \"PR\", \"PR\", \"PR\", \"PR\", \"PR\", \"PR\", \"PR\", \"PR\", \"PR\", \"PR\", \"PR\", \"PR\", \"PR\", \"PR\", \"PR\", \"PR\", \"PR\", \"PR\", \"PR\", \"PR\", \"PR\", \"PR\", \"PR\", \"PR\", \"PR\", \"PR\", \"PR\", \"PR\", \"PR\", \"PR\", \"PR\", \"PR\", \"PR\", \"PR\", \"PR\", \"PR\", \"PR\", \"PR\", \"PR\", \"PR\", \"PR\", \"PR\", \"PR\", \"PR\", \"PR\", \"PR\", \"PR\", \"PR\", \"PR\", \"PR\", \"PR\", \"PR\", \"PR\", \"PR\", \"PR\", \"PR\", \"PR\", \"PR\", \"PR\", \"PR\", \"PR\", \"PR\", \"SC\", \"SC\", \"SC\", \"SC\", \"SC\", \"SC\", \"SC\", \"SC\", \"SC\", \"SC\", \"SC\", \"SC\", \"SC\", \"SC\", \"SC\", \"SC\", \"SC\", \"SC\", \"SC\", \"SC\", \"SC\", \"SC\", \"SC\", \"SC\", \"SC\", \"SC\", \"SC\", \"SC\", \"SC\", \"SC\", \"SC\", \"SC\", \"SC\", \"SC\", \"SC\", \"SC\", \"SC\", \"SC\", \"SC\", \"SC\", \"SC\", \"SC\", \"SC\", \"SC\", \"SC\", \"SC\", \"SC\", \"SC\", \"SC\", \"SC\", \"SC\", \"SC\", \"SC\", \"SC\", \"SC\", \"SC\", \"SC\", \"SC\", \"SC\", \"SC\", \"SC\", \"SC\", \"SC\", \"SC\", \"SC\", \"SC\", \"SC\", \"SC\", \"SC\", \"SC\", \"SC\", \"SC\", \"SC\", \"SC\", \"SC\", \"SC\", \"SC\", \"SC\", \"SC\", \"SC\", \"SC\", \"SC\", \"SC\", \"SC\", \"SC\", \"SC\", \"SC\", \"SC\", \"SC\", \"SC\", \"SC\", \"SC\", \"SC\", \"SC\", \"SC\", \"SC\", \"SC\", \"SC\", \"SC\", \"RS\", \"RS\", \"RS\", \"RS\", \"RS\", \"RS\", \"RS\", \"RS\", \"RS\", \"RS\", \"RS\", \"RS\", \"RS\", \"RS\", \"RS\", \"RS\", \"RS\", \"RS\", \"RS\", \"RS\", \"RS\", \"RS\", \"RS\", \"RS\", \"RS\", \"RS\", \"RS\", \"RS\", \"RS\", \"RS\", \"RS\", \"RS\", \"RS\", \"RS\", \"RS\", \"RS\", \"RS\", \"RS\", \"RS\", \"RS\", \"RS\", \"RS\", \"RS\", \"RS\", \"RS\", \"RS\", \"RS\", \"RS\", \"RS\", \"RS\", \"RS\", \"RS\", \"RS\", \"RS\", \"RS\", \"RS\", \"RS\", \"RS\", \"RS\", \"RS\", \"RS\", \"RS\", \"RS\", \"RS\", \"RS\", \"RS\", \"RS\", \"RS\", \"RS\", \"RS\", \"RS\", \"RS\", \"RS\", \"RS\", \"RS\", \"RS\", \"RS\", \"RS\", \"RS\", \"RS\", \"RS\", \"RS\", \"RS\", \"RS\", \"RS\", \"RS\", \"RS\", \"RS\", \"RS\", \"RS\", \"RS\", \"RS\", \"RS\", \"RS\", \"RS\", \"RS\", \"RS\", \"RS\", \"RS\", \"MS\", \"MS\", \"MS\", \"MS\", \"MS\", \"MS\", \"MS\", \"MS\", \"MS\", \"MS\", \"MS\", \"MS\", \"MS\", \"MS\", \"MS\", \"MS\", \"MS\", \"MS\", \"MS\", \"MS\", \"MS\", \"MS\", \"MS\", \"MS\", \"MS\", \"MS\", \"MS\", \"MS\", \"MS\", \"MS\", \"MS\", \"MS\", \"MS\", \"MS\", \"MS\", \"MS\", \"MS\", \"MS\", \"MS\", \"MS\", \"MS\", \"MS\", \"MS\", \"MS\", \"MS\", \"MS\", \"MS\", \"MS\", \"MS\", \"MS\", \"MS\", \"MS\", \"MS\", \"MS\", \"MS\", \"MS\", \"MS\", \"MS\", \"MS\", \"MS\", \"MS\", \"MS\", \"MS\", \"MS\", \"MS\", \"MS\", \"MS\", \"MS\", \"MS\", \"MS\", \"MS\", \"MS\", \"MS\", \"MS\", \"MS\", \"MS\", \"MS\", \"MS\", \"MS\", \"MS\", \"MS\", \"MS\", \"MS\", \"MS\", \"MS\", \"MS\", \"MS\", \"MS\", \"MS\", \"MS\", \"MS\", \"MS\", \"MS\", \"MS\", \"MS\", \"MS\", \"MS\", \"MS\", \"MS\", \"MT\", \"MT\", \"MT\", \"MT\", \"MT\", \"MT\", \"MT\", \"MT\", \"MT\", \"MT\", \"MT\", \"MT\", \"MT\", \"MT\", \"MT\", \"MT\", \"MT\", \"MT\", \"MT\", \"MT\", \"MT\", \"MT\", \"MT\", \"MT\", \"MT\", \"MT\", \"MT\", \"MT\", \"MT\", \"MT\", \"MT\", \"MT\", \"MT\", \"MT\", \"MT\", \"MT\", \"MT\", \"MT\", \"MT\", \"MT\", \"MT\", \"MT\", \"MT\", \"MT\", \"MT\", \"MT\", \"MT\", \"MT\", \"MT\", \"MT\", \"MT\", \"MT\", \"MT\", \"MT\", \"MT\", \"MT\", \"MT\", \"MT\", \"MT\", \"MT\", \"MT\", \"MT\", \"MT\", \"MT\", \"MT\", \"MT\", \"MT\", \"MT\", \"MT\", \"MT\", \"MT\", \"MT\", \"MT\", \"MT\", \"MT\", \"MT\", \"MT\", \"MT\", \"MT\", \"MT\", \"MT\", \"MT\", \"MT\", \"MT\", \"MT\", \"MT\", \"MT\", \"MT\", \"MT\", \"MT\", \"MT\", \"MT\", \"MT\", \"MT\", \"MT\", \"MT\", \"MT\", \"MT\", \"MT\", \"GO\", \"GO\", \"GO\", \"GO\", \"GO\", \"GO\", \"GO\", \"GO\", \"GO\", \"GO\", \"GO\", \"GO\", \"GO\", \"GO\", \"GO\", \"GO\", \"GO\", \"GO\", \"GO\", \"GO\", \"GO\", \"GO\", \"GO\", \"GO\", \"GO\", \"GO\", \"GO\", \"GO\", \"GO\", \"GO\", \"GO\", \"GO\", \"GO\", \"GO\", \"GO\", \"GO\", \"GO\", \"GO\", \"GO\", \"GO\", \"GO\", \"GO\", \"GO\", \"GO\", \"GO\", \"GO\", \"GO\", \"GO\", \"GO\", \"GO\", \"GO\", \"GO\", \"GO\", \"GO\", \"GO\", \"GO\", \"GO\", \"GO\", \"GO\", \"GO\", \"GO\", \"GO\", \"GO\", \"GO\", \"GO\", \"GO\", \"GO\", \"GO\", \"GO\", \"GO\", \"GO\", \"GO\", \"GO\", \"GO\", \"GO\", \"GO\", \"GO\", \"GO\", \"GO\", \"GO\", \"GO\", \"GO\", \"GO\", \"GO\", \"GO\", \"GO\", \"GO\", \"GO\", \"GO\", \"GO\", \"GO\", \"GO\", \"GO\", \"GO\", \"GO\", \"GO\", \"GO\", \"GO\", \"GO\", \"DF\", \"DF\", \"DF\", \"DF\", \"DF\", \"DF\", \"DF\", \"DF\", \"DF\", \"DF\", \"DF\", \"DF\", \"DF\", \"DF\", \"DF\", \"DF\", \"DF\", \"DF\", \"DF\", \"DF\", \"DF\", \"DF\", \"DF\", \"DF\", \"DF\", \"DF\", \"DF\", \"DF\", \"DF\", \"DF\", \"DF\", \"DF\", \"DF\", \"DF\", \"DF\", \"DF\", \"DF\", \"DF\", \"DF\", \"DF\", \"DF\", \"DF\", \"DF\", \"DF\", \"DF\", \"DF\", \"DF\", \"DF\", \"DF\", \"DF\", \"DF\", \"DF\", \"DF\", \"DF\", \"DF\", \"DF\", \"DF\", \"DF\", \"DF\", \"DF\", \"DF\", \"DF\", \"DF\", \"DF\", \"DF\", \"DF\", \"DF\", \"DF\", \"DF\", \"DF\", \"DF\", \"DF\", \"DF\", \"DF\", \"DF\", \"DF\", \"DF\", \"DF\", \"DF\", \"DF\", \"DF\", \"DF\", \"DF\", \"DF\", \"DF\", \"DF\", \"DF\", \"DF\", \"DF\", \"DF\", \"DF\", \"DF\", \"DF\", \"DF\", \"DF\", \"DF\", \"DF\", \"DF\", \"DF\"], \"yaxis\": \"y\"}],\n",
              "                        {\"barmode\": \"relative\", \"font\": {\"size\": 10}, \"legend\": {\"tracegroupgap\": 0}, \"template\": {\"data\": {\"bar\": [{\"error_x\": {\"color\": \"#2a3f5f\"}, \"error_y\": {\"color\": \"#2a3f5f\"}, \"marker\": {\"line\": {\"color\": \"white\", \"width\": 0.5}}, \"type\": \"bar\"}], \"barpolar\": [{\"marker\": {\"line\": {\"color\": \"white\", \"width\": 0.5}}, \"type\": \"barpolar\"}], \"carpet\": [{\"aaxis\": {\"endlinecolor\": \"#2a3f5f\", \"gridcolor\": \"#C8D4E3\", \"linecolor\": \"#C8D4E3\", \"minorgridcolor\": \"#C8D4E3\", \"startlinecolor\": \"#2a3f5f\"}, \"baxis\": {\"endlinecolor\": \"#2a3f5f\", \"gridcolor\": \"#C8D4E3\", \"linecolor\": \"#C8D4E3\", \"minorgridcolor\": \"#C8D4E3\", \"startlinecolor\": \"#2a3f5f\"}, \"type\": \"carpet\"}], \"choropleth\": [{\"colorbar\": {\"outlinewidth\": 0, \"ticks\": \"\"}, \"type\": \"choropleth\"}], \"contour\": [{\"colorbar\": {\"outlinewidth\": 0, \"ticks\": \"\"}, \"colorscale\": [[0.0, \"#0d0887\"], [0.1111111111111111, \"#46039f\"], [0.2222222222222222, \"#7201a8\"], [0.3333333333333333, \"#9c179e\"], [0.4444444444444444, \"#bd3786\"], [0.5555555555555556, \"#d8576b\"], [0.6666666666666666, \"#ed7953\"], [0.7777777777777778, \"#fb9f3a\"], [0.8888888888888888, \"#fdca26\"], [1.0, \"#f0f921\"]], \"type\": \"contour\"}], \"contourcarpet\": [{\"colorbar\": {\"outlinewidth\": 0, \"ticks\": \"\"}, \"type\": \"contourcarpet\"}], \"heatmap\": [{\"colorbar\": {\"outlinewidth\": 0, \"ticks\": \"\"}, \"colorscale\": [[0.0, \"#0d0887\"], [0.1111111111111111, \"#46039f\"], [0.2222222222222222, \"#7201a8\"], [0.3333333333333333, \"#9c179e\"], [0.4444444444444444, \"#bd3786\"], [0.5555555555555556, \"#d8576b\"], [0.6666666666666666, \"#ed7953\"], [0.7777777777777778, \"#fb9f3a\"], [0.8888888888888888, \"#fdca26\"], [1.0, \"#f0f921\"]], \"type\": \"heatmap\"}], \"heatmapgl\": [{\"colorbar\": {\"outlinewidth\": 0, \"ticks\": \"\"}, \"colorscale\": [[0.0, \"#0d0887\"], [0.1111111111111111, \"#46039f\"], [0.2222222222222222, \"#7201a8\"], [0.3333333333333333, \"#9c179e\"], [0.4444444444444444, \"#bd3786\"], [0.5555555555555556, \"#d8576b\"], [0.6666666666666666, \"#ed7953\"], [0.7777777777777778, \"#fb9f3a\"], [0.8888888888888888, \"#fdca26\"], [1.0, \"#f0f921\"]], \"type\": \"heatmapgl\"}], \"histogram\": [{\"marker\": {\"colorbar\": {\"outlinewidth\": 0, \"ticks\": \"\"}}, \"type\": \"histogram\"}], \"histogram2d\": [{\"colorbar\": {\"outlinewidth\": 0, \"ticks\": \"\"}, \"colorscale\": [[0.0, \"#0d0887\"], [0.1111111111111111, \"#46039f\"], [0.2222222222222222, \"#7201a8\"], [0.3333333333333333, \"#9c179e\"], [0.4444444444444444, \"#bd3786\"], [0.5555555555555556, \"#d8576b\"], [0.6666666666666666, \"#ed7953\"], [0.7777777777777778, \"#fb9f3a\"], [0.8888888888888888, \"#fdca26\"], [1.0, \"#f0f921\"]], \"type\": \"histogram2d\"}], \"histogram2dcontour\": [{\"colorbar\": {\"outlinewidth\": 0, \"ticks\": \"\"}, \"colorscale\": [[0.0, \"#0d0887\"], [0.1111111111111111, \"#46039f\"], [0.2222222222222222, \"#7201a8\"], [0.3333333333333333, \"#9c179e\"], [0.4444444444444444, \"#bd3786\"], [0.5555555555555556, \"#d8576b\"], [0.6666666666666666, \"#ed7953\"], [0.7777777777777778, \"#fb9f3a\"], [0.8888888888888888, \"#fdca26\"], [1.0, \"#f0f921\"]], \"type\": \"histogram2dcontour\"}], \"mesh3d\": [{\"colorbar\": {\"outlinewidth\": 0, \"ticks\": \"\"}, \"type\": \"mesh3d\"}], \"parcoords\": [{\"line\": {\"colorbar\": {\"outlinewidth\": 0, \"ticks\": \"\"}}, \"type\": \"parcoords\"}], \"pie\": [{\"automargin\": true, \"type\": \"pie\"}], \"scatter\": [{\"marker\": {\"colorbar\": {\"outlinewidth\": 0, \"ticks\": \"\"}}, \"type\": \"scatter\"}], \"scatter3d\": [{\"line\": {\"colorbar\": {\"outlinewidth\": 0, \"ticks\": \"\"}}, \"marker\": {\"colorbar\": {\"outlinewidth\": 0, \"ticks\": \"\"}}, \"type\": \"scatter3d\"}], \"scattercarpet\": [{\"marker\": {\"colorbar\": {\"outlinewidth\": 0, \"ticks\": \"\"}}, \"type\": \"scattercarpet\"}], \"scattergeo\": [{\"marker\": {\"colorbar\": {\"outlinewidth\": 0, \"ticks\": \"\"}}, \"type\": \"scattergeo\"}], \"scattergl\": [{\"marker\": {\"colorbar\": {\"outlinewidth\": 0, \"ticks\": \"\"}}, \"type\": \"scattergl\"}], \"scattermapbox\": [{\"marker\": {\"colorbar\": {\"outlinewidth\": 0, \"ticks\": \"\"}}, \"type\": \"scattermapbox\"}], \"scatterpolar\": [{\"marker\": {\"colorbar\": {\"outlinewidth\": 0, \"ticks\": \"\"}}, \"type\": \"scatterpolar\"}], \"scatterpolargl\": [{\"marker\": {\"colorbar\": {\"outlinewidth\": 0, \"ticks\": \"\"}}, \"type\": \"scatterpolargl\"}], \"scatterternary\": [{\"marker\": {\"colorbar\": {\"outlinewidth\": 0, \"ticks\": \"\"}}, \"type\": \"scatterternary\"}], \"surface\": [{\"colorbar\": {\"outlinewidth\": 0, \"ticks\": \"\"}, \"colorscale\": [[0.0, \"#0d0887\"], [0.1111111111111111, \"#46039f\"], [0.2222222222222222, \"#7201a8\"], [0.3333333333333333, \"#9c179e\"], [0.4444444444444444, \"#bd3786\"], [0.5555555555555556, \"#d8576b\"], [0.6666666666666666, \"#ed7953\"], [0.7777777777777778, \"#fb9f3a\"], [0.8888888888888888, \"#fdca26\"], [1.0, \"#f0f921\"]], \"type\": \"surface\"}], \"table\": [{\"cells\": {\"fill\": {\"color\": \"#EBF0F8\"}, \"line\": {\"color\": \"white\"}}, \"header\": {\"fill\": {\"color\": \"#C8D4E3\"}, \"line\": {\"color\": \"white\"}}, \"type\": \"table\"}]}, \"layout\": {\"annotationdefaults\": {\"arrowcolor\": \"#2a3f5f\", \"arrowhead\": 0, \"arrowwidth\": 1}, \"coloraxis\": {\"colorbar\": {\"outlinewidth\": 0, \"ticks\": \"\"}}, \"colorscale\": {\"diverging\": [[0, \"#8e0152\"], [0.1, \"#c51b7d\"], [0.2, \"#de77ae\"], [0.3, \"#f1b6da\"], [0.4, \"#fde0ef\"], [0.5, \"#f7f7f7\"], [0.6, \"#e6f5d0\"], [0.7, \"#b8e186\"], [0.8, \"#7fbc41\"], [0.9, \"#4d9221\"], [1, \"#276419\"]], \"sequential\": [[0.0, \"#0d0887\"], [0.1111111111111111, \"#46039f\"], [0.2222222222222222, \"#7201a8\"], [0.3333333333333333, \"#9c179e\"], [0.4444444444444444, \"#bd3786\"], [0.5555555555555556, \"#d8576b\"], [0.6666666666666666, \"#ed7953\"], [0.7777777777777778, \"#fb9f3a\"], [0.8888888888888888, \"#fdca26\"], [1.0, \"#f0f921\"]], \"sequentialminus\": [[0.0, \"#0d0887\"], [0.1111111111111111, \"#46039f\"], [0.2222222222222222, \"#7201a8\"], [0.3333333333333333, \"#9c179e\"], [0.4444444444444444, \"#bd3786\"], [0.5555555555555556, \"#d8576b\"], [0.6666666666666666, \"#ed7953\"], [0.7777777777777778, \"#fb9f3a\"], [0.8888888888888888, \"#fdca26\"], [1.0, \"#f0f921\"]]}, \"colorway\": [\"#636efa\", \"#EF553B\", \"#00cc96\", \"#ab63fa\", \"#FFA15A\", \"#19d3f3\", \"#FF6692\", \"#B6E880\", \"#FF97FF\", \"#FECB52\"], \"font\": {\"color\": \"#2a3f5f\"}, \"geo\": {\"bgcolor\": \"white\", \"lakecolor\": \"white\", \"landcolor\": \"white\", \"showlakes\": true, \"showland\": true, \"subunitcolor\": \"#C8D4E3\"}, \"hoverlabel\": {\"align\": \"left\"}, \"hovermode\": \"closest\", \"mapbox\": {\"style\": \"light\"}, \"paper_bgcolor\": \"white\", \"plot_bgcolor\": \"white\", \"polar\": {\"angularaxis\": {\"gridcolor\": \"#EBF0F8\", \"linecolor\": \"#EBF0F8\", \"ticks\": \"\"}, \"bgcolor\": \"white\", \"radialaxis\": {\"gridcolor\": \"#EBF0F8\", \"linecolor\": \"#EBF0F8\", \"ticks\": \"\"}}, \"scene\": {\"xaxis\": {\"backgroundcolor\": \"white\", \"gridcolor\": \"#DFE8F3\", \"gridwidth\": 2, \"linecolor\": \"#EBF0F8\", \"showbackground\": true, \"ticks\": \"\", \"zerolinecolor\": \"#EBF0F8\"}, \"yaxis\": {\"backgroundcolor\": \"white\", \"gridcolor\": \"#DFE8F3\", \"gridwidth\": 2, \"linecolor\": \"#EBF0F8\", \"showbackground\": true, \"ticks\": \"\", \"zerolinecolor\": \"#EBF0F8\"}, \"zaxis\": {\"backgroundcolor\": \"white\", \"gridcolor\": \"#DFE8F3\", \"gridwidth\": 2, \"linecolor\": \"#EBF0F8\", \"showbackground\": true, \"ticks\": \"\", \"zerolinecolor\": \"#EBF0F8\"}}, \"shapedefaults\": {\"line\": {\"color\": \"#2a3f5f\"}}, \"ternary\": {\"aaxis\": {\"gridcolor\": \"#DFE8F3\", \"linecolor\": \"#A2B1C6\", \"ticks\": \"\"}, \"baxis\": {\"gridcolor\": \"#DFE8F3\", \"linecolor\": \"#A2B1C6\", \"ticks\": \"\"}, \"bgcolor\": \"white\", \"caxis\": {\"gridcolor\": \"#DFE8F3\", \"linecolor\": \"#A2B1C6\", \"ticks\": \"\"}}, \"title\": {\"x\": 0.05}, \"xaxis\": {\"automargin\": true, \"gridcolor\": \"#EBF0F8\", \"linecolor\": \"#EBF0F8\", \"ticks\": \"\", \"title\": {\"standoff\": 15}, \"zerolinecolor\": \"#EBF0F8\", \"zerolinewidth\": 2}, \"yaxis\": {\"automargin\": true, \"gridcolor\": \"#EBF0F8\", \"linecolor\": \"#EBF0F8\", \"ticks\": \"\", \"title\": {\"standoff\": 15}, \"zerolinecolor\": \"#EBF0F8\", \"zerolinewidth\": 2}}}, \"title\": {\"text\": \"Quantidade de casos de COVID-19 por regi\\u00e3o do Brasil\"}, \"xaxis\": {\"anchor\": \"y\", \"domain\": [0.0, 1.0], \"title\": {\"text\": \"Estado\"}}, \"yaxis\": {\"anchor\": \"x\", \"categoryorder\": \"total ascending\", \"domain\": [0.0, 1.0], \"title\": {\"text\": \"\"}}},\n",
              "                        {\"responsive\": true}\n",
              "                    ).then(function(){\n",
              "                            \n",
              "var gd = document.getElementById('a4be4e2c-eeea-4789-926a-81443e7add63');\n",
              "var x = new MutationObserver(function (mutations, observer) {{\n",
              "        var display = window.getComputedStyle(gd).display;\n",
              "        if (!display || display === 'none') {{\n",
              "            console.log([gd, 'removed!']);\n",
              "            Plotly.purge(gd);\n",
              "            observer.disconnect();\n",
              "        }}\n",
              "}});\n",
              "\n",
              "// Listen for the removal of the full notebook cells\n",
              "var notebookContainer = gd.closest('#notebook-container');\n",
              "if (notebookContainer) {{\n",
              "    x.observe(notebookContainer, {childList: true});\n",
              "}}\n",
              "\n",
              "// Listen for the clearing of the current output cell\n",
              "var outputEl = gd.closest('.output');\n",
              "if (outputEl) {{\n",
              "    x.observe(outputEl, {childList: true});\n",
              "}}\n",
              "\n",
              "                        })\n",
              "                };\n",
              "                \n",
              "            </script>\n",
              "        </div>\n",
              "</body>\n",
              "</html>"
            ]
          },
          "metadata": {}
        }
      ]
    },
    {
      "cell_type": "markdown",
      "metadata": {
        "id": "TCbjhoCEdQYk"
      },
      "source": [
        "Podemos perceber que a maior ocorrência de óbitos se concentra no estado de São Paulo"
      ]
    },
    {
      "cell_type": "code",
      "metadata": {
        "id": "MT_V1CnEdQYl",
        "colab": {
          "base_uri": "https://localhost:8080/",
          "height": 542
        },
        "outputId": "392e86c3-d4fc-4050-8cda-af6f5748ef05"
      },
      "source": [
        "import plotly.express as px\n",
        "\n",
        "fig = px.line(df, x=\"data\", y=\"casosNovos\",\n",
        "              facet_col= \"estado\", \n",
        "              hover_name=\"estado\",\n",
        "              log_y=True,\n",
        "              color_discrete_sequence=['indianred'],\n",
        "                  template = 'plotly_white'  )\n",
        "fig.update_xaxes(matches='x',showticklabels=False,title_text=\"\")\n",
        "fig.update_yaxes(matches='y')\n",
        "fig.for_each_annotation(lambda a: a.update(text=a.text.replace(\"estado=\", \"\")))\n",
        "fig.update_layout( xaxis_title=\"\",\n",
        "                  yaxis_title=\"\")\n",
        " \n",
        "fig.show()"
      ],
      "execution_count": null,
      "outputs": [
        {
          "output_type": "display_data",
          "data": {
            "text/html": [
              "<html>\n",
              "<head><meta charset=\"utf-8\" /></head>\n",
              "<body>\n",
              "    <div>\n",
              "            <script src=\"https://cdnjs.cloudflare.com/ajax/libs/mathjax/2.7.5/MathJax.js?config=TeX-AMS-MML_SVG\"></script><script type=\"text/javascript\">if (window.MathJax) {MathJax.Hub.Config({SVG: {font: \"STIX-Web\"}});}</script>\n",
              "                <script type=\"text/javascript\">window.PlotlyConfig = {MathJaxConfig: 'local'};</script>\n",
              "        <script src=\"https://cdn.plot.ly/plotly-latest.min.js\"></script>    \n",
              "            <div id=\"55e9a1c3-951d-4819-9f51-d26821d5bc3d\" class=\"plotly-graph-div\" style=\"height:525px; width:100%;\"></div>\n",
              "            <script type=\"text/javascript\">\n",
              "                \n",
              "                    window.PLOTLYENV=window.PLOTLYENV || {};\n",
              "                    \n",
              "                if (document.getElementById(\"55e9a1c3-951d-4819-9f51-d26821d5bc3d\")) {\n",
              "                    Plotly.newPlot(\n",
              "                        '55e9a1c3-951d-4819-9f51-d26821d5bc3d',\n",
              "                        [{\"hoverlabel\": {\"namelength\": 0}, \"hovertemplate\": \"<b>%{hovertext}</b><br><br>estado=RO<br>data=%{x}<br>casosNovos=%{y}\", \"hovertext\": [\"RO\", \"RO\", \"RO\", \"RO\", \"RO\", \"RO\", \"RO\", \"RO\", \"RO\", \"RO\", \"RO\", \"RO\", \"RO\", \"RO\", \"RO\", \"RO\", \"RO\", \"RO\", \"RO\", \"RO\", \"RO\", \"RO\", \"RO\", \"RO\", \"RO\", \"RO\", \"RO\", \"RO\", \"RO\", \"RO\", \"RO\", \"RO\", \"RO\", \"RO\", \"RO\", \"RO\", \"RO\", \"RO\", \"RO\", \"RO\", \"RO\", \"RO\", \"RO\", \"RO\", \"RO\", \"RO\", \"RO\", \"RO\", \"RO\", \"RO\", \"RO\", \"RO\", \"RO\", \"RO\", \"RO\", \"RO\", \"RO\", \"RO\", \"RO\", \"RO\", \"RO\", \"RO\", \"RO\", \"RO\", \"RO\", \"RO\", \"RO\", \"RO\", \"RO\", \"RO\", \"RO\", \"RO\", \"RO\", \"RO\", \"RO\", \"RO\", \"RO\", \"RO\", \"RO\", \"RO\", \"RO\", \"RO\", \"RO\", \"RO\", \"RO\", \"RO\", \"RO\", \"RO\", \"RO\", \"RO\", \"RO\", \"RO\", \"RO\", \"RO\", \"RO\", \"RO\", \"RO\", \"RO\", \"RO\"], \"legendgroup\": \"\", \"line\": {\"color\": \"indianred\", \"dash\": \"solid\"}, \"mode\": \"lines\", \"name\": \"\", \"showlegend\": false, \"type\": \"scattergl\", \"x\": [\"2020-01-30T00:00:00\", \"2020-01-31T00:00:00\", \"2020-02-01T00:00:00\", \"2020-02-02T00:00:00\", \"2020-02-03T00:00:00\", \"2020-02-04T00:00:00\", \"2020-02-05T00:00:00\", \"2020-02-06T00:00:00\", \"2020-02-07T00:00:00\", \"2020-02-08T00:00:00\", \"2020-02-09T00:00:00\", \"2020-02-10T00:00:00\", \"2020-02-11T00:00:00\", \"2020-02-12T00:00:00\", \"2020-02-13T00:00:00\", \"2020-02-14T00:00:00\", \"2020-02-15T00:00:00\", \"2020-02-16T00:00:00\", \"2020-02-17T00:00:00\", \"2020-02-18T00:00:00\", \"2020-02-19T00:00:00\", \"2020-02-20T00:00:00\", \"2020-02-21T00:00:00\", \"2020-02-22T00:00:00\", \"2020-02-23T00:00:00\", \"2020-02-24T00:00:00\", \"2020-02-25T00:00:00\", \"2020-02-26T00:00:00\", \"2020-02-27T00:00:00\", \"2020-02-28T00:00:00\", \"2020-02-29T00:00:00\", \"2020-03-01T00:00:00\", \"2020-03-02T00:00:00\", \"2020-03-03T00:00:00\", \"2020-03-04T00:00:00\", \"2020-03-05T00:00:00\", \"2020-03-06T00:00:00\", \"2020-03-07T00:00:00\", \"2020-03-08T00:00:00\", \"2020-03-09T00:00:00\", \"2020-03-10T00:00:00\", \"2020-03-11T00:00:00\", \"2020-03-12T00:00:00\", \"2020-03-13T00:00:00\", \"2020-03-14T00:00:00\", \"2020-03-15T00:00:00\", \"2020-03-16T00:00:00\", \"2020-03-17T00:00:00\", \"2020-03-18T00:00:00\", \"2020-03-19T00:00:00\", \"2020-03-20T00:00:00\", \"2020-03-21T00:00:00\", \"2020-03-22T00:00:00\", \"2020-03-23T00:00:00\", \"2020-03-24T00:00:00\", \"2020-03-25T00:00:00\", \"2020-03-26T00:00:00\", \"2020-03-27T00:00:00\", \"2020-03-28T00:00:00\", \"2020-03-29T00:00:00\", \"2020-03-30T00:00:00\", \"2020-03-31T00:00:00\", \"2020-04-01T00:00:00\", \"2020-04-02T00:00:00\", \"2020-04-03T00:00:00\", \"2020-04-04T00:00:00\", \"2020-04-05T00:00:00\", \"2020-04-06T00:00:00\", \"2020-04-07T00:00:00\", \"2020-04-08T00:00:00\", \"2020-04-09T00:00:00\", \"2020-04-10T00:00:00\", \"2020-04-11T00:00:00\", \"2020-04-12T00:00:00\", \"2020-04-13T00:00:00\", \"2020-04-14T00:00:00\", \"2020-04-15T00:00:00\", \"2020-04-16T00:00:00\", \"2020-04-17T00:00:00\", \"2020-04-18T00:00:00\", \"2020-04-19T00:00:00\", \"2020-04-20T00:00:00\", \"2020-04-21T00:00:00\", \"2020-04-22T00:00:00\", \"2020-04-23T00:00:00\", \"2020-04-24T00:00:00\", \"2020-04-25T00:00:00\", \"2020-04-26T00:00:00\", \"2020-04-27T00:00:00\", \"2020-04-28T00:00:00\", \"2020-04-29T00:00:00\", \"2020-04-30T00:00:00\", \"2020-05-01T00:00:00\", \"2020-05-02T00:00:00\", \"2020-05-03T00:00:00\", \"2020-05-04T00:00:00\", \"2020-05-05T00:00:00\", \"2020-05-06T00:00:00\", \"2020-05-07T00:00:00\"], \"xaxis\": \"x\", \"y\": [0, 0, 0, 0, 0, 0, 0, 0, 0, 0, 0, 0, 0, 0, 0, 0, 0, 0, 0, 0, 0, 0, 0, 0, 0, 0, 0, 0, 0, 0, 0, 0, 0, 0, 0, 0, 0, 0, 0, 0, 0, 0, 0, 0, 0, 0, 0, 0, 0, 0, 1, 0, 2, 0, 0, 2, 0, 1, 0, 0, 0, 2, 1, 1, 0, 1, 1, 2, 4, 0, 10, 4, 1, 2, 7, 22, 5, 7, 16, 18, 18, 32, 39, 24, 27, 40, 38, 36, 29, 20, 20, 69, 83, 68, 52, 51, 105, 82, 155], \"yaxis\": \"y\"}, {\"hoverlabel\": {\"namelength\": 0}, \"hovertemplate\": \"<b>%{hovertext}</b><br><br>estado=AC<br>data=%{x}<br>casosNovos=%{y}\", \"hovertext\": [\"AC\", \"AC\", \"AC\", \"AC\", \"AC\", \"AC\", \"AC\", \"AC\", \"AC\", \"AC\", \"AC\", \"AC\", \"AC\", \"AC\", \"AC\", \"AC\", \"AC\", \"AC\", \"AC\", \"AC\", \"AC\", \"AC\", \"AC\", \"AC\", \"AC\", \"AC\", \"AC\", \"AC\", \"AC\", \"AC\", \"AC\", \"AC\", \"AC\", \"AC\", \"AC\", \"AC\", \"AC\", \"AC\", \"AC\", \"AC\", \"AC\", \"AC\", \"AC\", \"AC\", \"AC\", \"AC\", \"AC\", \"AC\", \"AC\", \"AC\", \"AC\", \"AC\", \"AC\", \"AC\", \"AC\", \"AC\", \"AC\", \"AC\", \"AC\", \"AC\", \"AC\", \"AC\", \"AC\", \"AC\", \"AC\", \"AC\", \"AC\", \"AC\", \"AC\", \"AC\", \"AC\", \"AC\", \"AC\", \"AC\", \"AC\", \"AC\", \"AC\", \"AC\", \"AC\", \"AC\", \"AC\", \"AC\", \"AC\", \"AC\", \"AC\", \"AC\", \"AC\", \"AC\", \"AC\", \"AC\", \"AC\", \"AC\", \"AC\", \"AC\", \"AC\", \"AC\", \"AC\", \"AC\", \"AC\"], \"legendgroup\": \"\", \"line\": {\"color\": \"indianred\", \"dash\": \"solid\"}, \"mode\": \"lines\", \"name\": \"\", \"showlegend\": false, \"type\": \"scattergl\", \"x\": [\"2020-01-30T00:00:00\", \"2020-01-31T00:00:00\", \"2020-02-01T00:00:00\", \"2020-02-02T00:00:00\", \"2020-02-03T00:00:00\", \"2020-02-04T00:00:00\", \"2020-02-05T00:00:00\", \"2020-02-06T00:00:00\", \"2020-02-07T00:00:00\", \"2020-02-08T00:00:00\", \"2020-02-09T00:00:00\", \"2020-02-10T00:00:00\", \"2020-02-11T00:00:00\", \"2020-02-12T00:00:00\", \"2020-02-13T00:00:00\", \"2020-02-14T00:00:00\", \"2020-02-15T00:00:00\", \"2020-02-16T00:00:00\", \"2020-02-17T00:00:00\", \"2020-02-18T00:00:00\", \"2020-02-19T00:00:00\", \"2020-02-20T00:00:00\", \"2020-02-21T00:00:00\", \"2020-02-22T00:00:00\", \"2020-02-23T00:00:00\", \"2020-02-24T00:00:00\", \"2020-02-25T00:00:00\", \"2020-02-26T00:00:00\", \"2020-02-27T00:00:00\", \"2020-02-28T00:00:00\", \"2020-02-29T00:00:00\", \"2020-03-01T00:00:00\", \"2020-03-02T00:00:00\", \"2020-03-03T00:00:00\", \"2020-03-04T00:00:00\", \"2020-03-05T00:00:00\", \"2020-03-06T00:00:00\", \"2020-03-07T00:00:00\", \"2020-03-08T00:00:00\", \"2020-03-09T00:00:00\", \"2020-03-10T00:00:00\", \"2020-03-11T00:00:00\", \"2020-03-12T00:00:00\", \"2020-03-13T00:00:00\", \"2020-03-14T00:00:00\", \"2020-03-15T00:00:00\", \"2020-03-16T00:00:00\", \"2020-03-17T00:00:00\", \"2020-03-18T00:00:00\", \"2020-03-19T00:00:00\", \"2020-03-20T00:00:00\", \"2020-03-21T00:00:00\", \"2020-03-22T00:00:00\", \"2020-03-23T00:00:00\", \"2020-03-24T00:00:00\", \"2020-03-25T00:00:00\", \"2020-03-26T00:00:00\", \"2020-03-27T00:00:00\", \"2020-03-28T00:00:00\", \"2020-03-29T00:00:00\", \"2020-03-30T00:00:00\", \"2020-03-31T00:00:00\", \"2020-04-01T00:00:00\", \"2020-04-02T00:00:00\", \"2020-04-03T00:00:00\", \"2020-04-04T00:00:00\", \"2020-04-05T00:00:00\", \"2020-04-06T00:00:00\", \"2020-04-07T00:00:00\", \"2020-04-08T00:00:00\", \"2020-04-09T00:00:00\", \"2020-04-10T00:00:00\", \"2020-04-11T00:00:00\", \"2020-04-12T00:00:00\", \"2020-04-13T00:00:00\", \"2020-04-14T00:00:00\", \"2020-04-15T00:00:00\", \"2020-04-16T00:00:00\", \"2020-04-17T00:00:00\", \"2020-04-18T00:00:00\", \"2020-04-19T00:00:00\", \"2020-04-20T00:00:00\", \"2020-04-21T00:00:00\", \"2020-04-22T00:00:00\", \"2020-04-23T00:00:00\", \"2020-04-24T00:00:00\", \"2020-04-25T00:00:00\", \"2020-04-26T00:00:00\", \"2020-04-27T00:00:00\", \"2020-04-28T00:00:00\", \"2020-04-29T00:00:00\", \"2020-04-30T00:00:00\", \"2020-05-01T00:00:00\", \"2020-05-02T00:00:00\", \"2020-05-03T00:00:00\", \"2020-05-04T00:00:00\", \"2020-05-05T00:00:00\", \"2020-05-06T00:00:00\", \"2020-05-07T00:00:00\"], \"xaxis\": \"x2\", \"y\": [0, 0, 0, 0, 0, 0, 0, 0, 0, 0, 0, 0, 0, 0, 0, 0, 0, 0, 0, 0, 0, 0, 0, 0, 0, 0, 0, 0, 0, 0, 0, 0, 0, 0, 0, 0, 0, 0, 0, 0, 0, 0, 0, 0, 0, 0, 0, 0, 0, 3, 4, 2, 2, 0, 6, 6, 1, 1, 0, 9, 8, 0, 1, 0, 3, 0, 2, 2, 0, 4, 8, 8, 2, 5, 13, 9, 2, 9, 25, 7, 21, 13, 19, 19, 13, 7, 24, 21, 0, 32, 43, 50, 82, 67, 104, 76, 84, 126, 71], \"yaxis\": \"y2\"}, {\"hoverlabel\": {\"namelength\": 0}, \"hovertemplate\": \"<b>%{hovertext}</b><br><br>estado=AM<br>data=%{x}<br>casosNovos=%{y}\", \"hovertext\": [\"AM\", \"AM\", \"AM\", \"AM\", \"AM\", \"AM\", \"AM\", \"AM\", \"AM\", \"AM\", \"AM\", \"AM\", \"AM\", \"AM\", \"AM\", \"AM\", \"AM\", \"AM\", \"AM\", \"AM\", \"AM\", \"AM\", \"AM\", \"AM\", \"AM\", \"AM\", \"AM\", \"AM\", \"AM\", \"AM\", \"AM\", \"AM\", \"AM\", \"AM\", \"AM\", \"AM\", \"AM\", \"AM\", \"AM\", \"AM\", \"AM\", \"AM\", \"AM\", \"AM\", \"AM\", \"AM\", \"AM\", \"AM\", \"AM\", \"AM\", \"AM\", \"AM\", \"AM\", \"AM\", \"AM\", \"AM\", \"AM\", \"AM\", \"AM\", \"AM\", \"AM\", \"AM\", \"AM\", \"AM\", \"AM\", \"AM\", \"AM\", \"AM\", \"AM\", \"AM\", \"AM\", \"AM\", \"AM\", \"AM\", \"AM\", \"AM\", \"AM\", \"AM\", \"AM\", \"AM\", \"AM\", \"AM\", \"AM\", \"AM\", \"AM\", \"AM\", \"AM\", \"AM\", \"AM\", \"AM\", \"AM\", \"AM\", \"AM\", \"AM\", \"AM\", \"AM\", \"AM\", \"AM\", \"AM\"], \"legendgroup\": \"\", \"line\": {\"color\": \"indianred\", \"dash\": \"solid\"}, \"mode\": \"lines\", \"name\": \"\", \"showlegend\": false, \"type\": \"scattergl\", \"x\": [\"2020-01-30T00:00:00\", \"2020-01-31T00:00:00\", \"2020-02-01T00:00:00\", \"2020-02-02T00:00:00\", \"2020-02-03T00:00:00\", \"2020-02-04T00:00:00\", \"2020-02-05T00:00:00\", \"2020-02-06T00:00:00\", \"2020-02-07T00:00:00\", \"2020-02-08T00:00:00\", \"2020-02-09T00:00:00\", \"2020-02-10T00:00:00\", \"2020-02-11T00:00:00\", \"2020-02-12T00:00:00\", \"2020-02-13T00:00:00\", \"2020-02-14T00:00:00\", \"2020-02-15T00:00:00\", \"2020-02-16T00:00:00\", \"2020-02-17T00:00:00\", \"2020-02-18T00:00:00\", \"2020-02-19T00:00:00\", \"2020-02-20T00:00:00\", \"2020-02-21T00:00:00\", \"2020-02-22T00:00:00\", \"2020-02-23T00:00:00\", \"2020-02-24T00:00:00\", \"2020-02-25T00:00:00\", \"2020-02-26T00:00:00\", \"2020-02-27T00:00:00\", \"2020-02-28T00:00:00\", \"2020-02-29T00:00:00\", \"2020-03-01T00:00:00\", \"2020-03-02T00:00:00\", \"2020-03-03T00:00:00\", \"2020-03-04T00:00:00\", \"2020-03-05T00:00:00\", \"2020-03-06T00:00:00\", \"2020-03-07T00:00:00\", \"2020-03-08T00:00:00\", \"2020-03-09T00:00:00\", \"2020-03-10T00:00:00\", \"2020-03-11T00:00:00\", \"2020-03-12T00:00:00\", \"2020-03-13T00:00:00\", \"2020-03-14T00:00:00\", \"2020-03-15T00:00:00\", \"2020-03-16T00:00:00\", \"2020-03-17T00:00:00\", \"2020-03-18T00:00:00\", \"2020-03-19T00:00:00\", \"2020-03-20T00:00:00\", \"2020-03-21T00:00:00\", \"2020-03-22T00:00:00\", \"2020-03-23T00:00:00\", \"2020-03-24T00:00:00\", \"2020-03-25T00:00:00\", \"2020-03-26T00:00:00\", \"2020-03-27T00:00:00\", \"2020-03-28T00:00:00\", \"2020-03-29T00:00:00\", \"2020-03-30T00:00:00\", \"2020-03-31T00:00:00\", \"2020-04-01T00:00:00\", \"2020-04-02T00:00:00\", \"2020-04-03T00:00:00\", \"2020-04-04T00:00:00\", \"2020-04-05T00:00:00\", \"2020-04-06T00:00:00\", \"2020-04-07T00:00:00\", \"2020-04-08T00:00:00\", \"2020-04-09T00:00:00\", \"2020-04-10T00:00:00\", \"2020-04-11T00:00:00\", \"2020-04-12T00:00:00\", \"2020-04-13T00:00:00\", \"2020-04-14T00:00:00\", \"2020-04-15T00:00:00\", \"2020-04-16T00:00:00\", \"2020-04-17T00:00:00\", \"2020-04-18T00:00:00\", \"2020-04-19T00:00:00\", \"2020-04-20T00:00:00\", \"2020-04-21T00:00:00\", \"2020-04-22T00:00:00\", \"2020-04-23T00:00:00\", \"2020-04-24T00:00:00\", \"2020-04-25T00:00:00\", \"2020-04-26T00:00:00\", \"2020-04-27T00:00:00\", \"2020-04-28T00:00:00\", \"2020-04-29T00:00:00\", \"2020-04-30T00:00:00\", \"2020-05-01T00:00:00\", \"2020-05-02T00:00:00\", \"2020-05-03T00:00:00\", \"2020-05-04T00:00:00\", \"2020-05-05T00:00:00\", \"2020-05-06T00:00:00\", \"2020-05-07T00:00:00\"], \"xaxis\": \"x3\", \"y\": [0, 0, 0, 0, 0, 0, 0, 0, 0, 0, 0, 0, 0, 0, 0, 0, 0, 0, 0, 0, 0, 0, 0, 0, 0, 0, 0, 0, 0, 0, 0, 0, 0, 0, 0, 0, 0, 0, 0, 0, 0, 0, 0, 0, 0, 1, 0, 0, 0, 2, 0, 8, 15, 6, 15, 7, 13, 14, 30, 29, 11, 24, 25, 29, 31, 51, 106, 115, 104, 168, 95, 82, 69, 156, 69, 209, 70, 165, 90, 88, 147, 116, 110, 209, 409, 306, 441, 198, 95, 409, 464, 453, 469, 339, 621, 559, 867, 1134, 856], \"yaxis\": \"y3\"}, {\"hoverlabel\": {\"namelength\": 0}, \"hovertemplate\": \"<b>%{hovertext}</b><br><br>estado=RR<br>data=%{x}<br>casosNovos=%{y}\", \"hovertext\": [\"RR\", \"RR\", \"RR\", \"RR\", \"RR\", \"RR\", \"RR\", \"RR\", \"RR\", \"RR\", \"RR\", \"RR\", \"RR\", \"RR\", \"RR\", \"RR\", \"RR\", \"RR\", \"RR\", \"RR\", \"RR\", \"RR\", \"RR\", \"RR\", \"RR\", \"RR\", \"RR\", \"RR\", \"RR\", \"RR\", \"RR\", \"RR\", \"RR\", \"RR\", \"RR\", \"RR\", \"RR\", \"RR\", \"RR\", \"RR\", \"RR\", \"RR\", \"RR\", \"RR\", \"RR\", \"RR\", \"RR\", \"RR\", \"RR\", \"RR\", \"RR\", \"RR\", \"RR\", \"RR\", \"RR\", \"RR\", \"RR\", \"RR\", \"RR\", \"RR\", \"RR\", \"RR\", \"RR\", \"RR\", \"RR\", \"RR\", \"RR\", \"RR\", \"RR\", \"RR\", \"RR\", \"RR\", \"RR\", \"RR\", \"RR\", \"RR\", \"RR\", \"RR\", \"RR\", \"RR\", \"RR\", \"RR\", \"RR\", \"RR\", \"RR\", \"RR\", \"RR\", \"RR\", \"RR\", \"RR\", \"RR\", \"RR\", \"RR\", \"RR\", \"RR\", \"RR\", \"RR\", \"RR\", \"RR\"], \"legendgroup\": \"\", \"line\": {\"color\": \"indianred\", \"dash\": \"solid\"}, \"mode\": \"lines\", \"name\": \"\", \"showlegend\": false, \"type\": \"scattergl\", \"x\": [\"2020-01-30T00:00:00\", \"2020-01-31T00:00:00\", \"2020-02-01T00:00:00\", \"2020-02-02T00:00:00\", \"2020-02-03T00:00:00\", \"2020-02-04T00:00:00\", \"2020-02-05T00:00:00\", \"2020-02-06T00:00:00\", \"2020-02-07T00:00:00\", \"2020-02-08T00:00:00\", \"2020-02-09T00:00:00\", \"2020-02-10T00:00:00\", \"2020-02-11T00:00:00\", \"2020-02-12T00:00:00\", \"2020-02-13T00:00:00\", \"2020-02-14T00:00:00\", \"2020-02-15T00:00:00\", \"2020-02-16T00:00:00\", \"2020-02-17T00:00:00\", \"2020-02-18T00:00:00\", \"2020-02-19T00:00:00\", \"2020-02-20T00:00:00\", \"2020-02-21T00:00:00\", \"2020-02-22T00:00:00\", \"2020-02-23T00:00:00\", \"2020-02-24T00:00:00\", \"2020-02-25T00:00:00\", \"2020-02-26T00:00:00\", \"2020-02-27T00:00:00\", \"2020-02-28T00:00:00\", \"2020-02-29T00:00:00\", \"2020-03-01T00:00:00\", \"2020-03-02T00:00:00\", \"2020-03-03T00:00:00\", \"2020-03-04T00:00:00\", \"2020-03-05T00:00:00\", \"2020-03-06T00:00:00\", \"2020-03-07T00:00:00\", \"2020-03-08T00:00:00\", \"2020-03-09T00:00:00\", \"2020-03-10T00:00:00\", \"2020-03-11T00:00:00\", \"2020-03-12T00:00:00\", \"2020-03-13T00:00:00\", \"2020-03-14T00:00:00\", \"2020-03-15T00:00:00\", \"2020-03-16T00:00:00\", \"2020-03-17T00:00:00\", \"2020-03-18T00:00:00\", \"2020-03-19T00:00:00\", \"2020-03-20T00:00:00\", \"2020-03-21T00:00:00\", \"2020-03-22T00:00:00\", \"2020-03-23T00:00:00\", \"2020-03-24T00:00:00\", \"2020-03-25T00:00:00\", \"2020-03-26T00:00:00\", \"2020-03-27T00:00:00\", \"2020-03-28T00:00:00\", \"2020-03-29T00:00:00\", \"2020-03-30T00:00:00\", \"2020-03-31T00:00:00\", \"2020-04-01T00:00:00\", \"2020-04-02T00:00:00\", \"2020-04-03T00:00:00\", \"2020-04-04T00:00:00\", \"2020-04-05T00:00:00\", \"2020-04-06T00:00:00\", \"2020-04-07T00:00:00\", \"2020-04-08T00:00:00\", \"2020-04-09T00:00:00\", \"2020-04-10T00:00:00\", \"2020-04-11T00:00:00\", \"2020-04-12T00:00:00\", \"2020-04-13T00:00:00\", \"2020-04-14T00:00:00\", \"2020-04-15T00:00:00\", \"2020-04-16T00:00:00\", \"2020-04-17T00:00:00\", \"2020-04-18T00:00:00\", \"2020-04-19T00:00:00\", \"2020-04-20T00:00:00\", \"2020-04-21T00:00:00\", \"2020-04-22T00:00:00\", \"2020-04-23T00:00:00\", \"2020-04-24T00:00:00\", \"2020-04-25T00:00:00\", \"2020-04-26T00:00:00\", \"2020-04-27T00:00:00\", \"2020-04-28T00:00:00\", \"2020-04-29T00:00:00\", \"2020-04-30T00:00:00\", \"2020-05-01T00:00:00\", \"2020-05-02T00:00:00\", \"2020-05-03T00:00:00\", \"2020-05-04T00:00:00\", \"2020-05-05T00:00:00\", \"2020-05-06T00:00:00\", \"2020-05-07T00:00:00\"], \"xaxis\": \"x4\", \"y\": [0, 0, 0, 0, 0, 0, 0, 0, 0, 0, 0, 0, 0, 0, 0, 0, 0, 0, 0, 0, 0, 0, 0, 0, 0, 0, 0, 0, 0, 0, 0, 0, 0, 0, 0, 0, 0, 0, 0, 0, 0, 0, 0, 0, 0, 0, 0, 0, 0, 0, 0, 0, 2, 0, 0, 6, 0, 2, 2, 4, 0, 0, 6, 4, 4, 7, 5, 0, 0, 7, 3, 11, 12, 4, 4, 30, 1, 28, 22, 37, 21, 22, 3, 33, 17, 7, 41, 56, 6, 18, 27, 67, 83, 66, 72, 66, 63, 63, 88], \"yaxis\": \"y4\"}, {\"hoverlabel\": {\"namelength\": 0}, \"hovertemplate\": \"<b>%{hovertext}</b><br><br>estado=PA<br>data=%{x}<br>casosNovos=%{y}\", \"hovertext\": [\"PA\", \"PA\", \"PA\", \"PA\", \"PA\", \"PA\", \"PA\", \"PA\", \"PA\", \"PA\", \"PA\", \"PA\", \"PA\", \"PA\", \"PA\", \"PA\", \"PA\", \"PA\", \"PA\", \"PA\", \"PA\", \"PA\", \"PA\", \"PA\", \"PA\", \"PA\", \"PA\", \"PA\", \"PA\", \"PA\", \"PA\", \"PA\", \"PA\", \"PA\", \"PA\", \"PA\", \"PA\", \"PA\", \"PA\", \"PA\", \"PA\", \"PA\", \"PA\", \"PA\", \"PA\", \"PA\", \"PA\", \"PA\", \"PA\", \"PA\", \"PA\", \"PA\", \"PA\", \"PA\", \"PA\", \"PA\", \"PA\", \"PA\", \"PA\", \"PA\", \"PA\", \"PA\", \"PA\", \"PA\", \"PA\", \"PA\", \"PA\", \"PA\", \"PA\", \"PA\", \"PA\", \"PA\", \"PA\", \"PA\", \"PA\", \"PA\", \"PA\", \"PA\", \"PA\", \"PA\", \"PA\", \"PA\", \"PA\", \"PA\", \"PA\", \"PA\", \"PA\", \"PA\", \"PA\", \"PA\", \"PA\", \"PA\", \"PA\", \"PA\", \"PA\", \"PA\", \"PA\", \"PA\", \"PA\"], \"legendgroup\": \"\", \"line\": {\"color\": \"indianred\", \"dash\": \"solid\"}, \"mode\": \"lines\", \"name\": \"\", \"showlegend\": false, \"type\": \"scattergl\", \"x\": [\"2020-01-30T00:00:00\", \"2020-01-31T00:00:00\", \"2020-02-01T00:00:00\", \"2020-02-02T00:00:00\", \"2020-02-03T00:00:00\", \"2020-02-04T00:00:00\", \"2020-02-05T00:00:00\", \"2020-02-06T00:00:00\", \"2020-02-07T00:00:00\", \"2020-02-08T00:00:00\", \"2020-02-09T00:00:00\", \"2020-02-10T00:00:00\", \"2020-02-11T00:00:00\", \"2020-02-12T00:00:00\", \"2020-02-13T00:00:00\", \"2020-02-14T00:00:00\", \"2020-02-15T00:00:00\", \"2020-02-16T00:00:00\", \"2020-02-17T00:00:00\", \"2020-02-18T00:00:00\", \"2020-02-19T00:00:00\", \"2020-02-20T00:00:00\", \"2020-02-21T00:00:00\", \"2020-02-22T00:00:00\", \"2020-02-23T00:00:00\", \"2020-02-24T00:00:00\", \"2020-02-25T00:00:00\", \"2020-02-26T00:00:00\", \"2020-02-27T00:00:00\", \"2020-02-28T00:00:00\", \"2020-02-29T00:00:00\", \"2020-03-01T00:00:00\", \"2020-03-02T00:00:00\", \"2020-03-03T00:00:00\", \"2020-03-04T00:00:00\", \"2020-03-05T00:00:00\", \"2020-03-06T00:00:00\", \"2020-03-07T00:00:00\", \"2020-03-08T00:00:00\", \"2020-03-09T00:00:00\", \"2020-03-10T00:00:00\", \"2020-03-11T00:00:00\", \"2020-03-12T00:00:00\", \"2020-03-13T00:00:00\", \"2020-03-14T00:00:00\", \"2020-03-15T00:00:00\", \"2020-03-16T00:00:00\", \"2020-03-17T00:00:00\", \"2020-03-18T00:00:00\", \"2020-03-19T00:00:00\", \"2020-03-20T00:00:00\", \"2020-03-21T00:00:00\", \"2020-03-22T00:00:00\", \"2020-03-23T00:00:00\", \"2020-03-24T00:00:00\", \"2020-03-25T00:00:00\", \"2020-03-26T00:00:00\", \"2020-03-27T00:00:00\", \"2020-03-28T00:00:00\", \"2020-03-29T00:00:00\", \"2020-03-30T00:00:00\", \"2020-03-31T00:00:00\", \"2020-04-01T00:00:00\", \"2020-04-02T00:00:00\", \"2020-04-03T00:00:00\", \"2020-04-04T00:00:00\", \"2020-04-05T00:00:00\", \"2020-04-06T00:00:00\", \"2020-04-07T00:00:00\", \"2020-04-08T00:00:00\", \"2020-04-09T00:00:00\", \"2020-04-10T00:00:00\", \"2020-04-11T00:00:00\", \"2020-04-12T00:00:00\", \"2020-04-13T00:00:00\", \"2020-04-14T00:00:00\", \"2020-04-15T00:00:00\", \"2020-04-16T00:00:00\", \"2020-04-17T00:00:00\", \"2020-04-18T00:00:00\", \"2020-04-19T00:00:00\", \"2020-04-20T00:00:00\", \"2020-04-21T00:00:00\", \"2020-04-22T00:00:00\", \"2020-04-23T00:00:00\", \"2020-04-24T00:00:00\", \"2020-04-25T00:00:00\", \"2020-04-26T00:00:00\", \"2020-04-27T00:00:00\", \"2020-04-28T00:00:00\", \"2020-04-29T00:00:00\", \"2020-04-30T00:00:00\", \"2020-05-01T00:00:00\", \"2020-05-02T00:00:00\", \"2020-05-03T00:00:00\", \"2020-05-04T00:00:00\", \"2020-05-05T00:00:00\", \"2020-05-06T00:00:00\", \"2020-05-07T00:00:00\"], \"xaxis\": \"x5\", \"y\": [0, 0, 0, 0, 0, 0, 0, 0, 0, 0, 0, 0, 0, 0, 0, 0, 0, 0, 0, 0, 0, 0, 0, 0, 0, 0, 0, 0, 0, 0, 0, 0, 0, 0, 0, 0, 0, 0, 0, 0, 0, 0, 0, 0, 0, 0, 0, 0, 0, 1, 1, 0, 2, 1, 0, 2, 6, 0, 4, 1, 3, 11, 8, 6, 4, 30, 6, 16, 36, 29, 1, 2, 47, 29, 24, 53, 61, 54, 119, 83, 45, 217, 124, 169, 72, 179, 133, 288, 261, 134, 160, 454, 300, 284, 403, 262, 347, 545, 507], \"yaxis\": \"y5\"}, {\"hoverlabel\": {\"namelength\": 0}, \"hovertemplate\": \"<b>%{hovertext}</b><br><br>estado=AP<br>data=%{x}<br>casosNovos=%{y}\", \"hovertext\": [\"AP\", \"AP\", \"AP\", \"AP\", \"AP\", \"AP\", \"AP\", \"AP\", \"AP\", \"AP\", \"AP\", \"AP\", \"AP\", \"AP\", \"AP\", \"AP\", \"AP\", \"AP\", \"AP\", \"AP\", \"AP\", \"AP\", \"AP\", \"AP\", \"AP\", \"AP\", \"AP\", \"AP\", \"AP\", \"AP\", \"AP\", \"AP\", \"AP\", \"AP\", \"AP\", \"AP\", \"AP\", \"AP\", \"AP\", \"AP\", \"AP\", \"AP\", \"AP\", \"AP\", \"AP\", \"AP\", \"AP\", \"AP\", \"AP\", \"AP\", \"AP\", \"AP\", \"AP\", \"AP\", \"AP\", \"AP\", \"AP\", \"AP\", \"AP\", \"AP\", \"AP\", \"AP\", \"AP\", \"AP\", \"AP\", \"AP\", \"AP\", \"AP\", \"AP\", \"AP\", \"AP\", \"AP\", \"AP\", \"AP\", \"AP\", \"AP\", \"AP\", \"AP\", \"AP\", \"AP\", \"AP\", \"AP\", \"AP\", \"AP\", \"AP\", \"AP\", \"AP\", \"AP\", \"AP\", \"AP\", \"AP\", \"AP\", \"AP\", \"AP\", \"AP\", \"AP\", \"AP\", \"AP\", \"AP\"], \"legendgroup\": \"\", \"line\": {\"color\": \"indianred\", \"dash\": \"solid\"}, \"mode\": \"lines\", \"name\": \"\", \"showlegend\": false, \"type\": \"scattergl\", \"x\": [\"2020-01-30T00:00:00\", \"2020-01-31T00:00:00\", \"2020-02-01T00:00:00\", \"2020-02-02T00:00:00\", \"2020-02-03T00:00:00\", \"2020-02-04T00:00:00\", \"2020-02-05T00:00:00\", \"2020-02-06T00:00:00\", \"2020-02-07T00:00:00\", \"2020-02-08T00:00:00\", \"2020-02-09T00:00:00\", \"2020-02-10T00:00:00\", \"2020-02-11T00:00:00\", \"2020-02-12T00:00:00\", \"2020-02-13T00:00:00\", \"2020-02-14T00:00:00\", \"2020-02-15T00:00:00\", \"2020-02-16T00:00:00\", \"2020-02-17T00:00:00\", \"2020-02-18T00:00:00\", \"2020-02-19T00:00:00\", \"2020-02-20T00:00:00\", \"2020-02-21T00:00:00\", \"2020-02-22T00:00:00\", \"2020-02-23T00:00:00\", \"2020-02-24T00:00:00\", \"2020-02-25T00:00:00\", \"2020-02-26T00:00:00\", \"2020-02-27T00:00:00\", \"2020-02-28T00:00:00\", \"2020-02-29T00:00:00\", \"2020-03-01T00:00:00\", \"2020-03-02T00:00:00\", \"2020-03-03T00:00:00\", \"2020-03-04T00:00:00\", \"2020-03-05T00:00:00\", \"2020-03-06T00:00:00\", \"2020-03-07T00:00:00\", \"2020-03-08T00:00:00\", \"2020-03-09T00:00:00\", \"2020-03-10T00:00:00\", \"2020-03-11T00:00:00\", \"2020-03-12T00:00:00\", \"2020-03-13T00:00:00\", \"2020-03-14T00:00:00\", \"2020-03-15T00:00:00\", \"2020-03-16T00:00:00\", \"2020-03-17T00:00:00\", \"2020-03-18T00:00:00\", \"2020-03-19T00:00:00\", \"2020-03-20T00:00:00\", \"2020-03-21T00:00:00\", \"2020-03-22T00:00:00\", \"2020-03-23T00:00:00\", \"2020-03-24T00:00:00\", \"2020-03-25T00:00:00\", \"2020-03-26T00:00:00\", \"2020-03-27T00:00:00\", \"2020-03-28T00:00:00\", \"2020-03-29T00:00:00\", \"2020-03-30T00:00:00\", \"2020-03-31T00:00:00\", \"2020-04-01T00:00:00\", \"2020-04-02T00:00:00\", \"2020-04-03T00:00:00\", \"2020-04-04T00:00:00\", \"2020-04-05T00:00:00\", \"2020-04-06T00:00:00\", \"2020-04-07T00:00:00\", \"2020-04-08T00:00:00\", \"2020-04-09T00:00:00\", \"2020-04-10T00:00:00\", \"2020-04-11T00:00:00\", \"2020-04-12T00:00:00\", \"2020-04-13T00:00:00\", \"2020-04-14T00:00:00\", \"2020-04-15T00:00:00\", \"2020-04-16T00:00:00\", \"2020-04-17T00:00:00\", \"2020-04-18T00:00:00\", \"2020-04-19T00:00:00\", \"2020-04-20T00:00:00\", \"2020-04-21T00:00:00\", \"2020-04-22T00:00:00\", \"2020-04-23T00:00:00\", \"2020-04-24T00:00:00\", \"2020-04-25T00:00:00\", \"2020-04-26T00:00:00\", \"2020-04-27T00:00:00\", \"2020-04-28T00:00:00\", \"2020-04-29T00:00:00\", \"2020-04-30T00:00:00\", \"2020-05-01T00:00:00\", \"2020-05-02T00:00:00\", \"2020-05-03T00:00:00\", \"2020-05-04T00:00:00\", \"2020-05-05T00:00:00\", \"2020-05-06T00:00:00\", \"2020-05-07T00:00:00\"], \"xaxis\": \"x6\", \"y\": [0, 0, 0, 0, 0, 0, 0, 0, 0, 0, 0, 0, 0, 0, 0, 0, 0, 0, 0, 0, 0, 0, 0, 0, 0, 0, 0, 0, 0, 0, 0, 0, 0, 0, 0, 0, 0, 0, 0, 0, 0, 0, 0, 0, 0, 0, 0, 0, 0, 0, 1, 0, 0, 0, 0, 0, 1, 0, 2, 0, 4, 2, 1, 0, 8, 9, 1, 5, 14, 59, 21, 38, 27, 37, 12, 65, 27, 28, 8, 23, 23, 17, 24, 22, 69, 85, 52, 113, 44, 76, 98, 64, 41, 66, 295, 251, 198, 115, 153], \"yaxis\": \"y6\"}, {\"hoverlabel\": {\"namelength\": 0}, \"hovertemplate\": \"<b>%{hovertext}</b><br><br>estado=TO<br>data=%{x}<br>casosNovos=%{y}\", \"hovertext\": [\"TO\", \"TO\", \"TO\", \"TO\", \"TO\", \"TO\", \"TO\", \"TO\", \"TO\", \"TO\", \"TO\", \"TO\", \"TO\", \"TO\", \"TO\", \"TO\", \"TO\", \"TO\", \"TO\", \"TO\", \"TO\", \"TO\", \"TO\", \"TO\", \"TO\", \"TO\", \"TO\", \"TO\", \"TO\", \"TO\", \"TO\", \"TO\", \"TO\", \"TO\", \"TO\", \"TO\", \"TO\", \"TO\", \"TO\", \"TO\", \"TO\", \"TO\", \"TO\", \"TO\", \"TO\", \"TO\", \"TO\", \"TO\", \"TO\", \"TO\", \"TO\", \"TO\", \"TO\", \"TO\", \"TO\", \"TO\", \"TO\", \"TO\", \"TO\", \"TO\", \"TO\", \"TO\", \"TO\", \"TO\", \"TO\", \"TO\", \"TO\", \"TO\", \"TO\", \"TO\", \"TO\", \"TO\", \"TO\", \"TO\", \"TO\", \"TO\", \"TO\", \"TO\", \"TO\", \"TO\", \"TO\", \"TO\", \"TO\", \"TO\", \"TO\", \"TO\", \"TO\", \"TO\", \"TO\", \"TO\", \"TO\", \"TO\", \"TO\", \"TO\", \"TO\", \"TO\", \"TO\", \"TO\", \"TO\"], \"legendgroup\": \"\", \"line\": {\"color\": \"indianred\", \"dash\": \"solid\"}, \"mode\": \"lines\", \"name\": \"\", \"showlegend\": false, \"type\": \"scattergl\", \"x\": [\"2020-01-30T00:00:00\", \"2020-01-31T00:00:00\", \"2020-02-01T00:00:00\", \"2020-02-02T00:00:00\", \"2020-02-03T00:00:00\", \"2020-02-04T00:00:00\", \"2020-02-05T00:00:00\", \"2020-02-06T00:00:00\", \"2020-02-07T00:00:00\", \"2020-02-08T00:00:00\", \"2020-02-09T00:00:00\", \"2020-02-10T00:00:00\", \"2020-02-11T00:00:00\", \"2020-02-12T00:00:00\", \"2020-02-13T00:00:00\", \"2020-02-14T00:00:00\", \"2020-02-15T00:00:00\", \"2020-02-16T00:00:00\", \"2020-02-17T00:00:00\", \"2020-02-18T00:00:00\", \"2020-02-19T00:00:00\", \"2020-02-20T00:00:00\", \"2020-02-21T00:00:00\", \"2020-02-22T00:00:00\", \"2020-02-23T00:00:00\", \"2020-02-24T00:00:00\", \"2020-02-25T00:00:00\", \"2020-02-26T00:00:00\", \"2020-02-27T00:00:00\", \"2020-02-28T00:00:00\", \"2020-02-29T00:00:00\", \"2020-03-01T00:00:00\", \"2020-03-02T00:00:00\", \"2020-03-03T00:00:00\", \"2020-03-04T00:00:00\", \"2020-03-05T00:00:00\", \"2020-03-06T00:00:00\", \"2020-03-07T00:00:00\", \"2020-03-08T00:00:00\", \"2020-03-09T00:00:00\", \"2020-03-10T00:00:00\", \"2020-03-11T00:00:00\", \"2020-03-12T00:00:00\", \"2020-03-13T00:00:00\", \"2020-03-14T00:00:00\", \"2020-03-15T00:00:00\", \"2020-03-16T00:00:00\", \"2020-03-17T00:00:00\", \"2020-03-18T00:00:00\", \"2020-03-19T00:00:00\", \"2020-03-20T00:00:00\", \"2020-03-21T00:00:00\", \"2020-03-22T00:00:00\", \"2020-03-23T00:00:00\", \"2020-03-24T00:00:00\", \"2020-03-25T00:00:00\", \"2020-03-26T00:00:00\", \"2020-03-27T00:00:00\", \"2020-03-28T00:00:00\", \"2020-03-29T00:00:00\", \"2020-03-30T00:00:00\", \"2020-03-31T00:00:00\", \"2020-04-01T00:00:00\", \"2020-04-02T00:00:00\", \"2020-04-03T00:00:00\", \"2020-04-04T00:00:00\", \"2020-04-05T00:00:00\", \"2020-04-06T00:00:00\", \"2020-04-07T00:00:00\", \"2020-04-08T00:00:00\", \"2020-04-09T00:00:00\", \"2020-04-10T00:00:00\", \"2020-04-11T00:00:00\", \"2020-04-12T00:00:00\", \"2020-04-13T00:00:00\", \"2020-04-14T00:00:00\", \"2020-04-15T00:00:00\", \"2020-04-16T00:00:00\", \"2020-04-17T00:00:00\", \"2020-04-18T00:00:00\", \"2020-04-19T00:00:00\", \"2020-04-20T00:00:00\", \"2020-04-21T00:00:00\", \"2020-04-22T00:00:00\", \"2020-04-23T00:00:00\", \"2020-04-24T00:00:00\", \"2020-04-25T00:00:00\", \"2020-04-26T00:00:00\", \"2020-04-27T00:00:00\", \"2020-04-28T00:00:00\", \"2020-04-29T00:00:00\", \"2020-04-30T00:00:00\", \"2020-05-01T00:00:00\", \"2020-05-02T00:00:00\", \"2020-05-03T00:00:00\", \"2020-05-04T00:00:00\", \"2020-05-05T00:00:00\", \"2020-05-06T00:00:00\", \"2020-05-07T00:00:00\"], \"xaxis\": \"x7\", \"y\": [0, 0, 0, 0, 0, 0, 0, 0, 0, 0, 0, 0, 0, 0, 0, 0, 0, 0, 0, 0, 0, 0, 0, 0, 0, 0, 0, 0, 0, 0, 0, 0, 0, 0, 0, 0, 0, 0, 0, 0, 0, 0, 0, 0, 0, 0, 0, 0, 0, 1, 0, 1, 0, 3, 2, 0, 0, 1, 1, 0, 1, 1, 1, 0, 0, 2, 3, 0, 2, 4, 0, 0, 0, 2, 1, 0, 0, 3, 2, 2, 0, 1, 3, 0, 0, 6, 7, 8, 9, 12, 37, 21, 27, 27, 55, 21, 36, 48, 72], \"yaxis\": \"y7\"}, {\"hoverlabel\": {\"namelength\": 0}, \"hovertemplate\": \"<b>%{hovertext}</b><br><br>estado=MA<br>data=%{x}<br>casosNovos=%{y}\", \"hovertext\": [\"MA\", \"MA\", \"MA\", \"MA\", \"MA\", \"MA\", \"MA\", \"MA\", \"MA\", \"MA\", \"MA\", \"MA\", \"MA\", \"MA\", \"MA\", \"MA\", \"MA\", \"MA\", \"MA\", \"MA\", \"MA\", \"MA\", \"MA\", \"MA\", \"MA\", \"MA\", \"MA\", \"MA\", \"MA\", \"MA\", \"MA\", \"MA\", \"MA\", \"MA\", \"MA\", \"MA\", \"MA\", \"MA\", \"MA\", \"MA\", \"MA\", \"MA\", \"MA\", \"MA\", \"MA\", \"MA\", \"MA\", \"MA\", \"MA\", \"MA\", \"MA\", \"MA\", \"MA\", \"MA\", \"MA\", \"MA\", \"MA\", \"MA\", \"MA\", \"MA\", \"MA\", \"MA\", \"MA\", \"MA\", \"MA\", \"MA\", \"MA\", \"MA\", \"MA\", \"MA\", \"MA\", \"MA\", \"MA\", \"MA\", \"MA\", \"MA\", \"MA\", \"MA\", \"MA\", \"MA\", \"MA\", \"MA\", \"MA\", \"MA\", \"MA\", \"MA\", \"MA\", \"MA\", \"MA\", \"MA\", \"MA\", \"MA\", \"MA\", \"MA\", \"MA\", \"MA\", \"MA\", \"MA\", \"MA\"], \"legendgroup\": \"\", \"line\": {\"color\": \"indianred\", \"dash\": \"solid\"}, \"mode\": \"lines\", \"name\": \"\", \"showlegend\": false, \"type\": \"scattergl\", \"x\": [\"2020-01-30T00:00:00\", \"2020-01-31T00:00:00\", \"2020-02-01T00:00:00\", \"2020-02-02T00:00:00\", \"2020-02-03T00:00:00\", \"2020-02-04T00:00:00\", \"2020-02-05T00:00:00\", \"2020-02-06T00:00:00\", \"2020-02-07T00:00:00\", \"2020-02-08T00:00:00\", \"2020-02-09T00:00:00\", \"2020-02-10T00:00:00\", \"2020-02-11T00:00:00\", \"2020-02-12T00:00:00\", \"2020-02-13T00:00:00\", \"2020-02-14T00:00:00\", \"2020-02-15T00:00:00\", \"2020-02-16T00:00:00\", \"2020-02-17T00:00:00\", \"2020-02-18T00:00:00\", \"2020-02-19T00:00:00\", \"2020-02-20T00:00:00\", \"2020-02-21T00:00:00\", \"2020-02-22T00:00:00\", \"2020-02-23T00:00:00\", \"2020-02-24T00:00:00\", \"2020-02-25T00:00:00\", \"2020-02-26T00:00:00\", \"2020-02-27T00:00:00\", \"2020-02-28T00:00:00\", \"2020-02-29T00:00:00\", \"2020-03-01T00:00:00\", \"2020-03-02T00:00:00\", \"2020-03-03T00:00:00\", \"2020-03-04T00:00:00\", \"2020-03-05T00:00:00\", \"2020-03-06T00:00:00\", \"2020-03-07T00:00:00\", \"2020-03-08T00:00:00\", \"2020-03-09T00:00:00\", \"2020-03-10T00:00:00\", \"2020-03-11T00:00:00\", \"2020-03-12T00:00:00\", \"2020-03-13T00:00:00\", \"2020-03-14T00:00:00\", \"2020-03-15T00:00:00\", \"2020-03-16T00:00:00\", \"2020-03-17T00:00:00\", \"2020-03-18T00:00:00\", \"2020-03-19T00:00:00\", \"2020-03-20T00:00:00\", \"2020-03-21T00:00:00\", \"2020-03-22T00:00:00\", \"2020-03-23T00:00:00\", \"2020-03-24T00:00:00\", \"2020-03-25T00:00:00\", \"2020-03-26T00:00:00\", \"2020-03-27T00:00:00\", \"2020-03-28T00:00:00\", \"2020-03-29T00:00:00\", \"2020-03-30T00:00:00\", \"2020-03-31T00:00:00\", \"2020-04-01T00:00:00\", \"2020-04-02T00:00:00\", \"2020-04-03T00:00:00\", \"2020-04-04T00:00:00\", \"2020-04-05T00:00:00\", \"2020-04-06T00:00:00\", \"2020-04-07T00:00:00\", \"2020-04-08T00:00:00\", \"2020-04-09T00:00:00\", \"2020-04-10T00:00:00\", \"2020-04-11T00:00:00\", \"2020-04-12T00:00:00\", \"2020-04-13T00:00:00\", \"2020-04-14T00:00:00\", \"2020-04-15T00:00:00\", \"2020-04-16T00:00:00\", \"2020-04-17T00:00:00\", \"2020-04-18T00:00:00\", \"2020-04-19T00:00:00\", \"2020-04-20T00:00:00\", \"2020-04-21T00:00:00\", \"2020-04-22T00:00:00\", \"2020-04-23T00:00:00\", \"2020-04-24T00:00:00\", \"2020-04-25T00:00:00\", \"2020-04-26T00:00:00\", \"2020-04-27T00:00:00\", \"2020-04-28T00:00:00\", \"2020-04-29T00:00:00\", \"2020-04-30T00:00:00\", \"2020-05-01T00:00:00\", \"2020-05-02T00:00:00\", \"2020-05-03T00:00:00\", \"2020-05-04T00:00:00\", \"2020-05-05T00:00:00\", \"2020-05-06T00:00:00\", \"2020-05-07T00:00:00\"], \"xaxis\": \"x8\", \"y\": [0, 0, 0, 0, 0, 0, 0, 0, 0, 0, 0, 0, 0, 0, 0, 0, 0, 0, 0, 0, 0, 0, 0, 0, 0, 0, 0, 0, 0, 0, 0, 0, 0, 0, 0, 0, 0, 0, 0, 0, 0, 0, 0, 0, 0, 0, 0, 0, 0, 0, 0, 1, 1, 0, 6, 0, 2, 3, 1, 2, 7, 8, 21, 19, 10, 7, 8, 37, 39, 58, 43, 20, 51, 54, 47, 33, 152, 65, 102, 243, 165, 115, 76, 208, 153, 194, 154, 118, 187, 118, 276, 386, 316, 299, 235, 187, 303, 498, 361], \"yaxis\": \"y8\"}, {\"hoverlabel\": {\"namelength\": 0}, \"hovertemplate\": \"<b>%{hovertext}</b><br><br>estado=PI<br>data=%{x}<br>casosNovos=%{y}\", \"hovertext\": [\"PI\", \"PI\", \"PI\", \"PI\", \"PI\", \"PI\", \"PI\", \"PI\", \"PI\", \"PI\", \"PI\", \"PI\", \"PI\", \"PI\", \"PI\", \"PI\", \"PI\", \"PI\", \"PI\", \"PI\", \"PI\", \"PI\", \"PI\", \"PI\", \"PI\", \"PI\", \"PI\", \"PI\", \"PI\", \"PI\", \"PI\", \"PI\", \"PI\", \"PI\", \"PI\", \"PI\", \"PI\", \"PI\", \"PI\", \"PI\", \"PI\", \"PI\", \"PI\", \"PI\", \"PI\", \"PI\", \"PI\", \"PI\", \"PI\", \"PI\", \"PI\", \"PI\", \"PI\", \"PI\", \"PI\", \"PI\", \"PI\", \"PI\", \"PI\", \"PI\", \"PI\", \"PI\", \"PI\", \"PI\", \"PI\", \"PI\", \"PI\", \"PI\", \"PI\", \"PI\", \"PI\", \"PI\", \"PI\", \"PI\", \"PI\", \"PI\", \"PI\", \"PI\", \"PI\", \"PI\", \"PI\", \"PI\", \"PI\", \"PI\", \"PI\", \"PI\", \"PI\", \"PI\", \"PI\", \"PI\", \"PI\", \"PI\", \"PI\", \"PI\", \"PI\", \"PI\", \"PI\", \"PI\", \"PI\"], \"legendgroup\": \"\", \"line\": {\"color\": \"indianred\", \"dash\": \"solid\"}, \"mode\": \"lines\", \"name\": \"\", \"showlegend\": false, \"type\": \"scattergl\", \"x\": [\"2020-01-30T00:00:00\", \"2020-01-31T00:00:00\", \"2020-02-01T00:00:00\", \"2020-02-02T00:00:00\", \"2020-02-03T00:00:00\", \"2020-02-04T00:00:00\", \"2020-02-05T00:00:00\", \"2020-02-06T00:00:00\", \"2020-02-07T00:00:00\", \"2020-02-08T00:00:00\", \"2020-02-09T00:00:00\", \"2020-02-10T00:00:00\", \"2020-02-11T00:00:00\", \"2020-02-12T00:00:00\", \"2020-02-13T00:00:00\", \"2020-02-14T00:00:00\", \"2020-02-15T00:00:00\", \"2020-02-16T00:00:00\", \"2020-02-17T00:00:00\", \"2020-02-18T00:00:00\", \"2020-02-19T00:00:00\", \"2020-02-20T00:00:00\", \"2020-02-21T00:00:00\", \"2020-02-22T00:00:00\", \"2020-02-23T00:00:00\", \"2020-02-24T00:00:00\", \"2020-02-25T00:00:00\", \"2020-02-26T00:00:00\", \"2020-02-27T00:00:00\", \"2020-02-28T00:00:00\", \"2020-02-29T00:00:00\", \"2020-03-01T00:00:00\", \"2020-03-02T00:00:00\", \"2020-03-03T00:00:00\", \"2020-03-04T00:00:00\", \"2020-03-05T00:00:00\", \"2020-03-06T00:00:00\", \"2020-03-07T00:00:00\", \"2020-03-08T00:00:00\", \"2020-03-09T00:00:00\", \"2020-03-10T00:00:00\", \"2020-03-11T00:00:00\", \"2020-03-12T00:00:00\", \"2020-03-13T00:00:00\", \"2020-03-14T00:00:00\", \"2020-03-15T00:00:00\", \"2020-03-16T00:00:00\", \"2020-03-17T00:00:00\", \"2020-03-18T00:00:00\", \"2020-03-19T00:00:00\", \"2020-03-20T00:00:00\", \"2020-03-21T00:00:00\", \"2020-03-22T00:00:00\", \"2020-03-23T00:00:00\", \"2020-03-24T00:00:00\", \"2020-03-25T00:00:00\", \"2020-03-26T00:00:00\", \"2020-03-27T00:00:00\", \"2020-03-28T00:00:00\", \"2020-03-29T00:00:00\", \"2020-03-30T00:00:00\", \"2020-03-31T00:00:00\", \"2020-04-01T00:00:00\", \"2020-04-02T00:00:00\", \"2020-04-03T00:00:00\", \"2020-04-04T00:00:00\", \"2020-04-05T00:00:00\", \"2020-04-06T00:00:00\", \"2020-04-07T00:00:00\", \"2020-04-08T00:00:00\", \"2020-04-09T00:00:00\", \"2020-04-10T00:00:00\", \"2020-04-11T00:00:00\", \"2020-04-12T00:00:00\", \"2020-04-13T00:00:00\", \"2020-04-14T00:00:00\", \"2020-04-15T00:00:00\", \"2020-04-16T00:00:00\", \"2020-04-17T00:00:00\", \"2020-04-18T00:00:00\", \"2020-04-19T00:00:00\", \"2020-04-20T00:00:00\", \"2020-04-21T00:00:00\", \"2020-04-22T00:00:00\", \"2020-04-23T00:00:00\", \"2020-04-24T00:00:00\", \"2020-04-25T00:00:00\", \"2020-04-26T00:00:00\", \"2020-04-27T00:00:00\", \"2020-04-28T00:00:00\", \"2020-04-29T00:00:00\", \"2020-04-30T00:00:00\", \"2020-05-01T00:00:00\", \"2020-05-02T00:00:00\", \"2020-05-03T00:00:00\", \"2020-05-04T00:00:00\", \"2020-05-05T00:00:00\", \"2020-05-06T00:00:00\", \"2020-05-07T00:00:00\"], \"xaxis\": \"x9\", \"y\": [0, 0, 0, 0, 0, 0, 0, 0, 0, 0, 0, 0, 0, 0, 0, 0, 0, 0, 0, 0, 0, 0, 0, 0, 0, 0, 0, 0, 0, 0, 0, 0, 0, 0, 0, 0, 0, 0, 0, 0, 0, 0, 0, 0, 0, 0, 0, 0, 0, 0, 3, 1, 0, 2, 0, 2, 1, 0, 2, 3, 2, 2, 0, 1, 2, 1, 1, 0, 5, 3, 7, 2, 1, 3, 6, 8, 17, 16, 11, 21, 22, 13, 28, 20, 11, 39, 41, 34, 33, 44, 46, 59, 87, 65, 77, 42, 91, 74, 102], \"yaxis\": \"y9\"}, {\"hoverlabel\": {\"namelength\": 0}, \"hovertemplate\": \"<b>%{hovertext}</b><br><br>estado=CE<br>data=%{x}<br>casosNovos=%{y}\", \"hovertext\": [\"CE\", \"CE\", \"CE\", \"CE\", \"CE\", \"CE\", \"CE\", \"CE\", \"CE\", \"CE\", \"CE\", \"CE\", \"CE\", \"CE\", \"CE\", \"CE\", \"CE\", \"CE\", \"CE\", \"CE\", \"CE\", \"CE\", \"CE\", \"CE\", \"CE\", \"CE\", \"CE\", \"CE\", \"CE\", \"CE\", \"CE\", \"CE\", \"CE\", \"CE\", \"CE\", \"CE\", \"CE\", \"CE\", \"CE\", \"CE\", \"CE\", \"CE\", \"CE\", \"CE\", \"CE\", \"CE\", \"CE\", \"CE\", \"CE\", \"CE\", \"CE\", \"CE\", \"CE\", \"CE\", \"CE\", \"CE\", \"CE\", \"CE\", \"CE\", \"CE\", \"CE\", \"CE\", \"CE\", \"CE\", \"CE\", \"CE\", \"CE\", \"CE\", \"CE\", \"CE\", \"CE\", \"CE\", \"CE\", \"CE\", \"CE\", \"CE\", \"CE\", \"CE\", \"CE\", \"CE\", \"CE\", \"CE\", \"CE\", \"CE\", \"CE\", \"CE\", \"CE\", \"CE\", \"CE\", \"CE\", \"CE\", \"CE\", \"CE\", \"CE\", \"CE\", \"CE\", \"CE\", \"CE\", \"CE\"], \"legendgroup\": \"\", \"line\": {\"color\": \"indianred\", \"dash\": \"solid\"}, \"mode\": \"lines\", \"name\": \"\", \"showlegend\": false, \"type\": \"scattergl\", \"x\": [\"2020-01-30T00:00:00\", \"2020-01-31T00:00:00\", \"2020-02-01T00:00:00\", \"2020-02-02T00:00:00\", \"2020-02-03T00:00:00\", \"2020-02-04T00:00:00\", \"2020-02-05T00:00:00\", \"2020-02-06T00:00:00\", \"2020-02-07T00:00:00\", \"2020-02-08T00:00:00\", \"2020-02-09T00:00:00\", \"2020-02-10T00:00:00\", \"2020-02-11T00:00:00\", \"2020-02-12T00:00:00\", \"2020-02-13T00:00:00\", \"2020-02-14T00:00:00\", \"2020-02-15T00:00:00\", \"2020-02-16T00:00:00\", \"2020-02-17T00:00:00\", \"2020-02-18T00:00:00\", \"2020-02-19T00:00:00\", \"2020-02-20T00:00:00\", \"2020-02-21T00:00:00\", \"2020-02-22T00:00:00\", \"2020-02-23T00:00:00\", \"2020-02-24T00:00:00\", \"2020-02-25T00:00:00\", \"2020-02-26T00:00:00\", \"2020-02-27T00:00:00\", \"2020-02-28T00:00:00\", \"2020-02-29T00:00:00\", \"2020-03-01T00:00:00\", \"2020-03-02T00:00:00\", \"2020-03-03T00:00:00\", \"2020-03-04T00:00:00\", \"2020-03-05T00:00:00\", \"2020-03-06T00:00:00\", \"2020-03-07T00:00:00\", \"2020-03-08T00:00:00\", \"2020-03-09T00:00:00\", \"2020-03-10T00:00:00\", \"2020-03-11T00:00:00\", \"2020-03-12T00:00:00\", \"2020-03-13T00:00:00\", \"2020-03-14T00:00:00\", \"2020-03-15T00:00:00\", \"2020-03-16T00:00:00\", \"2020-03-17T00:00:00\", \"2020-03-18T00:00:00\", \"2020-03-19T00:00:00\", \"2020-03-20T00:00:00\", \"2020-03-21T00:00:00\", \"2020-03-22T00:00:00\", \"2020-03-23T00:00:00\", \"2020-03-24T00:00:00\", \"2020-03-25T00:00:00\", \"2020-03-26T00:00:00\", \"2020-03-27T00:00:00\", \"2020-03-28T00:00:00\", \"2020-03-29T00:00:00\", \"2020-03-30T00:00:00\", \"2020-03-31T00:00:00\", \"2020-04-01T00:00:00\", \"2020-04-02T00:00:00\", \"2020-04-03T00:00:00\", \"2020-04-04T00:00:00\", \"2020-04-05T00:00:00\", \"2020-04-06T00:00:00\", \"2020-04-07T00:00:00\", \"2020-04-08T00:00:00\", \"2020-04-09T00:00:00\", \"2020-04-10T00:00:00\", \"2020-04-11T00:00:00\", \"2020-04-12T00:00:00\", \"2020-04-13T00:00:00\", \"2020-04-14T00:00:00\", \"2020-04-15T00:00:00\", \"2020-04-16T00:00:00\", \"2020-04-17T00:00:00\", \"2020-04-18T00:00:00\", \"2020-04-19T00:00:00\", \"2020-04-20T00:00:00\", \"2020-04-21T00:00:00\", \"2020-04-22T00:00:00\", \"2020-04-23T00:00:00\", \"2020-04-24T00:00:00\", \"2020-04-25T00:00:00\", \"2020-04-26T00:00:00\", \"2020-04-27T00:00:00\", \"2020-04-28T00:00:00\", \"2020-04-29T00:00:00\", \"2020-04-30T00:00:00\", \"2020-05-01T00:00:00\", \"2020-05-02T00:00:00\", \"2020-05-03T00:00:00\", \"2020-05-04T00:00:00\", \"2020-05-05T00:00:00\", \"2020-05-06T00:00:00\", \"2020-05-07T00:00:00\"], \"xaxis\": \"x10\", \"y\": [0, 0, 0, 0, 0, 0, 0, 0, 0, 0, 0, 0, 0, 0, 0, 0, 0, 0, 0, 0, 0, 0, 0, 0, 0, 0, 0, 0, 0, 0, 0, 0, 0, 0, 0, 0, 0, 0, 0, 0, 0, 0, 0, 0, 0, 0, 0, 5, 4, 11, 35, 13, 44, 51, 19, 18, 35, 47, 32, 34, 24, 18, 54, 106, 77, 103, 93, 190, 38, 240, 134, 53, 104, 94, 124, 205, 152, 229, 298, 350, 218, 230, 234, 194, 688, 202, 621, 412, 893, 192, 349, 339, 273, 352, 139, 2670, 430, 834, 1584], \"yaxis\": \"y10\"}, {\"hoverlabel\": {\"namelength\": 0}, \"hovertemplate\": \"<b>%{hovertext}</b><br><br>estado=RN<br>data=%{x}<br>casosNovos=%{y}\", \"hovertext\": [\"RN\", \"RN\", \"RN\", \"RN\", \"RN\", \"RN\", \"RN\", \"RN\", \"RN\", \"RN\", \"RN\", \"RN\", \"RN\", \"RN\", \"RN\", \"RN\", \"RN\", \"RN\", \"RN\", \"RN\", \"RN\", \"RN\", \"RN\", \"RN\", \"RN\", \"RN\", \"RN\", \"RN\", \"RN\", \"RN\", \"RN\", \"RN\", \"RN\", \"RN\", \"RN\", \"RN\", \"RN\", \"RN\", \"RN\", \"RN\", \"RN\", \"RN\", \"RN\", \"RN\", \"RN\", \"RN\", \"RN\", \"RN\", \"RN\", \"RN\", \"RN\", \"RN\", \"RN\", \"RN\", \"RN\", \"RN\", \"RN\", \"RN\", \"RN\", \"RN\", \"RN\", \"RN\", \"RN\", \"RN\", \"RN\", \"RN\", \"RN\", \"RN\", \"RN\", \"RN\", \"RN\", \"RN\", \"RN\", \"RN\", \"RN\", \"RN\", \"RN\", \"RN\", \"RN\", \"RN\", \"RN\", \"RN\", \"RN\", \"RN\", \"RN\", \"RN\", \"RN\", \"RN\", \"RN\", \"RN\", \"RN\", \"RN\", \"RN\", \"RN\", \"RN\", \"RN\", \"RN\", \"RN\", \"RN\"], \"legendgroup\": \"\", \"line\": {\"color\": \"indianred\", \"dash\": \"solid\"}, \"mode\": \"lines\", \"name\": \"\", \"showlegend\": false, \"type\": \"scattergl\", \"x\": [\"2020-01-30T00:00:00\", \"2020-01-31T00:00:00\", \"2020-02-01T00:00:00\", \"2020-02-02T00:00:00\", \"2020-02-03T00:00:00\", \"2020-02-04T00:00:00\", \"2020-02-05T00:00:00\", \"2020-02-06T00:00:00\", \"2020-02-07T00:00:00\", \"2020-02-08T00:00:00\", \"2020-02-09T00:00:00\", \"2020-02-10T00:00:00\", \"2020-02-11T00:00:00\", \"2020-02-12T00:00:00\", \"2020-02-13T00:00:00\", \"2020-02-14T00:00:00\", \"2020-02-15T00:00:00\", \"2020-02-16T00:00:00\", \"2020-02-17T00:00:00\", \"2020-02-18T00:00:00\", \"2020-02-19T00:00:00\", \"2020-02-20T00:00:00\", \"2020-02-21T00:00:00\", \"2020-02-22T00:00:00\", \"2020-02-23T00:00:00\", \"2020-02-24T00:00:00\", \"2020-02-25T00:00:00\", \"2020-02-26T00:00:00\", \"2020-02-27T00:00:00\", \"2020-02-28T00:00:00\", \"2020-02-29T00:00:00\", \"2020-03-01T00:00:00\", \"2020-03-02T00:00:00\", \"2020-03-03T00:00:00\", \"2020-03-04T00:00:00\", \"2020-03-05T00:00:00\", \"2020-03-06T00:00:00\", \"2020-03-07T00:00:00\", \"2020-03-08T00:00:00\", \"2020-03-09T00:00:00\", \"2020-03-10T00:00:00\", \"2020-03-11T00:00:00\", \"2020-03-12T00:00:00\", \"2020-03-13T00:00:00\", \"2020-03-14T00:00:00\", \"2020-03-15T00:00:00\", \"2020-03-16T00:00:00\", \"2020-03-17T00:00:00\", \"2020-03-18T00:00:00\", \"2020-03-19T00:00:00\", \"2020-03-20T00:00:00\", \"2020-03-21T00:00:00\", \"2020-03-22T00:00:00\", \"2020-03-23T00:00:00\", \"2020-03-24T00:00:00\", \"2020-03-25T00:00:00\", \"2020-03-26T00:00:00\", \"2020-03-27T00:00:00\", \"2020-03-28T00:00:00\", \"2020-03-29T00:00:00\", \"2020-03-30T00:00:00\", \"2020-03-31T00:00:00\", \"2020-04-01T00:00:00\", \"2020-04-02T00:00:00\", \"2020-04-03T00:00:00\", \"2020-04-04T00:00:00\", \"2020-04-05T00:00:00\", \"2020-04-06T00:00:00\", \"2020-04-07T00:00:00\", \"2020-04-08T00:00:00\", \"2020-04-09T00:00:00\", \"2020-04-10T00:00:00\", \"2020-04-11T00:00:00\", \"2020-04-12T00:00:00\", \"2020-04-13T00:00:00\", \"2020-04-14T00:00:00\", \"2020-04-15T00:00:00\", \"2020-04-16T00:00:00\", \"2020-04-17T00:00:00\", \"2020-04-18T00:00:00\", \"2020-04-19T00:00:00\", \"2020-04-20T00:00:00\", \"2020-04-21T00:00:00\", \"2020-04-22T00:00:00\", \"2020-04-23T00:00:00\", \"2020-04-24T00:00:00\", \"2020-04-25T00:00:00\", \"2020-04-26T00:00:00\", \"2020-04-27T00:00:00\", \"2020-04-28T00:00:00\", \"2020-04-29T00:00:00\", \"2020-04-30T00:00:00\", \"2020-05-01T00:00:00\", \"2020-05-02T00:00:00\", \"2020-05-03T00:00:00\", \"2020-05-04T00:00:00\", \"2020-05-05T00:00:00\", \"2020-05-06T00:00:00\", \"2020-05-07T00:00:00\"], \"xaxis\": \"x11\", \"y\": [0, 0, 0, 0, 0, 0, 0, 0, 0, 0, 0, 0, 0, 0, 0, 0, 0, 0, 0, 0, 0, 0, 0, 0, 0, 0, 0, 0, 0, 0, 0, 0, 0, 0, 0, 0, 0, 0, 0, 0, 0, 0, 0, 1, 0, 0, 0, 0, 0, 0, 0, 5, 3, 4, 0, 1, 5, 9, 17, 23, 9, 5, 10, 13, 71, 36, 30, 4, 8, 7, 0, 2, 26, 13, 37, 37, 23, 1, 63, 53, 15, 64, 13, 38, 62, 46, 27, 44, 7, 25, 229, 91, 120, 69, 26, 29, 115, 38, 165], \"yaxis\": \"y11\"}, {\"hoverlabel\": {\"namelength\": 0}, \"hovertemplate\": \"<b>%{hovertext}</b><br><br>estado=PB<br>data=%{x}<br>casosNovos=%{y}\", \"hovertext\": [\"PB\", \"PB\", \"PB\", \"PB\", \"PB\", \"PB\", \"PB\", \"PB\", \"PB\", \"PB\", \"PB\", \"PB\", \"PB\", \"PB\", \"PB\", \"PB\", \"PB\", \"PB\", \"PB\", \"PB\", \"PB\", \"PB\", \"PB\", \"PB\", \"PB\", \"PB\", \"PB\", \"PB\", \"PB\", \"PB\", \"PB\", \"PB\", \"PB\", \"PB\", \"PB\", \"PB\", \"PB\", \"PB\", \"PB\", \"PB\", \"PB\", \"PB\", \"PB\", \"PB\", \"PB\", \"PB\", \"PB\", \"PB\", \"PB\", \"PB\", \"PB\", \"PB\", \"PB\", \"PB\", \"PB\", \"PB\", \"PB\", \"PB\", \"PB\", \"PB\", \"PB\", \"PB\", \"PB\", \"PB\", \"PB\", \"PB\", \"PB\", \"PB\", \"PB\", \"PB\", \"PB\", \"PB\", \"PB\", \"PB\", \"PB\", \"PB\", \"PB\", \"PB\", \"PB\", \"PB\", \"PB\", \"PB\", \"PB\", \"PB\", \"PB\", \"PB\", \"PB\", \"PB\", \"PB\", \"PB\", \"PB\", \"PB\", \"PB\", \"PB\", \"PB\", \"PB\", \"PB\", \"PB\", \"PB\"], \"legendgroup\": \"\", \"line\": {\"color\": \"indianred\", \"dash\": \"solid\"}, \"mode\": \"lines\", \"name\": \"\", \"showlegend\": false, \"type\": \"scattergl\", \"x\": [\"2020-01-30T00:00:00\", \"2020-01-31T00:00:00\", \"2020-02-01T00:00:00\", \"2020-02-02T00:00:00\", \"2020-02-03T00:00:00\", \"2020-02-04T00:00:00\", \"2020-02-05T00:00:00\", \"2020-02-06T00:00:00\", \"2020-02-07T00:00:00\", \"2020-02-08T00:00:00\", \"2020-02-09T00:00:00\", \"2020-02-10T00:00:00\", \"2020-02-11T00:00:00\", \"2020-02-12T00:00:00\", \"2020-02-13T00:00:00\", \"2020-02-14T00:00:00\", \"2020-02-15T00:00:00\", \"2020-02-16T00:00:00\", \"2020-02-17T00:00:00\", \"2020-02-18T00:00:00\", \"2020-02-19T00:00:00\", \"2020-02-20T00:00:00\", \"2020-02-21T00:00:00\", \"2020-02-22T00:00:00\", \"2020-02-23T00:00:00\", \"2020-02-24T00:00:00\", \"2020-02-25T00:00:00\", \"2020-02-26T00:00:00\", \"2020-02-27T00:00:00\", \"2020-02-28T00:00:00\", \"2020-02-29T00:00:00\", \"2020-03-01T00:00:00\", \"2020-03-02T00:00:00\", \"2020-03-03T00:00:00\", \"2020-03-04T00:00:00\", \"2020-03-05T00:00:00\", \"2020-03-06T00:00:00\", \"2020-03-07T00:00:00\", \"2020-03-08T00:00:00\", \"2020-03-09T00:00:00\", \"2020-03-10T00:00:00\", \"2020-03-11T00:00:00\", \"2020-03-12T00:00:00\", \"2020-03-13T00:00:00\", \"2020-03-14T00:00:00\", \"2020-03-15T00:00:00\", \"2020-03-16T00:00:00\", \"2020-03-17T00:00:00\", \"2020-03-18T00:00:00\", \"2020-03-19T00:00:00\", \"2020-03-20T00:00:00\", \"2020-03-21T00:00:00\", \"2020-03-22T00:00:00\", \"2020-03-23T00:00:00\", \"2020-03-24T00:00:00\", \"2020-03-25T00:00:00\", \"2020-03-26T00:00:00\", \"2020-03-27T00:00:00\", \"2020-03-28T00:00:00\", \"2020-03-29T00:00:00\", \"2020-03-30T00:00:00\", \"2020-03-31T00:00:00\", \"2020-04-01T00:00:00\", \"2020-04-02T00:00:00\", \"2020-04-03T00:00:00\", \"2020-04-04T00:00:00\", \"2020-04-05T00:00:00\", \"2020-04-06T00:00:00\", \"2020-04-07T00:00:00\", \"2020-04-08T00:00:00\", \"2020-04-09T00:00:00\", \"2020-04-10T00:00:00\", \"2020-04-11T00:00:00\", \"2020-04-12T00:00:00\", \"2020-04-13T00:00:00\", \"2020-04-14T00:00:00\", \"2020-04-15T00:00:00\", \"2020-04-16T00:00:00\", \"2020-04-17T00:00:00\", \"2020-04-18T00:00:00\", \"2020-04-19T00:00:00\", \"2020-04-20T00:00:00\", \"2020-04-21T00:00:00\", \"2020-04-22T00:00:00\", \"2020-04-23T00:00:00\", \"2020-04-24T00:00:00\", \"2020-04-25T00:00:00\", \"2020-04-26T00:00:00\", \"2020-04-27T00:00:00\", \"2020-04-28T00:00:00\", \"2020-04-29T00:00:00\", \"2020-04-30T00:00:00\", \"2020-05-01T00:00:00\", \"2020-05-02T00:00:00\", \"2020-05-03T00:00:00\", \"2020-05-04T00:00:00\", \"2020-05-05T00:00:00\", \"2020-05-06T00:00:00\", \"2020-05-07T00:00:00\"], \"xaxis\": \"x12\", \"y\": [0, 0, 0, 0, 0, 0, 0, 0, 0, 0, 0, 0, 0, 0, 0, 0, 0, 0, 0, 0, 0, 0, 0, 0, 0, 0, 0, 0, 0, 0, 0, 0, 0, 0, 0, 0, 0, 0, 0, 0, 0, 0, 0, 0, 0, 0, 0, 0, 0, 1, 0, 0, 0, 1, 1, 0, 2, 4, 5, 0, 1, 2, 3, 1, 8, 3, 2, 1, 1, 5, 14, 24, 6, 16, 10, 25, 15, 14, 30, 10, 31, 9, 18, 38, 44, 41, 61, 52, 44, 90, 66, 115, 112, 108, 135, 50, 142, 132, 164], \"yaxis\": \"y12\"}, {\"hoverlabel\": {\"namelength\": 0}, \"hovertemplate\": \"<b>%{hovertext}</b><br><br>estado=PE<br>data=%{x}<br>casosNovos=%{y}\", \"hovertext\": [\"PE\", \"PE\", \"PE\", \"PE\", \"PE\", \"PE\", \"PE\", \"PE\", \"PE\", \"PE\", \"PE\", \"PE\", \"PE\", \"PE\", \"PE\", \"PE\", \"PE\", \"PE\", \"PE\", \"PE\", \"PE\", \"PE\", \"PE\", \"PE\", \"PE\", \"PE\", \"PE\", \"PE\", \"PE\", \"PE\", \"PE\", \"PE\", \"PE\", \"PE\", \"PE\", \"PE\", \"PE\", \"PE\", \"PE\", \"PE\", \"PE\", \"PE\", \"PE\", \"PE\", \"PE\", \"PE\", \"PE\", \"PE\", \"PE\", \"PE\", \"PE\", \"PE\", \"PE\", \"PE\", \"PE\", \"PE\", \"PE\", \"PE\", \"PE\", \"PE\", \"PE\", \"PE\", \"PE\", \"PE\", \"PE\", \"PE\", \"PE\", \"PE\", \"PE\", \"PE\", \"PE\", \"PE\", \"PE\", \"PE\", \"PE\", \"PE\", \"PE\", \"PE\", \"PE\", \"PE\", \"PE\", \"PE\", \"PE\", \"PE\", \"PE\", \"PE\", \"PE\", \"PE\", \"PE\", \"PE\", \"PE\", \"PE\", \"PE\", \"PE\", \"PE\", \"PE\", \"PE\", \"PE\", \"PE\"], \"legendgroup\": \"\", \"line\": {\"color\": \"indianred\", \"dash\": \"solid\"}, \"mode\": \"lines\", \"name\": \"\", \"showlegend\": false, \"type\": \"scattergl\", \"x\": [\"2020-01-30T00:00:00\", \"2020-01-31T00:00:00\", \"2020-02-01T00:00:00\", \"2020-02-02T00:00:00\", \"2020-02-03T00:00:00\", \"2020-02-04T00:00:00\", \"2020-02-05T00:00:00\", \"2020-02-06T00:00:00\", \"2020-02-07T00:00:00\", \"2020-02-08T00:00:00\", \"2020-02-09T00:00:00\", \"2020-02-10T00:00:00\", \"2020-02-11T00:00:00\", \"2020-02-12T00:00:00\", \"2020-02-13T00:00:00\", \"2020-02-14T00:00:00\", \"2020-02-15T00:00:00\", \"2020-02-16T00:00:00\", \"2020-02-17T00:00:00\", \"2020-02-18T00:00:00\", \"2020-02-19T00:00:00\", \"2020-02-20T00:00:00\", \"2020-02-21T00:00:00\", \"2020-02-22T00:00:00\", \"2020-02-23T00:00:00\", \"2020-02-24T00:00:00\", \"2020-02-25T00:00:00\", \"2020-02-26T00:00:00\", \"2020-02-27T00:00:00\", \"2020-02-28T00:00:00\", \"2020-02-29T00:00:00\", \"2020-03-01T00:00:00\", \"2020-03-02T00:00:00\", \"2020-03-03T00:00:00\", \"2020-03-04T00:00:00\", \"2020-03-05T00:00:00\", \"2020-03-06T00:00:00\", \"2020-03-07T00:00:00\", \"2020-03-08T00:00:00\", \"2020-03-09T00:00:00\", \"2020-03-10T00:00:00\", \"2020-03-11T00:00:00\", \"2020-03-12T00:00:00\", \"2020-03-13T00:00:00\", \"2020-03-14T00:00:00\", \"2020-03-15T00:00:00\", \"2020-03-16T00:00:00\", \"2020-03-17T00:00:00\", \"2020-03-18T00:00:00\", \"2020-03-19T00:00:00\", \"2020-03-20T00:00:00\", \"2020-03-21T00:00:00\", \"2020-03-22T00:00:00\", \"2020-03-23T00:00:00\", \"2020-03-24T00:00:00\", \"2020-03-25T00:00:00\", \"2020-03-26T00:00:00\", \"2020-03-27T00:00:00\", \"2020-03-28T00:00:00\", \"2020-03-29T00:00:00\", \"2020-03-30T00:00:00\", \"2020-03-31T00:00:00\", \"2020-04-01T00:00:00\", \"2020-04-02T00:00:00\", \"2020-04-03T00:00:00\", \"2020-04-04T00:00:00\", \"2020-04-05T00:00:00\", \"2020-04-06T00:00:00\", \"2020-04-07T00:00:00\", \"2020-04-08T00:00:00\", \"2020-04-09T00:00:00\", \"2020-04-10T00:00:00\", \"2020-04-11T00:00:00\", \"2020-04-12T00:00:00\", \"2020-04-13T00:00:00\", \"2020-04-14T00:00:00\", \"2020-04-15T00:00:00\", \"2020-04-16T00:00:00\", \"2020-04-17T00:00:00\", \"2020-04-18T00:00:00\", \"2020-04-19T00:00:00\", \"2020-04-20T00:00:00\", \"2020-04-21T00:00:00\", \"2020-04-22T00:00:00\", \"2020-04-23T00:00:00\", \"2020-04-24T00:00:00\", \"2020-04-25T00:00:00\", \"2020-04-26T00:00:00\", \"2020-04-27T00:00:00\", \"2020-04-28T00:00:00\", \"2020-04-29T00:00:00\", \"2020-04-30T00:00:00\", \"2020-05-01T00:00:00\", \"2020-05-02T00:00:00\", \"2020-05-03T00:00:00\", \"2020-05-04T00:00:00\", \"2020-05-05T00:00:00\", \"2020-05-06T00:00:00\", \"2020-05-07T00:00:00\"], \"xaxis\": \"x13\", \"y\": [0, 0, 0, 0, 0, 0, 0, 0, 0, 0, 0, 0, 0, 0, 0, 0, 0, 0, 0, 0, 0, 0, 0, 0, 0, 0, 0, 0, 0, 0, 0, 0, 0, 0, 0, 0, 0, 0, 0, 0, 0, 0, 2, 0, 0, 0, 0, 14, 0, 12, 2, 0, 7, 5, 0, 4, 2, 8, 12, 5, 5, 9, 8, 11, 30, 40, 25, 22, 129, 49, 154, 129, 132, 144, 194, 130, 200, 199, 323, 187, 266, 231, 218, 390, 221, 480, 508, 391, 460, 366, 470, 682, 458, 811, 498, 220, 462, 556, 943], \"yaxis\": \"y13\"}, {\"hoverlabel\": {\"namelength\": 0}, \"hovertemplate\": \"<b>%{hovertext}</b><br><br>estado=AL<br>data=%{x}<br>casosNovos=%{y}\", \"hovertext\": [\"AL\", \"AL\", \"AL\", \"AL\", \"AL\", \"AL\", \"AL\", \"AL\", \"AL\", \"AL\", \"AL\", \"AL\", \"AL\", \"AL\", \"AL\", \"AL\", \"AL\", \"AL\", \"AL\", \"AL\", \"AL\", \"AL\", \"AL\", \"AL\", \"AL\", \"AL\", \"AL\", \"AL\", \"AL\", \"AL\", \"AL\", \"AL\", \"AL\", \"AL\", \"AL\", \"AL\", \"AL\", \"AL\", \"AL\", \"AL\", \"AL\", \"AL\", \"AL\", \"AL\", \"AL\", \"AL\", \"AL\", \"AL\", \"AL\", \"AL\", \"AL\", \"AL\", \"AL\", \"AL\", \"AL\", \"AL\", \"AL\", \"AL\", \"AL\", \"AL\", \"AL\", \"AL\", \"AL\", \"AL\", \"AL\", \"AL\", \"AL\", \"AL\", \"AL\", \"AL\", \"AL\", \"AL\", \"AL\", \"AL\", \"AL\", \"AL\", \"AL\", \"AL\", \"AL\", \"AL\", \"AL\", \"AL\", \"AL\", \"AL\", \"AL\", \"AL\", \"AL\", \"AL\", \"AL\", \"AL\", \"AL\", \"AL\", \"AL\", \"AL\", \"AL\", \"AL\", \"AL\", \"AL\", \"AL\"], \"legendgroup\": \"\", \"line\": {\"color\": \"indianred\", \"dash\": \"solid\"}, \"mode\": \"lines\", \"name\": \"\", \"showlegend\": false, \"type\": \"scattergl\", \"x\": [\"2020-01-30T00:00:00\", \"2020-01-31T00:00:00\", \"2020-02-01T00:00:00\", \"2020-02-02T00:00:00\", \"2020-02-03T00:00:00\", \"2020-02-04T00:00:00\", \"2020-02-05T00:00:00\", \"2020-02-06T00:00:00\", \"2020-02-07T00:00:00\", \"2020-02-08T00:00:00\", \"2020-02-09T00:00:00\", \"2020-02-10T00:00:00\", \"2020-02-11T00:00:00\", \"2020-02-12T00:00:00\", \"2020-02-13T00:00:00\", \"2020-02-14T00:00:00\", \"2020-02-15T00:00:00\", \"2020-02-16T00:00:00\", \"2020-02-17T00:00:00\", \"2020-02-18T00:00:00\", \"2020-02-19T00:00:00\", \"2020-02-20T00:00:00\", \"2020-02-21T00:00:00\", \"2020-02-22T00:00:00\", \"2020-02-23T00:00:00\", \"2020-02-24T00:00:00\", \"2020-02-25T00:00:00\", \"2020-02-26T00:00:00\", \"2020-02-27T00:00:00\", \"2020-02-28T00:00:00\", \"2020-02-29T00:00:00\", \"2020-03-01T00:00:00\", \"2020-03-02T00:00:00\", \"2020-03-03T00:00:00\", \"2020-03-04T00:00:00\", \"2020-03-05T00:00:00\", \"2020-03-06T00:00:00\", \"2020-03-07T00:00:00\", \"2020-03-08T00:00:00\", \"2020-03-09T00:00:00\", \"2020-03-10T00:00:00\", \"2020-03-11T00:00:00\", \"2020-03-12T00:00:00\", \"2020-03-13T00:00:00\", \"2020-03-14T00:00:00\", \"2020-03-15T00:00:00\", \"2020-03-16T00:00:00\", \"2020-03-17T00:00:00\", \"2020-03-18T00:00:00\", \"2020-03-19T00:00:00\", \"2020-03-20T00:00:00\", \"2020-03-21T00:00:00\", \"2020-03-22T00:00:00\", \"2020-03-23T00:00:00\", \"2020-03-24T00:00:00\", \"2020-03-25T00:00:00\", \"2020-03-26T00:00:00\", \"2020-03-27T00:00:00\", \"2020-03-28T00:00:00\", \"2020-03-29T00:00:00\", \"2020-03-30T00:00:00\", \"2020-03-31T00:00:00\", \"2020-04-01T00:00:00\", \"2020-04-02T00:00:00\", \"2020-04-03T00:00:00\", \"2020-04-04T00:00:00\", \"2020-04-05T00:00:00\", \"2020-04-06T00:00:00\", \"2020-04-07T00:00:00\", \"2020-04-08T00:00:00\", \"2020-04-09T00:00:00\", \"2020-04-10T00:00:00\", \"2020-04-11T00:00:00\", \"2020-04-12T00:00:00\", \"2020-04-13T00:00:00\", \"2020-04-14T00:00:00\", \"2020-04-15T00:00:00\", \"2020-04-16T00:00:00\", \"2020-04-17T00:00:00\", \"2020-04-18T00:00:00\", \"2020-04-19T00:00:00\", \"2020-04-20T00:00:00\", \"2020-04-21T00:00:00\", \"2020-04-22T00:00:00\", \"2020-04-23T00:00:00\", \"2020-04-24T00:00:00\", \"2020-04-25T00:00:00\", \"2020-04-26T00:00:00\", \"2020-04-27T00:00:00\", \"2020-04-28T00:00:00\", \"2020-04-29T00:00:00\", \"2020-04-30T00:00:00\", \"2020-05-01T00:00:00\", \"2020-05-02T00:00:00\", \"2020-05-03T00:00:00\", \"2020-05-04T00:00:00\", \"2020-05-05T00:00:00\", \"2020-05-06T00:00:00\", \"2020-05-07T00:00:00\"], \"xaxis\": \"x14\", \"y\": [0, 0, 0, 0, 0, 0, 0, 0, 0, 0, 0, 0, 0, 0, 0, 0, 0, 0, 0, 0, 0, 0, 0, 0, 0, 0, 0, 0, 0, 0, 0, 0, 0, 0, 0, 0, 0, 0, 1, 0, 0, 0, 0, 0, 0, 0, 0, 0, 0, 3, 1, 2, 0, 0, 2, 2, 0, 0, 3, 3, 0, 1, 0, 0, 4, 1, 5, 3, 1, 5, 0, 8, 3, 0, 2, 22, 10, 7, 21, 22, 27, 12, 39, 33, 81, 89, 88, 53, 89, 134, 180, 87, 182, 146, 69, 97, 68, 97, 164], \"yaxis\": \"y14\"}, {\"hoverlabel\": {\"namelength\": 0}, \"hovertemplate\": \"<b>%{hovertext}</b><br><br>estado=SE<br>data=%{x}<br>casosNovos=%{y}\", \"hovertext\": [\"SE\", \"SE\", \"SE\", \"SE\", \"SE\", \"SE\", \"SE\", \"SE\", \"SE\", \"SE\", \"SE\", \"SE\", \"SE\", \"SE\", \"SE\", \"SE\", \"SE\", \"SE\", \"SE\", \"SE\", \"SE\", \"SE\", \"SE\", \"SE\", \"SE\", \"SE\", \"SE\", \"SE\", \"SE\", \"SE\", \"SE\", \"SE\", \"SE\", \"SE\", \"SE\", \"SE\", \"SE\", \"SE\", \"SE\", \"SE\", \"SE\", \"SE\", \"SE\", \"SE\", \"SE\", \"SE\", \"SE\", \"SE\", \"SE\", \"SE\", \"SE\", \"SE\", \"SE\", \"SE\", \"SE\", \"SE\", \"SE\", \"SE\", \"SE\", \"SE\", \"SE\", \"SE\", \"SE\", \"SE\", \"SE\", \"SE\", \"SE\", \"SE\", \"SE\", \"SE\", \"SE\", \"SE\", \"SE\", \"SE\", \"SE\", \"SE\", \"SE\", \"SE\", \"SE\", \"SE\", \"SE\", \"SE\", \"SE\", \"SE\", \"SE\", \"SE\", \"SE\", \"SE\", \"SE\", \"SE\", \"SE\", \"SE\", \"SE\", \"SE\", \"SE\", \"SE\", \"SE\", \"SE\", \"SE\"], \"legendgroup\": \"\", \"line\": {\"color\": \"indianred\", \"dash\": \"solid\"}, \"mode\": \"lines\", \"name\": \"\", \"showlegend\": false, \"type\": \"scattergl\", \"x\": [\"2020-01-30T00:00:00\", \"2020-01-31T00:00:00\", \"2020-02-01T00:00:00\", \"2020-02-02T00:00:00\", \"2020-02-03T00:00:00\", \"2020-02-04T00:00:00\", \"2020-02-05T00:00:00\", \"2020-02-06T00:00:00\", \"2020-02-07T00:00:00\", \"2020-02-08T00:00:00\", \"2020-02-09T00:00:00\", \"2020-02-10T00:00:00\", \"2020-02-11T00:00:00\", \"2020-02-12T00:00:00\", \"2020-02-13T00:00:00\", \"2020-02-14T00:00:00\", \"2020-02-15T00:00:00\", \"2020-02-16T00:00:00\", \"2020-02-17T00:00:00\", \"2020-02-18T00:00:00\", \"2020-02-19T00:00:00\", \"2020-02-20T00:00:00\", \"2020-02-21T00:00:00\", \"2020-02-22T00:00:00\", \"2020-02-23T00:00:00\", \"2020-02-24T00:00:00\", \"2020-02-25T00:00:00\", \"2020-02-26T00:00:00\", \"2020-02-27T00:00:00\", \"2020-02-28T00:00:00\", \"2020-02-29T00:00:00\", \"2020-03-01T00:00:00\", \"2020-03-02T00:00:00\", \"2020-03-03T00:00:00\", \"2020-03-04T00:00:00\", \"2020-03-05T00:00:00\", \"2020-03-06T00:00:00\", \"2020-03-07T00:00:00\", \"2020-03-08T00:00:00\", \"2020-03-09T00:00:00\", \"2020-03-10T00:00:00\", \"2020-03-11T00:00:00\", \"2020-03-12T00:00:00\", \"2020-03-13T00:00:00\", \"2020-03-14T00:00:00\", \"2020-03-15T00:00:00\", \"2020-03-16T00:00:00\", \"2020-03-17T00:00:00\", \"2020-03-18T00:00:00\", \"2020-03-19T00:00:00\", \"2020-03-20T00:00:00\", \"2020-03-21T00:00:00\", \"2020-03-22T00:00:00\", \"2020-03-23T00:00:00\", \"2020-03-24T00:00:00\", \"2020-03-25T00:00:00\", \"2020-03-26T00:00:00\", \"2020-03-27T00:00:00\", \"2020-03-28T00:00:00\", \"2020-03-29T00:00:00\", \"2020-03-30T00:00:00\", \"2020-03-31T00:00:00\", \"2020-04-01T00:00:00\", \"2020-04-02T00:00:00\", \"2020-04-03T00:00:00\", \"2020-04-04T00:00:00\", \"2020-04-05T00:00:00\", \"2020-04-06T00:00:00\", \"2020-04-07T00:00:00\", \"2020-04-08T00:00:00\", \"2020-04-09T00:00:00\", \"2020-04-10T00:00:00\", \"2020-04-11T00:00:00\", \"2020-04-12T00:00:00\", \"2020-04-13T00:00:00\", \"2020-04-14T00:00:00\", \"2020-04-15T00:00:00\", \"2020-04-16T00:00:00\", \"2020-04-17T00:00:00\", \"2020-04-18T00:00:00\", \"2020-04-19T00:00:00\", \"2020-04-20T00:00:00\", \"2020-04-21T00:00:00\", \"2020-04-22T00:00:00\", \"2020-04-23T00:00:00\", \"2020-04-24T00:00:00\", \"2020-04-25T00:00:00\", \"2020-04-26T00:00:00\", \"2020-04-27T00:00:00\", \"2020-04-28T00:00:00\", \"2020-04-29T00:00:00\", \"2020-04-30T00:00:00\", \"2020-05-01T00:00:00\", \"2020-05-02T00:00:00\", \"2020-05-03T00:00:00\", \"2020-05-04T00:00:00\", \"2020-05-05T00:00:00\", \"2020-05-06T00:00:00\", \"2020-05-07T00:00:00\"], \"xaxis\": \"x15\", \"y\": [0, 0, 0, 0, 0, 0, 0, 0, 0, 0, 0, 0, 0, 0, 0, 0, 0, 0, 0, 0, 0, 0, 0, 0, 0, 0, 0, 0, 0, 0, 0, 0, 0, 0, 0, 0, 0, 0, 0, 0, 0, 0, 0, 0, 0, 1, 0, 3, 1, 1, 0, 4, 0, 0, 5, 1, 0, 0, 0, 0, 0, 3, 1, 3, 2, 2, 5, 0, 4, 0, 3, 3, 0, 2, 0, 1, 1, 2, 5, 18, 12, 3, 6, 25, 7, 20, 9, 6, 38, 83, 57, 110, 70, 84, 129, 42, 126, 100, 216], \"yaxis\": \"y15\"}, {\"hoverlabel\": {\"namelength\": 0}, \"hovertemplate\": \"<b>%{hovertext}</b><br><br>estado=BA<br>data=%{x}<br>casosNovos=%{y}\", \"hovertext\": [\"BA\", \"BA\", \"BA\", \"BA\", \"BA\", \"BA\", \"BA\", \"BA\", \"BA\", \"BA\", \"BA\", \"BA\", \"BA\", \"BA\", \"BA\", \"BA\", \"BA\", \"BA\", \"BA\", \"BA\", \"BA\", \"BA\", \"BA\", \"BA\", \"BA\", \"BA\", \"BA\", \"BA\", \"BA\", \"BA\", \"BA\", \"BA\", \"BA\", \"BA\", \"BA\", \"BA\", \"BA\", \"BA\", \"BA\", \"BA\", \"BA\", \"BA\", \"BA\", \"BA\", \"BA\", \"BA\", \"BA\", \"BA\", \"BA\", \"BA\", \"BA\", \"BA\", \"BA\", \"BA\", \"BA\", \"BA\", \"BA\", \"BA\", \"BA\", \"BA\", \"BA\", \"BA\", \"BA\", \"BA\", \"BA\", \"BA\", \"BA\", \"BA\", \"BA\", \"BA\", \"BA\", \"BA\", \"BA\", \"BA\", \"BA\", \"BA\", \"BA\", \"BA\", \"BA\", \"BA\", \"BA\", \"BA\", \"BA\", \"BA\", \"BA\", \"BA\", \"BA\", \"BA\", \"BA\", \"BA\", \"BA\", \"BA\", \"BA\", \"BA\", \"BA\", \"BA\", \"BA\", \"BA\", \"BA\"], \"legendgroup\": \"\", \"line\": {\"color\": \"indianred\", \"dash\": \"solid\"}, \"mode\": \"lines\", \"name\": \"\", \"showlegend\": false, \"type\": \"scattergl\", \"x\": [\"2020-01-30T00:00:00\", \"2020-01-31T00:00:00\", \"2020-02-01T00:00:00\", \"2020-02-02T00:00:00\", \"2020-02-03T00:00:00\", \"2020-02-04T00:00:00\", \"2020-02-05T00:00:00\", \"2020-02-06T00:00:00\", \"2020-02-07T00:00:00\", \"2020-02-08T00:00:00\", \"2020-02-09T00:00:00\", \"2020-02-10T00:00:00\", \"2020-02-11T00:00:00\", \"2020-02-12T00:00:00\", \"2020-02-13T00:00:00\", \"2020-02-14T00:00:00\", \"2020-02-15T00:00:00\", \"2020-02-16T00:00:00\", \"2020-02-17T00:00:00\", \"2020-02-18T00:00:00\", \"2020-02-19T00:00:00\", \"2020-02-20T00:00:00\", \"2020-02-21T00:00:00\", \"2020-02-22T00:00:00\", \"2020-02-23T00:00:00\", \"2020-02-24T00:00:00\", \"2020-02-25T00:00:00\", \"2020-02-26T00:00:00\", \"2020-02-27T00:00:00\", \"2020-02-28T00:00:00\", \"2020-02-29T00:00:00\", \"2020-03-01T00:00:00\", \"2020-03-02T00:00:00\", \"2020-03-03T00:00:00\", \"2020-03-04T00:00:00\", \"2020-03-05T00:00:00\", \"2020-03-06T00:00:00\", \"2020-03-07T00:00:00\", \"2020-03-08T00:00:00\", \"2020-03-09T00:00:00\", \"2020-03-10T00:00:00\", \"2020-03-11T00:00:00\", \"2020-03-12T00:00:00\", \"2020-03-13T00:00:00\", \"2020-03-14T00:00:00\", \"2020-03-15T00:00:00\", \"2020-03-16T00:00:00\", \"2020-03-17T00:00:00\", \"2020-03-18T00:00:00\", \"2020-03-19T00:00:00\", \"2020-03-20T00:00:00\", \"2020-03-21T00:00:00\", \"2020-03-22T00:00:00\", \"2020-03-23T00:00:00\", \"2020-03-24T00:00:00\", \"2020-03-25T00:00:00\", \"2020-03-26T00:00:00\", \"2020-03-27T00:00:00\", \"2020-03-28T00:00:00\", \"2020-03-29T00:00:00\", \"2020-03-30T00:00:00\", \"2020-03-31T00:00:00\", \"2020-04-01T00:00:00\", \"2020-04-02T00:00:00\", \"2020-04-03T00:00:00\", \"2020-04-04T00:00:00\", \"2020-04-05T00:00:00\", \"2020-04-06T00:00:00\", \"2020-04-07T00:00:00\", \"2020-04-08T00:00:00\", \"2020-04-09T00:00:00\", \"2020-04-10T00:00:00\", \"2020-04-11T00:00:00\", \"2020-04-12T00:00:00\", \"2020-04-13T00:00:00\", \"2020-04-14T00:00:00\", \"2020-04-15T00:00:00\", \"2020-04-16T00:00:00\", \"2020-04-17T00:00:00\", \"2020-04-18T00:00:00\", \"2020-04-19T00:00:00\", \"2020-04-20T00:00:00\", \"2020-04-21T00:00:00\", \"2020-04-22T00:00:00\", \"2020-04-23T00:00:00\", \"2020-04-24T00:00:00\", \"2020-04-25T00:00:00\", \"2020-04-26T00:00:00\", \"2020-04-27T00:00:00\", \"2020-04-28T00:00:00\", \"2020-04-29T00:00:00\", \"2020-04-30T00:00:00\", \"2020-05-01T00:00:00\", \"2020-05-02T00:00:00\", \"2020-05-03T00:00:00\", \"2020-05-04T00:00:00\", \"2020-05-05T00:00:00\", \"2020-05-06T00:00:00\", \"2020-05-07T00:00:00\"], \"xaxis\": \"x16\", \"y\": [0, 0, 0, 0, 0, 0, 0, 0, 0, 0, 0, 0, 0, 0, 0, 0, 0, 0, 0, 0, 0, 0, 0, 0, 0, 0, 0, 0, 0, 0, 0, 0, 0, 0, 0, 0, 1, 1, 0, 0, 0, 0, 0, 0, 0, 0, 0, 1, 0, 27, 3, 8, 8, 14, 13, 8, 20, 11, 12, 27, 22, 37, 33, 21, 15, 50, 69, 30, 25, 41, 62, 45, 31, 38, 50, 36, 48, 144, 108, 134, 37, 111, 148, 155, 145, 173, 119, 128, 145, 186, 106, 205, 234, 182, 228, 239, 306, 261, 227], \"yaxis\": \"y16\"}, {\"hoverlabel\": {\"namelength\": 0}, \"hovertemplate\": \"<b>%{hovertext}</b><br><br>estado=MG<br>data=%{x}<br>casosNovos=%{y}\", \"hovertext\": [\"MG\", \"MG\", \"MG\", \"MG\", \"MG\", \"MG\", \"MG\", \"MG\", \"MG\", \"MG\", \"MG\", \"MG\", \"MG\", \"MG\", \"MG\", \"MG\", \"MG\", \"MG\", \"MG\", \"MG\", \"MG\", \"MG\", \"MG\", \"MG\", \"MG\", \"MG\", \"MG\", \"MG\", \"MG\", \"MG\", \"MG\", \"MG\", \"MG\", \"MG\", \"MG\", \"MG\", \"MG\", \"MG\", \"MG\", \"MG\", \"MG\", \"MG\", \"MG\", \"MG\", \"MG\", \"MG\", \"MG\", \"MG\", \"MG\", \"MG\", \"MG\", \"MG\", \"MG\", \"MG\", \"MG\", \"MG\", \"MG\", \"MG\", \"MG\", \"MG\", \"MG\", \"MG\", \"MG\", \"MG\", \"MG\", \"MG\", \"MG\", \"MG\", \"MG\", \"MG\", \"MG\", \"MG\", \"MG\", \"MG\", \"MG\", \"MG\", \"MG\", \"MG\", \"MG\", \"MG\", \"MG\", \"MG\", \"MG\", \"MG\", \"MG\", \"MG\", \"MG\", \"MG\", \"MG\", \"MG\", \"MG\", \"MG\", \"MG\", \"MG\", \"MG\", \"MG\", \"MG\", \"MG\", \"MG\"], \"legendgroup\": \"\", \"line\": {\"color\": \"indianred\", \"dash\": \"solid\"}, \"mode\": \"lines\", \"name\": \"\", \"showlegend\": false, \"type\": \"scattergl\", \"x\": [\"2020-01-30T00:00:00\", \"2020-01-31T00:00:00\", \"2020-02-01T00:00:00\", \"2020-02-02T00:00:00\", \"2020-02-03T00:00:00\", \"2020-02-04T00:00:00\", \"2020-02-05T00:00:00\", \"2020-02-06T00:00:00\", \"2020-02-07T00:00:00\", \"2020-02-08T00:00:00\", \"2020-02-09T00:00:00\", \"2020-02-10T00:00:00\", \"2020-02-11T00:00:00\", \"2020-02-12T00:00:00\", \"2020-02-13T00:00:00\", \"2020-02-14T00:00:00\", \"2020-02-15T00:00:00\", \"2020-02-16T00:00:00\", \"2020-02-17T00:00:00\", \"2020-02-18T00:00:00\", \"2020-02-19T00:00:00\", \"2020-02-20T00:00:00\", \"2020-02-21T00:00:00\", \"2020-02-22T00:00:00\", \"2020-02-23T00:00:00\", \"2020-02-24T00:00:00\", \"2020-02-25T00:00:00\", \"2020-02-26T00:00:00\", \"2020-02-27T00:00:00\", \"2020-02-28T00:00:00\", \"2020-02-29T00:00:00\", \"2020-03-01T00:00:00\", \"2020-03-02T00:00:00\", \"2020-03-03T00:00:00\", \"2020-03-04T00:00:00\", \"2020-03-05T00:00:00\", \"2020-03-06T00:00:00\", \"2020-03-07T00:00:00\", \"2020-03-08T00:00:00\", \"2020-03-09T00:00:00\", \"2020-03-10T00:00:00\", \"2020-03-11T00:00:00\", \"2020-03-12T00:00:00\", \"2020-03-13T00:00:00\", \"2020-03-14T00:00:00\", \"2020-03-15T00:00:00\", \"2020-03-16T00:00:00\", \"2020-03-17T00:00:00\", \"2020-03-18T00:00:00\", \"2020-03-19T00:00:00\", \"2020-03-20T00:00:00\", \"2020-03-21T00:00:00\", \"2020-03-22T00:00:00\", \"2020-03-23T00:00:00\", \"2020-03-24T00:00:00\", \"2020-03-25T00:00:00\", \"2020-03-26T00:00:00\", \"2020-03-27T00:00:00\", \"2020-03-28T00:00:00\", \"2020-03-29T00:00:00\", \"2020-03-30T00:00:00\", \"2020-03-31T00:00:00\", \"2020-04-01T00:00:00\", \"2020-04-02T00:00:00\", \"2020-04-03T00:00:00\", \"2020-04-04T00:00:00\", \"2020-04-05T00:00:00\", \"2020-04-06T00:00:00\", \"2020-04-07T00:00:00\", \"2020-04-08T00:00:00\", \"2020-04-09T00:00:00\", \"2020-04-10T00:00:00\", \"2020-04-11T00:00:00\", \"2020-04-12T00:00:00\", \"2020-04-13T00:00:00\", \"2020-04-14T00:00:00\", \"2020-04-15T00:00:00\", \"2020-04-16T00:00:00\", \"2020-04-17T00:00:00\", \"2020-04-18T00:00:00\", \"2020-04-19T00:00:00\", \"2020-04-20T00:00:00\", \"2020-04-21T00:00:00\", \"2020-04-22T00:00:00\", \"2020-04-23T00:00:00\", \"2020-04-24T00:00:00\", \"2020-04-25T00:00:00\", \"2020-04-26T00:00:00\", \"2020-04-27T00:00:00\", \"2020-04-28T00:00:00\", \"2020-04-29T00:00:00\", \"2020-04-30T00:00:00\", \"2020-05-01T00:00:00\", \"2020-05-02T00:00:00\", \"2020-05-03T00:00:00\", \"2020-05-04T00:00:00\", \"2020-05-05T00:00:00\", \"2020-05-06T00:00:00\", \"2020-05-07T00:00:00\"], \"xaxis\": \"x17\", \"y\": [0, 0, 0, 0, 0, 0, 0, 0, 0, 0, 0, 0, 0, 0, 0, 0, 0, 0, 0, 0, 0, 0, 0, 0, 0, 0, 0, 0, 0, 0, 0, 0, 0, 0, 0, 0, 0, 0, 1, 0, 0, 0, 0, 1, 0, 0, 3, 2, 8, 14, 6, 3, 45, 45, 2, 3, 20, 36, 16, 26, 30, 14, 39, 56, 27, 33, 68, 27, 34, 55, 41, 43, 52, 56, 9, 69, 19, 55, 63, 56, 77, 35, 41, 53, 25, 111, 62, 67, 38, 63, 109, 69, 108, 88, 95, 229, 105, 153, 165], \"yaxis\": \"y17\"}, {\"hoverlabel\": {\"namelength\": 0}, \"hovertemplate\": \"<b>%{hovertext}</b><br><br>estado=ES<br>data=%{x}<br>casosNovos=%{y}\", \"hovertext\": [\"ES\", \"ES\", \"ES\", \"ES\", \"ES\", \"ES\", \"ES\", \"ES\", \"ES\", \"ES\", \"ES\", \"ES\", \"ES\", \"ES\", \"ES\", \"ES\", \"ES\", \"ES\", \"ES\", \"ES\", \"ES\", \"ES\", \"ES\", \"ES\", \"ES\", \"ES\", \"ES\", \"ES\", \"ES\", \"ES\", \"ES\", \"ES\", \"ES\", \"ES\", \"ES\", \"ES\", \"ES\", \"ES\", \"ES\", \"ES\", \"ES\", \"ES\", \"ES\", \"ES\", \"ES\", \"ES\", \"ES\", \"ES\", \"ES\", \"ES\", \"ES\", \"ES\", \"ES\", \"ES\", \"ES\", \"ES\", \"ES\", \"ES\", \"ES\", \"ES\", \"ES\", \"ES\", \"ES\", \"ES\", \"ES\", \"ES\", \"ES\", \"ES\", \"ES\", \"ES\", \"ES\", \"ES\", \"ES\", \"ES\", \"ES\", \"ES\", \"ES\", \"ES\", \"ES\", \"ES\", \"ES\", \"ES\", \"ES\", \"ES\", \"ES\", \"ES\", \"ES\", \"ES\", \"ES\", \"ES\", \"ES\", \"ES\", \"ES\", \"ES\", \"ES\", \"ES\", \"ES\", \"ES\", \"ES\"], \"legendgroup\": \"\", \"line\": {\"color\": \"indianred\", \"dash\": \"solid\"}, \"mode\": \"lines\", \"name\": \"\", \"showlegend\": false, \"type\": \"scattergl\", \"x\": [\"2020-01-30T00:00:00\", \"2020-01-31T00:00:00\", \"2020-02-01T00:00:00\", \"2020-02-02T00:00:00\", \"2020-02-03T00:00:00\", \"2020-02-04T00:00:00\", \"2020-02-05T00:00:00\", \"2020-02-06T00:00:00\", \"2020-02-07T00:00:00\", \"2020-02-08T00:00:00\", \"2020-02-09T00:00:00\", \"2020-02-10T00:00:00\", \"2020-02-11T00:00:00\", \"2020-02-12T00:00:00\", \"2020-02-13T00:00:00\", \"2020-02-14T00:00:00\", \"2020-02-15T00:00:00\", \"2020-02-16T00:00:00\", \"2020-02-17T00:00:00\", \"2020-02-18T00:00:00\", \"2020-02-19T00:00:00\", \"2020-02-20T00:00:00\", \"2020-02-21T00:00:00\", \"2020-02-22T00:00:00\", \"2020-02-23T00:00:00\", \"2020-02-24T00:00:00\", \"2020-02-25T00:00:00\", \"2020-02-26T00:00:00\", \"2020-02-27T00:00:00\", \"2020-02-28T00:00:00\", \"2020-02-29T00:00:00\", \"2020-03-01T00:00:00\", \"2020-03-02T00:00:00\", \"2020-03-03T00:00:00\", \"2020-03-04T00:00:00\", \"2020-03-05T00:00:00\", \"2020-03-06T00:00:00\", \"2020-03-07T00:00:00\", \"2020-03-08T00:00:00\", \"2020-03-09T00:00:00\", \"2020-03-10T00:00:00\", \"2020-03-11T00:00:00\", \"2020-03-12T00:00:00\", \"2020-03-13T00:00:00\", \"2020-03-14T00:00:00\", \"2020-03-15T00:00:00\", \"2020-03-16T00:00:00\", \"2020-03-17T00:00:00\", \"2020-03-18T00:00:00\", \"2020-03-19T00:00:00\", \"2020-03-20T00:00:00\", \"2020-03-21T00:00:00\", \"2020-03-22T00:00:00\", \"2020-03-23T00:00:00\", \"2020-03-24T00:00:00\", \"2020-03-25T00:00:00\", \"2020-03-26T00:00:00\", \"2020-03-27T00:00:00\", \"2020-03-28T00:00:00\", \"2020-03-29T00:00:00\", \"2020-03-30T00:00:00\", \"2020-03-31T00:00:00\", \"2020-04-01T00:00:00\", \"2020-04-02T00:00:00\", \"2020-04-03T00:00:00\", \"2020-04-04T00:00:00\", \"2020-04-05T00:00:00\", \"2020-04-06T00:00:00\", \"2020-04-07T00:00:00\", \"2020-04-08T00:00:00\", \"2020-04-09T00:00:00\", \"2020-04-10T00:00:00\", \"2020-04-11T00:00:00\", \"2020-04-12T00:00:00\", \"2020-04-13T00:00:00\", \"2020-04-14T00:00:00\", \"2020-04-15T00:00:00\", \"2020-04-16T00:00:00\", \"2020-04-17T00:00:00\", \"2020-04-18T00:00:00\", \"2020-04-19T00:00:00\", \"2020-04-20T00:00:00\", \"2020-04-21T00:00:00\", \"2020-04-22T00:00:00\", \"2020-04-23T00:00:00\", \"2020-04-24T00:00:00\", \"2020-04-25T00:00:00\", \"2020-04-26T00:00:00\", \"2020-04-27T00:00:00\", \"2020-04-28T00:00:00\", \"2020-04-29T00:00:00\", \"2020-04-30T00:00:00\", \"2020-05-01T00:00:00\", \"2020-05-02T00:00:00\", \"2020-05-03T00:00:00\", \"2020-05-04T00:00:00\", \"2020-05-05T00:00:00\", \"2020-05-06T00:00:00\", \"2020-05-07T00:00:00\"], \"xaxis\": \"x18\", \"y\": [0, 0, 0, 0, 0, 0, 0, 0, 0, 0, 0, 0, 0, 0, 0, 0, 0, 0, 0, 0, 0, 0, 0, 0, 0, 0, 0, 0, 0, 0, 0, 0, 0, 0, 0, 0, 1, 0, 0, 0, 0, 0, 0, 0, 0, 0, 0, 0, 8, 2, 2, 13, 0, 3, 4, 6, 0, 8, 6, 7, 12, 12, 12, 24, 19, 14, 13, 28, 15, 18, 46, 27, 49, 34, 47, 33, 94, 197, 102, 96, 147, 69, 44, 101, 50, 18, 214, 108, 93, 78, 233, 358, 197, 286, 138, 140, 176, 166, 270], \"yaxis\": \"y18\"}, {\"hoverlabel\": {\"namelength\": 0}, \"hovertemplate\": \"<b>%{hovertext}</b><br><br>estado=RJ<br>data=%{x}<br>casosNovos=%{y}\", \"hovertext\": [\"RJ\", \"RJ\", \"RJ\", \"RJ\", \"RJ\", \"RJ\", \"RJ\", \"RJ\", \"RJ\", \"RJ\", \"RJ\", \"RJ\", \"RJ\", \"RJ\", \"RJ\", \"RJ\", \"RJ\", \"RJ\", \"RJ\", \"RJ\", \"RJ\", \"RJ\", \"RJ\", \"RJ\", \"RJ\", \"RJ\", \"RJ\", \"RJ\", \"RJ\", \"RJ\", \"RJ\", \"RJ\", \"RJ\", \"RJ\", \"RJ\", \"RJ\", \"RJ\", \"RJ\", \"RJ\", \"RJ\", \"RJ\", \"RJ\", \"RJ\", \"RJ\", \"RJ\", \"RJ\", \"RJ\", \"RJ\", \"RJ\", \"RJ\", \"RJ\", \"RJ\", \"RJ\", \"RJ\", \"RJ\", \"RJ\", \"RJ\", \"RJ\", \"RJ\", \"RJ\", \"RJ\", \"RJ\", \"RJ\", \"RJ\", \"RJ\", \"RJ\", \"RJ\", \"RJ\", \"RJ\", \"RJ\", \"RJ\", \"RJ\", \"RJ\", \"RJ\", \"RJ\", \"RJ\", \"RJ\", \"RJ\", \"RJ\", \"RJ\", \"RJ\", \"RJ\", \"RJ\", \"RJ\", \"RJ\", \"RJ\", \"RJ\", \"RJ\", \"RJ\", \"RJ\", \"RJ\", \"RJ\", \"RJ\", \"RJ\", \"RJ\", \"RJ\", \"RJ\", \"RJ\", \"RJ\"], \"legendgroup\": \"\", \"line\": {\"color\": \"indianred\", \"dash\": \"solid\"}, \"mode\": \"lines\", \"name\": \"\", \"showlegend\": false, \"type\": \"scattergl\", \"x\": [\"2020-01-30T00:00:00\", \"2020-01-31T00:00:00\", \"2020-02-01T00:00:00\", \"2020-02-02T00:00:00\", \"2020-02-03T00:00:00\", \"2020-02-04T00:00:00\", \"2020-02-05T00:00:00\", \"2020-02-06T00:00:00\", \"2020-02-07T00:00:00\", \"2020-02-08T00:00:00\", \"2020-02-09T00:00:00\", \"2020-02-10T00:00:00\", \"2020-02-11T00:00:00\", \"2020-02-12T00:00:00\", \"2020-02-13T00:00:00\", \"2020-02-14T00:00:00\", \"2020-02-15T00:00:00\", \"2020-02-16T00:00:00\", \"2020-02-17T00:00:00\", \"2020-02-18T00:00:00\", \"2020-02-19T00:00:00\", \"2020-02-20T00:00:00\", \"2020-02-21T00:00:00\", \"2020-02-22T00:00:00\", \"2020-02-23T00:00:00\", \"2020-02-24T00:00:00\", \"2020-02-25T00:00:00\", \"2020-02-26T00:00:00\", \"2020-02-27T00:00:00\", \"2020-02-28T00:00:00\", \"2020-02-29T00:00:00\", \"2020-03-01T00:00:00\", \"2020-03-02T00:00:00\", \"2020-03-03T00:00:00\", \"2020-03-04T00:00:00\", \"2020-03-05T00:00:00\", \"2020-03-06T00:00:00\", \"2020-03-07T00:00:00\", \"2020-03-08T00:00:00\", \"2020-03-09T00:00:00\", \"2020-03-10T00:00:00\", \"2020-03-11T00:00:00\", \"2020-03-12T00:00:00\", \"2020-03-13T00:00:00\", \"2020-03-14T00:00:00\", \"2020-03-15T00:00:00\", \"2020-03-16T00:00:00\", \"2020-03-17T00:00:00\", \"2020-03-18T00:00:00\", \"2020-03-19T00:00:00\", \"2020-03-20T00:00:00\", \"2020-03-21T00:00:00\", \"2020-03-22T00:00:00\", \"2020-03-23T00:00:00\", \"2020-03-24T00:00:00\", \"2020-03-25T00:00:00\", \"2020-03-26T00:00:00\", \"2020-03-27T00:00:00\", \"2020-03-28T00:00:00\", \"2020-03-29T00:00:00\", \"2020-03-30T00:00:00\", \"2020-03-31T00:00:00\", \"2020-04-01T00:00:00\", \"2020-04-02T00:00:00\", \"2020-04-03T00:00:00\", \"2020-04-04T00:00:00\", \"2020-04-05T00:00:00\", \"2020-04-06T00:00:00\", \"2020-04-07T00:00:00\", \"2020-04-08T00:00:00\", \"2020-04-09T00:00:00\", \"2020-04-10T00:00:00\", \"2020-04-11T00:00:00\", \"2020-04-12T00:00:00\", \"2020-04-13T00:00:00\", \"2020-04-14T00:00:00\", \"2020-04-15T00:00:00\", \"2020-04-16T00:00:00\", \"2020-04-17T00:00:00\", \"2020-04-18T00:00:00\", \"2020-04-19T00:00:00\", \"2020-04-20T00:00:00\", \"2020-04-21T00:00:00\", \"2020-04-22T00:00:00\", \"2020-04-23T00:00:00\", \"2020-04-24T00:00:00\", \"2020-04-25T00:00:00\", \"2020-04-26T00:00:00\", \"2020-04-27T00:00:00\", \"2020-04-28T00:00:00\", \"2020-04-29T00:00:00\", \"2020-04-30T00:00:00\", \"2020-05-01T00:00:00\", \"2020-05-02T00:00:00\", \"2020-05-03T00:00:00\", \"2020-05-04T00:00:00\", \"2020-05-05T00:00:00\", \"2020-05-06T00:00:00\", \"2020-05-07T00:00:00\"], \"xaxis\": \"x19\", \"y\": [0, 0, 0, 0, 0, 0, 0, 0, 0, 0, 0, 0, 0, 0, 0, 0, 0, 0, 0, 0, 0, 0, 0, 0, 0, 0, 0, 0, 0, 0, 0, 0, 0, 0, 0, 1, 0, 1, 1, 0, 5, 5, 3, 0, 6, 2, 7, 2, 12, 20, 44, 10, 67, 47, 72, 65, 51, 72, 65, 42, 57, 51, 124, 160, 82, 172, 148, 67, 227, 250, 278, 248, 143, 248, 376, 179, 333, 201, 405, 194, 222, 134, 407, 246, 620, 110, 546, 283, 833, 560, 365, 584, 713, 380, 593, 582, 670, 904, 861], \"yaxis\": \"y19\"}, {\"hoverlabel\": {\"namelength\": 0}, \"hovertemplate\": \"<b>%{hovertext}</b><br><br>estado=SP<br>data=%{x}<br>casosNovos=%{y}\", \"hovertext\": [\"SP\", \"SP\", \"SP\", \"SP\", \"SP\", \"SP\", \"SP\", \"SP\", \"SP\", \"SP\", \"SP\", \"SP\", \"SP\", \"SP\", \"SP\", \"SP\", \"SP\", \"SP\", \"SP\", \"SP\", \"SP\", \"SP\", \"SP\", \"SP\", \"SP\", \"SP\", \"SP\", \"SP\", \"SP\", \"SP\", \"SP\", \"SP\", \"SP\", \"SP\", \"SP\", \"SP\", \"SP\", \"SP\", \"SP\", \"SP\", \"SP\", \"SP\", \"SP\", \"SP\", \"SP\", \"SP\", \"SP\", \"SP\", \"SP\", \"SP\", \"SP\", \"SP\", \"SP\", \"SP\", \"SP\", \"SP\", \"SP\", \"SP\", \"SP\", \"SP\", \"SP\", \"SP\", \"SP\", \"SP\", \"SP\", \"SP\", \"SP\", \"SP\", \"SP\", \"SP\", \"SP\", \"SP\", \"SP\", \"SP\", \"SP\", \"SP\", \"SP\", \"SP\", \"SP\", \"SP\", \"SP\", \"SP\", \"SP\", \"SP\", \"SP\", \"SP\", \"SP\", \"SP\", \"SP\", \"SP\", \"SP\", \"SP\", \"SP\", \"SP\", \"SP\", \"SP\", \"SP\", \"SP\", \"SP\"], \"legendgroup\": \"\", \"line\": {\"color\": \"indianred\", \"dash\": \"solid\"}, \"mode\": \"lines\", \"name\": \"\", \"showlegend\": false, \"type\": \"scattergl\", \"x\": [\"2020-01-30T00:00:00\", \"2020-01-31T00:00:00\", \"2020-02-01T00:00:00\", \"2020-02-02T00:00:00\", \"2020-02-03T00:00:00\", \"2020-02-04T00:00:00\", \"2020-02-05T00:00:00\", \"2020-02-06T00:00:00\", \"2020-02-07T00:00:00\", \"2020-02-08T00:00:00\", \"2020-02-09T00:00:00\", \"2020-02-10T00:00:00\", \"2020-02-11T00:00:00\", \"2020-02-12T00:00:00\", \"2020-02-13T00:00:00\", \"2020-02-14T00:00:00\", \"2020-02-15T00:00:00\", \"2020-02-16T00:00:00\", \"2020-02-17T00:00:00\", \"2020-02-18T00:00:00\", \"2020-02-19T00:00:00\", \"2020-02-20T00:00:00\", \"2020-02-21T00:00:00\", \"2020-02-22T00:00:00\", \"2020-02-23T00:00:00\", \"2020-02-24T00:00:00\", \"2020-02-25T00:00:00\", \"2020-02-26T00:00:00\", \"2020-02-27T00:00:00\", \"2020-02-28T00:00:00\", \"2020-02-29T00:00:00\", \"2020-03-01T00:00:00\", \"2020-03-02T00:00:00\", \"2020-03-03T00:00:00\", \"2020-03-04T00:00:00\", \"2020-03-05T00:00:00\", \"2020-03-06T00:00:00\", \"2020-03-07T00:00:00\", \"2020-03-08T00:00:00\", \"2020-03-09T00:00:00\", \"2020-03-10T00:00:00\", \"2020-03-11T00:00:00\", \"2020-03-12T00:00:00\", \"2020-03-13T00:00:00\", \"2020-03-14T00:00:00\", \"2020-03-15T00:00:00\", \"2020-03-16T00:00:00\", \"2020-03-17T00:00:00\", \"2020-03-18T00:00:00\", \"2020-03-19T00:00:00\", \"2020-03-20T00:00:00\", \"2020-03-21T00:00:00\", \"2020-03-22T00:00:00\", \"2020-03-23T00:00:00\", \"2020-03-24T00:00:00\", \"2020-03-25T00:00:00\", \"2020-03-26T00:00:00\", \"2020-03-27T00:00:00\", \"2020-03-28T00:00:00\", \"2020-03-29T00:00:00\", \"2020-03-30T00:00:00\", \"2020-03-31T00:00:00\", \"2020-04-01T00:00:00\", \"2020-04-02T00:00:00\", \"2020-04-03T00:00:00\", \"2020-04-04T00:00:00\", \"2020-04-05T00:00:00\", \"2020-04-06T00:00:00\", \"2020-04-07T00:00:00\", \"2020-04-08T00:00:00\", \"2020-04-09T00:00:00\", \"2020-04-10T00:00:00\", \"2020-04-11T00:00:00\", \"2020-04-12T00:00:00\", \"2020-04-13T00:00:00\", \"2020-04-14T00:00:00\", \"2020-04-15T00:00:00\", \"2020-04-16T00:00:00\", \"2020-04-17T00:00:00\", \"2020-04-18T00:00:00\", \"2020-04-19T00:00:00\", \"2020-04-20T00:00:00\", \"2020-04-21T00:00:00\", \"2020-04-22T00:00:00\", \"2020-04-23T00:00:00\", \"2020-04-24T00:00:00\", \"2020-04-25T00:00:00\", \"2020-04-26T00:00:00\", \"2020-04-27T00:00:00\", \"2020-04-28T00:00:00\", \"2020-04-29T00:00:00\", \"2020-04-30T00:00:00\", \"2020-05-01T00:00:00\", \"2020-05-02T00:00:00\", \"2020-05-03T00:00:00\", \"2020-05-04T00:00:00\", \"2020-05-05T00:00:00\", \"2020-05-06T00:00:00\", \"2020-05-07T00:00:00\"], \"xaxis\": \"x20\", \"y\": [0, 0, 0, 0, 0, 0, 0, 0, 0, 0, 0, 0, 0, 0, 0, 0, 0, 0, 0, 0, 0, 0, 0, 0, 0, 0, 0, 1, 0, 0, 1, 0, 0, 0, 1, 3, 4, 3, 3, 0, 3, 11, 12, 14, 9, 71, 16, 12, 76, 46, 110, 63, 172, 114, 65, 52, 190, 171, 183, 45, 66, 822, 642, 525, 542, 418, 154, 246, 816, 1026, 772, 736, 203, 336, 140, 476, 1672, 525, 1273, 1053, 373, 313, 805, 529, 826, 1086, 2178, 711, 981, 2345, 2117, 2540, 1676, 800, 598, 415, 1866, 3800, 2075], \"yaxis\": \"y20\"}, {\"hoverlabel\": {\"namelength\": 0}, \"hovertemplate\": \"<b>%{hovertext}</b><br><br>estado=PR<br>data=%{x}<br>casosNovos=%{y}\", \"hovertext\": [\"PR\", \"PR\", \"PR\", \"PR\", \"PR\", \"PR\", \"PR\", \"PR\", \"PR\", \"PR\", \"PR\", \"PR\", \"PR\", \"PR\", \"PR\", \"PR\", \"PR\", \"PR\", \"PR\", \"PR\", \"PR\", \"PR\", \"PR\", \"PR\", \"PR\", \"PR\", \"PR\", \"PR\", \"PR\", \"PR\", \"PR\", \"PR\", \"PR\", \"PR\", \"PR\", \"PR\", \"PR\", \"PR\", \"PR\", \"PR\", \"PR\", \"PR\", \"PR\", \"PR\", \"PR\", \"PR\", \"PR\", \"PR\", \"PR\", \"PR\", \"PR\", \"PR\", \"PR\", \"PR\", \"PR\", \"PR\", \"PR\", \"PR\", \"PR\", \"PR\", \"PR\", \"PR\", \"PR\", \"PR\", \"PR\", \"PR\", \"PR\", \"PR\", \"PR\", \"PR\", \"PR\", \"PR\", \"PR\", \"PR\", \"PR\", \"PR\", \"PR\", \"PR\", \"PR\", \"PR\", \"PR\", \"PR\", \"PR\", \"PR\", \"PR\", \"PR\", \"PR\", \"PR\", \"PR\", \"PR\", \"PR\", \"PR\", \"PR\", \"PR\", \"PR\", \"PR\", \"PR\", \"PR\", \"PR\"], \"legendgroup\": \"\", \"line\": {\"color\": \"indianred\", \"dash\": \"solid\"}, \"mode\": \"lines\", \"name\": \"\", \"showlegend\": false, \"type\": \"scattergl\", \"x\": [\"2020-01-30T00:00:00\", \"2020-01-31T00:00:00\", \"2020-02-01T00:00:00\", \"2020-02-02T00:00:00\", \"2020-02-03T00:00:00\", \"2020-02-04T00:00:00\", \"2020-02-05T00:00:00\", \"2020-02-06T00:00:00\", \"2020-02-07T00:00:00\", \"2020-02-08T00:00:00\", \"2020-02-09T00:00:00\", \"2020-02-10T00:00:00\", \"2020-02-11T00:00:00\", \"2020-02-12T00:00:00\", \"2020-02-13T00:00:00\", \"2020-02-14T00:00:00\", \"2020-02-15T00:00:00\", \"2020-02-16T00:00:00\", \"2020-02-17T00:00:00\", \"2020-02-18T00:00:00\", \"2020-02-19T00:00:00\", \"2020-02-20T00:00:00\", \"2020-02-21T00:00:00\", \"2020-02-22T00:00:00\", \"2020-02-23T00:00:00\", \"2020-02-24T00:00:00\", \"2020-02-25T00:00:00\", \"2020-02-26T00:00:00\", \"2020-02-27T00:00:00\", \"2020-02-28T00:00:00\", \"2020-02-29T00:00:00\", \"2020-03-01T00:00:00\", \"2020-03-02T00:00:00\", \"2020-03-03T00:00:00\", \"2020-03-04T00:00:00\", \"2020-03-05T00:00:00\", \"2020-03-06T00:00:00\", \"2020-03-07T00:00:00\", \"2020-03-08T00:00:00\", \"2020-03-09T00:00:00\", \"2020-03-10T00:00:00\", \"2020-03-11T00:00:00\", \"2020-03-12T00:00:00\", \"2020-03-13T00:00:00\", \"2020-03-14T00:00:00\", \"2020-03-15T00:00:00\", \"2020-03-16T00:00:00\", \"2020-03-17T00:00:00\", \"2020-03-18T00:00:00\", \"2020-03-19T00:00:00\", \"2020-03-20T00:00:00\", \"2020-03-21T00:00:00\", \"2020-03-22T00:00:00\", \"2020-03-23T00:00:00\", \"2020-03-24T00:00:00\", \"2020-03-25T00:00:00\", \"2020-03-26T00:00:00\", \"2020-03-27T00:00:00\", \"2020-03-28T00:00:00\", \"2020-03-29T00:00:00\", \"2020-03-30T00:00:00\", \"2020-03-31T00:00:00\", \"2020-04-01T00:00:00\", \"2020-04-02T00:00:00\", \"2020-04-03T00:00:00\", \"2020-04-04T00:00:00\", \"2020-04-05T00:00:00\", \"2020-04-06T00:00:00\", \"2020-04-07T00:00:00\", \"2020-04-08T00:00:00\", \"2020-04-09T00:00:00\", \"2020-04-10T00:00:00\", \"2020-04-11T00:00:00\", \"2020-04-12T00:00:00\", \"2020-04-13T00:00:00\", \"2020-04-14T00:00:00\", \"2020-04-15T00:00:00\", \"2020-04-16T00:00:00\", \"2020-04-17T00:00:00\", \"2020-04-18T00:00:00\", \"2020-04-19T00:00:00\", \"2020-04-20T00:00:00\", \"2020-04-21T00:00:00\", \"2020-04-22T00:00:00\", \"2020-04-23T00:00:00\", \"2020-04-24T00:00:00\", \"2020-04-25T00:00:00\", \"2020-04-26T00:00:00\", \"2020-04-27T00:00:00\", \"2020-04-28T00:00:00\", \"2020-04-29T00:00:00\", \"2020-04-30T00:00:00\", \"2020-05-01T00:00:00\", \"2020-05-02T00:00:00\", \"2020-05-03T00:00:00\", \"2020-05-04T00:00:00\", \"2020-05-05T00:00:00\", \"2020-05-06T00:00:00\", \"2020-05-07T00:00:00\"], \"xaxis\": \"x21\", \"y\": [0, 0, 0, 0, 0, 0, 0, 0, 0, 0, 0, 0, 0, 0, 0, 0, 0, 0, 0, 0, 0, 0, 0, 0, 0, 0, 0, 0, 0, 0, 0, 0, 0, 0, 0, 0, 0, 0, 0, 0, 0, 0, 6, 0, 0, 0, 0, 0, 7, 10, 9, 11, 7, 6, 9, 16, 21, 17, 14, 15, 7, 24, 45, 28, 49, 94, 43, 20, 45, 36, 70, 34, 33, 62, 18, 35, 12, 29, 42, 71, 42, 20, 17, 39, 19, 37, 21, 16, 30, 85, 77, 59, 40, 45, 22, 48, 26, 39, 29], \"yaxis\": \"y21\"}, {\"hoverlabel\": {\"namelength\": 0}, \"hovertemplate\": \"<b>%{hovertext}</b><br><br>estado=SC<br>data=%{x}<br>casosNovos=%{y}\", \"hovertext\": [\"SC\", \"SC\", \"SC\", \"SC\", \"SC\", \"SC\", \"SC\", \"SC\", \"SC\", \"SC\", \"SC\", \"SC\", \"SC\", \"SC\", \"SC\", \"SC\", \"SC\", \"SC\", \"SC\", \"SC\", \"SC\", \"SC\", \"SC\", \"SC\", \"SC\", \"SC\", \"SC\", \"SC\", \"SC\", \"SC\", \"SC\", \"SC\", \"SC\", \"SC\", \"SC\", \"SC\", \"SC\", \"SC\", \"SC\", \"SC\", \"SC\", \"SC\", \"SC\", \"SC\", \"SC\", \"SC\", \"SC\", \"SC\", \"SC\", \"SC\", \"SC\", \"SC\", \"SC\", \"SC\", \"SC\", \"SC\", \"SC\", \"SC\", \"SC\", \"SC\", \"SC\", \"SC\", \"SC\", \"SC\", \"SC\", \"SC\", \"SC\", \"SC\", \"SC\", \"SC\", \"SC\", \"SC\", \"SC\", \"SC\", \"SC\", \"SC\", \"SC\", \"SC\", \"SC\", \"SC\", \"SC\", \"SC\", \"SC\", \"SC\", \"SC\", \"SC\", \"SC\", \"SC\", \"SC\", \"SC\", \"SC\", \"SC\", \"SC\", \"SC\", \"SC\", \"SC\", \"SC\", \"SC\", \"SC\"], \"legendgroup\": \"\", \"line\": {\"color\": \"indianred\", \"dash\": \"solid\"}, \"mode\": \"lines\", \"name\": \"\", \"showlegend\": false, \"type\": \"scattergl\", \"x\": [\"2020-01-30T00:00:00\", \"2020-01-31T00:00:00\", \"2020-02-01T00:00:00\", \"2020-02-02T00:00:00\", \"2020-02-03T00:00:00\", \"2020-02-04T00:00:00\", \"2020-02-05T00:00:00\", \"2020-02-06T00:00:00\", \"2020-02-07T00:00:00\", \"2020-02-08T00:00:00\", \"2020-02-09T00:00:00\", \"2020-02-10T00:00:00\", \"2020-02-11T00:00:00\", \"2020-02-12T00:00:00\", \"2020-02-13T00:00:00\", \"2020-02-14T00:00:00\", \"2020-02-15T00:00:00\", \"2020-02-16T00:00:00\", \"2020-02-17T00:00:00\", \"2020-02-18T00:00:00\", \"2020-02-19T00:00:00\", \"2020-02-20T00:00:00\", \"2020-02-21T00:00:00\", \"2020-02-22T00:00:00\", \"2020-02-23T00:00:00\", \"2020-02-24T00:00:00\", \"2020-02-25T00:00:00\", \"2020-02-26T00:00:00\", \"2020-02-27T00:00:00\", \"2020-02-28T00:00:00\", \"2020-02-29T00:00:00\", \"2020-03-01T00:00:00\", \"2020-03-02T00:00:00\", \"2020-03-03T00:00:00\", \"2020-03-04T00:00:00\", \"2020-03-05T00:00:00\", \"2020-03-06T00:00:00\", \"2020-03-07T00:00:00\", \"2020-03-08T00:00:00\", \"2020-03-09T00:00:00\", \"2020-03-10T00:00:00\", \"2020-03-11T00:00:00\", \"2020-03-12T00:00:00\", \"2020-03-13T00:00:00\", \"2020-03-14T00:00:00\", \"2020-03-15T00:00:00\", \"2020-03-16T00:00:00\", \"2020-03-17T00:00:00\", \"2020-03-18T00:00:00\", \"2020-03-19T00:00:00\", \"2020-03-20T00:00:00\", \"2020-03-21T00:00:00\", \"2020-03-22T00:00:00\", \"2020-03-23T00:00:00\", \"2020-03-24T00:00:00\", \"2020-03-25T00:00:00\", \"2020-03-26T00:00:00\", \"2020-03-27T00:00:00\", \"2020-03-28T00:00:00\", \"2020-03-29T00:00:00\", \"2020-03-30T00:00:00\", \"2020-03-31T00:00:00\", \"2020-04-01T00:00:00\", \"2020-04-02T00:00:00\", \"2020-04-03T00:00:00\", \"2020-04-04T00:00:00\", \"2020-04-05T00:00:00\", \"2020-04-06T00:00:00\", \"2020-04-07T00:00:00\", \"2020-04-08T00:00:00\", \"2020-04-09T00:00:00\", \"2020-04-10T00:00:00\", \"2020-04-11T00:00:00\", \"2020-04-12T00:00:00\", \"2020-04-13T00:00:00\", \"2020-04-14T00:00:00\", \"2020-04-15T00:00:00\", \"2020-04-16T00:00:00\", \"2020-04-17T00:00:00\", \"2020-04-18T00:00:00\", \"2020-04-19T00:00:00\", \"2020-04-20T00:00:00\", \"2020-04-21T00:00:00\", \"2020-04-22T00:00:00\", \"2020-04-23T00:00:00\", \"2020-04-24T00:00:00\", \"2020-04-25T00:00:00\", \"2020-04-26T00:00:00\", \"2020-04-27T00:00:00\", \"2020-04-28T00:00:00\", \"2020-04-29T00:00:00\", \"2020-04-30T00:00:00\", \"2020-05-01T00:00:00\", \"2020-05-02T00:00:00\", \"2020-05-03T00:00:00\", \"2020-05-04T00:00:00\", \"2020-05-05T00:00:00\", \"2020-05-06T00:00:00\", \"2020-05-07T00:00:00\"], \"xaxis\": \"x22\", \"y\": [0, 0, 0, 0, 0, 0, 0, 0, 0, 0, 0, 0, 0, 0, 0, 0, 0, 0, 0, 0, 0, 0, 0, 0, 0, 0, 0, 0, 0, 0, 0, 0, 0, 0, 0, 0, 0, 0, 0, 0, 0, 0, 0, 2, 2, 2, 1, 0, 3, 10, 1, 30, 6, 11, 39, 2, 13, 27, 35, 10, 3, 22, 16, 12, 34, 53, 23, 22, 38, 40, 44, 192, 39, 36, 9, 49, 27, 31, 42, 36, 13, 50, 38, 28, 24, 55, 39, 26, 102, 139, 519, 90, 19, 242, 0, 173, 104, 294, 165], \"yaxis\": \"y22\"}, {\"hoverlabel\": {\"namelength\": 0}, \"hovertemplate\": \"<b>%{hovertext}</b><br><br>estado=RS<br>data=%{x}<br>casosNovos=%{y}\", \"hovertext\": [\"RS\", \"RS\", \"RS\", \"RS\", \"RS\", \"RS\", \"RS\", \"RS\", \"RS\", \"RS\", \"RS\", \"RS\", \"RS\", \"RS\", \"RS\", \"RS\", \"RS\", \"RS\", \"RS\", \"RS\", \"RS\", \"RS\", \"RS\", \"RS\", \"RS\", \"RS\", \"RS\", \"RS\", \"RS\", \"RS\", \"RS\", \"RS\", \"RS\", \"RS\", \"RS\", \"RS\", \"RS\", \"RS\", \"RS\", \"RS\", \"RS\", \"RS\", \"RS\", \"RS\", \"RS\", \"RS\", \"RS\", \"RS\", \"RS\", \"RS\", \"RS\", \"RS\", \"RS\", \"RS\", \"RS\", \"RS\", \"RS\", \"RS\", \"RS\", \"RS\", \"RS\", \"RS\", \"RS\", \"RS\", \"RS\", \"RS\", \"RS\", \"RS\", \"RS\", \"RS\", \"RS\", \"RS\", \"RS\", \"RS\", \"RS\", \"RS\", \"RS\", \"RS\", \"RS\", \"RS\", \"RS\", \"RS\", \"RS\", \"RS\", \"RS\", \"RS\", \"RS\", \"RS\", \"RS\", \"RS\", \"RS\", \"RS\", \"RS\", \"RS\", \"RS\", \"RS\", \"RS\", \"RS\", \"RS\"], \"legendgroup\": \"\", \"line\": {\"color\": \"indianred\", \"dash\": \"solid\"}, \"mode\": \"lines\", \"name\": \"\", \"showlegend\": false, \"type\": \"scattergl\", \"x\": [\"2020-01-30T00:00:00\", \"2020-01-31T00:00:00\", \"2020-02-01T00:00:00\", \"2020-02-02T00:00:00\", \"2020-02-03T00:00:00\", \"2020-02-04T00:00:00\", \"2020-02-05T00:00:00\", \"2020-02-06T00:00:00\", \"2020-02-07T00:00:00\", \"2020-02-08T00:00:00\", \"2020-02-09T00:00:00\", \"2020-02-10T00:00:00\", \"2020-02-11T00:00:00\", \"2020-02-12T00:00:00\", \"2020-02-13T00:00:00\", \"2020-02-14T00:00:00\", \"2020-02-15T00:00:00\", \"2020-02-16T00:00:00\", \"2020-02-17T00:00:00\", \"2020-02-18T00:00:00\", \"2020-02-19T00:00:00\", \"2020-02-20T00:00:00\", \"2020-02-21T00:00:00\", \"2020-02-22T00:00:00\", \"2020-02-23T00:00:00\", \"2020-02-24T00:00:00\", \"2020-02-25T00:00:00\", \"2020-02-26T00:00:00\", \"2020-02-27T00:00:00\", \"2020-02-28T00:00:00\", \"2020-02-29T00:00:00\", \"2020-03-01T00:00:00\", \"2020-03-02T00:00:00\", \"2020-03-03T00:00:00\", \"2020-03-04T00:00:00\", \"2020-03-05T00:00:00\", \"2020-03-06T00:00:00\", \"2020-03-07T00:00:00\", \"2020-03-08T00:00:00\", \"2020-03-09T00:00:00\", \"2020-03-10T00:00:00\", \"2020-03-11T00:00:00\", \"2020-03-12T00:00:00\", \"2020-03-13T00:00:00\", \"2020-03-14T00:00:00\", \"2020-03-15T00:00:00\", \"2020-03-16T00:00:00\", \"2020-03-17T00:00:00\", \"2020-03-18T00:00:00\", \"2020-03-19T00:00:00\", \"2020-03-20T00:00:00\", \"2020-03-21T00:00:00\", \"2020-03-22T00:00:00\", \"2020-03-23T00:00:00\", \"2020-03-24T00:00:00\", \"2020-03-25T00:00:00\", \"2020-03-26T00:00:00\", \"2020-03-27T00:00:00\", \"2020-03-28T00:00:00\", \"2020-03-29T00:00:00\", \"2020-03-30T00:00:00\", \"2020-03-31T00:00:00\", \"2020-04-01T00:00:00\", \"2020-04-02T00:00:00\", \"2020-04-03T00:00:00\", \"2020-04-04T00:00:00\", \"2020-04-05T00:00:00\", \"2020-04-06T00:00:00\", \"2020-04-07T00:00:00\", \"2020-04-08T00:00:00\", \"2020-04-09T00:00:00\", \"2020-04-10T00:00:00\", \"2020-04-11T00:00:00\", \"2020-04-12T00:00:00\", \"2020-04-13T00:00:00\", \"2020-04-14T00:00:00\", \"2020-04-15T00:00:00\", \"2020-04-16T00:00:00\", \"2020-04-17T00:00:00\", \"2020-04-18T00:00:00\", \"2020-04-19T00:00:00\", \"2020-04-20T00:00:00\", \"2020-04-21T00:00:00\", \"2020-04-22T00:00:00\", \"2020-04-23T00:00:00\", \"2020-04-24T00:00:00\", \"2020-04-25T00:00:00\", \"2020-04-26T00:00:00\", \"2020-04-27T00:00:00\", \"2020-04-28T00:00:00\", \"2020-04-29T00:00:00\", \"2020-04-30T00:00:00\", \"2020-05-01T00:00:00\", \"2020-05-02T00:00:00\", \"2020-05-03T00:00:00\", \"2020-05-04T00:00:00\", \"2020-05-05T00:00:00\", \"2020-05-06T00:00:00\", \"2020-05-07T00:00:00\"], \"xaxis\": \"x23\", \"y\": [0, 0, 0, 0, 0, 0, 0, 0, 0, 0, 0, 0, 0, 0, 0, 0, 0, 0, 0, 0, 0, 0, 0, 0, 0, 0, 0, 0, 0, 0, 0, 0, 0, 0, 0, 0, 0, 0, 0, 0, 1, 1, 2, 0, 2, 0, 0, 4, 9, 9, 9, 23, 12, 14, 12, 25, 45, 27, 2, 29, 15, 33, 32, 28, 62, 14, 8, 63, 27, 47, 63, 18, 4, 13, 11, 36, 47, 33, 22, 29, 23, 35, 15, 19, 71, 67, 35, 70, 62, 58, 82, 98, 63, 90, 47, 45, 104, 235, 79], \"yaxis\": \"y23\"}, {\"hoverlabel\": {\"namelength\": 0}, \"hovertemplate\": \"<b>%{hovertext}</b><br><br>estado=MS<br>data=%{x}<br>casosNovos=%{y}\", \"hovertext\": [\"MS\", \"MS\", \"MS\", \"MS\", \"MS\", \"MS\", \"MS\", \"MS\", \"MS\", \"MS\", \"MS\", \"MS\", \"MS\", \"MS\", \"MS\", \"MS\", \"MS\", \"MS\", \"MS\", \"MS\", \"MS\", \"MS\", \"MS\", \"MS\", \"MS\", \"MS\", \"MS\", \"MS\", \"MS\", \"MS\", \"MS\", \"MS\", \"MS\", \"MS\", \"MS\", \"MS\", \"MS\", \"MS\", \"MS\", \"MS\", \"MS\", \"MS\", \"MS\", \"MS\", \"MS\", \"MS\", \"MS\", \"MS\", \"MS\", \"MS\", \"MS\", \"MS\", \"MS\", \"MS\", \"MS\", \"MS\", \"MS\", \"MS\", \"MS\", \"MS\", \"MS\", \"MS\", \"MS\", \"MS\", \"MS\", \"MS\", \"MS\", \"MS\", \"MS\", \"MS\", \"MS\", \"MS\", \"MS\", \"MS\", \"MS\", \"MS\", \"MS\", \"MS\", \"MS\", \"MS\", \"MS\", \"MS\", \"MS\", \"MS\", \"MS\", \"MS\", \"MS\", \"MS\", \"MS\", \"MS\", \"MS\", \"MS\", \"MS\", \"MS\", \"MS\", \"MS\", \"MS\", \"MS\", \"MS\"], \"legendgroup\": \"\", \"line\": {\"color\": \"indianred\", \"dash\": \"solid\"}, \"mode\": \"lines\", \"name\": \"\", \"showlegend\": false, \"type\": \"scattergl\", \"x\": [\"2020-01-30T00:00:00\", \"2020-01-31T00:00:00\", \"2020-02-01T00:00:00\", \"2020-02-02T00:00:00\", \"2020-02-03T00:00:00\", \"2020-02-04T00:00:00\", \"2020-02-05T00:00:00\", \"2020-02-06T00:00:00\", \"2020-02-07T00:00:00\", \"2020-02-08T00:00:00\", \"2020-02-09T00:00:00\", \"2020-02-10T00:00:00\", \"2020-02-11T00:00:00\", \"2020-02-12T00:00:00\", \"2020-02-13T00:00:00\", \"2020-02-14T00:00:00\", \"2020-02-15T00:00:00\", \"2020-02-16T00:00:00\", \"2020-02-17T00:00:00\", \"2020-02-18T00:00:00\", \"2020-02-19T00:00:00\", \"2020-02-20T00:00:00\", \"2020-02-21T00:00:00\", \"2020-02-22T00:00:00\", \"2020-02-23T00:00:00\", \"2020-02-24T00:00:00\", \"2020-02-25T00:00:00\", \"2020-02-26T00:00:00\", \"2020-02-27T00:00:00\", \"2020-02-28T00:00:00\", \"2020-02-29T00:00:00\", \"2020-03-01T00:00:00\", \"2020-03-02T00:00:00\", \"2020-03-03T00:00:00\", \"2020-03-04T00:00:00\", \"2020-03-05T00:00:00\", \"2020-03-06T00:00:00\", \"2020-03-07T00:00:00\", \"2020-03-08T00:00:00\", \"2020-03-09T00:00:00\", \"2020-03-10T00:00:00\", \"2020-03-11T00:00:00\", \"2020-03-12T00:00:00\", \"2020-03-13T00:00:00\", \"2020-03-14T00:00:00\", \"2020-03-15T00:00:00\", \"2020-03-16T00:00:00\", \"2020-03-17T00:00:00\", \"2020-03-18T00:00:00\", \"2020-03-19T00:00:00\", \"2020-03-20T00:00:00\", \"2020-03-21T00:00:00\", \"2020-03-22T00:00:00\", \"2020-03-23T00:00:00\", \"2020-03-24T00:00:00\", \"2020-03-25T00:00:00\", \"2020-03-26T00:00:00\", \"2020-03-27T00:00:00\", \"2020-03-28T00:00:00\", \"2020-03-29T00:00:00\", \"2020-03-30T00:00:00\", \"2020-03-31T00:00:00\", \"2020-04-01T00:00:00\", \"2020-04-02T00:00:00\", \"2020-04-03T00:00:00\", \"2020-04-04T00:00:00\", \"2020-04-05T00:00:00\", \"2020-04-06T00:00:00\", \"2020-04-07T00:00:00\", \"2020-04-08T00:00:00\", \"2020-04-09T00:00:00\", \"2020-04-10T00:00:00\", \"2020-04-11T00:00:00\", \"2020-04-12T00:00:00\", \"2020-04-13T00:00:00\", \"2020-04-14T00:00:00\", \"2020-04-15T00:00:00\", \"2020-04-16T00:00:00\", \"2020-04-17T00:00:00\", \"2020-04-18T00:00:00\", \"2020-04-19T00:00:00\", \"2020-04-20T00:00:00\", \"2020-04-21T00:00:00\", \"2020-04-22T00:00:00\", \"2020-04-23T00:00:00\", \"2020-04-24T00:00:00\", \"2020-04-25T00:00:00\", \"2020-04-26T00:00:00\", \"2020-04-27T00:00:00\", \"2020-04-28T00:00:00\", \"2020-04-29T00:00:00\", \"2020-04-30T00:00:00\", \"2020-05-01T00:00:00\", \"2020-05-02T00:00:00\", \"2020-05-03T00:00:00\", \"2020-05-04T00:00:00\", \"2020-05-05T00:00:00\", \"2020-05-06T00:00:00\", \"2020-05-07T00:00:00\"], \"xaxis\": \"x24\", \"y\": [0, 0, 0, 0, 0, 0, 0, 0, 0, 0, 0, 0, 0, 0, 0, 0, 0, 0, 0, 0, 0, 0, 0, 0, 0, 0, 0, 0, 0, 0, 0, 0, 0, 0, 0, 0, 0, 0, 0, 0, 0, 0, 0, 0, 0, 0, 2, 2, 3, 0, 2, 7, 5, 0, 2, 1, 1, 3, 3, 5, 8, 4, 3, 2, 7, 2, 3, 1, 14, 5, 4, 8, 3, 1, 12, 2, 6, 10, 12, 18, 7, 3, 2, 2, 11, 27, 4, 17, 4, 2, 9, 6, 6, 5, 6, 2, 9, 5, 23], \"yaxis\": \"y24\"}, {\"hoverlabel\": {\"namelength\": 0}, \"hovertemplate\": \"<b>%{hovertext}</b><br><br>estado=MT<br>data=%{x}<br>casosNovos=%{y}\", \"hovertext\": [\"MT\", \"MT\", \"MT\", \"MT\", \"MT\", \"MT\", \"MT\", \"MT\", \"MT\", \"MT\", \"MT\", \"MT\", \"MT\", \"MT\", \"MT\", \"MT\", \"MT\", \"MT\", \"MT\", \"MT\", \"MT\", \"MT\", \"MT\", \"MT\", \"MT\", \"MT\", \"MT\", \"MT\", \"MT\", \"MT\", \"MT\", \"MT\", \"MT\", \"MT\", \"MT\", \"MT\", \"MT\", \"MT\", \"MT\", \"MT\", \"MT\", \"MT\", \"MT\", \"MT\", \"MT\", \"MT\", \"MT\", \"MT\", \"MT\", \"MT\", \"MT\", \"MT\", \"MT\", \"MT\", \"MT\", \"MT\", \"MT\", \"MT\", \"MT\", \"MT\", \"MT\", \"MT\", \"MT\", \"MT\", \"MT\", \"MT\", \"MT\", \"MT\", \"MT\", \"MT\", \"MT\", \"MT\", \"MT\", \"MT\", \"MT\", \"MT\", \"MT\", \"MT\", \"MT\", \"MT\", \"MT\", \"MT\", \"MT\", \"MT\", \"MT\", \"MT\", \"MT\", \"MT\", \"MT\", \"MT\", \"MT\", \"MT\", \"MT\", \"MT\", \"MT\", \"MT\", \"MT\", \"MT\", \"MT\"], \"legendgroup\": \"\", \"line\": {\"color\": \"indianred\", \"dash\": \"solid\"}, \"mode\": \"lines\", \"name\": \"\", \"showlegend\": false, \"type\": \"scattergl\", \"x\": [\"2020-01-30T00:00:00\", \"2020-01-31T00:00:00\", \"2020-02-01T00:00:00\", \"2020-02-02T00:00:00\", \"2020-02-03T00:00:00\", \"2020-02-04T00:00:00\", \"2020-02-05T00:00:00\", \"2020-02-06T00:00:00\", \"2020-02-07T00:00:00\", \"2020-02-08T00:00:00\", \"2020-02-09T00:00:00\", \"2020-02-10T00:00:00\", \"2020-02-11T00:00:00\", \"2020-02-12T00:00:00\", \"2020-02-13T00:00:00\", \"2020-02-14T00:00:00\", \"2020-02-15T00:00:00\", \"2020-02-16T00:00:00\", \"2020-02-17T00:00:00\", \"2020-02-18T00:00:00\", \"2020-02-19T00:00:00\", \"2020-02-20T00:00:00\", \"2020-02-21T00:00:00\", \"2020-02-22T00:00:00\", \"2020-02-23T00:00:00\", \"2020-02-24T00:00:00\", \"2020-02-25T00:00:00\", \"2020-02-26T00:00:00\", \"2020-02-27T00:00:00\", \"2020-02-28T00:00:00\", \"2020-02-29T00:00:00\", \"2020-03-01T00:00:00\", \"2020-03-02T00:00:00\", \"2020-03-03T00:00:00\", \"2020-03-04T00:00:00\", \"2020-03-05T00:00:00\", \"2020-03-06T00:00:00\", \"2020-03-07T00:00:00\", \"2020-03-08T00:00:00\", \"2020-03-09T00:00:00\", \"2020-03-10T00:00:00\", \"2020-03-11T00:00:00\", \"2020-03-12T00:00:00\", \"2020-03-13T00:00:00\", \"2020-03-14T00:00:00\", \"2020-03-15T00:00:00\", \"2020-03-16T00:00:00\", \"2020-03-17T00:00:00\", \"2020-03-18T00:00:00\", \"2020-03-19T00:00:00\", \"2020-03-20T00:00:00\", \"2020-03-21T00:00:00\", \"2020-03-22T00:00:00\", \"2020-03-23T00:00:00\", \"2020-03-24T00:00:00\", \"2020-03-25T00:00:00\", \"2020-03-26T00:00:00\", \"2020-03-27T00:00:00\", \"2020-03-28T00:00:00\", \"2020-03-29T00:00:00\", \"2020-03-30T00:00:00\", \"2020-03-31T00:00:00\", \"2020-04-01T00:00:00\", \"2020-04-02T00:00:00\", \"2020-04-03T00:00:00\", \"2020-04-04T00:00:00\", \"2020-04-05T00:00:00\", \"2020-04-06T00:00:00\", \"2020-04-07T00:00:00\", \"2020-04-08T00:00:00\", \"2020-04-09T00:00:00\", \"2020-04-10T00:00:00\", \"2020-04-11T00:00:00\", \"2020-04-12T00:00:00\", \"2020-04-13T00:00:00\", \"2020-04-14T00:00:00\", \"2020-04-15T00:00:00\", \"2020-04-16T00:00:00\", \"2020-04-17T00:00:00\", \"2020-04-18T00:00:00\", \"2020-04-19T00:00:00\", \"2020-04-20T00:00:00\", \"2020-04-21T00:00:00\", \"2020-04-22T00:00:00\", \"2020-04-23T00:00:00\", \"2020-04-24T00:00:00\", \"2020-04-25T00:00:00\", \"2020-04-26T00:00:00\", \"2020-04-27T00:00:00\", \"2020-04-28T00:00:00\", \"2020-04-29T00:00:00\", \"2020-04-30T00:00:00\", \"2020-05-01T00:00:00\", \"2020-05-02T00:00:00\", \"2020-05-03T00:00:00\", \"2020-05-04T00:00:00\", \"2020-05-05T00:00:00\", \"2020-05-06T00:00:00\", \"2020-05-07T00:00:00\"], \"xaxis\": \"x25\", \"y\": [0, 0, 0, 0, 0, 0, 0, 0, 0, 0, 0, 0, 0, 0, 0, 0, 0, 0, 0, 0, 0, 0, 0, 0, 0, 0, 0, 0, 0, 0, 0, 0, 0, 0, 0, 0, 0, 0, 0, 0, 0, 0, 0, 0, 0, 0, 0, 0, 0, 0, 1, 1, 0, 0, 5, 1, 3, 0, 2, 3, 2, 7, 2, 9, 8, 12, 4, 16, 2, 12, 18, 4, 9, 2, 11, 4, 13, 5, 6, 9, 3, 7, 0, 2, 38, 19, 7, 3, 7, 4, 31, 5, 23, 11, 6, 7, 21, 14, 38], \"yaxis\": \"y25\"}, {\"hoverlabel\": {\"namelength\": 0}, \"hovertemplate\": \"<b>%{hovertext}</b><br><br>estado=GO<br>data=%{x}<br>casosNovos=%{y}\", \"hovertext\": [\"GO\", \"GO\", \"GO\", \"GO\", \"GO\", \"GO\", \"GO\", \"GO\", \"GO\", \"GO\", \"GO\", \"GO\", \"GO\", \"GO\", \"GO\", \"GO\", \"GO\", \"GO\", \"GO\", \"GO\", \"GO\", \"GO\", \"GO\", \"GO\", \"GO\", \"GO\", \"GO\", \"GO\", \"GO\", \"GO\", \"GO\", \"GO\", \"GO\", \"GO\", \"GO\", \"GO\", \"GO\", \"GO\", \"GO\", \"GO\", \"GO\", \"GO\", \"GO\", \"GO\", \"GO\", \"GO\", \"GO\", \"GO\", \"GO\", \"GO\", \"GO\", \"GO\", \"GO\", \"GO\", \"GO\", \"GO\", \"GO\", \"GO\", \"GO\", \"GO\", \"GO\", \"GO\", \"GO\", \"GO\", \"GO\", \"GO\", \"GO\", \"GO\", \"GO\", \"GO\", \"GO\", \"GO\", \"GO\", \"GO\", \"GO\", \"GO\", \"GO\", \"GO\", \"GO\", \"GO\", \"GO\", \"GO\", \"GO\", \"GO\", \"GO\", \"GO\", \"GO\", \"GO\", \"GO\", \"GO\", \"GO\", \"GO\", \"GO\", \"GO\", \"GO\", \"GO\", \"GO\", \"GO\", \"GO\"], \"legendgroup\": \"\", \"line\": {\"color\": \"indianred\", \"dash\": \"solid\"}, \"mode\": \"lines\", \"name\": \"\", \"showlegend\": false, \"type\": \"scattergl\", \"x\": [\"2020-01-30T00:00:00\", \"2020-01-31T00:00:00\", \"2020-02-01T00:00:00\", \"2020-02-02T00:00:00\", \"2020-02-03T00:00:00\", \"2020-02-04T00:00:00\", \"2020-02-05T00:00:00\", \"2020-02-06T00:00:00\", \"2020-02-07T00:00:00\", \"2020-02-08T00:00:00\", \"2020-02-09T00:00:00\", \"2020-02-10T00:00:00\", \"2020-02-11T00:00:00\", \"2020-02-12T00:00:00\", \"2020-02-13T00:00:00\", \"2020-02-14T00:00:00\", \"2020-02-15T00:00:00\", \"2020-02-16T00:00:00\", \"2020-02-17T00:00:00\", \"2020-02-18T00:00:00\", \"2020-02-19T00:00:00\", \"2020-02-20T00:00:00\", \"2020-02-21T00:00:00\", \"2020-02-22T00:00:00\", \"2020-02-23T00:00:00\", \"2020-02-24T00:00:00\", \"2020-02-25T00:00:00\", \"2020-02-26T00:00:00\", \"2020-02-27T00:00:00\", \"2020-02-28T00:00:00\", \"2020-02-29T00:00:00\", \"2020-03-01T00:00:00\", \"2020-03-02T00:00:00\", \"2020-03-03T00:00:00\", \"2020-03-04T00:00:00\", \"2020-03-05T00:00:00\", \"2020-03-06T00:00:00\", \"2020-03-07T00:00:00\", \"2020-03-08T00:00:00\", \"2020-03-09T00:00:00\", \"2020-03-10T00:00:00\", \"2020-03-11T00:00:00\", \"2020-03-12T00:00:00\", \"2020-03-13T00:00:00\", \"2020-03-14T00:00:00\", \"2020-03-15T00:00:00\", \"2020-03-16T00:00:00\", \"2020-03-17T00:00:00\", \"2020-03-18T00:00:00\", \"2020-03-19T00:00:00\", \"2020-03-20T00:00:00\", \"2020-03-21T00:00:00\", \"2020-03-22T00:00:00\", \"2020-03-23T00:00:00\", \"2020-03-24T00:00:00\", \"2020-03-25T00:00:00\", \"2020-03-26T00:00:00\", \"2020-03-27T00:00:00\", \"2020-03-28T00:00:00\", \"2020-03-29T00:00:00\", \"2020-03-30T00:00:00\", \"2020-03-31T00:00:00\", \"2020-04-01T00:00:00\", \"2020-04-02T00:00:00\", \"2020-04-03T00:00:00\", \"2020-04-04T00:00:00\", \"2020-04-05T00:00:00\", \"2020-04-06T00:00:00\", \"2020-04-07T00:00:00\", \"2020-04-08T00:00:00\", \"2020-04-09T00:00:00\", \"2020-04-10T00:00:00\", \"2020-04-11T00:00:00\", \"2020-04-12T00:00:00\", \"2020-04-13T00:00:00\", \"2020-04-14T00:00:00\", \"2020-04-15T00:00:00\", \"2020-04-16T00:00:00\", \"2020-04-17T00:00:00\", \"2020-04-18T00:00:00\", \"2020-04-19T00:00:00\", \"2020-04-20T00:00:00\", \"2020-04-21T00:00:00\", \"2020-04-22T00:00:00\", \"2020-04-23T00:00:00\", \"2020-04-24T00:00:00\", \"2020-04-25T00:00:00\", \"2020-04-26T00:00:00\", \"2020-04-27T00:00:00\", \"2020-04-28T00:00:00\", \"2020-04-29T00:00:00\", \"2020-04-30T00:00:00\", \"2020-05-01T00:00:00\", \"2020-05-02T00:00:00\", \"2020-05-03T00:00:00\", \"2020-05-04T00:00:00\", \"2020-05-05T00:00:00\", \"2020-05-06T00:00:00\", \"2020-05-07T00:00:00\"], \"xaxis\": \"x26\", \"y\": [0, 0, 0, 0, 0, 0, 0, 0, 0, 0, 0, 0, 0, 0, 0, 0, 0, 0, 0, 0, 0, 0, 0, 0, 0, 0, 0, 0, 0, 0, 0, 0, 0, 0, 0, 0, 0, 0, 0, 0, 0, 0, 0, 3, 0, 0, 0, 3, 2, 4, 3, 5, 1, 2, 4, 2, 10, 10, 7, 2, 3, 4, 6, 2, 15, 15, 12, 4, 14, 25, 21, 12, 18, 20, 4, 51, 20, 14, 17, 43, 15, 10, 18, 17, 15, 33, 20, 67, 43, 45, 44, 76, 27, 17, 25, 11, 61, 102, 3], \"yaxis\": \"y26\"}, {\"hoverlabel\": {\"namelength\": 0}, \"hovertemplate\": \"<b>%{hovertext}</b><br><br>estado=DF<br>data=%{x}<br>casosNovos=%{y}\", \"hovertext\": [\"DF\", \"DF\", \"DF\", \"DF\", \"DF\", \"DF\", \"DF\", \"DF\", \"DF\", \"DF\", \"DF\", \"DF\", \"DF\", \"DF\", \"DF\", \"DF\", \"DF\", \"DF\", \"DF\", \"DF\", \"DF\", \"DF\", \"DF\", \"DF\", \"DF\", \"DF\", \"DF\", \"DF\", \"DF\", \"DF\", \"DF\", \"DF\", \"DF\", \"DF\", \"DF\", \"DF\", \"DF\", \"DF\", \"DF\", \"DF\", \"DF\", \"DF\", \"DF\", \"DF\", \"DF\", \"DF\", \"DF\", \"DF\", \"DF\", \"DF\", \"DF\", \"DF\", \"DF\", \"DF\", \"DF\", \"DF\", \"DF\", \"DF\", \"DF\", \"DF\", \"DF\", \"DF\", \"DF\", \"DF\", \"DF\", \"DF\", \"DF\", \"DF\", \"DF\", \"DF\", \"DF\", \"DF\", \"DF\", \"DF\", \"DF\", \"DF\", \"DF\", \"DF\", \"DF\", \"DF\", \"DF\", \"DF\", \"DF\", \"DF\", \"DF\", \"DF\", \"DF\", \"DF\", \"DF\", \"DF\", \"DF\", \"DF\", \"DF\", \"DF\", \"DF\", \"DF\", \"DF\", \"DF\", \"DF\"], \"legendgroup\": \"\", \"line\": {\"color\": \"indianred\", \"dash\": \"solid\"}, \"mode\": \"lines\", \"name\": \"\", \"showlegend\": false, \"type\": \"scattergl\", \"x\": [\"2020-01-30T00:00:00\", \"2020-01-31T00:00:00\", \"2020-02-01T00:00:00\", \"2020-02-02T00:00:00\", \"2020-02-03T00:00:00\", \"2020-02-04T00:00:00\", \"2020-02-05T00:00:00\", \"2020-02-06T00:00:00\", \"2020-02-07T00:00:00\", \"2020-02-08T00:00:00\", \"2020-02-09T00:00:00\", \"2020-02-10T00:00:00\", \"2020-02-11T00:00:00\", \"2020-02-12T00:00:00\", \"2020-02-13T00:00:00\", \"2020-02-14T00:00:00\", \"2020-02-15T00:00:00\", \"2020-02-16T00:00:00\", \"2020-02-17T00:00:00\", \"2020-02-18T00:00:00\", \"2020-02-19T00:00:00\", \"2020-02-20T00:00:00\", \"2020-02-21T00:00:00\", \"2020-02-22T00:00:00\", \"2020-02-23T00:00:00\", \"2020-02-24T00:00:00\", \"2020-02-25T00:00:00\", \"2020-02-26T00:00:00\", \"2020-02-27T00:00:00\", \"2020-02-28T00:00:00\", \"2020-02-29T00:00:00\", \"2020-03-01T00:00:00\", \"2020-03-02T00:00:00\", \"2020-03-03T00:00:00\", \"2020-03-04T00:00:00\", \"2020-03-05T00:00:00\", \"2020-03-06T00:00:00\", \"2020-03-07T00:00:00\", \"2020-03-08T00:00:00\", \"2020-03-09T00:00:00\", \"2020-03-10T00:00:00\", \"2020-03-11T00:00:00\", \"2020-03-12T00:00:00\", \"2020-03-13T00:00:00\", \"2020-03-14T00:00:00\", \"2020-03-15T00:00:00\", \"2020-03-16T00:00:00\", \"2020-03-17T00:00:00\", \"2020-03-18T00:00:00\", \"2020-03-19T00:00:00\", \"2020-03-20T00:00:00\", \"2020-03-21T00:00:00\", \"2020-03-22T00:00:00\", \"2020-03-23T00:00:00\", \"2020-03-24T00:00:00\", \"2020-03-25T00:00:00\", \"2020-03-26T00:00:00\", \"2020-03-27T00:00:00\", \"2020-03-28T00:00:00\", \"2020-03-29T00:00:00\", \"2020-03-30T00:00:00\", \"2020-03-31T00:00:00\", \"2020-04-01T00:00:00\", \"2020-04-02T00:00:00\", \"2020-04-03T00:00:00\", \"2020-04-04T00:00:00\", \"2020-04-05T00:00:00\", \"2020-04-06T00:00:00\", \"2020-04-07T00:00:00\", \"2020-04-08T00:00:00\", \"2020-04-09T00:00:00\", \"2020-04-10T00:00:00\", \"2020-04-11T00:00:00\", \"2020-04-12T00:00:00\", \"2020-04-13T00:00:00\", \"2020-04-14T00:00:00\", \"2020-04-15T00:00:00\", \"2020-04-16T00:00:00\", \"2020-04-17T00:00:00\", \"2020-04-18T00:00:00\", \"2020-04-19T00:00:00\", \"2020-04-20T00:00:00\", \"2020-04-21T00:00:00\", \"2020-04-22T00:00:00\", \"2020-04-23T00:00:00\", \"2020-04-24T00:00:00\", \"2020-04-25T00:00:00\", \"2020-04-26T00:00:00\", \"2020-04-27T00:00:00\", \"2020-04-28T00:00:00\", \"2020-04-29T00:00:00\", \"2020-04-30T00:00:00\", \"2020-05-01T00:00:00\", \"2020-05-02T00:00:00\", \"2020-05-03T00:00:00\", \"2020-05-04T00:00:00\", \"2020-05-05T00:00:00\", \"2020-05-06T00:00:00\", \"2020-05-07T00:00:00\"], \"xaxis\": \"x27\", \"y\": [0, 0, 0, 0, 0, 0, 0, 0, 0, 0, 0, 0, 0, 0, 0, 0, 0, 0, 0, 0, 0, 0, 0, 0, 0, 0, 0, 0, 0, 0, 0, 0, 0, 0, 0, 0, 0, 1, 0, 0, 0, 1, 0, 0, 4, 2, 5, 9, 4, 16, 45, 13, 17, 16, 27, 0, 40, 30, 30, 29, 23, 20, 23, 15, 32, 52, 14, 5, 19, 17, 18, 28, 24, 35, 24, 13, 31, 34, 30, 16, 65, 45, 9, 65, 17, 26, 24, 53, 80, 67, 62, 81, 110, 100, 83, 119, 50, 88, 352], \"yaxis\": \"y27\"}],\n",
              "                        {\"annotations\": [{\"font\": {}, \"showarrow\": false, \"text\": \"RO\", \"x\": 0.008888888888888889, \"xanchor\": \"center\", \"xref\": \"paper\", \"y\": 1.0, \"yanchor\": \"bottom\", \"yref\": \"paper\"}, {\"font\": {}, \"showarrow\": false, \"text\": \"AC\", \"x\": 0.04666666666666666, \"xanchor\": \"center\", \"xref\": \"paper\", \"y\": 1.0, \"yanchor\": \"bottom\", \"yref\": \"paper\"}, {\"font\": {}, \"showarrow\": false, \"text\": \"AM\", \"x\": 0.08444444444444445, \"xanchor\": \"center\", \"xref\": \"paper\", \"y\": 1.0, \"yanchor\": \"bottom\", \"yref\": \"paper\"}, {\"font\": {}, \"showarrow\": false, \"text\": \"RR\", \"x\": 0.1222222222222222, \"xanchor\": \"center\", \"xref\": \"paper\", \"y\": 1.0, \"yanchor\": \"bottom\", \"yref\": \"paper\"}, {\"font\": {}, \"showarrow\": false, \"text\": \"PA\", \"x\": 0.16, \"xanchor\": \"center\", \"xref\": \"paper\", \"y\": 1.0, \"yanchor\": \"bottom\", \"yref\": \"paper\"}, {\"font\": {}, \"showarrow\": false, \"text\": \"AP\", \"x\": 0.19777777777777777, \"xanchor\": \"center\", \"xref\": \"paper\", \"y\": 1.0, \"yanchor\": \"bottom\", \"yref\": \"paper\"}, {\"font\": {}, \"showarrow\": false, \"text\": \"TO\", \"x\": 0.23555555555555557, \"xanchor\": \"center\", \"xref\": \"paper\", \"y\": 1.0, \"yanchor\": \"bottom\", \"yref\": \"paper\"}, {\"font\": {}, \"showarrow\": false, \"text\": \"MA\", \"x\": 0.2733333333333334, \"xanchor\": \"center\", \"xref\": \"paper\", \"y\": 1.0, \"yanchor\": \"bottom\", \"yref\": \"paper\"}, {\"font\": {}, \"showarrow\": false, \"text\": \"PI\", \"x\": 0.3111111111111111, \"xanchor\": \"center\", \"xref\": \"paper\", \"y\": 1.0, \"yanchor\": \"bottom\", \"yref\": \"paper\"}, {\"font\": {}, \"showarrow\": false, \"text\": \"CE\", \"x\": 0.34888888888888886, \"xanchor\": \"center\", \"xref\": \"paper\", \"y\": 1.0, \"yanchor\": \"bottom\", \"yref\": \"paper\"}, {\"font\": {}, \"showarrow\": false, \"text\": \"RN\", \"x\": 0.38666666666666666, \"xanchor\": \"center\", \"xref\": \"paper\", \"y\": 1.0, \"yanchor\": \"bottom\", \"yref\": \"paper\"}, {\"font\": {}, \"showarrow\": false, \"text\": \"PB\", \"x\": 0.42444444444444446, \"xanchor\": \"center\", \"xref\": \"paper\", \"y\": 1.0, \"yanchor\": \"bottom\", \"yref\": \"paper\"}, {\"font\": {}, \"showarrow\": false, \"text\": \"PE\", \"x\": 0.46222222222222226, \"xanchor\": \"center\", \"xref\": \"paper\", \"y\": 1.0, \"yanchor\": \"bottom\", \"yref\": \"paper\"}, {\"font\": {}, \"showarrow\": false, \"text\": \"AL\", \"x\": 0.5, \"xanchor\": \"center\", \"xref\": \"paper\", \"y\": 1.0, \"yanchor\": \"bottom\", \"yref\": \"paper\"}, {\"font\": {}, \"showarrow\": false, \"text\": \"SE\", \"x\": 0.5377777777777779, \"xanchor\": \"center\", \"xref\": \"paper\", \"y\": 1.0, \"yanchor\": \"bottom\", \"yref\": \"paper\"}, {\"font\": {}, \"showarrow\": false, \"text\": \"BA\", \"x\": 0.5755555555555556, \"xanchor\": \"center\", \"xref\": \"paper\", \"y\": 1.0, \"yanchor\": \"bottom\", \"yref\": \"paper\"}, {\"font\": {}, \"showarrow\": false, \"text\": \"MG\", \"x\": 0.6133333333333333, \"xanchor\": \"center\", \"xref\": \"paper\", \"y\": 1.0, \"yanchor\": \"bottom\", \"yref\": \"paper\"}, {\"font\": {}, \"showarrow\": false, \"text\": \"ES\", \"x\": 0.6511111111111112, \"xanchor\": \"center\", \"xref\": \"paper\", \"y\": 1.0, \"yanchor\": \"bottom\", \"yref\": \"paper\"}, {\"font\": {}, \"showarrow\": false, \"text\": \"RJ\", \"x\": 0.6888888888888889, \"xanchor\": \"center\", \"xref\": \"paper\", \"y\": 1.0, \"yanchor\": \"bottom\", \"yref\": \"paper\"}, {\"font\": {}, \"showarrow\": false, \"text\": \"SP\", \"x\": 0.7266666666666668, \"xanchor\": \"center\", \"xref\": \"paper\", \"y\": 1.0, \"yanchor\": \"bottom\", \"yref\": \"paper\"}, {\"font\": {}, \"showarrow\": false, \"text\": \"PR\", \"x\": 0.7644444444444445, \"xanchor\": \"center\", \"xref\": \"paper\", \"y\": 1.0, \"yanchor\": \"bottom\", \"yref\": \"paper\"}, {\"font\": {}, \"showarrow\": false, \"text\": \"SC\", \"x\": 0.8022222222222222, \"xanchor\": \"center\", \"xref\": \"paper\", \"y\": 1.0, \"yanchor\": \"bottom\", \"yref\": \"paper\"}, {\"font\": {}, \"showarrow\": false, \"text\": \"RS\", \"x\": 0.8400000000000001, \"xanchor\": \"center\", \"xref\": \"paper\", \"y\": 1.0, \"yanchor\": \"bottom\", \"yref\": \"paper\"}, {\"font\": {}, \"showarrow\": false, \"text\": \"MS\", \"x\": 0.8777777777777778, \"xanchor\": \"center\", \"xref\": \"paper\", \"y\": 1.0, \"yanchor\": \"bottom\", \"yref\": \"paper\"}, {\"font\": {}, \"showarrow\": false, \"text\": \"MT\", \"x\": 0.9155555555555557, \"xanchor\": \"center\", \"xref\": \"paper\", \"y\": 1.0, \"yanchor\": \"bottom\", \"yref\": \"paper\"}, {\"font\": {}, \"showarrow\": false, \"text\": \"GO\", \"x\": 0.9533333333333334, \"xanchor\": \"center\", \"xref\": \"paper\", \"y\": 1.0, \"yanchor\": \"bottom\", \"yref\": \"paper\"}, {\"font\": {}, \"showarrow\": false, \"text\": \"DF\", \"x\": 0.9911111111111112, \"xanchor\": \"center\", \"xref\": \"paper\", \"y\": 1.0, \"yanchor\": \"bottom\", \"yref\": \"paper\"}], \"legend\": {\"tracegroupgap\": 0}, \"margin\": {\"t\": 60}, \"template\": {\"data\": {\"bar\": [{\"error_x\": {\"color\": \"#2a3f5f\"}, \"error_y\": {\"color\": \"#2a3f5f\"}, \"marker\": {\"line\": {\"color\": \"white\", \"width\": 0.5}}, \"type\": \"bar\"}], \"barpolar\": [{\"marker\": {\"line\": {\"color\": \"white\", \"width\": 0.5}}, \"type\": \"barpolar\"}], \"carpet\": [{\"aaxis\": {\"endlinecolor\": \"#2a3f5f\", \"gridcolor\": \"#C8D4E3\", \"linecolor\": \"#C8D4E3\", \"minorgridcolor\": \"#C8D4E3\", \"startlinecolor\": \"#2a3f5f\"}, \"baxis\": {\"endlinecolor\": \"#2a3f5f\", \"gridcolor\": \"#C8D4E3\", \"linecolor\": \"#C8D4E3\", \"minorgridcolor\": \"#C8D4E3\", \"startlinecolor\": \"#2a3f5f\"}, \"type\": \"carpet\"}], \"choropleth\": [{\"colorbar\": {\"outlinewidth\": 0, \"ticks\": \"\"}, \"type\": \"choropleth\"}], \"contour\": [{\"colorbar\": {\"outlinewidth\": 0, \"ticks\": \"\"}, \"colorscale\": [[0.0, \"#0d0887\"], [0.1111111111111111, \"#46039f\"], [0.2222222222222222, \"#7201a8\"], [0.3333333333333333, \"#9c179e\"], [0.4444444444444444, \"#bd3786\"], [0.5555555555555556, \"#d8576b\"], [0.6666666666666666, \"#ed7953\"], [0.7777777777777778, \"#fb9f3a\"], [0.8888888888888888, \"#fdca26\"], [1.0, \"#f0f921\"]], \"type\": \"contour\"}], \"contourcarpet\": [{\"colorbar\": {\"outlinewidth\": 0, \"ticks\": \"\"}, \"type\": \"contourcarpet\"}], \"heatmap\": [{\"colorbar\": {\"outlinewidth\": 0, \"ticks\": \"\"}, \"colorscale\": [[0.0, \"#0d0887\"], [0.1111111111111111, \"#46039f\"], [0.2222222222222222, \"#7201a8\"], [0.3333333333333333, \"#9c179e\"], [0.4444444444444444, \"#bd3786\"], [0.5555555555555556, \"#d8576b\"], [0.6666666666666666, \"#ed7953\"], [0.7777777777777778, \"#fb9f3a\"], [0.8888888888888888, \"#fdca26\"], [1.0, \"#f0f921\"]], \"type\": \"heatmap\"}], \"heatmapgl\": [{\"colorbar\": {\"outlinewidth\": 0, \"ticks\": \"\"}, \"colorscale\": [[0.0, \"#0d0887\"], [0.1111111111111111, \"#46039f\"], [0.2222222222222222, \"#7201a8\"], [0.3333333333333333, \"#9c179e\"], [0.4444444444444444, \"#bd3786\"], [0.5555555555555556, \"#d8576b\"], [0.6666666666666666, \"#ed7953\"], [0.7777777777777778, \"#fb9f3a\"], [0.8888888888888888, \"#fdca26\"], [1.0, \"#f0f921\"]], \"type\": \"heatmapgl\"}], \"histogram\": [{\"marker\": {\"colorbar\": {\"outlinewidth\": 0, \"ticks\": \"\"}}, \"type\": \"histogram\"}], \"histogram2d\": [{\"colorbar\": {\"outlinewidth\": 0, \"ticks\": \"\"}, \"colorscale\": [[0.0, \"#0d0887\"], [0.1111111111111111, \"#46039f\"], [0.2222222222222222, \"#7201a8\"], [0.3333333333333333, \"#9c179e\"], [0.4444444444444444, \"#bd3786\"], [0.5555555555555556, \"#d8576b\"], [0.6666666666666666, \"#ed7953\"], [0.7777777777777778, \"#fb9f3a\"], [0.8888888888888888, \"#fdca26\"], [1.0, \"#f0f921\"]], \"type\": \"histogram2d\"}], \"histogram2dcontour\": [{\"colorbar\": {\"outlinewidth\": 0, \"ticks\": \"\"}, \"colorscale\": [[0.0, \"#0d0887\"], [0.1111111111111111, \"#46039f\"], [0.2222222222222222, \"#7201a8\"], [0.3333333333333333, \"#9c179e\"], [0.4444444444444444, \"#bd3786\"], [0.5555555555555556, \"#d8576b\"], [0.6666666666666666, \"#ed7953\"], [0.7777777777777778, \"#fb9f3a\"], [0.8888888888888888, \"#fdca26\"], [1.0, \"#f0f921\"]], \"type\": \"histogram2dcontour\"}], \"mesh3d\": [{\"colorbar\": {\"outlinewidth\": 0, \"ticks\": \"\"}, \"type\": \"mesh3d\"}], \"parcoords\": [{\"line\": {\"colorbar\": {\"outlinewidth\": 0, \"ticks\": \"\"}}, \"type\": \"parcoords\"}], \"pie\": [{\"automargin\": true, \"type\": \"pie\"}], \"scatter\": [{\"marker\": {\"colorbar\": {\"outlinewidth\": 0, \"ticks\": \"\"}}, \"type\": \"scatter\"}], \"scatter3d\": [{\"line\": {\"colorbar\": {\"outlinewidth\": 0, \"ticks\": \"\"}}, \"marker\": {\"colorbar\": {\"outlinewidth\": 0, \"ticks\": \"\"}}, \"type\": \"scatter3d\"}], \"scattercarpet\": [{\"marker\": {\"colorbar\": {\"outlinewidth\": 0, \"ticks\": \"\"}}, \"type\": \"scattercarpet\"}], \"scattergeo\": [{\"marker\": {\"colorbar\": {\"outlinewidth\": 0, \"ticks\": \"\"}}, \"type\": \"scattergeo\"}], \"scattergl\": [{\"marker\": {\"colorbar\": {\"outlinewidth\": 0, \"ticks\": \"\"}}, \"type\": \"scattergl\"}], \"scattermapbox\": [{\"marker\": {\"colorbar\": {\"outlinewidth\": 0, \"ticks\": \"\"}}, \"type\": \"scattermapbox\"}], \"scatterpolar\": [{\"marker\": {\"colorbar\": {\"outlinewidth\": 0, \"ticks\": \"\"}}, \"type\": \"scatterpolar\"}], \"scatterpolargl\": [{\"marker\": {\"colorbar\": {\"outlinewidth\": 0, \"ticks\": \"\"}}, \"type\": \"scatterpolargl\"}], \"scatterternary\": [{\"marker\": {\"colorbar\": {\"outlinewidth\": 0, \"ticks\": \"\"}}, \"type\": \"scatterternary\"}], \"surface\": [{\"colorbar\": {\"outlinewidth\": 0, \"ticks\": \"\"}, \"colorscale\": [[0.0, \"#0d0887\"], [0.1111111111111111, \"#46039f\"], [0.2222222222222222, \"#7201a8\"], [0.3333333333333333, \"#9c179e\"], [0.4444444444444444, \"#bd3786\"], [0.5555555555555556, \"#d8576b\"], [0.6666666666666666, \"#ed7953\"], [0.7777777777777778, \"#fb9f3a\"], [0.8888888888888888, \"#fdca26\"], [1.0, \"#f0f921\"]], \"type\": \"surface\"}], \"table\": [{\"cells\": {\"fill\": {\"color\": \"#EBF0F8\"}, \"line\": {\"color\": \"white\"}}, \"header\": {\"fill\": {\"color\": \"#C8D4E3\"}, \"line\": {\"color\": \"white\"}}, \"type\": \"table\"}]}, \"layout\": {\"annotationdefaults\": {\"arrowcolor\": \"#2a3f5f\", \"arrowhead\": 0, \"arrowwidth\": 1}, \"coloraxis\": {\"colorbar\": {\"outlinewidth\": 0, \"ticks\": \"\"}}, \"colorscale\": {\"diverging\": [[0, \"#8e0152\"], [0.1, \"#c51b7d\"], [0.2, \"#de77ae\"], [0.3, \"#f1b6da\"], [0.4, \"#fde0ef\"], [0.5, \"#f7f7f7\"], [0.6, \"#e6f5d0\"], [0.7, \"#b8e186\"], [0.8, \"#7fbc41\"], [0.9, \"#4d9221\"], [1, \"#276419\"]], \"sequential\": [[0.0, \"#0d0887\"], [0.1111111111111111, \"#46039f\"], [0.2222222222222222, \"#7201a8\"], [0.3333333333333333, \"#9c179e\"], [0.4444444444444444, \"#bd3786\"], [0.5555555555555556, \"#d8576b\"], [0.6666666666666666, \"#ed7953\"], [0.7777777777777778, \"#fb9f3a\"], [0.8888888888888888, \"#fdca26\"], [1.0, \"#f0f921\"]], \"sequentialminus\": [[0.0, \"#0d0887\"], [0.1111111111111111, \"#46039f\"], [0.2222222222222222, \"#7201a8\"], [0.3333333333333333, \"#9c179e\"], [0.4444444444444444, \"#bd3786\"], [0.5555555555555556, \"#d8576b\"], [0.6666666666666666, \"#ed7953\"], [0.7777777777777778, \"#fb9f3a\"], [0.8888888888888888, \"#fdca26\"], [1.0, \"#f0f921\"]]}, \"colorway\": [\"#636efa\", \"#EF553B\", \"#00cc96\", \"#ab63fa\", \"#FFA15A\", \"#19d3f3\", \"#FF6692\", \"#B6E880\", \"#FF97FF\", \"#FECB52\"], \"font\": {\"color\": \"#2a3f5f\"}, \"geo\": {\"bgcolor\": \"white\", \"lakecolor\": \"white\", \"landcolor\": \"white\", \"showlakes\": true, \"showland\": true, \"subunitcolor\": \"#C8D4E3\"}, \"hoverlabel\": {\"align\": \"left\"}, \"hovermode\": \"closest\", \"mapbox\": {\"style\": \"light\"}, \"paper_bgcolor\": \"white\", \"plot_bgcolor\": \"white\", \"polar\": {\"angularaxis\": {\"gridcolor\": \"#EBF0F8\", \"linecolor\": \"#EBF0F8\", \"ticks\": \"\"}, \"bgcolor\": \"white\", \"radialaxis\": {\"gridcolor\": \"#EBF0F8\", \"linecolor\": \"#EBF0F8\", \"ticks\": \"\"}}, \"scene\": {\"xaxis\": {\"backgroundcolor\": \"white\", \"gridcolor\": \"#DFE8F3\", \"gridwidth\": 2, \"linecolor\": \"#EBF0F8\", \"showbackground\": true, \"ticks\": \"\", \"zerolinecolor\": \"#EBF0F8\"}, \"yaxis\": {\"backgroundcolor\": \"white\", \"gridcolor\": \"#DFE8F3\", \"gridwidth\": 2, \"linecolor\": \"#EBF0F8\", \"showbackground\": true, \"ticks\": \"\", \"zerolinecolor\": \"#EBF0F8\"}, \"zaxis\": {\"backgroundcolor\": \"white\", \"gridcolor\": \"#DFE8F3\", \"gridwidth\": 2, \"linecolor\": \"#EBF0F8\", \"showbackground\": true, \"ticks\": \"\", \"zerolinecolor\": \"#EBF0F8\"}}, \"shapedefaults\": {\"line\": {\"color\": \"#2a3f5f\"}}, \"ternary\": {\"aaxis\": {\"gridcolor\": \"#DFE8F3\", \"linecolor\": \"#A2B1C6\", \"ticks\": \"\"}, \"baxis\": {\"gridcolor\": \"#DFE8F3\", \"linecolor\": \"#A2B1C6\", \"ticks\": \"\"}, \"bgcolor\": \"white\", \"caxis\": {\"gridcolor\": \"#DFE8F3\", \"linecolor\": \"#A2B1C6\", \"ticks\": \"\"}}, \"title\": {\"x\": 0.05}, \"xaxis\": {\"automargin\": true, \"gridcolor\": \"#EBF0F8\", \"linecolor\": \"#EBF0F8\", \"ticks\": \"\", \"title\": {\"standoff\": 15}, \"zerolinecolor\": \"#EBF0F8\", \"zerolinewidth\": 2}, \"yaxis\": {\"automargin\": true, \"gridcolor\": \"#EBF0F8\", \"linecolor\": \"#EBF0F8\", \"ticks\": \"\", \"title\": {\"standoff\": 15}, \"zerolinecolor\": \"#EBF0F8\", \"zerolinewidth\": 2}}}, \"xaxis\": {\"anchor\": \"y\", \"domain\": [0.0, 0.017777777777777778], \"matches\": \"x\", \"showticklabels\": false, \"title\": {\"text\": \"\"}}, \"xaxis10\": {\"anchor\": \"y10\", \"domain\": [0.33999999999999997, 0.35777777777777775], \"matches\": \"x\", \"showticklabels\": false, \"title\": {\"text\": \"\"}}, \"xaxis11\": {\"anchor\": \"y11\", \"domain\": [0.37777777777777777, 0.39555555555555555], \"matches\": \"x\", \"showticklabels\": false, \"title\": {\"text\": \"\"}}, \"xaxis12\": {\"anchor\": \"y12\", \"domain\": [0.41555555555555557, 0.43333333333333335], \"matches\": \"x\", \"showticklabels\": false, \"title\": {\"text\": \"\"}}, \"xaxis13\": {\"anchor\": \"y13\", \"domain\": [0.45333333333333337, 0.47111111111111115], \"matches\": \"x\", \"showticklabels\": false, \"title\": {\"text\": \"\"}}, \"xaxis14\": {\"anchor\": \"y14\", \"domain\": [0.49111111111111116, 0.508888888888889], \"matches\": \"x\", \"showticklabels\": false, \"title\": {\"text\": \"\"}}, \"xaxis15\": {\"anchor\": \"y15\", \"domain\": [0.528888888888889, 0.5466666666666667], \"matches\": \"x\", \"showticklabels\": false, \"title\": {\"text\": \"\"}}, \"xaxis16\": {\"anchor\": \"y16\", \"domain\": [0.5666666666666667, 0.5844444444444444], \"matches\": \"x\", \"showticklabels\": false, \"title\": {\"text\": \"\"}}, \"xaxis17\": {\"anchor\": \"y17\", \"domain\": [0.6044444444444445, 0.6222222222222222], \"matches\": \"x\", \"showticklabels\": false, \"title\": {\"text\": \"\"}}, \"xaxis18\": {\"anchor\": \"y18\", \"domain\": [0.6422222222222222, 0.66], \"matches\": \"x\", \"showticklabels\": false, \"title\": {\"text\": \"\"}}, \"xaxis19\": {\"anchor\": \"y19\", \"domain\": [0.6799999999999999, 0.6977777777777777], \"matches\": \"x\", \"showticklabels\": false, \"title\": {\"text\": \"\"}}, \"xaxis2\": {\"anchor\": \"y2\", \"domain\": [0.03777777777777778, 0.05555555555555555], \"matches\": \"x\", \"showticklabels\": false, \"title\": {\"text\": \"\"}}, \"xaxis20\": {\"anchor\": \"y20\", \"domain\": [0.7177777777777778, 0.7355555555555556], \"matches\": \"x\", \"showticklabels\": false, \"title\": {\"text\": \"\"}}, \"xaxis21\": {\"anchor\": \"y21\", \"domain\": [0.7555555555555555, 0.7733333333333333], \"matches\": \"x\", \"showticklabels\": false, \"title\": {\"text\": \"\"}}, \"xaxis22\": {\"anchor\": \"y22\", \"domain\": [0.7933333333333333, 0.8111111111111111], \"matches\": \"x\", \"showticklabels\": false, \"title\": {\"text\": \"\"}}, \"xaxis23\": {\"anchor\": \"y23\", \"domain\": [0.8311111111111111, 0.8488888888888889], \"matches\": \"x\", \"showticklabels\": false, \"title\": {\"text\": \"\"}}, \"xaxis24\": {\"anchor\": \"y24\", \"domain\": [0.8688888888888889, 0.8866666666666667], \"matches\": \"x\", \"showticklabels\": false, \"title\": {\"text\": \"\"}}, \"xaxis25\": {\"anchor\": \"y25\", \"domain\": [0.9066666666666667, 0.9244444444444445], \"matches\": \"x\", \"showticklabels\": false, \"title\": {\"text\": \"\"}}, \"xaxis26\": {\"anchor\": \"y26\", \"domain\": [0.9444444444444444, 0.9622222222222222], \"matches\": \"x\", \"showticklabels\": false, \"title\": {\"text\": \"\"}}, \"xaxis27\": {\"anchor\": \"y27\", \"domain\": [0.9822222222222223, 1.0], \"matches\": \"x\", \"showticklabels\": false, \"title\": {\"text\": \"\"}}, \"xaxis3\": {\"anchor\": \"y3\", \"domain\": [0.07555555555555556, 0.09333333333333334], \"matches\": \"x\", \"showticklabels\": false, \"title\": {\"text\": \"\"}}, \"xaxis4\": {\"anchor\": \"y4\", \"domain\": [0.11333333333333333, 0.1311111111111111], \"matches\": \"x\", \"showticklabels\": false, \"title\": {\"text\": \"\"}}, \"xaxis5\": {\"anchor\": \"y5\", \"domain\": [0.1511111111111111, 0.1688888888888889], \"matches\": \"x\", \"showticklabels\": false, \"title\": {\"text\": \"\"}}, \"xaxis6\": {\"anchor\": \"y6\", \"domain\": [0.18888888888888888, 0.20666666666666667], \"matches\": \"x\", \"showticklabels\": false, \"title\": {\"text\": \"\"}}, \"xaxis7\": {\"anchor\": \"y7\", \"domain\": [0.22666666666666668, 0.24444444444444446], \"matches\": \"x\", \"showticklabels\": false, \"title\": {\"text\": \"\"}}, \"xaxis8\": {\"anchor\": \"y8\", \"domain\": [0.2644444444444445, 0.28222222222222226], \"matches\": \"x\", \"showticklabels\": false, \"title\": {\"text\": \"\"}}, \"xaxis9\": {\"anchor\": \"y9\", \"domain\": [0.3022222222222222, 0.32], \"matches\": \"x\", \"showticklabels\": false, \"title\": {\"text\": \"\"}}, \"yaxis\": {\"anchor\": \"x\", \"domain\": [0.0, 1.0], \"matches\": \"y\", \"title\": {\"text\": \"\"}, \"type\": \"log\"}, \"yaxis10\": {\"anchor\": \"x10\", \"domain\": [0.0, 1.0], \"matches\": \"y\", \"showticklabels\": false, \"type\": \"log\"}, \"yaxis11\": {\"anchor\": \"x11\", \"domain\": [0.0, 1.0], \"matches\": \"y\", \"showticklabels\": false, \"type\": \"log\"}, \"yaxis12\": {\"anchor\": \"x12\", \"domain\": [0.0, 1.0], \"matches\": \"y\", \"showticklabels\": false, \"type\": \"log\"}, \"yaxis13\": {\"anchor\": \"x13\", \"domain\": [0.0, 1.0], \"matches\": \"y\", \"showticklabels\": false, \"type\": \"log\"}, \"yaxis14\": {\"anchor\": \"x14\", \"domain\": [0.0, 1.0], \"matches\": \"y\", \"showticklabels\": false, \"type\": \"log\"}, \"yaxis15\": {\"anchor\": \"x15\", \"domain\": [0.0, 1.0], \"matches\": \"y\", \"showticklabels\": false, \"type\": \"log\"}, \"yaxis16\": {\"anchor\": \"x16\", \"domain\": [0.0, 1.0], \"matches\": \"y\", \"showticklabels\": false, \"type\": \"log\"}, \"yaxis17\": {\"anchor\": \"x17\", \"domain\": [0.0, 1.0], \"matches\": \"y\", \"showticklabels\": false, \"type\": \"log\"}, \"yaxis18\": {\"anchor\": \"x18\", \"domain\": [0.0, 1.0], \"matches\": \"y\", \"showticklabels\": false, \"type\": \"log\"}, \"yaxis19\": {\"anchor\": \"x19\", \"domain\": [0.0, 1.0], \"matches\": \"y\", \"showticklabels\": false, \"type\": \"log\"}, \"yaxis2\": {\"anchor\": \"x2\", \"domain\": [0.0, 1.0], \"matches\": \"y\", \"showticklabels\": false, \"type\": \"log\"}, \"yaxis20\": {\"anchor\": \"x20\", \"domain\": [0.0, 1.0], \"matches\": \"y\", \"showticklabels\": false, \"type\": \"log\"}, \"yaxis21\": {\"anchor\": \"x21\", \"domain\": [0.0, 1.0], \"matches\": \"y\", \"showticklabels\": false, \"type\": \"log\"}, \"yaxis22\": {\"anchor\": \"x22\", \"domain\": [0.0, 1.0], \"matches\": \"y\", \"showticklabels\": false, \"type\": \"log\"}, \"yaxis23\": {\"anchor\": \"x23\", \"domain\": [0.0, 1.0], \"matches\": \"y\", \"showticklabels\": false, \"type\": \"log\"}, \"yaxis24\": {\"anchor\": \"x24\", \"domain\": [0.0, 1.0], \"matches\": \"y\", \"showticklabels\": false, \"type\": \"log\"}, \"yaxis25\": {\"anchor\": \"x25\", \"domain\": [0.0, 1.0], \"matches\": \"y\", \"showticklabels\": false, \"type\": \"log\"}, \"yaxis26\": {\"anchor\": \"x26\", \"domain\": [0.0, 1.0], \"matches\": \"y\", \"showticklabels\": false, \"type\": \"log\"}, \"yaxis27\": {\"anchor\": \"x27\", \"domain\": [0.0, 1.0], \"matches\": \"y\", \"showticklabels\": false, \"type\": \"log\"}, \"yaxis3\": {\"anchor\": \"x3\", \"domain\": [0.0, 1.0], \"matches\": \"y\", \"showticklabels\": false, \"type\": \"log\"}, \"yaxis4\": {\"anchor\": \"x4\", \"domain\": [0.0, 1.0], \"matches\": \"y\", \"showticklabels\": false, \"type\": \"log\"}, \"yaxis5\": {\"anchor\": \"x5\", \"domain\": [0.0, 1.0], \"matches\": \"y\", \"showticklabels\": false, \"type\": \"log\"}, \"yaxis6\": {\"anchor\": \"x6\", \"domain\": [0.0, 1.0], \"matches\": \"y\", \"showticklabels\": false, \"type\": \"log\"}, \"yaxis7\": {\"anchor\": \"x7\", \"domain\": [0.0, 1.0], \"matches\": \"y\", \"showticklabels\": false, \"type\": \"log\"}, \"yaxis8\": {\"anchor\": \"x8\", \"domain\": [0.0, 1.0], \"matches\": \"y\", \"showticklabels\": false, \"type\": \"log\"}, \"yaxis9\": {\"anchor\": \"x9\", \"domain\": [0.0, 1.0], \"matches\": \"y\", \"showticklabels\": false, \"type\": \"log\"}},\n",
              "                        {\"responsive\": true}\n",
              "                    ).then(function(){\n",
              "                            \n",
              "var gd = document.getElementById('55e9a1c3-951d-4819-9f51-d26821d5bc3d');\n",
              "var x = new MutationObserver(function (mutations, observer) {{\n",
              "        var display = window.getComputedStyle(gd).display;\n",
              "        if (!display || display === 'none') {{\n",
              "            console.log([gd, 'removed!']);\n",
              "            Plotly.purge(gd);\n",
              "            observer.disconnect();\n",
              "        }}\n",
              "}});\n",
              "\n",
              "// Listen for the removal of the full notebook cells\n",
              "var notebookContainer = gd.closest('#notebook-container');\n",
              "if (notebookContainer) {{\n",
              "    x.observe(notebookContainer, {childList: true});\n",
              "}}\n",
              "\n",
              "// Listen for the clearing of the current output cell\n",
              "var outputEl = gd.closest('.output');\n",
              "if (outputEl) {{\n",
              "    x.observe(outputEl, {childList: true});\n",
              "}}\n",
              "\n",
              "                        })\n",
              "                };\n",
              "                \n",
              "            </script>\n",
              "        </div>\n",
              "</body>\n",
              "</html>"
            ]
          },
          "metadata": {}
        }
      ]
    },
    {
      "cell_type": "markdown",
      "metadata": {
        "id": "m4iwcrzPdQYp"
      },
      "source": [
        "Utilizamos o log no eixo y  para identificar a taxa ao longo do tempo. No entanto, na análise exploratória ainda não deslocamos a janela da ocorrência para o primeiro caso. Na preparação dos dados, estamos interessados em entender como as curvas de crescimentos se relacionam entre os estados a partir do primeiro caso. Será que existem estados que possuem um comportamento semelhante nesta situação?"
      ]
    },
    {
      "cell_type": "markdown",
      "metadata": {
        "id": "eQvzAK4qdQYq"
      },
      "source": [
        "# Preparação dos dados"
      ]
    },
    {
      "cell_type": "markdown",
      "metadata": {
        "id": "lsPhz-2ZdQYr"
      },
      "source": [
        "Nessa primeira etapa, gostaríamos de avaliar a semelhança da curva de crescimento a partir do primeiro caso, conforme dito anteriormente.\n",
        "Utilizamos o código enviado pela professora para fazer um deslocamento dos dados e colocar todos os dados a partir do primeiro caso. Também realizamos a transposição da matriz de observações para preparação dos dados. Foi usado a normalização para que seja feita a redução de dimensionalidade(PCA) de forma adequada considerando a quantidade de componentes principais necessárias para uma boa explicação da variabilidade dos dados"
      ]
    },
    {
      "cell_type": "code",
      "metadata": {
        "id": "4KAwI6hAdQYs"
      },
      "source": [
        "# criação de TimeSeries\n",
        "ts=create_ts(df)"
      ],
      "execution_count": null,
      "outputs": []
    },
    {
      "cell_type": "code",
      "metadata": {
        "id": "MKJ0TpXgdQYw",
        "colab": {
          "base_uri": "https://localhost:8080/",
          "height": 206
        },
        "outputId": "16c765a1-42b1-48d5-983a-0cbe0e5656eb"
      },
      "source": [
        "# Adicionando todos as times series de cada estado em um unico timeseries\n",
        "appended_data = []\n",
        "for i, est in enumerate(ts.columns):\n",
        "    ts_temp = ts[est]\n",
        "    ts_temp = ts_temp[ts_temp > 0]\n",
        "    ts_temp = ts_temp.reset_index(drop=True)\n",
        "    appended_data.append(ts_temp)\n",
        "ts_all_limited = pd.concat(appended_data, axis=1, sort=False,join='inner')    \n",
        "ts_all_limited.head()"
      ],
      "execution_count": null,
      "outputs": [
        {
          "output_type": "execute_result",
          "data": {
            "text/html": [
              "<div>\n",
              "<style scoped>\n",
              "    .dataframe tbody tr th:only-of-type {\n",
              "        vertical-align: middle;\n",
              "    }\n",
              "\n",
              "    .dataframe tbody tr th {\n",
              "        vertical-align: top;\n",
              "    }\n",
              "\n",
              "    .dataframe thead th {\n",
              "        text-align: right;\n",
              "    }\n",
              "</style>\n",
              "<table border=\"1\" class=\"dataframe\">\n",
              "  <thead>\n",
              "    <tr style=\"text-align: right;\">\n",
              "      <th></th>\n",
              "      <th>AC</th>\n",
              "      <th>AL</th>\n",
              "      <th>AM</th>\n",
              "      <th>AP</th>\n",
              "      <th>BA</th>\n",
              "      <th>CE</th>\n",
              "      <th>DF</th>\n",
              "      <th>ES</th>\n",
              "      <th>GO</th>\n",
              "      <th>MA</th>\n",
              "      <th>MG</th>\n",
              "      <th>MS</th>\n",
              "      <th>MT</th>\n",
              "      <th>PA</th>\n",
              "      <th>PB</th>\n",
              "      <th>PE</th>\n",
              "      <th>PI</th>\n",
              "      <th>PR</th>\n",
              "      <th>RJ</th>\n",
              "      <th>RN</th>\n",
              "      <th>RO</th>\n",
              "      <th>RR</th>\n",
              "      <th>RS</th>\n",
              "      <th>SC</th>\n",
              "      <th>SE</th>\n",
              "      <th>SP</th>\n",
              "      <th>TO</th>\n",
              "    </tr>\n",
              "  </thead>\n",
              "  <tbody>\n",
              "    <tr>\n",
              "      <th>0</th>\n",
              "      <td>3</td>\n",
              "      <td>1</td>\n",
              "      <td>1</td>\n",
              "      <td>1</td>\n",
              "      <td>1</td>\n",
              "      <td>5</td>\n",
              "      <td>1</td>\n",
              "      <td>1</td>\n",
              "      <td>3</td>\n",
              "      <td>1</td>\n",
              "      <td>1</td>\n",
              "      <td>2</td>\n",
              "      <td>1</td>\n",
              "      <td>1</td>\n",
              "      <td>1</td>\n",
              "      <td>2</td>\n",
              "      <td>3</td>\n",
              "      <td>6</td>\n",
              "      <td>1</td>\n",
              "      <td>1</td>\n",
              "      <td>1</td>\n",
              "      <td>2</td>\n",
              "      <td>1</td>\n",
              "      <td>2</td>\n",
              "      <td>1</td>\n",
              "      <td>1</td>\n",
              "      <td>1</td>\n",
              "    </tr>\n",
              "    <tr>\n",
              "      <th>1</th>\n",
              "      <td>4</td>\n",
              "      <td>3</td>\n",
              "      <td>2</td>\n",
              "      <td>1</td>\n",
              "      <td>1</td>\n",
              "      <td>4</td>\n",
              "      <td>1</td>\n",
              "      <td>8</td>\n",
              "      <td>3</td>\n",
              "      <td>1</td>\n",
              "      <td>1</td>\n",
              "      <td>2</td>\n",
              "      <td>1</td>\n",
              "      <td>1</td>\n",
              "      <td>1</td>\n",
              "      <td>14</td>\n",
              "      <td>1</td>\n",
              "      <td>7</td>\n",
              "      <td>1</td>\n",
              "      <td>5</td>\n",
              "      <td>2</td>\n",
              "      <td>6</td>\n",
              "      <td>1</td>\n",
              "      <td>2</td>\n",
              "      <td>3</td>\n",
              "      <td>1</td>\n",
              "      <td>1</td>\n",
              "    </tr>\n",
              "    <tr>\n",
              "      <th>2</th>\n",
              "      <td>2</td>\n",
              "      <td>1</td>\n",
              "      <td>8</td>\n",
              "      <td>2</td>\n",
              "      <td>1</td>\n",
              "      <td>11</td>\n",
              "      <td>4</td>\n",
              "      <td>2</td>\n",
              "      <td>2</td>\n",
              "      <td>6</td>\n",
              "      <td>3</td>\n",
              "      <td>3</td>\n",
              "      <td>5</td>\n",
              "      <td>2</td>\n",
              "      <td>1</td>\n",
              "      <td>12</td>\n",
              "      <td>2</td>\n",
              "      <td>10</td>\n",
              "      <td>1</td>\n",
              "      <td>3</td>\n",
              "      <td>2</td>\n",
              "      <td>2</td>\n",
              "      <td>2</td>\n",
              "      <td>2</td>\n",
              "      <td>1</td>\n",
              "      <td>1</td>\n",
              "      <td>3</td>\n",
              "    </tr>\n",
              "    <tr>\n",
              "      <th>3</th>\n",
              "      <td>2</td>\n",
              "      <td>2</td>\n",
              "      <td>15</td>\n",
              "      <td>4</td>\n",
              "      <td>27</td>\n",
              "      <td>35</td>\n",
              "      <td>2</td>\n",
              "      <td>2</td>\n",
              "      <td>4</td>\n",
              "      <td>2</td>\n",
              "      <td>2</td>\n",
              "      <td>2</td>\n",
              "      <td>1</td>\n",
              "      <td>1</td>\n",
              "      <td>2</td>\n",
              "      <td>2</td>\n",
              "      <td>2</td>\n",
              "      <td>9</td>\n",
              "      <td>5</td>\n",
              "      <td>4</td>\n",
              "      <td>1</td>\n",
              "      <td>2</td>\n",
              "      <td>2</td>\n",
              "      <td>1</td>\n",
              "      <td>1</td>\n",
              "      <td>3</td>\n",
              "      <td>2</td>\n",
              "    </tr>\n",
              "    <tr>\n",
              "      <th>4</th>\n",
              "      <td>6</td>\n",
              "      <td>2</td>\n",
              "      <td>6</td>\n",
              "      <td>2</td>\n",
              "      <td>3</td>\n",
              "      <td>13</td>\n",
              "      <td>5</td>\n",
              "      <td>13</td>\n",
              "      <td>3</td>\n",
              "      <td>3</td>\n",
              "      <td>8</td>\n",
              "      <td>7</td>\n",
              "      <td>3</td>\n",
              "      <td>2</td>\n",
              "      <td>4</td>\n",
              "      <td>7</td>\n",
              "      <td>1</td>\n",
              "      <td>11</td>\n",
              "      <td>5</td>\n",
              "      <td>1</td>\n",
              "      <td>2</td>\n",
              "      <td>4</td>\n",
              "      <td>4</td>\n",
              "      <td>3</td>\n",
              "      <td>4</td>\n",
              "      <td>4</td>\n",
              "      <td>1</td>\n",
              "    </tr>\n",
              "  </tbody>\n",
              "</table>\n",
              "</div>"
            ],
            "text/plain": [
              "   AC  AL  AM  AP  BA  CE  DF  ES  GO  ...  RJ  RN  RO  RR  RS  SC  SE  SP  TO\n",
              "0   3   1   1   1   1   5   1   1   3  ...   1   1   1   2   1   2   1   1   1\n",
              "1   4   3   2   1   1   4   1   8   3  ...   1   5   2   6   1   2   3   1   1\n",
              "2   2   1   8   2   1  11   4   2   2  ...   1   3   2   2   2   2   1   1   3\n",
              "3   2   2  15   4  27  35   2   2   4  ...   5   4   1   2   2   1   1   3   2\n",
              "4   6   2   6   2   3  13   5  13   3  ...   5   1   2   4   4   3   4   4   1\n",
              "\n",
              "[5 rows x 27 columns]"
            ]
          },
          "metadata": {},
          "execution_count": 38
        }
      ]
    },
    {
      "cell_type": "code",
      "metadata": {
        "colab": {
          "base_uri": "https://localhost:8080/"
        },
        "id": "Jb1SfioLzz0W",
        "outputId": "f0d2222d-c8ef-417d-e738-d6e46319aa39"
      },
      "source": [
        "ts_all_limited.shape"
      ],
      "execution_count": null,
      "outputs": [
        {
          "output_type": "execute_result",
          "data": {
            "text/plain": [
              "(34, 27)"
            ]
          },
          "metadata": {},
          "execution_count": 39
        }
      ]
    },
    {
      "cell_type": "code",
      "metadata": {
        "id": "Be8BQqCAdQY1"
      },
      "source": [
        "# transpondo a matriz para colocar no modelo\n",
        "ts_all_limited = ts_all_limited.T"
      ],
      "execution_count": null,
      "outputs": []
    },
    {
      "cell_type": "code",
      "metadata": {
        "id": "wtz41NfUdQY5"
      },
      "source": [
        "X = ts_all_limited.values"
      ],
      "execution_count": null,
      "outputs": []
    },
    {
      "cell_type": "code",
      "metadata": {
        "id": "8DYSDDNkdQY9"
      },
      "source": [
        "# Normalização dos dados\n",
        "from sklearn.preprocessing import StandardScaler\n",
        "scaler = StandardScaler()\n",
        "X = scaler.fit_transform(X)"
      ],
      "execution_count": null,
      "outputs": []
    },
    {
      "cell_type": "code",
      "metadata": {
        "id": "6YztqMJSdQZB",
        "colab": {
          "base_uri": "https://localhost:8080/",
          "height": 542
        },
        "outputId": "6d42558e-6f6c-4c11-a1f0-f530023f37c3"
      },
      "source": [
        "import numpy as np\n",
        "import plotly.graph_objects as go\n",
        "import matplotlib.ticker as ticker\n",
        "from sklearn.decomposition import PCA\n",
        "\n",
        "pca = PCA().fit(X)\n",
        "\n",
        "fig = go.Figure()\n",
        "\n",
        "fig.add_trace(go.Scatter(y=np.cumsum(pca.explained_variance_ratio_),x=np.arange(1,28),marker_color='indianred'))\n",
        "fig.update_layout( xaxis_title=\"Número de componentes\",\n",
        "                  yaxis_title=\"Variância explicativa acumulada\",\n",
        "                 title=\"Gráfico cotovelo\",\n",
        "                 template = 'plotly_white')\n",
        "\n",
        "fig.update_xaxes(tick0=1, dtick=1)"
      ],
      "execution_count": null,
      "outputs": [
        {
          "output_type": "display_data",
          "data": {
            "text/html": [
              "<html>\n",
              "<head><meta charset=\"utf-8\" /></head>\n",
              "<body>\n",
              "    <div>\n",
              "            <script src=\"https://cdnjs.cloudflare.com/ajax/libs/mathjax/2.7.5/MathJax.js?config=TeX-AMS-MML_SVG\"></script><script type=\"text/javascript\">if (window.MathJax) {MathJax.Hub.Config({SVG: {font: \"STIX-Web\"}});}</script>\n",
              "                <script type=\"text/javascript\">window.PlotlyConfig = {MathJaxConfig: 'local'};</script>\n",
              "        <script src=\"https://cdn.plot.ly/plotly-latest.min.js\"></script>    \n",
              "            <div id=\"1b12df0b-8b38-4534-8b57-a7c2a1ec0864\" class=\"plotly-graph-div\" style=\"height:525px; width:100%;\"></div>\n",
              "            <script type=\"text/javascript\">\n",
              "                \n",
              "                    window.PLOTLYENV=window.PLOTLYENV || {};\n",
              "                    \n",
              "                if (document.getElementById(\"1b12df0b-8b38-4534-8b57-a7c2a1ec0864\")) {\n",
              "                    Plotly.newPlot(\n",
              "                        '1b12df0b-8b38-4534-8b57-a7c2a1ec0864',\n",
              "                        [{\"marker\": {\"color\": \"indianred\"}, \"type\": \"scatter\", \"x\": [1, 2, 3, 4, 5, 6, 7, 8, 9, 10, 11, 12, 13, 14, 15, 16, 17, 18, 19, 20, 21, 22, 23, 24, 25, 26, 27], \"y\": [0.7727342340676715, 0.8675590804839628, 0.8996809709863138, 0.928982853887293, 0.9463008839178854, 0.9601040341434133, 0.9709409735074698, 0.9780984570033724, 0.9834646541312111, 0.988366864539401, 0.9913442819172418, 0.9937574948925805, 0.9957676317808394, 0.9969170429083933, 0.9979807126250914, 0.9986558881054313, 0.9991235434042924, 0.9994745762883978, 0.9996287747430584, 0.9997658554331309, 0.9998472544648872, 0.9999034270531634, 0.999950086220419, 0.9999729124270259, 0.9999900546988071, 1.0000000000000004, 1.0000000000000004]}],\n",
              "                        {\"template\": {\"data\": {\"bar\": [{\"error_x\": {\"color\": \"#2a3f5f\"}, \"error_y\": {\"color\": \"#2a3f5f\"}, \"marker\": {\"line\": {\"color\": \"white\", \"width\": 0.5}}, \"type\": \"bar\"}], \"barpolar\": [{\"marker\": {\"line\": {\"color\": \"white\", \"width\": 0.5}}, \"type\": \"barpolar\"}], \"carpet\": [{\"aaxis\": {\"endlinecolor\": \"#2a3f5f\", \"gridcolor\": \"#C8D4E3\", \"linecolor\": \"#C8D4E3\", \"minorgridcolor\": \"#C8D4E3\", \"startlinecolor\": \"#2a3f5f\"}, \"baxis\": {\"endlinecolor\": \"#2a3f5f\", \"gridcolor\": \"#C8D4E3\", \"linecolor\": \"#C8D4E3\", \"minorgridcolor\": \"#C8D4E3\", \"startlinecolor\": \"#2a3f5f\"}, \"type\": \"carpet\"}], \"choropleth\": [{\"colorbar\": {\"outlinewidth\": 0, \"ticks\": \"\"}, \"type\": \"choropleth\"}], \"contour\": [{\"colorbar\": {\"outlinewidth\": 0, \"ticks\": \"\"}, \"colorscale\": [[0.0, \"#0d0887\"], [0.1111111111111111, \"#46039f\"], [0.2222222222222222, \"#7201a8\"], [0.3333333333333333, \"#9c179e\"], [0.4444444444444444, \"#bd3786\"], [0.5555555555555556, \"#d8576b\"], [0.6666666666666666, \"#ed7953\"], [0.7777777777777778, \"#fb9f3a\"], [0.8888888888888888, \"#fdca26\"], [1.0, \"#f0f921\"]], \"type\": \"contour\"}], \"contourcarpet\": [{\"colorbar\": {\"outlinewidth\": 0, \"ticks\": \"\"}, \"type\": \"contourcarpet\"}], \"heatmap\": [{\"colorbar\": {\"outlinewidth\": 0, \"ticks\": \"\"}, \"colorscale\": [[0.0, \"#0d0887\"], [0.1111111111111111, \"#46039f\"], [0.2222222222222222, \"#7201a8\"], [0.3333333333333333, \"#9c179e\"], [0.4444444444444444, \"#bd3786\"], [0.5555555555555556, \"#d8576b\"], [0.6666666666666666, \"#ed7953\"], [0.7777777777777778, \"#fb9f3a\"], [0.8888888888888888, \"#fdca26\"], [1.0, \"#f0f921\"]], \"type\": \"heatmap\"}], \"heatmapgl\": [{\"colorbar\": {\"outlinewidth\": 0, \"ticks\": \"\"}, \"colorscale\": [[0.0, \"#0d0887\"], [0.1111111111111111, \"#46039f\"], [0.2222222222222222, \"#7201a8\"], [0.3333333333333333, \"#9c179e\"], [0.4444444444444444, \"#bd3786\"], [0.5555555555555556, \"#d8576b\"], [0.6666666666666666, \"#ed7953\"], [0.7777777777777778, \"#fb9f3a\"], [0.8888888888888888, \"#fdca26\"], [1.0, \"#f0f921\"]], \"type\": \"heatmapgl\"}], \"histogram\": [{\"marker\": {\"colorbar\": {\"outlinewidth\": 0, \"ticks\": \"\"}}, \"type\": \"histogram\"}], \"histogram2d\": [{\"colorbar\": {\"outlinewidth\": 0, \"ticks\": \"\"}, \"colorscale\": [[0.0, \"#0d0887\"], [0.1111111111111111, \"#46039f\"], [0.2222222222222222, \"#7201a8\"], [0.3333333333333333, \"#9c179e\"], [0.4444444444444444, \"#bd3786\"], [0.5555555555555556, \"#d8576b\"], [0.6666666666666666, \"#ed7953\"], [0.7777777777777778, \"#fb9f3a\"], [0.8888888888888888, \"#fdca26\"], [1.0, \"#f0f921\"]], \"type\": \"histogram2d\"}], \"histogram2dcontour\": [{\"colorbar\": {\"outlinewidth\": 0, \"ticks\": \"\"}, \"colorscale\": [[0.0, \"#0d0887\"], [0.1111111111111111, \"#46039f\"], [0.2222222222222222, \"#7201a8\"], [0.3333333333333333, \"#9c179e\"], [0.4444444444444444, \"#bd3786\"], [0.5555555555555556, \"#d8576b\"], [0.6666666666666666, \"#ed7953\"], [0.7777777777777778, \"#fb9f3a\"], [0.8888888888888888, \"#fdca26\"], [1.0, \"#f0f921\"]], \"type\": \"histogram2dcontour\"}], \"mesh3d\": [{\"colorbar\": {\"outlinewidth\": 0, \"ticks\": \"\"}, \"type\": \"mesh3d\"}], \"parcoords\": [{\"line\": {\"colorbar\": {\"outlinewidth\": 0, \"ticks\": \"\"}}, \"type\": \"parcoords\"}], \"pie\": [{\"automargin\": true, \"type\": \"pie\"}], \"scatter\": [{\"marker\": {\"colorbar\": {\"outlinewidth\": 0, \"ticks\": \"\"}}, \"type\": \"scatter\"}], \"scatter3d\": [{\"line\": {\"colorbar\": {\"outlinewidth\": 0, \"ticks\": \"\"}}, \"marker\": {\"colorbar\": {\"outlinewidth\": 0, \"ticks\": \"\"}}, \"type\": \"scatter3d\"}], \"scattercarpet\": [{\"marker\": {\"colorbar\": {\"outlinewidth\": 0, \"ticks\": \"\"}}, \"type\": \"scattercarpet\"}], \"scattergeo\": [{\"marker\": {\"colorbar\": {\"outlinewidth\": 0, \"ticks\": \"\"}}, \"type\": \"scattergeo\"}], \"scattergl\": [{\"marker\": {\"colorbar\": {\"outlinewidth\": 0, \"ticks\": \"\"}}, \"type\": \"scattergl\"}], \"scattermapbox\": [{\"marker\": {\"colorbar\": {\"outlinewidth\": 0, \"ticks\": \"\"}}, \"type\": \"scattermapbox\"}], \"scatterpolar\": [{\"marker\": {\"colorbar\": {\"outlinewidth\": 0, \"ticks\": \"\"}}, \"type\": \"scatterpolar\"}], \"scatterpolargl\": [{\"marker\": {\"colorbar\": {\"outlinewidth\": 0, \"ticks\": \"\"}}, \"type\": \"scatterpolargl\"}], \"scatterternary\": [{\"marker\": {\"colorbar\": {\"outlinewidth\": 0, \"ticks\": \"\"}}, \"type\": \"scatterternary\"}], \"surface\": [{\"colorbar\": {\"outlinewidth\": 0, \"ticks\": \"\"}, \"colorscale\": [[0.0, \"#0d0887\"], [0.1111111111111111, \"#46039f\"], [0.2222222222222222, \"#7201a8\"], [0.3333333333333333, \"#9c179e\"], [0.4444444444444444, \"#bd3786\"], [0.5555555555555556, \"#d8576b\"], [0.6666666666666666, \"#ed7953\"], [0.7777777777777778, \"#fb9f3a\"], [0.8888888888888888, \"#fdca26\"], [1.0, \"#f0f921\"]], \"type\": \"surface\"}], \"table\": [{\"cells\": {\"fill\": {\"color\": \"#EBF0F8\"}, \"line\": {\"color\": \"white\"}}, \"header\": {\"fill\": {\"color\": \"#C8D4E3\"}, \"line\": {\"color\": \"white\"}}, \"type\": \"table\"}]}, \"layout\": {\"annotationdefaults\": {\"arrowcolor\": \"#2a3f5f\", \"arrowhead\": 0, \"arrowwidth\": 1}, \"coloraxis\": {\"colorbar\": {\"outlinewidth\": 0, \"ticks\": \"\"}}, \"colorscale\": {\"diverging\": [[0, \"#8e0152\"], [0.1, \"#c51b7d\"], [0.2, \"#de77ae\"], [0.3, \"#f1b6da\"], [0.4, \"#fde0ef\"], [0.5, \"#f7f7f7\"], [0.6, \"#e6f5d0\"], [0.7, \"#b8e186\"], [0.8, \"#7fbc41\"], [0.9, \"#4d9221\"], [1, \"#276419\"]], \"sequential\": [[0.0, \"#0d0887\"], [0.1111111111111111, \"#46039f\"], [0.2222222222222222, \"#7201a8\"], [0.3333333333333333, \"#9c179e\"], [0.4444444444444444, \"#bd3786\"], [0.5555555555555556, \"#d8576b\"], [0.6666666666666666, \"#ed7953\"], [0.7777777777777778, \"#fb9f3a\"], [0.8888888888888888, \"#fdca26\"], [1.0, \"#f0f921\"]], \"sequentialminus\": [[0.0, \"#0d0887\"], [0.1111111111111111, \"#46039f\"], [0.2222222222222222, \"#7201a8\"], [0.3333333333333333, \"#9c179e\"], [0.4444444444444444, \"#bd3786\"], [0.5555555555555556, \"#d8576b\"], [0.6666666666666666, \"#ed7953\"], [0.7777777777777778, \"#fb9f3a\"], [0.8888888888888888, \"#fdca26\"], [1.0, \"#f0f921\"]]}, \"colorway\": [\"#636efa\", \"#EF553B\", \"#00cc96\", \"#ab63fa\", \"#FFA15A\", \"#19d3f3\", \"#FF6692\", \"#B6E880\", \"#FF97FF\", \"#FECB52\"], \"font\": {\"color\": \"#2a3f5f\"}, \"geo\": {\"bgcolor\": \"white\", \"lakecolor\": \"white\", \"landcolor\": \"white\", \"showlakes\": true, \"showland\": true, \"subunitcolor\": \"#C8D4E3\"}, \"hoverlabel\": {\"align\": \"left\"}, \"hovermode\": \"closest\", \"mapbox\": {\"style\": \"light\"}, \"paper_bgcolor\": \"white\", \"plot_bgcolor\": \"white\", \"polar\": {\"angularaxis\": {\"gridcolor\": \"#EBF0F8\", \"linecolor\": \"#EBF0F8\", \"ticks\": \"\"}, \"bgcolor\": \"white\", \"radialaxis\": {\"gridcolor\": \"#EBF0F8\", \"linecolor\": \"#EBF0F8\", \"ticks\": \"\"}}, \"scene\": {\"xaxis\": {\"backgroundcolor\": \"white\", \"gridcolor\": \"#DFE8F3\", \"gridwidth\": 2, \"linecolor\": \"#EBF0F8\", \"showbackground\": true, \"ticks\": \"\", \"zerolinecolor\": \"#EBF0F8\"}, \"yaxis\": {\"backgroundcolor\": \"white\", \"gridcolor\": \"#DFE8F3\", \"gridwidth\": 2, \"linecolor\": \"#EBF0F8\", \"showbackground\": true, \"ticks\": \"\", \"zerolinecolor\": \"#EBF0F8\"}, \"zaxis\": {\"backgroundcolor\": \"white\", \"gridcolor\": \"#DFE8F3\", \"gridwidth\": 2, \"linecolor\": \"#EBF0F8\", \"showbackground\": true, \"ticks\": \"\", \"zerolinecolor\": \"#EBF0F8\"}}, \"shapedefaults\": {\"line\": {\"color\": \"#2a3f5f\"}}, \"ternary\": {\"aaxis\": {\"gridcolor\": \"#DFE8F3\", \"linecolor\": \"#A2B1C6\", \"ticks\": \"\"}, \"baxis\": {\"gridcolor\": \"#DFE8F3\", \"linecolor\": \"#A2B1C6\", \"ticks\": \"\"}, \"bgcolor\": \"white\", \"caxis\": {\"gridcolor\": \"#DFE8F3\", \"linecolor\": \"#A2B1C6\", \"ticks\": \"\"}}, \"title\": {\"x\": 0.05}, \"xaxis\": {\"automargin\": true, \"gridcolor\": \"#EBF0F8\", \"linecolor\": \"#EBF0F8\", \"ticks\": \"\", \"title\": {\"standoff\": 15}, \"zerolinecolor\": \"#EBF0F8\", \"zerolinewidth\": 2}, \"yaxis\": {\"automargin\": true, \"gridcolor\": \"#EBF0F8\", \"linecolor\": \"#EBF0F8\", \"ticks\": \"\", \"title\": {\"standoff\": 15}, \"zerolinecolor\": \"#EBF0F8\", \"zerolinewidth\": 2}}}, \"title\": {\"text\": \"Gr\\u00e1fico cotovelo\"}, \"xaxis\": {\"dtick\": 1, \"tick0\": 1, \"title\": {\"text\": \"N\\u00famero de componentes\"}}, \"yaxis\": {\"title\": {\"text\": \"Vari\\u00e2ncia explicativa acumulada\"}}},\n",
              "                        {\"responsive\": true}\n",
              "                    ).then(function(){\n",
              "                            \n",
              "var gd = document.getElementById('1b12df0b-8b38-4534-8b57-a7c2a1ec0864');\n",
              "var x = new MutationObserver(function (mutations, observer) {{\n",
              "        var display = window.getComputedStyle(gd).display;\n",
              "        if (!display || display === 'none') {{\n",
              "            console.log([gd, 'removed!']);\n",
              "            Plotly.purge(gd);\n",
              "            observer.disconnect();\n",
              "        }}\n",
              "}});\n",
              "\n",
              "// Listen for the removal of the full notebook cells\n",
              "var notebookContainer = gd.closest('#notebook-container');\n",
              "if (notebookContainer) {{\n",
              "    x.observe(notebookContainer, {childList: true});\n",
              "}}\n",
              "\n",
              "// Listen for the clearing of the current output cell\n",
              "var outputEl = gd.closest('.output');\n",
              "if (outputEl) {{\n",
              "    x.observe(outputEl, {childList: true});\n",
              "}}\n",
              "\n",
              "                        })\n",
              "                };\n",
              "                \n",
              "            </script>\n",
              "        </div>\n",
              "</body>\n",
              "</html>"
            ]
          },
          "metadata": {}
        }
      ]
    },
    {
      "cell_type": "markdown",
      "metadata": {
        "id": "-zfjbJxRdQZE"
      },
      "source": [
        "A partir de 5 componentes principais já é capaz de explicar em torno de 80% da variabilidade dos dados.\n",
        "Utilizaremos 5 componentes principais conforme código abaixo."
      ]
    },
    {
      "cell_type": "code",
      "metadata": {
        "id": "O0pzHWOodQZE"
      },
      "source": [
        "from sklearn.decomposition import PCA\n",
        "pca = PCA(n_components=)\n",
        "principalComponents = pca.fit_transform(X)\n",
        "principalDf = pd.DataFrame(data = principalComponents)"
      ],
      "execution_count": null,
      "outputs": []
    },
    {
      "cell_type": "markdown",
      "metadata": {
        "id": "IZ6xDiVWdQZH"
      },
      "source": [
        "Componentes principais criados"
      ]
    },
    {
      "cell_type": "code",
      "metadata": {
        "id": "s_Vlg7lCdQZI",
        "colab": {
          "base_uri": "https://localhost:8080/",
          "height": 206
        },
        "outputId": "7cfb6e13-6983-4e5a-c6c3-3fccafa0c12d"
      },
      "source": [
        "principalDf.head()"
      ],
      "execution_count": null,
      "outputs": [
        {
          "output_type": "execute_result",
          "data": {
            "text/html": [
              "<div>\n",
              "<style scoped>\n",
              "    .dataframe tbody tr th:only-of-type {\n",
              "        vertical-align: middle;\n",
              "    }\n",
              "\n",
              "    .dataframe tbody tr th {\n",
              "        vertical-align: top;\n",
              "    }\n",
              "\n",
              "    .dataframe thead th {\n",
              "        text-align: right;\n",
              "    }\n",
              "</style>\n",
              "<table border=\"1\" class=\"dataframe\">\n",
              "  <thead>\n",
              "    <tr style=\"text-align: right;\">\n",
              "      <th></th>\n",
              "      <th>0</th>\n",
              "      <th>1</th>\n",
              "      <th>2</th>\n",
              "      <th>3</th>\n",
              "      <th>4</th>\n",
              "    </tr>\n",
              "  </thead>\n",
              "  <tbody>\n",
              "    <tr>\n",
              "      <th>0</th>\n",
              "      <td>-3.377690</td>\n",
              "      <td>-0.191452</td>\n",
              "      <td>1.546599</td>\n",
              "      <td>-0.887009</td>\n",
              "      <td>0.605812</td>\n",
              "    </tr>\n",
              "    <tr>\n",
              "      <th>1</th>\n",
              "      <td>-2.213912</td>\n",
              "      <td>1.594832</td>\n",
              "      <td>0.823937</td>\n",
              "      <td>-0.264923</td>\n",
              "      <td>-1.175346</td>\n",
              "    </tr>\n",
              "    <tr>\n",
              "      <th>2</th>\n",
              "      <td>5.651906</td>\n",
              "      <td>-1.627794</td>\n",
              "      <td>-0.708536</td>\n",
              "      <td>1.598379</td>\n",
              "      <td>0.294760</td>\n",
              "    </tr>\n",
              "    <tr>\n",
              "      <th>3</th>\n",
              "      <td>-0.308008</td>\n",
              "      <td>-0.289457</td>\n",
              "      <td>-2.850630</td>\n",
              "      <td>-0.185642</td>\n",
              "      <td>-1.532167</td>\n",
              "    </tr>\n",
              "    <tr>\n",
              "      <th>4</th>\n",
              "      <td>0.561306</td>\n",
              "      <td>-1.013463</td>\n",
              "      <td>-1.437188</td>\n",
              "      <td>-0.749018</td>\n",
              "      <td>-1.127750</td>\n",
              "    </tr>\n",
              "  </tbody>\n",
              "</table>\n",
              "</div>"
            ],
            "text/plain": [
              "          0         1         2         3         4\n",
              "0 -3.377690 -0.191452  1.546599 -0.887009  0.605812\n",
              "1 -2.213912  1.594832  0.823937 -0.264923 -1.175346\n",
              "2  5.651906 -1.627794 -0.708536  1.598379  0.294760\n",
              "3 -0.308008 -0.289457 -2.850630 -0.185642 -1.532167\n",
              "4  0.561306 -1.013463 -1.437188 -0.749018 -1.127750"
            ]
          },
          "metadata": {},
          "execution_count": 22
        }
      ]
    },
    {
      "cell_type": "code",
      "metadata": {
        "colab": {
          "base_uri": "https://localhost:8080/"
        },
        "id": "cLgMbXZI9hrV",
        "outputId": "1aa6c4c6-e5a4-4e4c-962d-5e8036b9714d"
      },
      "source": [
        "principalDf.shape"
      ],
      "execution_count": null,
      "outputs": [
        {
          "output_type": "execute_result",
          "data": {
            "text/plain": [
              "(27, 5)"
            ]
          },
          "metadata": {},
          "execution_count": 44
        }
      ]
    },
    {
      "cell_type": "markdown",
      "metadata": {
        "id": "3qEYAtGGzgVI"
      },
      "source": [
        "Dias mais importantes para separação dos dados"
      ]
    },
    {
      "cell_type": "code",
      "metadata": {
        "colab": {
          "base_uri": "https://localhost:8080/",
          "height": 226
        },
        "id": "l_0uW6oMzfIH",
        "outputId": "e0a5a2a5-97b0-46ac-8a57-2fdf650c4331"
      },
      "source": [
        "pd.DataFrame(pca.components_)"
      ],
      "execution_count": null,
      "outputs": [
        {
          "output_type": "execute_result",
          "data": {
            "text/html": [
              "<div>\n",
              "<style scoped>\n",
              "    .dataframe tbody tr th:only-of-type {\n",
              "        vertical-align: middle;\n",
              "    }\n",
              "\n",
              "    .dataframe tbody tr th {\n",
              "        vertical-align: top;\n",
              "    }\n",
              "\n",
              "    .dataframe thead th {\n",
              "        text-align: right;\n",
              "    }\n",
              "</style>\n",
              "<table border=\"1\" class=\"dataframe\">\n",
              "  <thead>\n",
              "    <tr style=\"text-align: right;\">\n",
              "      <th></th>\n",
              "      <th>0</th>\n",
              "      <th>1</th>\n",
              "      <th>2</th>\n",
              "      <th>3</th>\n",
              "      <th>4</th>\n",
              "      <th>5</th>\n",
              "      <th>6</th>\n",
              "      <th>7</th>\n",
              "      <th>8</th>\n",
              "      <th>9</th>\n",
              "      <th>10</th>\n",
              "      <th>11</th>\n",
              "      <th>12</th>\n",
              "      <th>13</th>\n",
              "      <th>14</th>\n",
              "      <th>15</th>\n",
              "      <th>16</th>\n",
              "      <th>17</th>\n",
              "      <th>18</th>\n",
              "      <th>19</th>\n",
              "      <th>20</th>\n",
              "      <th>21</th>\n",
              "      <th>22</th>\n",
              "      <th>23</th>\n",
              "      <th>24</th>\n",
              "      <th>25</th>\n",
              "      <th>26</th>\n",
              "      <th>27</th>\n",
              "      <th>28</th>\n",
              "      <th>29</th>\n",
              "      <th>30</th>\n",
              "      <th>31</th>\n",
              "      <th>32</th>\n",
              "      <th>33</th>\n",
              "    </tr>\n",
              "  </thead>\n",
              "  <tbody>\n",
              "    <tr>\n",
              "      <th>0</th>\n",
              "      <td>0.053038</td>\n",
              "      <td>0.050934</td>\n",
              "      <td>0.142634</td>\n",
              "      <td>0.145805</td>\n",
              "      <td>0.116861</td>\n",
              "      <td>0.143906</td>\n",
              "      <td>0.154219</td>\n",
              "      <td>0.076540</td>\n",
              "      <td>0.058535</td>\n",
              "      <td>0.150794</td>\n",
              "      <td>0.160543</td>\n",
              "      <td>0.090352</td>\n",
              "      <td>0.188285</td>\n",
              "      <td>0.046940</td>\n",
              "      <td>0.107989</td>\n",
              "      <td>0.221639</td>\n",
              "      <td>0.222294</td>\n",
              "      <td>0.218230</td>\n",
              "      <td>0.198140</td>\n",
              "      <td>0.231027</td>\n",
              "      <td>0.225018</td>\n",
              "      <td>0.167954</td>\n",
              "      <td>0.206093</td>\n",
              "      <td>0.221018</td>\n",
              "      <td>0.205795</td>\n",
              "      <td>0.212879</td>\n",
              "      <td>0.153248</td>\n",
              "      <td>0.150331</td>\n",
              "      <td>0.183618</td>\n",
              "      <td>0.171037</td>\n",
              "      <td>0.205968</td>\n",
              "      <td>0.220076</td>\n",
              "      <td>0.227351</td>\n",
              "      <td>0.177016</td>\n",
              "    </tr>\n",
              "    <tr>\n",
              "      <th>1</th>\n",
              "      <td>-0.216847</td>\n",
              "      <td>0.002940</td>\n",
              "      <td>-0.168427</td>\n",
              "      <td>-0.243768</td>\n",
              "      <td>-0.182260</td>\n",
              "      <td>-0.310210</td>\n",
              "      <td>-0.268978</td>\n",
              "      <td>-0.259664</td>\n",
              "      <td>-0.196498</td>\n",
              "      <td>-0.212737</td>\n",
              "      <td>-0.229537</td>\n",
              "      <td>-0.119564</td>\n",
              "      <td>0.074559</td>\n",
              "      <td>-0.162232</td>\n",
              "      <td>-0.066669</td>\n",
              "      <td>0.028235</td>\n",
              "      <td>-0.080892</td>\n",
              "      <td>0.026397</td>\n",
              "      <td>-0.147937</td>\n",
              "      <td>0.113417</td>\n",
              "      <td>-0.088041</td>\n",
              "      <td>0.078887</td>\n",
              "      <td>-0.166290</td>\n",
              "      <td>0.119258</td>\n",
              "      <td>0.176583</td>\n",
              "      <td>0.196278</td>\n",
              "      <td>0.006904</td>\n",
              "      <td>0.057826</td>\n",
              "      <td>0.229211</td>\n",
              "      <td>0.256058</td>\n",
              "      <td>0.223752</td>\n",
              "      <td>0.189407</td>\n",
              "      <td>0.136174</td>\n",
              "      <td>0.120251</td>\n",
              "    </tr>\n",
              "    <tr>\n",
              "      <th>2</th>\n",
              "      <td>0.318885</td>\n",
              "      <td>0.401647</td>\n",
              "      <td>0.300544</td>\n",
              "      <td>0.033240</td>\n",
              "      <td>0.250345</td>\n",
              "      <td>0.074543</td>\n",
              "      <td>0.054908</td>\n",
              "      <td>-0.235708</td>\n",
              "      <td>-0.197515</td>\n",
              "      <td>-0.004469</td>\n",
              "      <td>-0.116947</td>\n",
              "      <td>-0.195345</td>\n",
              "      <td>-0.253927</td>\n",
              "      <td>-0.384238</td>\n",
              "      <td>-0.326224</td>\n",
              "      <td>-0.135456</td>\n",
              "      <td>0.010438</td>\n",
              "      <td>-0.154494</td>\n",
              "      <td>0.021646</td>\n",
              "      <td>0.030313</td>\n",
              "      <td>-0.016054</td>\n",
              "      <td>0.120320</td>\n",
              "      <td>0.156056</td>\n",
              "      <td>0.095591</td>\n",
              "      <td>-0.032587</td>\n",
              "      <td>0.076995</td>\n",
              "      <td>-0.006941</td>\n",
              "      <td>-0.000500</td>\n",
              "      <td>-0.045828</td>\n",
              "      <td>0.001855</td>\n",
              "      <td>-0.026658</td>\n",
              "      <td>-0.002172</td>\n",
              "      <td>0.022649</td>\n",
              "      <td>0.083905</td>\n",
              "    </tr>\n",
              "    <tr>\n",
              "      <th>3</th>\n",
              "      <td>-0.156635</td>\n",
              "      <td>0.258090</td>\n",
              "      <td>0.197516</td>\n",
              "      <td>-0.194780</td>\n",
              "      <td>-0.048633</td>\n",
              "      <td>-0.148045</td>\n",
              "      <td>-0.195339</td>\n",
              "      <td>0.166499</td>\n",
              "      <td>0.082298</td>\n",
              "      <td>0.083525</td>\n",
              "      <td>0.018675</td>\n",
              "      <td>-0.080419</td>\n",
              "      <td>-0.190500</td>\n",
              "      <td>0.166949</td>\n",
              "      <td>0.291686</td>\n",
              "      <td>-0.072129</td>\n",
              "      <td>-0.027566</td>\n",
              "      <td>-0.073900</td>\n",
              "      <td>-0.057058</td>\n",
              "      <td>-0.008155</td>\n",
              "      <td>-0.085711</td>\n",
              "      <td>0.376824</td>\n",
              "      <td>-0.014280</td>\n",
              "      <td>0.010625</td>\n",
              "      <td>0.139627</td>\n",
              "      <td>0.105007</td>\n",
              "      <td>0.350256</td>\n",
              "      <td>0.384280</td>\n",
              "      <td>-0.195937</td>\n",
              "      <td>-0.111180</td>\n",
              "      <td>-0.146175</td>\n",
              "      <td>-0.126113</td>\n",
              "      <td>-0.124676</td>\n",
              "      <td>0.055572</td>\n",
              "    </tr>\n",
              "    <tr>\n",
              "      <th>4</th>\n",
              "      <td>0.023282</td>\n",
              "      <td>0.164412</td>\n",
              "      <td>0.076612</td>\n",
              "      <td>-0.194643</td>\n",
              "      <td>0.241917</td>\n",
              "      <td>-0.022004</td>\n",
              "      <td>-0.154839</td>\n",
              "      <td>-0.047896</td>\n",
              "      <td>0.496841</td>\n",
              "      <td>0.273696</td>\n",
              "      <td>-0.193923</td>\n",
              "      <td>-0.209448</td>\n",
              "      <td>0.185499</td>\n",
              "      <td>0.186783</td>\n",
              "      <td>-0.083884</td>\n",
              "      <td>0.081776</td>\n",
              "      <td>-0.130654</td>\n",
              "      <td>-0.018600</td>\n",
              "      <td>0.109255</td>\n",
              "      <td>0.162927</td>\n",
              "      <td>-0.091522</td>\n",
              "      <td>0.143355</td>\n",
              "      <td>-0.030078</td>\n",
              "      <td>0.020472</td>\n",
              "      <td>0.045914</td>\n",
              "      <td>-0.014209</td>\n",
              "      <td>-0.176828</td>\n",
              "      <td>-0.262784</td>\n",
              "      <td>0.175064</td>\n",
              "      <td>0.145917</td>\n",
              "      <td>-0.004882</td>\n",
              "      <td>-0.001148</td>\n",
              "      <td>-0.136847</td>\n",
              "      <td>-0.312512</td>\n",
              "    </tr>\n",
              "  </tbody>\n",
              "</table>\n",
              "</div>"
            ],
            "text/plain": [
              "         0         1         2   ...        31        32        33\n",
              "0  0.053038  0.050934  0.142634  ...  0.220076  0.227351  0.177016\n",
              "1 -0.216847  0.002940 -0.168427  ...  0.189407  0.136174  0.120251\n",
              "2  0.318885  0.401647  0.300544  ... -0.002172  0.022649  0.083905\n",
              "3 -0.156635  0.258090  0.197516  ... -0.126113 -0.124676  0.055572\n",
              "4  0.023282  0.164412  0.076612  ... -0.001148 -0.136847 -0.312512\n",
              "\n",
              "[5 rows x 34 columns]"
            ]
          },
          "metadata": {},
          "execution_count": 46
        }
      ]
    },
    {
      "cell_type": "markdown",
      "metadata": {
        "id": "pA2xTEchdQZL"
      },
      "source": [
        "# Modelagem: "
      ]
    },
    {
      "cell_type": "markdown",
      "metadata": {
        "id": "4Y0L8uq4dQZL"
      },
      "source": [
        "Utilizamos o KMeans e o Hieráquico para análise.\n",
        "No Kmeans avaliaremos até 15 possibilidades de grupos.\n",
        "Por meio do gráfico cotovelo, também definimos a quantidade ótima de grupos.\n",
        "Visualmente, pode ser feito olhando a variação da inclinação do WCSS."
      ]
    },
    {
      "cell_type": "code",
      "metadata": {
        "id": "0xPQHyxEdQZM",
        "colab": {
          "base_uri": "https://localhost:8080/",
          "height": 542
        },
        "outputId": "e9525b39-12e2-48d0-fd63-ccfe02f7fffa"
      },
      "source": [
        "from sklearn.cluster import KMeans\n",
        "wcss = []\n",
        "for i in range(1, 15):\n",
        "    kmeans = KMeans(n_clusters = i, init = 'k-means++', random_state = 42)\n",
        "    kmeans.fit(principalDf)\n",
        "    wcss.append(kmeans.inertia_)\n",
        "\n",
        "fig = go.Figure()\n",
        "fig.add_trace(go.Scatter(y=wcss,x=np.arange(1,15),marker_color='indianred'))\n",
        "fig.update_layout( xaxis_title=\"Número de clustes\",\n",
        "                  yaxis_title=\"WCSS\",\n",
        "                 title=\"Gráfico cotovelo\",\n",
        "                 template = 'plotly_white')"
      ],
      "execution_count": null,
      "outputs": [
        {
          "output_type": "display_data",
          "data": {
            "text/html": [
              "<html>\n",
              "<head><meta charset=\"utf-8\" /></head>\n",
              "<body>\n",
              "    <div>\n",
              "            <script src=\"https://cdnjs.cloudflare.com/ajax/libs/mathjax/2.7.5/MathJax.js?config=TeX-AMS-MML_SVG\"></script><script type=\"text/javascript\">if (window.MathJax) {MathJax.Hub.Config({SVG: {font: \"STIX-Web\"}});}</script>\n",
              "                <script type=\"text/javascript\">window.PlotlyConfig = {MathJaxConfig: 'local'};</script>\n",
              "        <script src=\"https://cdn.plot.ly/plotly-latest.min.js\"></script>    \n",
              "            <div id=\"89d8cb49-854c-43a2-a03c-0fe80cf95840\" class=\"plotly-graph-div\" style=\"height:525px; width:100%;\"></div>\n",
              "            <script type=\"text/javascript\">\n",
              "                \n",
              "                    window.PLOTLYENV=window.PLOTLYENV || {};\n",
              "                    \n",
              "                if (document.getElementById(\"89d8cb49-854c-43a2-a03c-0fe80cf95840\")) {\n",
              "                    Plotly.newPlot(\n",
              "                        '89d8cb49-854c-43a2-a03c-0fe80cf95840',\n",
              "                        [{\"marker\": {\"color\": \"indianred\"}, \"type\": \"scatter\", \"x\": [1, 2, 3, 4, 5, 6, 7, 8, 9, 10, 11, 12, 13, 14], \"y\": [734.8458001488691, 411.9649756287482, 305.97373925002114, 220.35444506967343, 145.66837082140825, 110.45317003983934, 82.50789701784075, 66.31216623987952, 52.17869279524842, 40.75530277933653, 29.617461415373086, 25.06245249531318, 20.786574540361734, 15.594532854722246]}],\n",
              "                        {\"template\": {\"data\": {\"bar\": [{\"error_x\": {\"color\": \"#2a3f5f\"}, \"error_y\": {\"color\": \"#2a3f5f\"}, \"marker\": {\"line\": {\"color\": \"white\", \"width\": 0.5}}, \"type\": \"bar\"}], \"barpolar\": [{\"marker\": {\"line\": {\"color\": \"white\", \"width\": 0.5}}, \"type\": \"barpolar\"}], \"carpet\": [{\"aaxis\": {\"endlinecolor\": \"#2a3f5f\", \"gridcolor\": \"#C8D4E3\", \"linecolor\": \"#C8D4E3\", \"minorgridcolor\": \"#C8D4E3\", \"startlinecolor\": \"#2a3f5f\"}, \"baxis\": {\"endlinecolor\": \"#2a3f5f\", \"gridcolor\": \"#C8D4E3\", \"linecolor\": \"#C8D4E3\", \"minorgridcolor\": \"#C8D4E3\", \"startlinecolor\": \"#2a3f5f\"}, \"type\": \"carpet\"}], \"choropleth\": [{\"colorbar\": {\"outlinewidth\": 0, \"ticks\": \"\"}, \"type\": \"choropleth\"}], \"contour\": [{\"colorbar\": {\"outlinewidth\": 0, \"ticks\": \"\"}, \"colorscale\": [[0.0, \"#0d0887\"], [0.1111111111111111, \"#46039f\"], [0.2222222222222222, \"#7201a8\"], [0.3333333333333333, \"#9c179e\"], [0.4444444444444444, \"#bd3786\"], [0.5555555555555556, \"#d8576b\"], [0.6666666666666666, \"#ed7953\"], [0.7777777777777778, \"#fb9f3a\"], [0.8888888888888888, \"#fdca26\"], [1.0, \"#f0f921\"]], \"type\": \"contour\"}], \"contourcarpet\": [{\"colorbar\": {\"outlinewidth\": 0, \"ticks\": \"\"}, \"type\": \"contourcarpet\"}], \"heatmap\": [{\"colorbar\": {\"outlinewidth\": 0, \"ticks\": \"\"}, \"colorscale\": [[0.0, \"#0d0887\"], [0.1111111111111111, \"#46039f\"], [0.2222222222222222, \"#7201a8\"], [0.3333333333333333, \"#9c179e\"], [0.4444444444444444, \"#bd3786\"], [0.5555555555555556, \"#d8576b\"], [0.6666666666666666, \"#ed7953\"], [0.7777777777777778, \"#fb9f3a\"], [0.8888888888888888, \"#fdca26\"], [1.0, \"#f0f921\"]], \"type\": \"heatmap\"}], \"heatmapgl\": [{\"colorbar\": {\"outlinewidth\": 0, \"ticks\": \"\"}, \"colorscale\": [[0.0, \"#0d0887\"], [0.1111111111111111, \"#46039f\"], [0.2222222222222222, \"#7201a8\"], [0.3333333333333333, \"#9c179e\"], [0.4444444444444444, \"#bd3786\"], [0.5555555555555556, \"#d8576b\"], [0.6666666666666666, \"#ed7953\"], [0.7777777777777778, \"#fb9f3a\"], [0.8888888888888888, \"#fdca26\"], [1.0, \"#f0f921\"]], \"type\": \"heatmapgl\"}], \"histogram\": [{\"marker\": {\"colorbar\": {\"outlinewidth\": 0, \"ticks\": \"\"}}, \"type\": \"histogram\"}], \"histogram2d\": [{\"colorbar\": {\"outlinewidth\": 0, \"ticks\": \"\"}, \"colorscale\": [[0.0, \"#0d0887\"], [0.1111111111111111, \"#46039f\"], [0.2222222222222222, \"#7201a8\"], [0.3333333333333333, \"#9c179e\"], [0.4444444444444444, \"#bd3786\"], [0.5555555555555556, \"#d8576b\"], [0.6666666666666666, \"#ed7953\"], [0.7777777777777778, \"#fb9f3a\"], [0.8888888888888888, \"#fdca26\"], [1.0, \"#f0f921\"]], \"type\": \"histogram2d\"}], \"histogram2dcontour\": [{\"colorbar\": {\"outlinewidth\": 0, \"ticks\": \"\"}, \"colorscale\": [[0.0, \"#0d0887\"], [0.1111111111111111, \"#46039f\"], [0.2222222222222222, \"#7201a8\"], [0.3333333333333333, \"#9c179e\"], [0.4444444444444444, \"#bd3786\"], [0.5555555555555556, \"#d8576b\"], [0.6666666666666666, \"#ed7953\"], [0.7777777777777778, \"#fb9f3a\"], [0.8888888888888888, \"#fdca26\"], [1.0, \"#f0f921\"]], \"type\": \"histogram2dcontour\"}], \"mesh3d\": [{\"colorbar\": {\"outlinewidth\": 0, \"ticks\": \"\"}, \"type\": \"mesh3d\"}], \"parcoords\": [{\"line\": {\"colorbar\": {\"outlinewidth\": 0, \"ticks\": \"\"}}, \"type\": \"parcoords\"}], \"pie\": [{\"automargin\": true, \"type\": \"pie\"}], \"scatter\": [{\"marker\": {\"colorbar\": {\"outlinewidth\": 0, \"ticks\": \"\"}}, \"type\": \"scatter\"}], \"scatter3d\": [{\"line\": {\"colorbar\": {\"outlinewidth\": 0, \"ticks\": \"\"}}, \"marker\": {\"colorbar\": {\"outlinewidth\": 0, \"ticks\": \"\"}}, \"type\": \"scatter3d\"}], \"scattercarpet\": [{\"marker\": {\"colorbar\": {\"outlinewidth\": 0, \"ticks\": \"\"}}, \"type\": \"scattercarpet\"}], \"scattergeo\": [{\"marker\": {\"colorbar\": {\"outlinewidth\": 0, \"ticks\": \"\"}}, \"type\": \"scattergeo\"}], \"scattergl\": [{\"marker\": {\"colorbar\": {\"outlinewidth\": 0, \"ticks\": \"\"}}, \"type\": \"scattergl\"}], \"scattermapbox\": [{\"marker\": {\"colorbar\": {\"outlinewidth\": 0, \"ticks\": \"\"}}, \"type\": \"scattermapbox\"}], \"scatterpolar\": [{\"marker\": {\"colorbar\": {\"outlinewidth\": 0, \"ticks\": \"\"}}, \"type\": \"scatterpolar\"}], \"scatterpolargl\": [{\"marker\": {\"colorbar\": {\"outlinewidth\": 0, \"ticks\": \"\"}}, \"type\": \"scatterpolargl\"}], \"scatterternary\": [{\"marker\": {\"colorbar\": {\"outlinewidth\": 0, \"ticks\": \"\"}}, \"type\": \"scatterternary\"}], \"surface\": [{\"colorbar\": {\"outlinewidth\": 0, \"ticks\": \"\"}, \"colorscale\": [[0.0, \"#0d0887\"], [0.1111111111111111, \"#46039f\"], [0.2222222222222222, \"#7201a8\"], [0.3333333333333333, \"#9c179e\"], [0.4444444444444444, \"#bd3786\"], [0.5555555555555556, \"#d8576b\"], [0.6666666666666666, \"#ed7953\"], [0.7777777777777778, \"#fb9f3a\"], [0.8888888888888888, \"#fdca26\"], [1.0, \"#f0f921\"]], \"type\": \"surface\"}], \"table\": [{\"cells\": {\"fill\": {\"color\": \"#EBF0F8\"}, \"line\": {\"color\": \"white\"}}, \"header\": {\"fill\": {\"color\": \"#C8D4E3\"}, \"line\": {\"color\": \"white\"}}, \"type\": \"table\"}]}, \"layout\": {\"annotationdefaults\": {\"arrowcolor\": \"#2a3f5f\", \"arrowhead\": 0, \"arrowwidth\": 1}, \"coloraxis\": {\"colorbar\": {\"outlinewidth\": 0, \"ticks\": \"\"}}, \"colorscale\": {\"diverging\": [[0, \"#8e0152\"], [0.1, \"#c51b7d\"], [0.2, \"#de77ae\"], [0.3, \"#f1b6da\"], [0.4, \"#fde0ef\"], [0.5, \"#f7f7f7\"], [0.6, \"#e6f5d0\"], [0.7, \"#b8e186\"], [0.8, \"#7fbc41\"], [0.9, \"#4d9221\"], [1, \"#276419\"]], \"sequential\": [[0.0, \"#0d0887\"], [0.1111111111111111, \"#46039f\"], [0.2222222222222222, \"#7201a8\"], [0.3333333333333333, \"#9c179e\"], [0.4444444444444444, \"#bd3786\"], [0.5555555555555556, \"#d8576b\"], [0.6666666666666666, \"#ed7953\"], [0.7777777777777778, \"#fb9f3a\"], [0.8888888888888888, \"#fdca26\"], [1.0, \"#f0f921\"]], \"sequentialminus\": [[0.0, \"#0d0887\"], [0.1111111111111111, \"#46039f\"], [0.2222222222222222, \"#7201a8\"], [0.3333333333333333, \"#9c179e\"], [0.4444444444444444, \"#bd3786\"], [0.5555555555555556, \"#d8576b\"], [0.6666666666666666, \"#ed7953\"], [0.7777777777777778, \"#fb9f3a\"], [0.8888888888888888, \"#fdca26\"], [1.0, \"#f0f921\"]]}, \"colorway\": [\"#636efa\", \"#EF553B\", \"#00cc96\", \"#ab63fa\", \"#FFA15A\", \"#19d3f3\", \"#FF6692\", \"#B6E880\", \"#FF97FF\", \"#FECB52\"], \"font\": {\"color\": \"#2a3f5f\"}, \"geo\": {\"bgcolor\": \"white\", \"lakecolor\": \"white\", \"landcolor\": \"white\", \"showlakes\": true, \"showland\": true, \"subunitcolor\": \"#C8D4E3\"}, \"hoverlabel\": {\"align\": \"left\"}, \"hovermode\": \"closest\", \"mapbox\": {\"style\": \"light\"}, \"paper_bgcolor\": \"white\", \"plot_bgcolor\": \"white\", \"polar\": {\"angularaxis\": {\"gridcolor\": \"#EBF0F8\", \"linecolor\": \"#EBF0F8\", \"ticks\": \"\"}, \"bgcolor\": \"white\", \"radialaxis\": {\"gridcolor\": \"#EBF0F8\", \"linecolor\": \"#EBF0F8\", \"ticks\": \"\"}}, \"scene\": {\"xaxis\": {\"backgroundcolor\": \"white\", \"gridcolor\": \"#DFE8F3\", \"gridwidth\": 2, \"linecolor\": \"#EBF0F8\", \"showbackground\": true, \"ticks\": \"\", \"zerolinecolor\": \"#EBF0F8\"}, \"yaxis\": {\"backgroundcolor\": \"white\", \"gridcolor\": \"#DFE8F3\", \"gridwidth\": 2, \"linecolor\": \"#EBF0F8\", \"showbackground\": true, \"ticks\": \"\", \"zerolinecolor\": \"#EBF0F8\"}, \"zaxis\": {\"backgroundcolor\": \"white\", \"gridcolor\": \"#DFE8F3\", \"gridwidth\": 2, \"linecolor\": \"#EBF0F8\", \"showbackground\": true, \"ticks\": \"\", \"zerolinecolor\": \"#EBF0F8\"}}, \"shapedefaults\": {\"line\": {\"color\": \"#2a3f5f\"}}, \"ternary\": {\"aaxis\": {\"gridcolor\": \"#DFE8F3\", \"linecolor\": \"#A2B1C6\", \"ticks\": \"\"}, \"baxis\": {\"gridcolor\": \"#DFE8F3\", \"linecolor\": \"#A2B1C6\", \"ticks\": \"\"}, \"bgcolor\": \"white\", \"caxis\": {\"gridcolor\": \"#DFE8F3\", \"linecolor\": \"#A2B1C6\", \"ticks\": \"\"}}, \"title\": {\"x\": 0.05}, \"xaxis\": {\"automargin\": true, \"gridcolor\": \"#EBF0F8\", \"linecolor\": \"#EBF0F8\", \"ticks\": \"\", \"title\": {\"standoff\": 15}, \"zerolinecolor\": \"#EBF0F8\", \"zerolinewidth\": 2}, \"yaxis\": {\"automargin\": true, \"gridcolor\": \"#EBF0F8\", \"linecolor\": \"#EBF0F8\", \"ticks\": \"\", \"title\": {\"standoff\": 15}, \"zerolinecolor\": \"#EBF0F8\", \"zerolinewidth\": 2}}}, \"title\": {\"text\": \"Gr\\u00e1fico cotovelo\"}, \"xaxis\": {\"title\": {\"text\": \"N\\u00famero de clustes\"}}, \"yaxis\": {\"title\": {\"text\": \"WCSS\"}}},\n",
              "                        {\"responsive\": true}\n",
              "                    ).then(function(){\n",
              "                            \n",
              "var gd = document.getElementById('89d8cb49-854c-43a2-a03c-0fe80cf95840');\n",
              "var x = new MutationObserver(function (mutations, observer) {{\n",
              "        var display = window.getComputedStyle(gd).display;\n",
              "        if (!display || display === 'none') {{\n",
              "            console.log([gd, 'removed!']);\n",
              "            Plotly.purge(gd);\n",
              "            observer.disconnect();\n",
              "        }}\n",
              "}});\n",
              "\n",
              "// Listen for the removal of the full notebook cells\n",
              "var notebookContainer = gd.closest('#notebook-container');\n",
              "if (notebookContainer) {{\n",
              "    x.observe(notebookContainer, {childList: true});\n",
              "}}\n",
              "\n",
              "// Listen for the clearing of the current output cell\n",
              "var outputEl = gd.closest('.output');\n",
              "if (outputEl) {{\n",
              "    x.observe(outputEl, {childList: true});\n",
              "}}\n",
              "\n",
              "                        })\n",
              "                };\n",
              "                \n",
              "            </script>\n",
              "        </div>\n",
              "</body>\n",
              "</html>"
            ]
          },
          "metadata": {}
        }
      ]
    },
    {
      "cell_type": "markdown",
      "metadata": {
        "id": "vFpOCV-wdQZP"
      },
      "source": [
        "A partir de 5 grupos a variação do WCSS começa a ter uma variação menor. \n",
        "Portanto utilizaremos 5 grupos no algoritmo Kmeans. \n",
        "Esse algoritmo gera centróides aleatórios e calcula a média de cada centróide a cada interação"
      ]
    },
    {
      "cell_type": "code",
      "metadata": {
        "id": "_xkkz-vkdQZP"
      },
      "source": [
        "X = principalDf.values"
      ],
      "execution_count": null,
      "outputs": []
    },
    {
      "cell_type": "code",
      "metadata": {
        "id": "qe-OYzQFdQZU",
        "colab": {
          "base_uri": "https://localhost:8080/",
          "height": 542
        },
        "outputId": "8144fc52-a135-406f-9d59-6df94ee0adf9"
      },
      "source": [
        "# Fitting K-Means to the dataset\n",
        "kmeans = KMeans(n_clusters = 5, init = 'k-means++', random_state = 42).fit(X)\n",
        "y_kmeans = kmeans.labels_\n",
        "\n",
        "resultado = pd.DataFrame(np.vstack((np.array(ts_all_limited.index.values),np.array(y_kmeans)))).T\n",
        "resultado.columns = ['estado','grupo']\n",
        "resultado[\"PCA1\"] = X[:,0]\n",
        "resultado[\"PCA2\"] = X[:,1]\n",
        "\n",
        "fig = go.Figure()\n",
        "# Visualising the clusters\n",
        "\n",
        "fig = px.scatter(resultado,x=\"PCA1\",y=\"PCA2\",text=\"estado\",color=\"grupo\")\n",
        "#fig.add_trace(go.Scatter(y=kmeans.cluster_centers_[:, 1],x=kmeans.cluster_centers_[:, 0],marker_color='yellow',\n",
        "#                        mode='markers',\n",
        "#                      legendgroup=\"asadsd\"))\n",
        "fig.update_traces(marker=dict(size=20))\n",
        "fig.update_layout( xaxis_title=\"Componente principal 1\",\n",
        "                  yaxis_title=\"Componente principal 2\",\n",
        "                 title=\"Gráfico de aglomeração\",\n",
        "                 template = 'plotly_white')"
      ],
      "execution_count": null,
      "outputs": [
        {
          "output_type": "display_data",
          "data": {
            "text/html": [
              "<html>\n",
              "<head><meta charset=\"utf-8\" /></head>\n",
              "<body>\n",
              "    <div>\n",
              "            <script src=\"https://cdnjs.cloudflare.com/ajax/libs/mathjax/2.7.5/MathJax.js?config=TeX-AMS-MML_SVG\"></script><script type=\"text/javascript\">if (window.MathJax) {MathJax.Hub.Config({SVG: {font: \"STIX-Web\"}});}</script>\n",
              "                <script type=\"text/javascript\">window.PlotlyConfig = {MathJaxConfig: 'local'};</script>\n",
              "        <script src=\"https://cdn.plot.ly/plotly-latest.min.js\"></script>    \n",
              "            <div id=\"4cb7375f-9686-4b16-88be-d8896dba0c4d\" class=\"plotly-graph-div\" style=\"height:525px; width:100%;\"></div>\n",
              "            <script type=\"text/javascript\">\n",
              "                \n",
              "                    window.PLOTLYENV=window.PLOTLYENV || {};\n",
              "                    \n",
              "                if (document.getElementById(\"4cb7375f-9686-4b16-88be-d8896dba0c4d\")) {\n",
              "                    Plotly.newPlot(\n",
              "                        '4cb7375f-9686-4b16-88be-d8896dba0c4d',\n",
              "                        [{\"hoverlabel\": {\"namelength\": 0}, \"hovertemplate\": \"grupo=0<br>PCA1=%{x}<br>PCA2=%{y}<br>estado=%{text}\", \"legendgroup\": \"grupo=0\", \"marker\": {\"color\": \"#636efa\", \"size\": 20, \"symbol\": \"circle\"}, \"mode\": \"markers+text\", \"name\": \"grupo=0\", \"showlegend\": true, \"text\": [\"AC\", \"AL\", \"ES\", \"GO\", \"MS\", \"MT\", \"PA\", \"PB\", \"PI\", \"RO\", \"RR\", \"SE\", \"TO\"], \"type\": \"scatter\", \"x\": [-3.3776897205883727, -2.2139115414765067, -0.45788940796927013, -3.18559774027896, -3.8537506340141676, -3.4702228948777116, -0.29977103695459384, -3.036755995336658, -3.6510805750974042, -2.78875527792322, -2.2306266674976825, -3.4772189157566538, -3.684748716532453], \"xaxis\": \"x\", \"y\": [-0.19145213587583315, 1.5948322476074273, 0.484331692142943, -0.0734957306006054, -0.1928302233856868, 0.028203375321023842, 1.5027986617666684, 0.7113701272897704, 0.5312045291467371, 1.0059006050206156, -0.1333362428864694, 0.8420282110628527, 1.1291011920632719], \"yaxis\": \"y\"}, {\"hoverlabel\": {\"namelength\": 0}, \"hovertemplate\": \"grupo=2<br>PCA1=%{x}<br>PCA2=%{y}<br>estado=%{text}\", \"legendgroup\": \"grupo=2\", \"marker\": {\"color\": \"#EF553B\", \"size\": 20, \"symbol\": \"circle\"}, \"mode\": \"markers+text\", \"name\": \"grupo=2\", \"showlegend\": true, \"text\": [\"AM\", \"MA\", \"PE\", \"RJ\"], \"type\": \"scatter\", \"x\": [5.6519064658378735, 2.9839713206385525, 5.474119452114708, 4.432531400234558], \"xaxis\": \"x\", \"y\": [-1.6277939886765642, 1.4044724906673753, 3.0115576251339493, 2.3828529591133787], \"yaxis\": \"y\"}, {\"hoverlabel\": {\"namelength\": 0}, \"hovertemplate\": \"grupo=4<br>PCA1=%{x}<br>PCA2=%{y}<br>estado=%{text}\", \"legendgroup\": \"grupo=4\", \"marker\": {\"color\": \"#00cc96\", \"size\": 20, \"symbol\": \"circle\"}, \"mode\": \"markers+text\", \"name\": \"grupo=4\", \"showlegend\": true, \"text\": [\"AP\", \"BA\", \"DF\", \"MG\", \"PR\", \"RN\", \"RS\", \"SC\"], \"type\": \"scatter\", \"x\": [-0.30800753073535875, 0.561306327659138, -0.8940518431660681, 0.05617797106697593, 1.3068710129256094, -1.5392683570368009, -0.9865442733231092, -0.7179547680471532], \"xaxis\": \"x\", \"y\": [-0.2894574665092658, -1.013463188487865, -2.2885611031282567, -1.9141807238500737, -2.870167364448674, -1.4426276940461353, -1.2420872547692658, -1.6352024237096143], \"yaxis\": \"y\"}, {\"hoverlabel\": {\"namelength\": 0}, \"hovertemplate\": \"grupo=3<br>PCA1=%{x}<br>PCA2=%{y}<br>estado=%{text}\", \"legendgroup\": \"grupo=3\", \"marker\": {\"color\": \"#ab63fa\", \"size\": 20, \"symbol\": \"circle\"}, \"mode\": \"markers+text\", \"name\": \"grupo=3\", \"showlegend\": true, \"text\": [\"CE\"], \"type\": \"scatter\", \"x\": [10.672322415526432], \"xaxis\": \"x\", \"y\": [-6.458720372166291], \"yaxis\": \"y\"}, {\"hoverlabel\": {\"namelength\": 0}, \"hovertemplate\": \"grupo=1<br>PCA1=%{x}<br>PCA2=%{y}<br>estado=%{text}\", \"legendgroup\": \"grupo=1\", \"marker\": {\"color\": \"#FFA15A\", \"size\": 20, \"symbol\": \"circle\"}, \"mode\": \"markers+text\", \"name\": \"grupo=1\", \"showlegend\": true, \"text\": [\"SP\"], \"type\": \"scatter\", \"x\": [9.034639530608295], \"xaxis\": \"x\", \"y\": [6.744722196204588], \"yaxis\": \"y\"}],\n",
              "                        {\"legend\": {\"tracegroupgap\": 0}, \"margin\": {\"t\": 60}, \"template\": {\"data\": {\"bar\": [{\"error_x\": {\"color\": \"#2a3f5f\"}, \"error_y\": {\"color\": \"#2a3f5f\"}, \"marker\": {\"line\": {\"color\": \"white\", \"width\": 0.5}}, \"type\": \"bar\"}], \"barpolar\": [{\"marker\": {\"line\": {\"color\": \"white\", \"width\": 0.5}}, \"type\": \"barpolar\"}], \"carpet\": [{\"aaxis\": {\"endlinecolor\": \"#2a3f5f\", \"gridcolor\": \"#C8D4E3\", \"linecolor\": \"#C8D4E3\", \"minorgridcolor\": \"#C8D4E3\", \"startlinecolor\": \"#2a3f5f\"}, \"baxis\": {\"endlinecolor\": \"#2a3f5f\", \"gridcolor\": \"#C8D4E3\", \"linecolor\": \"#C8D4E3\", \"minorgridcolor\": \"#C8D4E3\", \"startlinecolor\": \"#2a3f5f\"}, \"type\": \"carpet\"}], \"choropleth\": [{\"colorbar\": {\"outlinewidth\": 0, \"ticks\": \"\"}, \"type\": \"choropleth\"}], \"contour\": [{\"colorbar\": {\"outlinewidth\": 0, \"ticks\": \"\"}, \"colorscale\": [[0.0, \"#0d0887\"], [0.1111111111111111, \"#46039f\"], [0.2222222222222222, \"#7201a8\"], [0.3333333333333333, \"#9c179e\"], [0.4444444444444444, \"#bd3786\"], [0.5555555555555556, \"#d8576b\"], [0.6666666666666666, \"#ed7953\"], [0.7777777777777778, \"#fb9f3a\"], [0.8888888888888888, \"#fdca26\"], [1.0, \"#f0f921\"]], \"type\": \"contour\"}], \"contourcarpet\": [{\"colorbar\": {\"outlinewidth\": 0, \"ticks\": \"\"}, \"type\": \"contourcarpet\"}], \"heatmap\": [{\"colorbar\": {\"outlinewidth\": 0, \"ticks\": \"\"}, \"colorscale\": [[0.0, \"#0d0887\"], [0.1111111111111111, \"#46039f\"], [0.2222222222222222, \"#7201a8\"], [0.3333333333333333, \"#9c179e\"], [0.4444444444444444, \"#bd3786\"], [0.5555555555555556, \"#d8576b\"], [0.6666666666666666, \"#ed7953\"], [0.7777777777777778, \"#fb9f3a\"], [0.8888888888888888, \"#fdca26\"], [1.0, \"#f0f921\"]], \"type\": \"heatmap\"}], \"heatmapgl\": [{\"colorbar\": {\"outlinewidth\": 0, \"ticks\": \"\"}, \"colorscale\": [[0.0, \"#0d0887\"], [0.1111111111111111, \"#46039f\"], [0.2222222222222222, \"#7201a8\"], [0.3333333333333333, \"#9c179e\"], [0.4444444444444444, \"#bd3786\"], [0.5555555555555556, \"#d8576b\"], [0.6666666666666666, \"#ed7953\"], [0.7777777777777778, \"#fb9f3a\"], [0.8888888888888888, \"#fdca26\"], [1.0, \"#f0f921\"]], \"type\": \"heatmapgl\"}], \"histogram\": [{\"marker\": {\"colorbar\": {\"outlinewidth\": 0, \"ticks\": \"\"}}, \"type\": \"histogram\"}], \"histogram2d\": [{\"colorbar\": {\"outlinewidth\": 0, \"ticks\": \"\"}, \"colorscale\": [[0.0, \"#0d0887\"], [0.1111111111111111, \"#46039f\"], [0.2222222222222222, \"#7201a8\"], [0.3333333333333333, \"#9c179e\"], [0.4444444444444444, \"#bd3786\"], [0.5555555555555556, \"#d8576b\"], [0.6666666666666666, \"#ed7953\"], [0.7777777777777778, \"#fb9f3a\"], [0.8888888888888888, \"#fdca26\"], [1.0, \"#f0f921\"]], \"type\": \"histogram2d\"}], \"histogram2dcontour\": [{\"colorbar\": {\"outlinewidth\": 0, \"ticks\": \"\"}, \"colorscale\": [[0.0, \"#0d0887\"], [0.1111111111111111, \"#46039f\"], [0.2222222222222222, \"#7201a8\"], [0.3333333333333333, \"#9c179e\"], [0.4444444444444444, \"#bd3786\"], [0.5555555555555556, \"#d8576b\"], [0.6666666666666666, \"#ed7953\"], [0.7777777777777778, \"#fb9f3a\"], [0.8888888888888888, \"#fdca26\"], [1.0, \"#f0f921\"]], \"type\": \"histogram2dcontour\"}], \"mesh3d\": [{\"colorbar\": {\"outlinewidth\": 0, \"ticks\": \"\"}, \"type\": \"mesh3d\"}], \"parcoords\": [{\"line\": {\"colorbar\": {\"outlinewidth\": 0, \"ticks\": \"\"}}, \"type\": \"parcoords\"}], \"pie\": [{\"automargin\": true, \"type\": \"pie\"}], \"scatter\": [{\"marker\": {\"colorbar\": {\"outlinewidth\": 0, \"ticks\": \"\"}}, \"type\": \"scatter\"}], \"scatter3d\": [{\"line\": {\"colorbar\": {\"outlinewidth\": 0, \"ticks\": \"\"}}, \"marker\": {\"colorbar\": {\"outlinewidth\": 0, \"ticks\": \"\"}}, \"type\": \"scatter3d\"}], \"scattercarpet\": [{\"marker\": {\"colorbar\": {\"outlinewidth\": 0, \"ticks\": \"\"}}, \"type\": \"scattercarpet\"}], \"scattergeo\": [{\"marker\": {\"colorbar\": {\"outlinewidth\": 0, \"ticks\": \"\"}}, \"type\": \"scattergeo\"}], \"scattergl\": [{\"marker\": {\"colorbar\": {\"outlinewidth\": 0, \"ticks\": \"\"}}, \"type\": \"scattergl\"}], \"scattermapbox\": [{\"marker\": {\"colorbar\": {\"outlinewidth\": 0, \"ticks\": \"\"}}, \"type\": \"scattermapbox\"}], \"scatterpolar\": [{\"marker\": {\"colorbar\": {\"outlinewidth\": 0, \"ticks\": \"\"}}, \"type\": \"scatterpolar\"}], \"scatterpolargl\": [{\"marker\": {\"colorbar\": {\"outlinewidth\": 0, \"ticks\": \"\"}}, \"type\": \"scatterpolargl\"}], \"scatterternary\": [{\"marker\": {\"colorbar\": {\"outlinewidth\": 0, \"ticks\": \"\"}}, \"type\": \"scatterternary\"}], \"surface\": [{\"colorbar\": {\"outlinewidth\": 0, \"ticks\": \"\"}, \"colorscale\": [[0.0, \"#0d0887\"], [0.1111111111111111, \"#46039f\"], [0.2222222222222222, \"#7201a8\"], [0.3333333333333333, \"#9c179e\"], [0.4444444444444444, \"#bd3786\"], [0.5555555555555556, \"#d8576b\"], [0.6666666666666666, \"#ed7953\"], [0.7777777777777778, \"#fb9f3a\"], [0.8888888888888888, \"#fdca26\"], [1.0, \"#f0f921\"]], \"type\": \"surface\"}], \"table\": [{\"cells\": {\"fill\": {\"color\": \"#EBF0F8\"}, \"line\": {\"color\": \"white\"}}, \"header\": {\"fill\": {\"color\": \"#C8D4E3\"}, \"line\": {\"color\": \"white\"}}, \"type\": \"table\"}]}, \"layout\": {\"annotationdefaults\": {\"arrowcolor\": \"#2a3f5f\", \"arrowhead\": 0, \"arrowwidth\": 1}, \"coloraxis\": {\"colorbar\": {\"outlinewidth\": 0, \"ticks\": \"\"}}, \"colorscale\": {\"diverging\": [[0, \"#8e0152\"], [0.1, \"#c51b7d\"], [0.2, \"#de77ae\"], [0.3, \"#f1b6da\"], [0.4, \"#fde0ef\"], [0.5, \"#f7f7f7\"], [0.6, \"#e6f5d0\"], [0.7, \"#b8e186\"], [0.8, \"#7fbc41\"], [0.9, \"#4d9221\"], [1, \"#276419\"]], \"sequential\": [[0.0, \"#0d0887\"], [0.1111111111111111, \"#46039f\"], [0.2222222222222222, \"#7201a8\"], [0.3333333333333333, \"#9c179e\"], [0.4444444444444444, \"#bd3786\"], [0.5555555555555556, \"#d8576b\"], [0.6666666666666666, \"#ed7953\"], [0.7777777777777778, \"#fb9f3a\"], [0.8888888888888888, \"#fdca26\"], [1.0, \"#f0f921\"]], \"sequentialminus\": [[0.0, \"#0d0887\"], [0.1111111111111111, \"#46039f\"], [0.2222222222222222, \"#7201a8\"], [0.3333333333333333, \"#9c179e\"], [0.4444444444444444, \"#bd3786\"], [0.5555555555555556, \"#d8576b\"], [0.6666666666666666, \"#ed7953\"], [0.7777777777777778, \"#fb9f3a\"], [0.8888888888888888, \"#fdca26\"], [1.0, \"#f0f921\"]]}, \"colorway\": [\"#636efa\", \"#EF553B\", \"#00cc96\", \"#ab63fa\", \"#FFA15A\", \"#19d3f3\", \"#FF6692\", \"#B6E880\", \"#FF97FF\", \"#FECB52\"], \"font\": {\"color\": \"#2a3f5f\"}, \"geo\": {\"bgcolor\": \"white\", \"lakecolor\": \"white\", \"landcolor\": \"white\", \"showlakes\": true, \"showland\": true, \"subunitcolor\": \"#C8D4E3\"}, \"hoverlabel\": {\"align\": \"left\"}, \"hovermode\": \"closest\", \"mapbox\": {\"style\": \"light\"}, \"paper_bgcolor\": \"white\", \"plot_bgcolor\": \"white\", \"polar\": {\"angularaxis\": {\"gridcolor\": \"#EBF0F8\", \"linecolor\": \"#EBF0F8\", \"ticks\": \"\"}, \"bgcolor\": \"white\", \"radialaxis\": {\"gridcolor\": \"#EBF0F8\", \"linecolor\": \"#EBF0F8\", \"ticks\": \"\"}}, \"scene\": {\"xaxis\": {\"backgroundcolor\": \"white\", \"gridcolor\": \"#DFE8F3\", \"gridwidth\": 2, \"linecolor\": \"#EBF0F8\", \"showbackground\": true, \"ticks\": \"\", \"zerolinecolor\": \"#EBF0F8\"}, \"yaxis\": {\"backgroundcolor\": \"white\", \"gridcolor\": \"#DFE8F3\", \"gridwidth\": 2, \"linecolor\": \"#EBF0F8\", \"showbackground\": true, \"ticks\": \"\", \"zerolinecolor\": \"#EBF0F8\"}, \"zaxis\": {\"backgroundcolor\": \"white\", \"gridcolor\": \"#DFE8F3\", \"gridwidth\": 2, \"linecolor\": \"#EBF0F8\", \"showbackground\": true, \"ticks\": \"\", \"zerolinecolor\": \"#EBF0F8\"}}, \"shapedefaults\": {\"line\": {\"color\": \"#2a3f5f\"}}, \"ternary\": {\"aaxis\": {\"gridcolor\": \"#DFE8F3\", \"linecolor\": \"#A2B1C6\", \"ticks\": \"\"}, \"baxis\": {\"gridcolor\": \"#DFE8F3\", \"linecolor\": \"#A2B1C6\", \"ticks\": \"\"}, \"bgcolor\": \"white\", \"caxis\": {\"gridcolor\": \"#DFE8F3\", \"linecolor\": \"#A2B1C6\", \"ticks\": \"\"}}, \"title\": {\"x\": 0.05}, \"xaxis\": {\"automargin\": true, \"gridcolor\": \"#EBF0F8\", \"linecolor\": \"#EBF0F8\", \"ticks\": \"\", \"title\": {\"standoff\": 15}, \"zerolinecolor\": \"#EBF0F8\", \"zerolinewidth\": 2}, \"yaxis\": {\"automargin\": true, \"gridcolor\": \"#EBF0F8\", \"linecolor\": \"#EBF0F8\", \"ticks\": \"\", \"title\": {\"standoff\": 15}, \"zerolinecolor\": \"#EBF0F8\", \"zerolinewidth\": 2}}}, \"title\": {\"text\": \"Gr\\u00e1fico de aglomera\\u00e7\\u00e3o\"}, \"xaxis\": {\"anchor\": \"y\", \"domain\": [0.0, 1.0], \"title\": {\"text\": \"Componente principal 1\"}}, \"yaxis\": {\"anchor\": \"x\", \"domain\": [0.0, 1.0], \"title\": {\"text\": \"Componente principal 2\"}}},\n",
              "                        {\"responsive\": true}\n",
              "                    ).then(function(){\n",
              "                            \n",
              "var gd = document.getElementById('4cb7375f-9686-4b16-88be-d8896dba0c4d');\n",
              "var x = new MutationObserver(function (mutations, observer) {{\n",
              "        var display = window.getComputedStyle(gd).display;\n",
              "        if (!display || display === 'none') {{\n",
              "            console.log([gd, 'removed!']);\n",
              "            Plotly.purge(gd);\n",
              "            observer.disconnect();\n",
              "        }}\n",
              "}});\n",
              "\n",
              "// Listen for the removal of the full notebook cells\n",
              "var notebookContainer = gd.closest('#notebook-container');\n",
              "if (notebookContainer) {{\n",
              "    x.observe(notebookContainer, {childList: true});\n",
              "}}\n",
              "\n",
              "// Listen for the clearing of the current output cell\n",
              "var outputEl = gd.closest('.output');\n",
              "if (outputEl) {{\n",
              "    x.observe(outputEl, {childList: true});\n",
              "}}\n",
              "\n",
              "                        })\n",
              "                };\n",
              "                \n",
              "            </script>\n",
              "        </div>\n",
              "</body>\n",
              "</html>"
            ]
          },
          "metadata": {}
        }
      ]
    },
    {
      "cell_type": "markdown",
      "metadata": {
        "id": "vzhWVjnXdQZZ"
      },
      "source": [
        "Observa-se que foram criados 6 grupos, sendo três deles com apenas um estado. São eles Ceará, Pernambuco e São Paulo."
      ]
    },
    {
      "cell_type": "markdown",
      "metadata": {
        "id": "3nhpuNmSdQZZ"
      },
      "source": [
        "Verificando a quantidade de elementos por classe"
      ]
    },
    {
      "cell_type": "code",
      "metadata": {
        "id": "iJoLxP8CdQZa",
        "colab": {
          "base_uri": "https://localhost:8080/"
        },
        "outputId": "c480217a-8dcf-44fb-824c-9482113b5b4b"
      },
      "source": [
        "grouped = resultado.groupby('grupo')\n",
        "grouped[\"grupo\"].count()"
      ],
      "execution_count": null,
      "outputs": [
        {
          "output_type": "execute_result",
          "data": {
            "text/plain": [
              "grupo\n",
              "0    13\n",
              "1     1\n",
              "2     4\n",
              "3     1\n",
              "4     8\n",
              "Name: grupo, dtype: int64"
            ]
          },
          "metadata": {},
          "execution_count": 27
        }
      ]
    },
    {
      "cell_type": "code",
      "metadata": {
        "id": "wGW7yzEldQZd",
        "colab": {
          "base_uri": "https://localhost:8080/",
          "height": 467
        },
        "outputId": "9fb08e7c-7b9d-4c35-8021-ec2347cab5d1"
      },
      "source": [
        "import plotly.figure_factory as ff\n",
        "ff.create_dendrogram(X, orientation='bottom',labels=ts_all_limited.index.values)"
      ],
      "execution_count": null,
      "outputs": [
        {
          "output_type": "display_data",
          "data": {
            "text/html": [
              "<html>\n",
              "<head><meta charset=\"utf-8\" /></head>\n",
              "<body>\n",
              "    <div>\n",
              "            <script src=\"https://cdnjs.cloudflare.com/ajax/libs/mathjax/2.7.5/MathJax.js?config=TeX-AMS-MML_SVG\"></script><script type=\"text/javascript\">if (window.MathJax) {MathJax.Hub.Config({SVG: {font: \"STIX-Web\"}});}</script>\n",
              "                <script type=\"text/javascript\">window.PlotlyConfig = {MathJaxConfig: 'local'};</script>\n",
              "        <script src=\"https://cdn.plot.ly/plotly-latest.min.js\"></script>    \n",
              "            <div id=\"872db2ae-58f0-4dae-b5f2-66b83cf30b2d\" class=\"plotly-graph-div\" style=\"height:infpx; width:infpx;\"></div>\n",
              "            <script type=\"text/javascript\">\n",
              "                \n",
              "                    window.PLOTLYENV=window.PLOTLYENV || {};\n",
              "                    \n",
              "                if (document.getElementById(\"872db2ae-58f0-4dae-b5f2-66b83cf30b2d\")) {\n",
              "                    Plotly.newPlot(\n",
              "                        '872db2ae-58f0-4dae-b5f2-66b83cf30b2d',\n",
              "                        [{\"hoverinfo\": \"text\", \"marker\": {\"color\": \"rgb(61,153,112)\"}, \"mode\": \"lines\", \"type\": \"scatter\", \"x\": [35.0, 35.0, 45.0, 45.0], \"xaxis\": \"x\", \"y\": [0.0, 0.41719995493559797, 0.41719995493559797, 0.0], \"yaxis\": \"y\"}, {\"hoverinfo\": \"text\", \"marker\": {\"color\": \"rgb(61,153,112)\"}, \"mode\": \"lines\", \"type\": \"scatter\", \"x\": [25.0, 25.0, 40.0, 40.0], \"xaxis\": \"x\", \"y\": [0.0, 0.7429546034260789, 0.7429546034260789, 0.41719995493559797], \"yaxis\": \"y\"}, {\"hoverinfo\": \"text\", \"marker\": {\"color\": \"rgb(61,153,112)\"}, \"mode\": \"lines\", \"type\": \"scatter\", \"x\": [55.0, 55.0, 65.0, 65.0], \"xaxis\": \"x\", \"y\": [0.0, 0.7954065539956734, 0.7954065539956734, 0.0], \"yaxis\": \"y\"}, {\"hoverinfo\": \"text\", \"marker\": {\"color\": \"rgb(61,153,112)\"}, \"mode\": \"lines\", \"type\": \"scatter\", \"x\": [32.5, 32.5, 60.0, 60.0], \"xaxis\": \"x\", \"y\": [0.7429546034260789, 1.2002090689473393, 1.2002090689473393, 0.7954065539956734], \"yaxis\": \"y\"}, {\"hoverinfo\": \"text\", \"marker\": {\"color\": \"rgb(61,153,112)\"}, \"mode\": \"lines\", \"type\": \"scatter\", \"x\": [15.0, 15.0, 46.25, 46.25], \"xaxis\": \"x\", \"y\": [0.0, 1.6900876049256877, 1.6900876049256877, 1.2002090689473393], \"yaxis\": \"y\"}, {\"hoverinfo\": \"text\", \"marker\": {\"color\": \"rgb(61,153,112)\"}, \"mode\": \"lines\", \"type\": \"scatter\", \"x\": [95.0, 95.0, 105.0, 105.0], \"xaxis\": \"x\", \"y\": [0.0, 0.8048654085997713, 0.8048654085997713, 0.0], \"yaxis\": \"y\"}, {\"hoverinfo\": \"text\", \"marker\": {\"color\": \"rgb(61,153,112)\"}, \"mode\": \"lines\", \"type\": \"scatter\", \"x\": [85.0, 85.0, 100.0, 100.0], \"xaxis\": \"x\", \"y\": [0.0, 1.0855853207089983, 1.0855853207089983, 0.8048654085997713], \"yaxis\": \"y\"}, {\"hoverinfo\": \"text\", \"marker\": {\"color\": \"rgb(61,153,112)\"}, \"mode\": \"lines\", \"type\": \"scatter\", \"x\": [75.0, 75.0, 92.5, 92.5], \"xaxis\": \"x\", \"y\": [0.0, 1.8221972092463652, 1.8221972092463652, 1.0855853207089983], \"yaxis\": \"y\"}, {\"hoverinfo\": \"text\", \"marker\": {\"color\": \"rgb(61,153,112)\"}, \"mode\": \"lines\", \"type\": \"scatter\", \"x\": [30.625, 30.625, 83.75, 83.75], \"xaxis\": \"x\", \"y\": [1.6900876049256877, 2.232939490821562, 2.232939490821562, 1.8221972092463652], \"yaxis\": \"y\"}, {\"hoverinfo\": \"text\", \"marker\": {\"color\": \"rgb(61,153,112)\"}, \"mode\": \"lines\", \"type\": \"scatter\", \"x\": [125.0, 125.0, 135.0, 135.0], \"xaxis\": \"x\", \"y\": [0.0, 2.2705339206835387, 2.2705339206835387, 0.0], \"yaxis\": \"y\"}, {\"hoverinfo\": \"text\", \"marker\": {\"color\": \"rgb(61,153,112)\"}, \"mode\": \"lines\", \"type\": \"scatter\", \"x\": [115.0, 115.0, 130.0, 130.0], \"xaxis\": \"x\", \"y\": [0.0, 3.171422099912418, 3.171422099912418, 2.2705339206835387], \"yaxis\": \"y\"}, {\"hoverinfo\": \"text\", \"marker\": {\"color\": \"rgb(61,153,112)\"}, \"mode\": \"lines\", \"type\": \"scatter\", \"x\": [57.1875, 57.1875, 122.5, 122.5], \"xaxis\": \"x\", \"y\": [2.232939490821562, 4.64495635393644, 4.64495635393644, 3.171422099912418], \"yaxis\": \"y\"}, {\"hoverinfo\": \"text\", \"marker\": {\"color\": \"rgb(61,153,112)\"}, \"mode\": \"lines\", \"type\": \"scatter\", \"x\": [155.0, 155.0, 165.0, 165.0], \"xaxis\": \"x\", \"y\": [0.0, 1.9387251313204148, 1.9387251313204148, 0.0], \"yaxis\": \"y\"}, {\"hoverinfo\": \"text\", \"marker\": {\"color\": \"rgb(61,153,112)\"}, \"mode\": \"lines\", \"type\": \"scatter\", \"x\": [145.0, 145.0, 160.0, 160.0], \"xaxis\": \"x\", \"y\": [0.0, 3.4691051103800277, 3.4691051103800277, 1.9387251313204148], \"yaxis\": \"y\"}, {\"hoverinfo\": \"text\", \"marker\": {\"color\": \"rgb(61,153,112)\"}, \"mode\": \"lines\", \"type\": \"scatter\", \"x\": [195.0, 195.0, 205.0, 205.0], \"xaxis\": \"x\", \"y\": [0.0, 0.9188158177460077, 0.9188158177460077, 0.0], \"yaxis\": \"y\"}, {\"hoverinfo\": \"text\", \"marker\": {\"color\": \"rgb(61,153,112)\"}, \"mode\": \"lines\", \"type\": \"scatter\", \"x\": [185.0, 185.0, 200.0, 200.0], \"xaxis\": \"x\", \"y\": [0.0, 1.9637937310095648, 1.9637937310095648, 0.9188158177460077], \"yaxis\": \"y\"}, {\"hoverinfo\": \"text\", \"marker\": {\"color\": \"rgb(61,153,112)\"}, \"mode\": \"lines\", \"type\": \"scatter\", \"x\": [175.0, 175.0, 192.5, 192.5], \"xaxis\": \"x\", \"y\": [0.0, 3.733517654982415, 3.733517654982415, 1.9637937310095648], \"yaxis\": \"y\"}, {\"hoverinfo\": \"text\", \"marker\": {\"color\": \"rgb(61,153,112)\"}, \"mode\": \"lines\", \"type\": \"scatter\", \"x\": [152.5, 152.5, 183.75, 183.75], \"xaxis\": \"x\", \"y\": [3.4691051103800277, 5.741761907106577, 5.741761907106577, 3.733517654982415], \"yaxis\": \"y\"}, {\"hoverinfo\": \"text\", \"marker\": {\"color\": \"rgb(61,153,112)\"}, \"mode\": \"lines\", \"type\": \"scatter\", \"x\": [89.84375, 89.84375, 168.125, 168.125], \"xaxis\": \"x\", \"y\": [4.64495635393644, 6.598115926443512, 6.598115926443512, 5.741761907106577], \"yaxis\": \"y\"}, {\"hoverinfo\": \"text\", \"marker\": {\"color\": \"rgb(61,153,112)\"}, \"mode\": \"lines\", \"type\": \"scatter\", \"x\": [5.0, 5.0, 128.984375, 128.984375], \"xaxis\": \"x\", \"y\": [0.0, 7.104564404722543, 7.104564404722543, 6.598115926443512], \"yaxis\": \"y\"}, {\"hoverinfo\": \"text\", \"marker\": {\"color\": \"rgb(255,65,54)\"}, \"mode\": \"lines\", \"type\": \"scatter\", \"x\": [255.0, 255.0, 265.0, 265.0], \"xaxis\": \"x\", \"y\": [0.0, 3.018280609903562, 3.018280609903562, 0.0], \"yaxis\": \"y\"}, {\"hoverinfo\": \"text\", \"marker\": {\"color\": \"rgb(255,65,54)\"}, \"mode\": \"lines\", \"type\": \"scatter\", \"x\": [245.0, 245.0, 260.0, 260.0], \"xaxis\": \"x\", \"y\": [0.0, 5.06045880599803, 5.06045880599803, 3.018280609903562], \"yaxis\": \"y\"}, {\"hoverinfo\": \"text\", \"marker\": {\"color\": \"rgb(255,65,54)\"}, \"mode\": \"lines\", \"type\": \"scatter\", \"x\": [235.0, 235.0, 252.5, 252.5], \"xaxis\": \"x\", \"y\": [0.0, 7.932032673037823, 7.932032673037823, 5.06045880599803], \"yaxis\": \"y\"}, {\"hoverinfo\": \"text\", \"marker\": {\"color\": \"rgb(255,65,54)\"}, \"mode\": \"lines\", \"type\": \"scatter\", \"x\": [225.0, 225.0, 243.75, 243.75], \"xaxis\": \"x\", \"y\": [0.0, 11.089388148386812, 11.089388148386812, 7.932032673037823], \"yaxis\": \"y\"}, {\"hoverinfo\": \"text\", \"marker\": {\"color\": \"rgb(0,116,217)\"}, \"mode\": \"lines\", \"type\": \"scatter\", \"x\": [215.0, 215.0, 234.375, 234.375], \"xaxis\": \"x\", \"y\": [0.0, 14.422824910886417, 14.422824910886417, 11.089388148386812], \"yaxis\": \"y\"}, {\"hoverinfo\": \"text\", \"marker\": {\"color\": \"rgb(0,116,217)\"}, \"mode\": \"lines\", \"type\": \"scatter\", \"x\": [66.9921875, 66.9921875, 224.6875, 224.6875], \"xaxis\": \"x\", \"y\": [7.104564404722543, 16.48905513377078, 16.48905513377078, 14.422824910886417], \"yaxis\": \"y\"}],\n",
              "                        {\"autosize\": false, \"height\": null, \"hovermode\": \"closest\", \"showlegend\": false, \"template\": {\"data\": {\"bar\": [{\"error_x\": {\"color\": \"#2a3f5f\"}, \"error_y\": {\"color\": \"#2a3f5f\"}, \"marker\": {\"line\": {\"color\": \"#E5ECF6\", \"width\": 0.5}}, \"type\": \"bar\"}], \"barpolar\": [{\"marker\": {\"line\": {\"color\": \"#E5ECF6\", \"width\": 0.5}}, \"type\": \"barpolar\"}], \"carpet\": [{\"aaxis\": {\"endlinecolor\": \"#2a3f5f\", \"gridcolor\": \"white\", \"linecolor\": \"white\", \"minorgridcolor\": \"white\", \"startlinecolor\": \"#2a3f5f\"}, \"baxis\": {\"endlinecolor\": \"#2a3f5f\", \"gridcolor\": \"white\", \"linecolor\": \"white\", \"minorgridcolor\": \"white\", \"startlinecolor\": \"#2a3f5f\"}, \"type\": \"carpet\"}], \"choropleth\": [{\"colorbar\": {\"outlinewidth\": 0, \"ticks\": \"\"}, \"type\": \"choropleth\"}], \"contour\": [{\"colorbar\": {\"outlinewidth\": 0, \"ticks\": \"\"}, \"colorscale\": [[0.0, \"#0d0887\"], [0.1111111111111111, \"#46039f\"], [0.2222222222222222, \"#7201a8\"], [0.3333333333333333, \"#9c179e\"], [0.4444444444444444, \"#bd3786\"], [0.5555555555555556, \"#d8576b\"], [0.6666666666666666, \"#ed7953\"], [0.7777777777777778, \"#fb9f3a\"], [0.8888888888888888, \"#fdca26\"], [1.0, \"#f0f921\"]], \"type\": \"contour\"}], \"contourcarpet\": [{\"colorbar\": {\"outlinewidth\": 0, \"ticks\": \"\"}, \"type\": \"contourcarpet\"}], \"heatmap\": [{\"colorbar\": {\"outlinewidth\": 0, \"ticks\": \"\"}, \"colorscale\": [[0.0, \"#0d0887\"], [0.1111111111111111, \"#46039f\"], [0.2222222222222222, \"#7201a8\"], [0.3333333333333333, \"#9c179e\"], [0.4444444444444444, \"#bd3786\"], [0.5555555555555556, \"#d8576b\"], [0.6666666666666666, \"#ed7953\"], [0.7777777777777778, \"#fb9f3a\"], [0.8888888888888888, \"#fdca26\"], [1.0, \"#f0f921\"]], \"type\": \"heatmap\"}], \"heatmapgl\": [{\"colorbar\": {\"outlinewidth\": 0, \"ticks\": \"\"}, \"colorscale\": [[0.0, \"#0d0887\"], [0.1111111111111111, \"#46039f\"], [0.2222222222222222, \"#7201a8\"], [0.3333333333333333, \"#9c179e\"], [0.4444444444444444, \"#bd3786\"], [0.5555555555555556, \"#d8576b\"], [0.6666666666666666, \"#ed7953\"], [0.7777777777777778, \"#fb9f3a\"], [0.8888888888888888, \"#fdca26\"], [1.0, \"#f0f921\"]], \"type\": \"heatmapgl\"}], \"histogram\": [{\"marker\": {\"colorbar\": {\"outlinewidth\": 0, \"ticks\": \"\"}}, \"type\": \"histogram\"}], \"histogram2d\": [{\"colorbar\": {\"outlinewidth\": 0, \"ticks\": \"\"}, \"colorscale\": [[0.0, \"#0d0887\"], [0.1111111111111111, \"#46039f\"], [0.2222222222222222, \"#7201a8\"], [0.3333333333333333, \"#9c179e\"], [0.4444444444444444, \"#bd3786\"], [0.5555555555555556, \"#d8576b\"], [0.6666666666666666, \"#ed7953\"], [0.7777777777777778, \"#fb9f3a\"], [0.8888888888888888, \"#fdca26\"], [1.0, \"#f0f921\"]], \"type\": \"histogram2d\"}], \"histogram2dcontour\": [{\"colorbar\": {\"outlinewidth\": 0, \"ticks\": \"\"}, \"colorscale\": [[0.0, \"#0d0887\"], [0.1111111111111111, \"#46039f\"], [0.2222222222222222, \"#7201a8\"], [0.3333333333333333, \"#9c179e\"], [0.4444444444444444, \"#bd3786\"], [0.5555555555555556, \"#d8576b\"], [0.6666666666666666, \"#ed7953\"], [0.7777777777777778, \"#fb9f3a\"], [0.8888888888888888, \"#fdca26\"], [1.0, \"#f0f921\"]], \"type\": \"histogram2dcontour\"}], \"mesh3d\": [{\"colorbar\": {\"outlinewidth\": 0, \"ticks\": \"\"}, \"type\": \"mesh3d\"}], \"parcoords\": [{\"line\": {\"colorbar\": {\"outlinewidth\": 0, \"ticks\": \"\"}}, \"type\": \"parcoords\"}], \"pie\": [{\"automargin\": true, \"type\": \"pie\"}], \"scatter\": [{\"marker\": {\"colorbar\": {\"outlinewidth\": 0, \"ticks\": \"\"}}, \"type\": \"scatter\"}], \"scatter3d\": [{\"line\": {\"colorbar\": {\"outlinewidth\": 0, \"ticks\": \"\"}}, \"marker\": {\"colorbar\": {\"outlinewidth\": 0, \"ticks\": \"\"}}, \"type\": \"scatter3d\"}], \"scattercarpet\": [{\"marker\": {\"colorbar\": {\"outlinewidth\": 0, \"ticks\": \"\"}}, \"type\": \"scattercarpet\"}], \"scattergeo\": [{\"marker\": {\"colorbar\": {\"outlinewidth\": 0, \"ticks\": \"\"}}, \"type\": \"scattergeo\"}], \"scattergl\": [{\"marker\": {\"colorbar\": {\"outlinewidth\": 0, \"ticks\": \"\"}}, \"type\": \"scattergl\"}], \"scattermapbox\": [{\"marker\": {\"colorbar\": {\"outlinewidth\": 0, \"ticks\": \"\"}}, \"type\": \"scattermapbox\"}], \"scatterpolar\": [{\"marker\": {\"colorbar\": {\"outlinewidth\": 0, \"ticks\": \"\"}}, \"type\": \"scatterpolar\"}], \"scatterpolargl\": [{\"marker\": {\"colorbar\": {\"outlinewidth\": 0, \"ticks\": \"\"}}, \"type\": \"scatterpolargl\"}], \"scatterternary\": [{\"marker\": {\"colorbar\": {\"outlinewidth\": 0, \"ticks\": \"\"}}, \"type\": \"scatterternary\"}], \"surface\": [{\"colorbar\": {\"outlinewidth\": 0, \"ticks\": \"\"}, \"colorscale\": [[0.0, \"#0d0887\"], [0.1111111111111111, \"#46039f\"], [0.2222222222222222, \"#7201a8\"], [0.3333333333333333, \"#9c179e\"], [0.4444444444444444, \"#bd3786\"], [0.5555555555555556, \"#d8576b\"], [0.6666666666666666, \"#ed7953\"], [0.7777777777777778, \"#fb9f3a\"], [0.8888888888888888, \"#fdca26\"], [1.0, \"#f0f921\"]], \"type\": \"surface\"}], \"table\": [{\"cells\": {\"fill\": {\"color\": \"#EBF0F8\"}, \"line\": {\"color\": \"white\"}}, \"header\": {\"fill\": {\"color\": \"#C8D4E3\"}, \"line\": {\"color\": \"white\"}}, \"type\": \"table\"}]}, \"layout\": {\"annotationdefaults\": {\"arrowcolor\": \"#2a3f5f\", \"arrowhead\": 0, \"arrowwidth\": 1}, \"coloraxis\": {\"colorbar\": {\"outlinewidth\": 0, \"ticks\": \"\"}}, \"colorscale\": {\"diverging\": [[0, \"#8e0152\"], [0.1, \"#c51b7d\"], [0.2, \"#de77ae\"], [0.3, \"#f1b6da\"], [0.4, \"#fde0ef\"], [0.5, \"#f7f7f7\"], [0.6, \"#e6f5d0\"], [0.7, \"#b8e186\"], [0.8, \"#7fbc41\"], [0.9, \"#4d9221\"], [1, \"#276419\"]], \"sequential\": [[0.0, \"#0d0887\"], [0.1111111111111111, \"#46039f\"], [0.2222222222222222, \"#7201a8\"], [0.3333333333333333, \"#9c179e\"], [0.4444444444444444, \"#bd3786\"], [0.5555555555555556, \"#d8576b\"], [0.6666666666666666, \"#ed7953\"], [0.7777777777777778, \"#fb9f3a\"], [0.8888888888888888, \"#fdca26\"], [1.0, \"#f0f921\"]], \"sequentialminus\": [[0.0, \"#0d0887\"], [0.1111111111111111, \"#46039f\"], [0.2222222222222222, \"#7201a8\"], [0.3333333333333333, \"#9c179e\"], [0.4444444444444444, \"#bd3786\"], [0.5555555555555556, \"#d8576b\"], [0.6666666666666666, \"#ed7953\"], [0.7777777777777778, \"#fb9f3a\"], [0.8888888888888888, \"#fdca26\"], [1.0, \"#f0f921\"]]}, \"colorway\": [\"#636efa\", \"#EF553B\", \"#00cc96\", \"#ab63fa\", \"#FFA15A\", \"#19d3f3\", \"#FF6692\", \"#B6E880\", \"#FF97FF\", \"#FECB52\"], \"font\": {\"color\": \"#2a3f5f\"}, \"geo\": {\"bgcolor\": \"white\", \"lakecolor\": \"white\", \"landcolor\": \"#E5ECF6\", \"showlakes\": true, \"showland\": true, \"subunitcolor\": \"white\"}, \"hoverlabel\": {\"align\": \"left\"}, \"hovermode\": \"closest\", \"mapbox\": {\"style\": \"light\"}, \"paper_bgcolor\": \"white\", \"plot_bgcolor\": \"#E5ECF6\", \"polar\": {\"angularaxis\": {\"gridcolor\": \"white\", \"linecolor\": \"white\", \"ticks\": \"\"}, \"bgcolor\": \"#E5ECF6\", \"radialaxis\": {\"gridcolor\": \"white\", \"linecolor\": \"white\", \"ticks\": \"\"}}, \"scene\": {\"xaxis\": {\"backgroundcolor\": \"#E5ECF6\", \"gridcolor\": \"white\", \"gridwidth\": 2, \"linecolor\": \"white\", \"showbackground\": true, \"ticks\": \"\", \"zerolinecolor\": \"white\"}, \"yaxis\": {\"backgroundcolor\": \"#E5ECF6\", \"gridcolor\": \"white\", \"gridwidth\": 2, \"linecolor\": \"white\", \"showbackground\": true, \"ticks\": \"\", \"zerolinecolor\": \"white\"}, \"zaxis\": {\"backgroundcolor\": \"#E5ECF6\", \"gridcolor\": \"white\", \"gridwidth\": 2, \"linecolor\": \"white\", \"showbackground\": true, \"ticks\": \"\", \"zerolinecolor\": \"white\"}}, \"shapedefaults\": {\"line\": {\"color\": \"#2a3f5f\"}}, \"ternary\": {\"aaxis\": {\"gridcolor\": \"white\", \"linecolor\": \"white\", \"ticks\": \"\"}, \"baxis\": {\"gridcolor\": \"white\", \"linecolor\": \"white\", \"ticks\": \"\"}, \"bgcolor\": \"#E5ECF6\", \"caxis\": {\"gridcolor\": \"white\", \"linecolor\": \"white\", \"ticks\": \"\"}}, \"title\": {\"x\": 0.05}, \"xaxis\": {\"automargin\": true, \"gridcolor\": \"white\", \"linecolor\": \"white\", \"ticks\": \"\", \"title\": {\"standoff\": 15}, \"zerolinecolor\": \"white\", \"zerolinewidth\": 2}, \"yaxis\": {\"automargin\": true, \"gridcolor\": \"white\", \"linecolor\": \"white\", \"ticks\": \"\", \"title\": {\"standoff\": 15}, \"zerolinecolor\": \"white\", \"zerolinewidth\": 2}}}, \"width\": null, \"xaxis\": {\"mirror\": \"allticks\", \"rangemode\": \"tozero\", \"showgrid\": false, \"showline\": true, \"showticklabels\": true, \"tickmode\": \"array\", \"ticks\": \"outside\", \"ticktext\": [\"PR\", \"MT\", \"TO\", \"PI\", \"SE\", \"PB\", \"RO\", \"RR\", \"GO\", \"AC\", \"MS\", \"ES\", \"AL\", \"PA\", \"SC\", \"AP\", \"BA\", \"MG\", \"DF\", \"RN\", \"RS\", \"CE\", \"SP\", \"PE\", \"AM\", \"MA\", \"RJ\"], \"tickvals\": [5.0, 15.0, 25.0, 35.0, 45.0, 55.0, 65.0, 75.0, 85.0, 95.0, 105.0, 115.0, 125.0, 135.0, 145.0, 155.0, 165.0, 175.0, 185.0, 195.0, 205.0, 215.0, 225.0, 235.0, 245.0, 255.0, 265.0], \"type\": \"linear\", \"zeroline\": false}, \"yaxis\": {\"mirror\": \"allticks\", \"rangemode\": \"tozero\", \"showgrid\": false, \"showline\": true, \"showticklabels\": true, \"ticks\": \"outside\", \"type\": \"linear\", \"zeroline\": false}},\n",
              "                        {\"responsive\": true}\n",
              "                    ).then(function(){\n",
              "                            \n",
              "var gd = document.getElementById('872db2ae-58f0-4dae-b5f2-66b83cf30b2d');\n",
              "var x = new MutationObserver(function (mutations, observer) {{\n",
              "        var display = window.getComputedStyle(gd).display;\n",
              "        if (!display || display === 'none') {{\n",
              "            console.log([gd, 'removed!']);\n",
              "            Plotly.purge(gd);\n",
              "            observer.disconnect();\n",
              "        }}\n",
              "}});\n",
              "\n",
              "// Listen for the removal of the full notebook cells\n",
              "var notebookContainer = gd.closest('#notebook-container');\n",
              "if (notebookContainer) {{\n",
              "    x.observe(notebookContainer, {childList: true});\n",
              "}}\n",
              "\n",
              "// Listen for the clearing of the current output cell\n",
              "var outputEl = gd.closest('.output');\n",
              "if (outputEl) {{\n",
              "    x.observe(outputEl, {childList: true});\n",
              "}}\n",
              "\n",
              "                        })\n",
              "                };\n",
              "                \n",
              "            </script>\n",
              "        </div>\n",
              "</body>\n",
              "</html>"
            ]
          },
          "metadata": {}
        }
      ]
    },
    {
      "cell_type": "markdown",
      "metadata": {
        "id": "-sfRcSmZdQZg"
      },
      "source": [
        "Poderíamos definir a quantidade de grupos: por threshold específico, pela análise do negócio ou escolhendo a maior distância \n",
        "entre grupos e dividir por 2. Utilizaremos como padrão, a definição do algoritmo que informa que a quantidade seria de 3 clusters"
      ]
    },
    {
      "cell_type": "code",
      "metadata": {
        "id": "M_lGE1v3dQZg",
        "colab": {
          "base_uri": "https://localhost:8080/",
          "height": 542
        },
        "outputId": "9004df3c-2ee1-4e50-fe39-7403e302c05d"
      },
      "source": [
        "# Fitting Hierarchical Clustering to the dataset\n",
        "from sklearn import metrics\n",
        "from sklearn.metrics import pairwise_distances\n",
        "from sklearn.cluster import AgglomerativeClustering\n",
        "clustering = AgglomerativeClustering(n_clusters = 3, affinity = 'euclidean', linkage = 'ward').fit(X)\n",
        "clustering.labels_\n",
        "y_kmeans = clustering.labels_\n",
        "resultado = pd.DataFrame(np.vstack((np.array(ts_all_limited.index.values),np.array(y_kmeans)))).T\n",
        "resultado.columns = ['estado','grupo']\n",
        "resultado[\"PCA1\"] = X[:,0]\n",
        "resultado[\"PCA2\"] = X[:,1]\n",
        "\n",
        "fig = go.Figure()\n",
        "# Visualising the clusters\n",
        "\n",
        "fig = px.scatter(resultado,x=\"PCA1\",y=\"PCA2\",text=\"estado\",color=\"grupo\")\n",
        "#fig.add_trace(go.Scatter(y=kmeans.cluster_centers_[:, 1],x=kmeans.cluster_centers_[:, 0],marker_color='yellow',\n",
        "#                        mode='markers',\n",
        "#                      legendgroup=\"asadsd\"))\n",
        "fig.update_traces(marker=dict(size=20))\n",
        "fig.update_layout( xaxis_title=\"Componente principal 1\",\n",
        "                  yaxis_title=\"Componente principal 2\",\n",
        "                 title=\"Gráfico de aglomeração\",\n",
        "                 template = 'plotly_white')"
      ],
      "execution_count": null,
      "outputs": [
        {
          "output_type": "display_data",
          "data": {
            "text/html": [
              "<html>\n",
              "<head><meta charset=\"utf-8\" /></head>\n",
              "<body>\n",
              "    <div>\n",
              "            <script src=\"https://cdnjs.cloudflare.com/ajax/libs/mathjax/2.7.5/MathJax.js?config=TeX-AMS-MML_SVG\"></script><script type=\"text/javascript\">if (window.MathJax) {MathJax.Hub.Config({SVG: {font: \"STIX-Web\"}});}</script>\n",
              "                <script type=\"text/javascript\">window.PlotlyConfig = {MathJaxConfig: 'local'};</script>\n",
              "        <script src=\"https://cdn.plot.ly/plotly-latest.min.js\"></script>    \n",
              "            <div id=\"273f30aa-6647-4b21-bf78-dd8392a8d831\" class=\"plotly-graph-div\" style=\"height:525px; width:100%;\"></div>\n",
              "            <script type=\"text/javascript\">\n",
              "                \n",
              "                    window.PLOTLYENV=window.PLOTLYENV || {};\n",
              "                    \n",
              "                if (document.getElementById(\"273f30aa-6647-4b21-bf78-dd8392a8d831\")) {\n",
              "                    Plotly.newPlot(\n",
              "                        '273f30aa-6647-4b21-bf78-dd8392a8d831',\n",
              "                        [{\"hoverlabel\": {\"namelength\": 0}, \"hovertemplate\": \"grupo=0<br>PCA1=%{x}<br>PCA2=%{y}<br>estado=%{text}\", \"legendgroup\": \"grupo=0\", \"marker\": {\"color\": \"#636efa\", \"size\": 20, \"symbol\": \"circle\"}, \"mode\": \"markers+text\", \"name\": \"grupo=0\", \"showlegend\": true, \"text\": [\"AC\", \"AL\", \"AP\", \"BA\", \"DF\", \"ES\", \"GO\", \"MG\", \"MS\", \"MT\", \"PA\", \"PB\", \"PI\", \"PR\", \"RN\", \"RO\", \"RR\", \"RS\", \"SC\", \"SE\", \"TO\"], \"type\": \"scatter\", \"x\": [-3.3776897205883727, -2.2139115414765067, -0.30800753073535875, 0.561306327659138, -0.8940518431660681, -0.45788940796927013, -3.18559774027896, 0.05617797106697593, -3.8537506340141676, -3.4702228948777116, -0.29977103695459384, -3.036755995336658, -3.6510805750974042, 1.3068710129256094, -1.5392683570368009, -2.78875527792322, -2.2306266674976825, -0.9865442733231092, -0.7179547680471532, -3.4772189157566538, -3.684748716532453], \"xaxis\": \"x\", \"y\": [-0.19145213587583315, 1.5948322476074273, -0.2894574665092658, -1.013463188487865, -2.2885611031282567, 0.484331692142943, -0.0734957306006054, -1.9141807238500737, -0.1928302233856868, 0.028203375321023842, 1.5027986617666684, 0.7113701272897704, 0.5312045291467371, -2.870167364448674, -1.4426276940461353, 1.0059006050206156, -0.1333362428864694, -1.2420872547692658, -1.6352024237096143, 0.8420282110628527, 1.1291011920632719], \"yaxis\": \"y\"}, {\"hoverlabel\": {\"namelength\": 0}, \"hovertemplate\": \"grupo=1<br>PCA1=%{x}<br>PCA2=%{y}<br>estado=%{text}\", \"legendgroup\": \"grupo=1\", \"marker\": {\"color\": \"#EF553B\", \"size\": 20, \"symbol\": \"circle\"}, \"mode\": \"markers+text\", \"name\": \"grupo=1\", \"showlegend\": true, \"text\": [\"AM\", \"MA\", \"PE\", \"RJ\", \"SP\"], \"type\": \"scatter\", \"x\": [5.6519064658378735, 2.9839713206385525, 5.474119452114708, 4.432531400234558, 9.034639530608295], \"xaxis\": \"x\", \"y\": [-1.6277939886765642, 1.4044724906673753, 3.0115576251339493, 2.3828529591133787, 6.744722196204588], \"yaxis\": \"y\"}, {\"hoverlabel\": {\"namelength\": 0}, \"hovertemplate\": \"grupo=2<br>PCA1=%{x}<br>PCA2=%{y}<br>estado=%{text}\", \"legendgroup\": \"grupo=2\", \"marker\": {\"color\": \"#00cc96\", \"size\": 20, \"symbol\": \"circle\"}, \"mode\": \"markers+text\", \"name\": \"grupo=2\", \"showlegend\": true, \"text\": [\"CE\"], \"type\": \"scatter\", \"x\": [10.672322415526432], \"xaxis\": \"x\", \"y\": [-6.458720372166291], \"yaxis\": \"y\"}],\n",
              "                        {\"legend\": {\"tracegroupgap\": 0}, \"margin\": {\"t\": 60}, \"template\": {\"data\": {\"bar\": [{\"error_x\": {\"color\": \"#2a3f5f\"}, \"error_y\": {\"color\": \"#2a3f5f\"}, \"marker\": {\"line\": {\"color\": \"white\", \"width\": 0.5}}, \"type\": \"bar\"}], \"barpolar\": [{\"marker\": {\"line\": {\"color\": \"white\", \"width\": 0.5}}, \"type\": \"barpolar\"}], \"carpet\": [{\"aaxis\": {\"endlinecolor\": \"#2a3f5f\", \"gridcolor\": \"#C8D4E3\", \"linecolor\": \"#C8D4E3\", \"minorgridcolor\": \"#C8D4E3\", \"startlinecolor\": \"#2a3f5f\"}, \"baxis\": {\"endlinecolor\": \"#2a3f5f\", \"gridcolor\": \"#C8D4E3\", \"linecolor\": \"#C8D4E3\", \"minorgridcolor\": \"#C8D4E3\", \"startlinecolor\": \"#2a3f5f\"}, \"type\": \"carpet\"}], \"choropleth\": [{\"colorbar\": {\"outlinewidth\": 0, \"ticks\": \"\"}, \"type\": \"choropleth\"}], \"contour\": [{\"colorbar\": {\"outlinewidth\": 0, \"ticks\": \"\"}, \"colorscale\": [[0.0, \"#0d0887\"], [0.1111111111111111, \"#46039f\"], [0.2222222222222222, \"#7201a8\"], [0.3333333333333333, \"#9c179e\"], [0.4444444444444444, \"#bd3786\"], [0.5555555555555556, \"#d8576b\"], [0.6666666666666666, \"#ed7953\"], [0.7777777777777778, \"#fb9f3a\"], [0.8888888888888888, \"#fdca26\"], [1.0, \"#f0f921\"]], \"type\": \"contour\"}], \"contourcarpet\": [{\"colorbar\": {\"outlinewidth\": 0, \"ticks\": \"\"}, \"type\": \"contourcarpet\"}], \"heatmap\": [{\"colorbar\": {\"outlinewidth\": 0, \"ticks\": \"\"}, \"colorscale\": [[0.0, \"#0d0887\"], [0.1111111111111111, \"#46039f\"], [0.2222222222222222, \"#7201a8\"], [0.3333333333333333, \"#9c179e\"], [0.4444444444444444, \"#bd3786\"], [0.5555555555555556, \"#d8576b\"], [0.6666666666666666, \"#ed7953\"], [0.7777777777777778, \"#fb9f3a\"], [0.8888888888888888, \"#fdca26\"], [1.0, \"#f0f921\"]], \"type\": \"heatmap\"}], \"heatmapgl\": [{\"colorbar\": {\"outlinewidth\": 0, \"ticks\": \"\"}, \"colorscale\": [[0.0, \"#0d0887\"], [0.1111111111111111, \"#46039f\"], [0.2222222222222222, \"#7201a8\"], [0.3333333333333333, \"#9c179e\"], [0.4444444444444444, \"#bd3786\"], [0.5555555555555556, \"#d8576b\"], [0.6666666666666666, \"#ed7953\"], [0.7777777777777778, \"#fb9f3a\"], [0.8888888888888888, \"#fdca26\"], [1.0, \"#f0f921\"]], \"type\": \"heatmapgl\"}], \"histogram\": [{\"marker\": {\"colorbar\": {\"outlinewidth\": 0, \"ticks\": \"\"}}, \"type\": \"histogram\"}], \"histogram2d\": [{\"colorbar\": {\"outlinewidth\": 0, \"ticks\": \"\"}, \"colorscale\": [[0.0, \"#0d0887\"], [0.1111111111111111, \"#46039f\"], [0.2222222222222222, \"#7201a8\"], [0.3333333333333333, \"#9c179e\"], [0.4444444444444444, \"#bd3786\"], [0.5555555555555556, \"#d8576b\"], [0.6666666666666666, \"#ed7953\"], [0.7777777777777778, \"#fb9f3a\"], [0.8888888888888888, \"#fdca26\"], [1.0, \"#f0f921\"]], \"type\": \"histogram2d\"}], \"histogram2dcontour\": [{\"colorbar\": {\"outlinewidth\": 0, \"ticks\": \"\"}, \"colorscale\": [[0.0, \"#0d0887\"], [0.1111111111111111, \"#46039f\"], [0.2222222222222222, \"#7201a8\"], [0.3333333333333333, \"#9c179e\"], [0.4444444444444444, \"#bd3786\"], [0.5555555555555556, \"#d8576b\"], [0.6666666666666666, \"#ed7953\"], [0.7777777777777778, \"#fb9f3a\"], [0.8888888888888888, \"#fdca26\"], [1.0, \"#f0f921\"]], \"type\": \"histogram2dcontour\"}], \"mesh3d\": [{\"colorbar\": {\"outlinewidth\": 0, \"ticks\": \"\"}, \"type\": \"mesh3d\"}], \"parcoords\": [{\"line\": {\"colorbar\": {\"outlinewidth\": 0, \"ticks\": \"\"}}, \"type\": \"parcoords\"}], \"pie\": [{\"automargin\": true, \"type\": \"pie\"}], \"scatter\": [{\"marker\": {\"colorbar\": {\"outlinewidth\": 0, \"ticks\": \"\"}}, \"type\": \"scatter\"}], \"scatter3d\": [{\"line\": {\"colorbar\": {\"outlinewidth\": 0, \"ticks\": \"\"}}, \"marker\": {\"colorbar\": {\"outlinewidth\": 0, \"ticks\": \"\"}}, \"type\": \"scatter3d\"}], \"scattercarpet\": [{\"marker\": {\"colorbar\": {\"outlinewidth\": 0, \"ticks\": \"\"}}, \"type\": \"scattercarpet\"}], \"scattergeo\": [{\"marker\": {\"colorbar\": {\"outlinewidth\": 0, \"ticks\": \"\"}}, \"type\": \"scattergeo\"}], \"scattergl\": [{\"marker\": {\"colorbar\": {\"outlinewidth\": 0, \"ticks\": \"\"}}, \"type\": \"scattergl\"}], \"scattermapbox\": [{\"marker\": {\"colorbar\": {\"outlinewidth\": 0, \"ticks\": \"\"}}, \"type\": \"scattermapbox\"}], \"scatterpolar\": [{\"marker\": {\"colorbar\": {\"outlinewidth\": 0, \"ticks\": \"\"}}, \"type\": \"scatterpolar\"}], \"scatterpolargl\": [{\"marker\": {\"colorbar\": {\"outlinewidth\": 0, \"ticks\": \"\"}}, \"type\": \"scatterpolargl\"}], \"scatterternary\": [{\"marker\": {\"colorbar\": {\"outlinewidth\": 0, \"ticks\": \"\"}}, \"type\": \"scatterternary\"}], \"surface\": [{\"colorbar\": {\"outlinewidth\": 0, \"ticks\": \"\"}, \"colorscale\": [[0.0, \"#0d0887\"], [0.1111111111111111, \"#46039f\"], [0.2222222222222222, \"#7201a8\"], [0.3333333333333333, \"#9c179e\"], [0.4444444444444444, \"#bd3786\"], [0.5555555555555556, \"#d8576b\"], [0.6666666666666666, \"#ed7953\"], [0.7777777777777778, \"#fb9f3a\"], [0.8888888888888888, \"#fdca26\"], [1.0, \"#f0f921\"]], \"type\": \"surface\"}], \"table\": [{\"cells\": {\"fill\": {\"color\": \"#EBF0F8\"}, \"line\": {\"color\": \"white\"}}, \"header\": {\"fill\": {\"color\": \"#C8D4E3\"}, \"line\": {\"color\": \"white\"}}, \"type\": \"table\"}]}, \"layout\": {\"annotationdefaults\": {\"arrowcolor\": \"#2a3f5f\", \"arrowhead\": 0, \"arrowwidth\": 1}, \"coloraxis\": {\"colorbar\": {\"outlinewidth\": 0, \"ticks\": \"\"}}, \"colorscale\": {\"diverging\": [[0, \"#8e0152\"], [0.1, \"#c51b7d\"], [0.2, \"#de77ae\"], [0.3, \"#f1b6da\"], [0.4, \"#fde0ef\"], [0.5, \"#f7f7f7\"], [0.6, \"#e6f5d0\"], [0.7, \"#b8e186\"], [0.8, \"#7fbc41\"], [0.9, \"#4d9221\"], [1, \"#276419\"]], \"sequential\": [[0.0, \"#0d0887\"], [0.1111111111111111, \"#46039f\"], [0.2222222222222222, \"#7201a8\"], [0.3333333333333333, \"#9c179e\"], [0.4444444444444444, \"#bd3786\"], [0.5555555555555556, \"#d8576b\"], [0.6666666666666666, \"#ed7953\"], [0.7777777777777778, \"#fb9f3a\"], [0.8888888888888888, \"#fdca26\"], [1.0, \"#f0f921\"]], \"sequentialminus\": [[0.0, \"#0d0887\"], [0.1111111111111111, \"#46039f\"], [0.2222222222222222, \"#7201a8\"], [0.3333333333333333, \"#9c179e\"], [0.4444444444444444, \"#bd3786\"], [0.5555555555555556, \"#d8576b\"], [0.6666666666666666, \"#ed7953\"], [0.7777777777777778, \"#fb9f3a\"], [0.8888888888888888, \"#fdca26\"], [1.0, \"#f0f921\"]]}, \"colorway\": [\"#636efa\", \"#EF553B\", \"#00cc96\", \"#ab63fa\", \"#FFA15A\", \"#19d3f3\", \"#FF6692\", \"#B6E880\", \"#FF97FF\", \"#FECB52\"], \"font\": {\"color\": \"#2a3f5f\"}, \"geo\": {\"bgcolor\": \"white\", \"lakecolor\": \"white\", \"landcolor\": \"white\", \"showlakes\": true, \"showland\": true, \"subunitcolor\": \"#C8D4E3\"}, \"hoverlabel\": {\"align\": \"left\"}, \"hovermode\": \"closest\", \"mapbox\": {\"style\": \"light\"}, \"paper_bgcolor\": \"white\", \"plot_bgcolor\": \"white\", \"polar\": {\"angularaxis\": {\"gridcolor\": \"#EBF0F8\", \"linecolor\": \"#EBF0F8\", \"ticks\": \"\"}, \"bgcolor\": \"white\", \"radialaxis\": {\"gridcolor\": \"#EBF0F8\", \"linecolor\": \"#EBF0F8\", \"ticks\": \"\"}}, \"scene\": {\"xaxis\": {\"backgroundcolor\": \"white\", \"gridcolor\": \"#DFE8F3\", \"gridwidth\": 2, \"linecolor\": \"#EBF0F8\", \"showbackground\": true, \"ticks\": \"\", \"zerolinecolor\": \"#EBF0F8\"}, \"yaxis\": {\"backgroundcolor\": \"white\", \"gridcolor\": \"#DFE8F3\", \"gridwidth\": 2, \"linecolor\": \"#EBF0F8\", \"showbackground\": true, \"ticks\": \"\", \"zerolinecolor\": \"#EBF0F8\"}, \"zaxis\": {\"backgroundcolor\": \"white\", \"gridcolor\": \"#DFE8F3\", \"gridwidth\": 2, \"linecolor\": \"#EBF0F8\", \"showbackground\": true, \"ticks\": \"\", \"zerolinecolor\": \"#EBF0F8\"}}, \"shapedefaults\": {\"line\": {\"color\": \"#2a3f5f\"}}, \"ternary\": {\"aaxis\": {\"gridcolor\": \"#DFE8F3\", \"linecolor\": \"#A2B1C6\", \"ticks\": \"\"}, \"baxis\": {\"gridcolor\": \"#DFE8F3\", \"linecolor\": \"#A2B1C6\", \"ticks\": \"\"}, \"bgcolor\": \"white\", \"caxis\": {\"gridcolor\": \"#DFE8F3\", \"linecolor\": \"#A2B1C6\", \"ticks\": \"\"}}, \"title\": {\"x\": 0.05}, \"xaxis\": {\"automargin\": true, \"gridcolor\": \"#EBF0F8\", \"linecolor\": \"#EBF0F8\", \"ticks\": \"\", \"title\": {\"standoff\": 15}, \"zerolinecolor\": \"#EBF0F8\", \"zerolinewidth\": 2}, \"yaxis\": {\"automargin\": true, \"gridcolor\": \"#EBF0F8\", \"linecolor\": \"#EBF0F8\", \"ticks\": \"\", \"title\": {\"standoff\": 15}, \"zerolinecolor\": \"#EBF0F8\", \"zerolinewidth\": 2}}}, \"title\": {\"text\": \"Gr\\u00e1fico de aglomera\\u00e7\\u00e3o\"}, \"xaxis\": {\"anchor\": \"y\", \"domain\": [0.0, 1.0], \"title\": {\"text\": \"Componente principal 1\"}}, \"yaxis\": {\"anchor\": \"x\", \"domain\": [0.0, 1.0], \"title\": {\"text\": \"Componente principal 2\"}}},\n",
              "                        {\"responsive\": true}\n",
              "                    ).then(function(){\n",
              "                            \n",
              "var gd = document.getElementById('273f30aa-6647-4b21-bf78-dd8392a8d831');\n",
              "var x = new MutationObserver(function (mutations, observer) {{\n",
              "        var display = window.getComputedStyle(gd).display;\n",
              "        if (!display || display === 'none') {{\n",
              "            console.log([gd, 'removed!']);\n",
              "            Plotly.purge(gd);\n",
              "            observer.disconnect();\n",
              "        }}\n",
              "}});\n",
              "\n",
              "// Listen for the removal of the full notebook cells\n",
              "var notebookContainer = gd.closest('#notebook-container');\n",
              "if (notebookContainer) {{\n",
              "    x.observe(notebookContainer, {childList: true});\n",
              "}}\n",
              "\n",
              "// Listen for the clearing of the current output cell\n",
              "var outputEl = gd.closest('.output');\n",
              "if (outputEl) {{\n",
              "    x.observe(outputEl, {childList: true});\n",
              "}}\n",
              "\n",
              "                        })\n",
              "                };\n",
              "                \n",
              "            </script>\n",
              "        </div>\n",
              "</body>\n",
              "</html>"
            ]
          },
          "metadata": {}
        }
      ]
    },
    {
      "cell_type": "markdown",
      "metadata": {
        "id": "S-vUZyi9dQZk"
      },
      "source": [
        "# Avaliação"
      ]
    },
    {
      "cell_type": "markdown",
      "metadata": {
        "id": "5It4wcgGdQZl"
      },
      "source": [
        "Para descobrir o melhor método sem ser visualmente, utilizaremos a métrica da silhueta e análise do gráfico, comparando até 7 agrupamentos do Kmeans e do HC. O coeficiente da silhueta informa a média da similiraridade dos grupos enquanto considera também a distância entre grupos distintos."
      ]
    },
    {
      "cell_type": "markdown",
      "metadata": {
        "id": "-g6pDd8HdQZm"
      },
      "source": [
        "#### Kmeans"
      ]
    },
    {
      "cell_type": "markdown",
      "metadata": {
        "id": "QL6NQXFndQZm"
      },
      "source": [
        "No gráfico abaixo geramos o gráfico da silhueta de 2 até 7 grupos no método Kmeans.Podemos perceber que o melhor resultado encontrado para o algoritmo Kmeans foi utilizando 6 grupos, pois foi o maior valor do coeficiente de silhueta e não encontramos nenhum valor negativo para o coeficiente de silhueta, indicando que ocorreu um bom agrupamento."
      ]
    },
    {
      "cell_type": "code",
      "metadata": {
        "id": "FMf-S-nFdQZn",
        "colab": {
          "base_uri": "https://localhost:8080/"
        },
        "outputId": "5f9bce83-ede7-4a6e-da89-5b3f6cb6cb74"
      },
      "source": [
        "from sklearn import metrics\n",
        "from sklearn.metrics import pairwise_distances\n",
        "from plotly.subplots import make_subplots\n",
        "import plotly\n",
        "range_n_clusters = [2,3,4,5,6,7]\n",
        "\n",
        "colors = plotly.colors.DEFAULT_PLOTLY_COLORS\n",
        "import matplotlib.cm as cm\n",
        "for n_clusters in range_n_clusters:\n",
        "    # Criando um subplot com 1 linha e 2 colunas\n",
        "    fig = make_subplots(rows=1, cols=2)        \n",
        "    \n",
        "    fig.update_xaxes(tickvals=[-0.1, 0, 0.5, 1],range=[-0.1,1],\n",
        "    selector=dict(type=\"scatter\", mode=\"lines\"))\n",
        "    fig.update_yaxes(range=[0, len(X) + (n_clusters + 1) * 10],\n",
        "    selector=dict(type=\"scatter\", mode=\"lines\"))\n",
        "    fig.update_layout(showlegend=False)\n",
        "    \n",
        "    \n",
        "    clusterer = KMeans(n_clusters=n_clusters, random_state=10)    \n",
        "    cluster_labels = clusterer.fit_predict(X)\n",
        "    \n",
        "    # Calculando o valor da silhueta\n",
        "    silhouette_avg = metrics.silhouette_score(X, cluster_labels)\n",
        "    print(\"Kmeans para n_grupos =\", n_clusters,\"A médias da  silhueta é :\", silhouette_avg)\n",
        "    fig.update_layout(shapes=[                  \n",
        "        dict(\n",
        "            type= 'line',\n",
        "            yref= 'paper', y0= 0, y1= 1,\n",
        "            xref= 'x', x0= silhouette_avg, x1= silhouette_avg,\n",
        "            line=dict(\n",
        "                color=\"Red\",\n",
        "                width=2,\n",
        "                dash=\"dashdot\",\n",
        "            )\n",
        "        )])  \n",
        "    # Compute the silhouette scores for each sample\n",
        "    sample_silhouette_values = metrics.silhouette_samples(X, cluster_labels)\n",
        "    \n",
        "    fig.update_layout( xaxis_title=\"O valor do coeficiente da silhueta\",\n",
        "                  yaxis_title=\"Observações da silhueta de vários clusters\",\n",
        "                 title=\"Gráfico da silhueta\",\n",
        "                 template = 'plotly_white')\n",
        "    fig.update_xaxes(title_text=\"PCA1\", row=1, col=2)\n",
        "    fig.update_yaxes(title_text=\"PCA2\", row=1, col=2)\n",
        "    y_lower = 10\n",
        "  \n",
        "    for i in range(n_clusters):\n",
        "        # Aggregate the silhouette scores for samples belonging to\n",
        "        # cluster i, and sort them\n",
        "        ith_cluster_silhouette_values = sample_silhouette_values[cluster_labels == i]\n",
        "\n",
        "        ith_cluster_silhouette_values.sort()\n",
        "\n",
        "        size_cluster_i = ith_cluster_silhouette_values.shape[0]\n",
        "        y_upper = y_lower + size_cluster_i\n",
        "        \n",
        "        fig.add_trace(go.Scatter(x=ith_cluster_silhouette_values,y=np.arange(y_lower, y_upper)\n",
        "                                 , fill='tozerox', mode = 'lines',\n",
        "                                 line=dict(\n",
        "                                      color=colors[i]\n",
        "                                 )), row=1, col=1)         \n",
        "        y_lower = y_upper + 5  # 10 for the 0 samples\n",
        "        \n",
        "        resultado = pd.DataFrame(np.vstack((np.array(ts_all_limited.index.values),np.array(cluster_labels)))).T\n",
        "        resultado.columns = ['estado','grupo']\n",
        "        resultado[\"PCA1\"] = X[:,0]\n",
        "        resultado[\"PCA2\"] = X[:,1]               \n",
        "        resultado = resultado[resultado[\"grupo\"]==i]\n",
        "\n",
        "        fig2 = go.Scatter(x = resultado[\"PCA1\"].values, y= resultado[\"PCA2\"].values,\n",
        "                          mode=\"markers+text\",\n",
        "                          text = resultado[\"estado\"].values,\n",
        "                          marker=dict(\n",
        "                                size=18,\n",
        "                                color=colors[i],\n",
        "                                line=dict(\n",
        "                                    color='DarkSlateGrey',\n",
        "                                    width=1\n",
        "                                )\n",
        "                            ))\n",
        "        fig.add_trace( fig2, row=1, col=2)\n",
        "    fig.show()"
      ],
      "execution_count": null,
      "outputs": [
        {
          "output_type": "stream",
          "text": [
            "Kmeans para n_grupos = 2 A médias da  silhueta é : 0.5012421227508266\n"
          ],
          "name": "stdout"
        },
        {
          "output_type": "display_data",
          "data": {
            "text/html": [
              "<html>\n",
              "<head><meta charset=\"utf-8\" /></head>\n",
              "<body>\n",
              "    <div>\n",
              "            <script src=\"https://cdnjs.cloudflare.com/ajax/libs/mathjax/2.7.5/MathJax.js?config=TeX-AMS-MML_SVG\"></script><script type=\"text/javascript\">if (window.MathJax) {MathJax.Hub.Config({SVG: {font: \"STIX-Web\"}});}</script>\n",
              "                <script type=\"text/javascript\">window.PlotlyConfig = {MathJaxConfig: 'local'};</script>\n",
              "        <script src=\"https://cdn.plot.ly/plotly-latest.min.js\"></script>    \n",
              "            <div id=\"bb369476-bef9-4d01-90b7-35f6ea38af81\" class=\"plotly-graph-div\" style=\"height:525px; width:100%;\"></div>\n",
              "            <script type=\"text/javascript\">\n",
              "                \n",
              "                    window.PLOTLYENV=window.PLOTLYENV || {};\n",
              "                    \n",
              "                if (document.getElementById(\"bb369476-bef9-4d01-90b7-35f6ea38af81\")) {\n",
              "                    Plotly.newPlot(\n",
              "                        'bb369476-bef9-4d01-90b7-35f6ea38af81',\n",
              "                        [{\"fill\": \"tozerox\", \"line\": {\"color\": \"rgb(31, 119, 180)\"}, \"mode\": \"lines\", \"type\": \"scatter\", \"x\": [0.34719495299842357, 0.46853737361294373, 0.4892875995626787, 0.5037181328329107, 0.5108618261304283, 0.5357912931823502, 0.5359287321775311, 0.5803335737991006, 0.5898167075991225, 0.6032694241195506, 0.6570389977402955, 0.7011181236531829, 0.7075001308819643, 0.7083237460465608, 0.7097344039664261, 0.7143181625852418, 0.7224008026924362, 0.7233078985907375, 0.7245978073408366, 0.729949470881455, 0.7302920858479744], \"xaxis\": \"x\", \"y\": [10, 11, 12, 13, 14, 15, 16, 17, 18, 19, 20, 21, 22, 23, 24, 25, 26, 27, 28, 29, 30], \"yaxis\": \"y\"}, {\"marker\": {\"color\": \"rgb(31, 119, 180)\", \"line\": {\"color\": \"DarkSlateGrey\", \"width\": 1}, \"size\": 18}, \"mode\": \"markers+text\", \"text\": [\"AC\", \"AL\", \"AP\", \"BA\", \"DF\", \"ES\", \"GO\", \"MG\", \"MS\", \"MT\", \"PA\", \"PB\", \"PI\", \"PR\", \"RN\", \"RO\", \"RR\", \"RS\", \"SC\", \"SE\", \"TO\"], \"type\": \"scatter\", \"x\": [-3.3776897205883727, -2.2139115414765067, -0.30800753073535875, 0.561306327659138, -0.8940518431660681, -0.45788940796927013, -3.18559774027896, 0.05617797106697593, -3.8537506340141676, -3.4702228948777116, -0.29977103695459384, -3.036755995336658, -3.6510805750974042, 1.3068710129256094, -1.5392683570368009, -2.78875527792322, -2.2306266674976825, -0.9865442733231092, -0.7179547680471532, -3.4772189157566538, -3.684748716532453], \"xaxis\": \"x2\", \"y\": [-0.19145213587583315, 1.5948322476074273, -0.2894574665092658, -1.013463188487865, -2.2885611031282567, 0.484331692142943, -0.0734957306006054, -1.9141807238500737, -0.1928302233856868, 0.028203375321023842, 1.5027986617666684, 0.7113701272897704, 0.5312045291467371, -2.870167364448674, -1.4426276940461353, 1.0059006050206156, -0.1333362428864694, -1.2420872547692658, -1.6352024237096143, 0.8420282110628527, 1.1291011920632719], \"yaxis\": \"y2\"}, {\"fill\": \"tozerox\", \"line\": {\"color\": \"rgb(255, 127, 14)\"}, \"mode\": \"lines\", \"type\": \"scatter\", \"x\": [-0.12021698085520748, 0.06597894434101838, 0.10741663841596558, 0.11867974275546213, 0.16901011095562304, 0.19934761241730525], \"xaxis\": \"x\", \"y\": [36, 37, 38, 39, 40, 41], \"yaxis\": \"y\"}, {\"marker\": {\"color\": \"rgb(255, 127, 14)\", \"line\": {\"color\": \"DarkSlateGrey\", \"width\": 1}, \"size\": 18}, \"mode\": \"markers+text\", \"text\": [\"AM\", \"CE\", \"MA\", \"PE\", \"RJ\", \"SP\"], \"type\": \"scatter\", \"x\": [5.6519064658378735, 10.672322415526432, 2.9839713206385525, 5.474119452114708, 4.432531400234558, 9.034639530608295], \"xaxis\": \"x2\", \"y\": [-1.6277939886765642, -6.458720372166291, 1.4044724906673753, 3.0115576251339493, 2.3828529591133787, 6.744722196204588], \"yaxis\": \"y2\"}],\n",
              "                        {\"shapes\": [{\"line\": {\"color\": \"Red\", \"dash\": \"dashdot\", \"width\": 2}, \"type\": \"line\", \"x0\": 0.5012421227508266, \"x1\": 0.5012421227508266, \"xref\": \"x\", \"y0\": 0, \"y1\": 1, \"yref\": \"paper\"}], \"showlegend\": false, \"template\": {\"data\": {\"bar\": [{\"error_x\": {\"color\": \"#2a3f5f\"}, \"error_y\": {\"color\": \"#2a3f5f\"}, \"marker\": {\"line\": {\"color\": \"white\", \"width\": 0.5}}, \"type\": \"bar\"}], \"barpolar\": [{\"marker\": {\"line\": {\"color\": \"white\", \"width\": 0.5}}, \"type\": \"barpolar\"}], \"carpet\": [{\"aaxis\": {\"endlinecolor\": \"#2a3f5f\", \"gridcolor\": \"#C8D4E3\", \"linecolor\": \"#C8D4E3\", \"minorgridcolor\": \"#C8D4E3\", \"startlinecolor\": \"#2a3f5f\"}, \"baxis\": {\"endlinecolor\": \"#2a3f5f\", \"gridcolor\": \"#C8D4E3\", \"linecolor\": \"#C8D4E3\", \"minorgridcolor\": \"#C8D4E3\", \"startlinecolor\": \"#2a3f5f\"}, \"type\": \"carpet\"}], \"choropleth\": [{\"colorbar\": {\"outlinewidth\": 0, \"ticks\": \"\"}, \"type\": \"choropleth\"}], \"contour\": [{\"colorbar\": {\"outlinewidth\": 0, \"ticks\": \"\"}, \"colorscale\": [[0.0, \"#0d0887\"], [0.1111111111111111, \"#46039f\"], [0.2222222222222222, \"#7201a8\"], [0.3333333333333333, \"#9c179e\"], [0.4444444444444444, \"#bd3786\"], [0.5555555555555556, \"#d8576b\"], [0.6666666666666666, \"#ed7953\"], [0.7777777777777778, \"#fb9f3a\"], [0.8888888888888888, \"#fdca26\"], [1.0, \"#f0f921\"]], \"type\": \"contour\"}], \"contourcarpet\": [{\"colorbar\": {\"outlinewidth\": 0, \"ticks\": \"\"}, \"type\": \"contourcarpet\"}], \"heatmap\": [{\"colorbar\": {\"outlinewidth\": 0, \"ticks\": \"\"}, \"colorscale\": [[0.0, \"#0d0887\"], [0.1111111111111111, \"#46039f\"], [0.2222222222222222, \"#7201a8\"], [0.3333333333333333, \"#9c179e\"], [0.4444444444444444, \"#bd3786\"], [0.5555555555555556, \"#d8576b\"], [0.6666666666666666, \"#ed7953\"], [0.7777777777777778, \"#fb9f3a\"], [0.8888888888888888, \"#fdca26\"], [1.0, \"#f0f921\"]], \"type\": \"heatmap\"}], \"heatmapgl\": [{\"colorbar\": {\"outlinewidth\": 0, \"ticks\": \"\"}, \"colorscale\": [[0.0, \"#0d0887\"], [0.1111111111111111, \"#46039f\"], [0.2222222222222222, \"#7201a8\"], [0.3333333333333333, \"#9c179e\"], [0.4444444444444444, \"#bd3786\"], [0.5555555555555556, \"#d8576b\"], [0.6666666666666666, \"#ed7953\"], [0.7777777777777778, \"#fb9f3a\"], [0.8888888888888888, \"#fdca26\"], [1.0, \"#f0f921\"]], \"type\": \"heatmapgl\"}], \"histogram\": [{\"marker\": {\"colorbar\": {\"outlinewidth\": 0, \"ticks\": \"\"}}, \"type\": \"histogram\"}], \"histogram2d\": [{\"colorbar\": {\"outlinewidth\": 0, \"ticks\": \"\"}, \"colorscale\": [[0.0, \"#0d0887\"], [0.1111111111111111, \"#46039f\"], [0.2222222222222222, \"#7201a8\"], [0.3333333333333333, \"#9c179e\"], [0.4444444444444444, \"#bd3786\"], [0.5555555555555556, \"#d8576b\"], [0.6666666666666666, \"#ed7953\"], [0.7777777777777778, \"#fb9f3a\"], [0.8888888888888888, \"#fdca26\"], [1.0, \"#f0f921\"]], \"type\": \"histogram2d\"}], \"histogram2dcontour\": [{\"colorbar\": {\"outlinewidth\": 0, \"ticks\": \"\"}, \"colorscale\": [[0.0, \"#0d0887\"], [0.1111111111111111, \"#46039f\"], [0.2222222222222222, \"#7201a8\"], [0.3333333333333333, \"#9c179e\"], [0.4444444444444444, \"#bd3786\"], [0.5555555555555556, \"#d8576b\"], [0.6666666666666666, \"#ed7953\"], [0.7777777777777778, \"#fb9f3a\"], [0.8888888888888888, \"#fdca26\"], [1.0, \"#f0f921\"]], \"type\": \"histogram2dcontour\"}], \"mesh3d\": [{\"colorbar\": {\"outlinewidth\": 0, \"ticks\": \"\"}, \"type\": \"mesh3d\"}], \"parcoords\": [{\"line\": {\"colorbar\": {\"outlinewidth\": 0, \"ticks\": \"\"}}, \"type\": \"parcoords\"}], \"pie\": [{\"automargin\": true, \"type\": \"pie\"}], \"scatter\": [{\"marker\": {\"colorbar\": {\"outlinewidth\": 0, \"ticks\": \"\"}}, \"type\": \"scatter\"}], \"scatter3d\": [{\"line\": {\"colorbar\": {\"outlinewidth\": 0, \"ticks\": \"\"}}, \"marker\": {\"colorbar\": {\"outlinewidth\": 0, \"ticks\": \"\"}}, \"type\": \"scatter3d\"}], \"scattercarpet\": [{\"marker\": {\"colorbar\": {\"outlinewidth\": 0, \"ticks\": \"\"}}, \"type\": \"scattercarpet\"}], \"scattergeo\": [{\"marker\": {\"colorbar\": {\"outlinewidth\": 0, \"ticks\": \"\"}}, \"type\": \"scattergeo\"}], \"scattergl\": [{\"marker\": {\"colorbar\": {\"outlinewidth\": 0, \"ticks\": \"\"}}, \"type\": \"scattergl\"}], \"scattermapbox\": [{\"marker\": {\"colorbar\": {\"outlinewidth\": 0, \"ticks\": \"\"}}, \"type\": \"scattermapbox\"}], \"scatterpolar\": [{\"marker\": {\"colorbar\": {\"outlinewidth\": 0, \"ticks\": \"\"}}, \"type\": \"scatterpolar\"}], \"scatterpolargl\": [{\"marker\": {\"colorbar\": {\"outlinewidth\": 0, \"ticks\": \"\"}}, \"type\": \"scatterpolargl\"}], \"scatterternary\": [{\"marker\": {\"colorbar\": {\"outlinewidth\": 0, \"ticks\": \"\"}}, \"type\": \"scatterternary\"}], \"surface\": [{\"colorbar\": {\"outlinewidth\": 0, \"ticks\": \"\"}, \"colorscale\": [[0.0, \"#0d0887\"], [0.1111111111111111, \"#46039f\"], [0.2222222222222222, \"#7201a8\"], [0.3333333333333333, \"#9c179e\"], [0.4444444444444444, \"#bd3786\"], [0.5555555555555556, \"#d8576b\"], [0.6666666666666666, \"#ed7953\"], [0.7777777777777778, \"#fb9f3a\"], [0.8888888888888888, \"#fdca26\"], [1.0, \"#f0f921\"]], \"type\": \"surface\"}], \"table\": [{\"cells\": {\"fill\": {\"color\": \"#EBF0F8\"}, \"line\": {\"color\": \"white\"}}, \"header\": {\"fill\": {\"color\": \"#C8D4E3\"}, \"line\": {\"color\": \"white\"}}, \"type\": \"table\"}]}, \"layout\": {\"annotationdefaults\": {\"arrowcolor\": \"#2a3f5f\", \"arrowhead\": 0, \"arrowwidth\": 1}, \"coloraxis\": {\"colorbar\": {\"outlinewidth\": 0, \"ticks\": \"\"}}, \"colorscale\": {\"diverging\": [[0, \"#8e0152\"], [0.1, \"#c51b7d\"], [0.2, \"#de77ae\"], [0.3, \"#f1b6da\"], [0.4, \"#fde0ef\"], [0.5, \"#f7f7f7\"], [0.6, \"#e6f5d0\"], [0.7, \"#b8e186\"], [0.8, \"#7fbc41\"], [0.9, \"#4d9221\"], [1, \"#276419\"]], \"sequential\": [[0.0, \"#0d0887\"], [0.1111111111111111, \"#46039f\"], [0.2222222222222222, \"#7201a8\"], [0.3333333333333333, \"#9c179e\"], [0.4444444444444444, \"#bd3786\"], [0.5555555555555556, \"#d8576b\"], [0.6666666666666666, \"#ed7953\"], [0.7777777777777778, \"#fb9f3a\"], [0.8888888888888888, \"#fdca26\"], [1.0, \"#f0f921\"]], \"sequentialminus\": [[0.0, \"#0d0887\"], [0.1111111111111111, \"#46039f\"], [0.2222222222222222, \"#7201a8\"], [0.3333333333333333, \"#9c179e\"], [0.4444444444444444, \"#bd3786\"], [0.5555555555555556, \"#d8576b\"], [0.6666666666666666, \"#ed7953\"], [0.7777777777777778, \"#fb9f3a\"], [0.8888888888888888, \"#fdca26\"], [1.0, \"#f0f921\"]]}, \"colorway\": [\"#636efa\", \"#EF553B\", \"#00cc96\", \"#ab63fa\", \"#FFA15A\", \"#19d3f3\", \"#FF6692\", \"#B6E880\", \"#FF97FF\", \"#FECB52\"], \"font\": {\"color\": \"#2a3f5f\"}, \"geo\": {\"bgcolor\": \"white\", \"lakecolor\": \"white\", \"landcolor\": \"white\", \"showlakes\": true, \"showland\": true, \"subunitcolor\": \"#C8D4E3\"}, \"hoverlabel\": {\"align\": \"left\"}, \"hovermode\": \"closest\", \"mapbox\": {\"style\": \"light\"}, \"paper_bgcolor\": \"white\", \"plot_bgcolor\": \"white\", \"polar\": {\"angularaxis\": {\"gridcolor\": \"#EBF0F8\", \"linecolor\": \"#EBF0F8\", \"ticks\": \"\"}, \"bgcolor\": \"white\", \"radialaxis\": {\"gridcolor\": \"#EBF0F8\", \"linecolor\": \"#EBF0F8\", \"ticks\": \"\"}}, \"scene\": {\"xaxis\": {\"backgroundcolor\": \"white\", \"gridcolor\": \"#DFE8F3\", \"gridwidth\": 2, \"linecolor\": \"#EBF0F8\", \"showbackground\": true, \"ticks\": \"\", \"zerolinecolor\": \"#EBF0F8\"}, \"yaxis\": {\"backgroundcolor\": \"white\", \"gridcolor\": \"#DFE8F3\", \"gridwidth\": 2, \"linecolor\": \"#EBF0F8\", \"showbackground\": true, \"ticks\": \"\", \"zerolinecolor\": \"#EBF0F8\"}, \"zaxis\": {\"backgroundcolor\": \"white\", \"gridcolor\": \"#DFE8F3\", \"gridwidth\": 2, \"linecolor\": \"#EBF0F8\", \"showbackground\": true, \"ticks\": \"\", \"zerolinecolor\": \"#EBF0F8\"}}, \"shapedefaults\": {\"line\": {\"color\": \"#2a3f5f\"}}, \"ternary\": {\"aaxis\": {\"gridcolor\": \"#DFE8F3\", \"linecolor\": \"#A2B1C6\", \"ticks\": \"\"}, \"baxis\": {\"gridcolor\": \"#DFE8F3\", \"linecolor\": \"#A2B1C6\", \"ticks\": \"\"}, \"bgcolor\": \"white\", \"caxis\": {\"gridcolor\": \"#DFE8F3\", \"linecolor\": \"#A2B1C6\", \"ticks\": \"\"}}, \"title\": {\"x\": 0.05}, \"xaxis\": {\"automargin\": true, \"gridcolor\": \"#EBF0F8\", \"linecolor\": \"#EBF0F8\", \"ticks\": \"\", \"title\": {\"standoff\": 15}, \"zerolinecolor\": \"#EBF0F8\", \"zerolinewidth\": 2}, \"yaxis\": {\"automargin\": true, \"gridcolor\": \"#EBF0F8\", \"linecolor\": \"#EBF0F8\", \"ticks\": \"\", \"title\": {\"standoff\": 15}, \"zerolinecolor\": \"#EBF0F8\", \"zerolinewidth\": 2}}}, \"title\": {\"text\": \"Gr\\u00e1fico da silhueta\"}, \"xaxis\": {\"anchor\": \"y\", \"domain\": [0.0, 0.45], \"title\": {\"text\": \"O valor do coeficiente da silhueta\"}}, \"xaxis2\": {\"anchor\": \"y2\", \"domain\": [0.55, 1.0], \"title\": {\"text\": \"PCA1\"}}, \"yaxis\": {\"anchor\": \"x\", \"domain\": [0.0, 1.0], \"title\": {\"text\": \"Observa\\u00e7\\u00f5es da silhueta de v\\u00e1rios clusters\"}}, \"yaxis2\": {\"anchor\": \"x2\", \"domain\": [0.0, 1.0], \"title\": {\"text\": \"PCA2\"}}},\n",
              "                        {\"responsive\": true}\n",
              "                    ).then(function(){\n",
              "                            \n",
              "var gd = document.getElementById('bb369476-bef9-4d01-90b7-35f6ea38af81');\n",
              "var x = new MutationObserver(function (mutations, observer) {{\n",
              "        var display = window.getComputedStyle(gd).display;\n",
              "        if (!display || display === 'none') {{\n",
              "            console.log([gd, 'removed!']);\n",
              "            Plotly.purge(gd);\n",
              "            observer.disconnect();\n",
              "        }}\n",
              "}});\n",
              "\n",
              "// Listen for the removal of the full notebook cells\n",
              "var notebookContainer = gd.closest('#notebook-container');\n",
              "if (notebookContainer) {{\n",
              "    x.observe(notebookContainer, {childList: true});\n",
              "}}\n",
              "\n",
              "// Listen for the clearing of the current output cell\n",
              "var outputEl = gd.closest('.output');\n",
              "if (outputEl) {{\n",
              "    x.observe(outputEl, {childList: true});\n",
              "}}\n",
              "\n",
              "                        })\n",
              "                };\n",
              "                \n",
              "            </script>\n",
              "        </div>\n",
              "</body>\n",
              "</html>"
            ]
          },
          "metadata": {}
        },
        {
          "output_type": "stream",
          "text": [
            "Kmeans para n_grupos = 3 A médias da  silhueta é : 0.3625586852658401\n"
          ],
          "name": "stdout"
        },
        {
          "output_type": "display_data",
          "data": {
            "text/html": [
              "<html>\n",
              "<head><meta charset=\"utf-8\" /></head>\n",
              "<body>\n",
              "    <div>\n",
              "            <script src=\"https://cdnjs.cloudflare.com/ajax/libs/mathjax/2.7.5/MathJax.js?config=TeX-AMS-MML_SVG\"></script><script type=\"text/javascript\">if (window.MathJax) {MathJax.Hub.Config({SVG: {font: \"STIX-Web\"}});}</script>\n",
              "                <script type=\"text/javascript\">window.PlotlyConfig = {MathJaxConfig: 'local'};</script>\n",
              "        <script src=\"https://cdn.plot.ly/plotly-latest.min.js\"></script>    \n",
              "            <div id=\"1d79927c-db9f-4b61-b30a-ef88efce4160\" class=\"plotly-graph-div\" style=\"height:525px; width:100%;\"></div>\n",
              "            <script type=\"text/javascript\">\n",
              "                \n",
              "                    window.PLOTLYENV=window.PLOTLYENV || {};\n",
              "                    \n",
              "                if (document.getElementById(\"1d79927c-db9f-4b61-b30a-ef88efce4160\")) {\n",
              "                    Plotly.newPlot(\n",
              "                        '1d79927c-db9f-4b61-b30a-ef88efce4160',\n",
              "                        [{\"fill\": \"tozerox\", \"line\": {\"color\": \"rgb(31, 119, 180)\"}, \"mode\": \"lines\", \"type\": \"scatter\", \"x\": [0.19903258065411916, 0.22251918853654948, 0.5824228224205802, 0.5973177662512165, 0.6050205461059209, 0.6155608056588749, 0.6355031590646092, 0.6808004428435885, 0.6809998596681466, 0.6892298381176634, 0.70583440898592, 0.7142800225407919, 0.7212237413383034], \"xaxis\": \"x\", \"y\": [10, 11, 12, 13, 14, 15, 16, 17, 18, 19, 20, 21, 22], \"yaxis\": \"y\"}, {\"marker\": {\"color\": \"rgb(31, 119, 180)\", \"line\": {\"color\": \"DarkSlateGrey\", \"width\": 1}, \"size\": 18}, \"mode\": \"markers+text\", \"text\": [\"AC\", \"AL\", \"ES\", \"GO\", \"MS\", \"MT\", \"PA\", \"PB\", \"PI\", \"RO\", \"RR\", \"SE\", \"TO\"], \"type\": \"scatter\", \"x\": [-3.3776897205883727, -2.2139115414765067, -0.45788940796927013, -3.18559774027896, -3.8537506340141676, -3.4702228948777116, -0.29977103695459384, -3.036755995336658, -3.6510805750974042, -2.78875527792322, -2.2306266674976825, -3.4772189157566538, -3.684748716532453], \"xaxis\": \"x2\", \"y\": [-0.19145213587583315, 1.5948322476074273, 0.484331692142943, -0.0734957306006054, -0.1928302233856868, 0.028203375321023842, 1.5027986617666684, 0.7113701272897704, 0.5312045291467371, 1.0059006050206156, -0.1333362428864694, 0.8420282110628527, 1.1291011920632719], \"yaxis\": \"y2\"}, {\"fill\": \"tozerox\", \"line\": {\"color\": \"rgb(255, 127, 14)\"}, \"mode\": \"lines\", \"type\": \"scatter\", \"x\": [-0.18603283712461935, -0.08942543251603885, -0.014472827826129084, 0.08884661876170726, 0.11276745261886441, 0.17607958132551502], \"xaxis\": \"x\", \"y\": [28, 29, 30, 31, 32, 33], \"yaxis\": \"y\"}, {\"marker\": {\"color\": \"rgb(255, 127, 14)\", \"line\": {\"color\": \"DarkSlateGrey\", \"width\": 1}, \"size\": 18}, \"mode\": \"markers+text\", \"text\": [\"AM\", \"CE\", \"MA\", \"PE\", \"RJ\", \"SP\"], \"type\": \"scatter\", \"x\": [5.6519064658378735, 10.672322415526432, 2.9839713206385525, 5.474119452114708, 4.432531400234558, 9.034639530608295], \"xaxis\": \"x2\", \"y\": [-1.6277939886765642, -6.458720372166291, 1.4044724906673753, 3.0115576251339493, 2.3828529591133787, 6.744722196204588], \"yaxis\": \"y2\"}, {\"fill\": \"tozerox\", \"line\": {\"color\": \"rgb(44, 160, 44)\"}, \"mode\": \"lines\", \"type\": \"scatter\", \"x\": [0.08984998150469294, 0.16037493793943491, 0.17350788996132388, 0.2697068773669955, 0.2790412022681598, 0.342034591645693, 0.3514546870246836, 0.3856065970411159], \"xaxis\": \"x\", \"y\": [39, 40, 41, 42, 43, 44, 45, 46], \"yaxis\": \"y\"}, {\"marker\": {\"color\": \"rgb(44, 160, 44)\", \"line\": {\"color\": \"DarkSlateGrey\", \"width\": 1}, \"size\": 18}, \"mode\": \"markers+text\", \"text\": [\"AP\", \"BA\", \"DF\", \"MG\", \"PR\", \"RN\", \"RS\", \"SC\"], \"type\": \"scatter\", \"x\": [-0.30800753073535875, 0.561306327659138, -0.8940518431660681, 0.05617797106697593, 1.3068710129256094, -1.5392683570368009, -0.9865442733231092, -0.7179547680471532], \"xaxis\": \"x2\", \"y\": [-0.2894574665092658, -1.013463188487865, -2.2885611031282567, -1.9141807238500737, -2.870167364448674, -1.4426276940461353, -1.2420872547692658, -1.6352024237096143], \"yaxis\": \"y2\"}],\n",
              "                        {\"shapes\": [{\"line\": {\"color\": \"Red\", \"dash\": \"dashdot\", \"width\": 2}, \"type\": \"line\", \"x0\": 0.3625586852658401, \"x1\": 0.3625586852658401, \"xref\": \"x\", \"y0\": 0, \"y1\": 1, \"yref\": \"paper\"}], \"showlegend\": false, \"template\": {\"data\": {\"bar\": [{\"error_x\": {\"color\": \"#2a3f5f\"}, \"error_y\": {\"color\": \"#2a3f5f\"}, \"marker\": {\"line\": {\"color\": \"white\", \"width\": 0.5}}, \"type\": \"bar\"}], \"barpolar\": [{\"marker\": {\"line\": {\"color\": \"white\", \"width\": 0.5}}, \"type\": \"barpolar\"}], \"carpet\": [{\"aaxis\": {\"endlinecolor\": \"#2a3f5f\", \"gridcolor\": \"#C8D4E3\", \"linecolor\": \"#C8D4E3\", \"minorgridcolor\": \"#C8D4E3\", \"startlinecolor\": \"#2a3f5f\"}, \"baxis\": {\"endlinecolor\": \"#2a3f5f\", \"gridcolor\": \"#C8D4E3\", \"linecolor\": \"#C8D4E3\", \"minorgridcolor\": \"#C8D4E3\", \"startlinecolor\": \"#2a3f5f\"}, \"type\": \"carpet\"}], \"choropleth\": [{\"colorbar\": {\"outlinewidth\": 0, \"ticks\": \"\"}, \"type\": \"choropleth\"}], \"contour\": [{\"colorbar\": {\"outlinewidth\": 0, \"ticks\": \"\"}, \"colorscale\": [[0.0, \"#0d0887\"], [0.1111111111111111, \"#46039f\"], [0.2222222222222222, \"#7201a8\"], [0.3333333333333333, \"#9c179e\"], [0.4444444444444444, \"#bd3786\"], [0.5555555555555556, \"#d8576b\"], [0.6666666666666666, \"#ed7953\"], [0.7777777777777778, \"#fb9f3a\"], [0.8888888888888888, \"#fdca26\"], [1.0, \"#f0f921\"]], \"type\": \"contour\"}], \"contourcarpet\": [{\"colorbar\": {\"outlinewidth\": 0, \"ticks\": \"\"}, \"type\": \"contourcarpet\"}], \"heatmap\": [{\"colorbar\": {\"outlinewidth\": 0, \"ticks\": \"\"}, \"colorscale\": [[0.0, \"#0d0887\"], [0.1111111111111111, \"#46039f\"], [0.2222222222222222, \"#7201a8\"], [0.3333333333333333, \"#9c179e\"], [0.4444444444444444, \"#bd3786\"], [0.5555555555555556, \"#d8576b\"], [0.6666666666666666, \"#ed7953\"], [0.7777777777777778, \"#fb9f3a\"], [0.8888888888888888, \"#fdca26\"], [1.0, \"#f0f921\"]], \"type\": \"heatmap\"}], \"heatmapgl\": [{\"colorbar\": {\"outlinewidth\": 0, \"ticks\": \"\"}, \"colorscale\": [[0.0, \"#0d0887\"], [0.1111111111111111, \"#46039f\"], [0.2222222222222222, \"#7201a8\"], [0.3333333333333333, \"#9c179e\"], [0.4444444444444444, \"#bd3786\"], [0.5555555555555556, \"#d8576b\"], [0.6666666666666666, \"#ed7953\"], [0.7777777777777778, \"#fb9f3a\"], [0.8888888888888888, \"#fdca26\"], [1.0, \"#f0f921\"]], \"type\": \"heatmapgl\"}], \"histogram\": [{\"marker\": {\"colorbar\": {\"outlinewidth\": 0, \"ticks\": \"\"}}, \"type\": \"histogram\"}], \"histogram2d\": [{\"colorbar\": {\"outlinewidth\": 0, \"ticks\": \"\"}, \"colorscale\": [[0.0, \"#0d0887\"], [0.1111111111111111, \"#46039f\"], [0.2222222222222222, \"#7201a8\"], [0.3333333333333333, \"#9c179e\"], [0.4444444444444444, \"#bd3786\"], [0.5555555555555556, \"#d8576b\"], [0.6666666666666666, \"#ed7953\"], [0.7777777777777778, \"#fb9f3a\"], [0.8888888888888888, \"#fdca26\"], [1.0, \"#f0f921\"]], \"type\": \"histogram2d\"}], \"histogram2dcontour\": [{\"colorbar\": {\"outlinewidth\": 0, \"ticks\": \"\"}, \"colorscale\": [[0.0, \"#0d0887\"], [0.1111111111111111, \"#46039f\"], [0.2222222222222222, \"#7201a8\"], [0.3333333333333333, \"#9c179e\"], [0.4444444444444444, \"#bd3786\"], [0.5555555555555556, \"#d8576b\"], [0.6666666666666666, \"#ed7953\"], [0.7777777777777778, \"#fb9f3a\"], [0.8888888888888888, \"#fdca26\"], [1.0, \"#f0f921\"]], \"type\": \"histogram2dcontour\"}], \"mesh3d\": [{\"colorbar\": {\"outlinewidth\": 0, \"ticks\": \"\"}, \"type\": \"mesh3d\"}], \"parcoords\": [{\"line\": {\"colorbar\": {\"outlinewidth\": 0, \"ticks\": \"\"}}, \"type\": \"parcoords\"}], \"pie\": [{\"automargin\": true, \"type\": \"pie\"}], \"scatter\": [{\"marker\": {\"colorbar\": {\"outlinewidth\": 0, \"ticks\": \"\"}}, \"type\": \"scatter\"}], \"scatter3d\": [{\"line\": {\"colorbar\": {\"outlinewidth\": 0, \"ticks\": \"\"}}, \"marker\": {\"colorbar\": {\"outlinewidth\": 0, \"ticks\": \"\"}}, \"type\": \"scatter3d\"}], \"scattercarpet\": [{\"marker\": {\"colorbar\": {\"outlinewidth\": 0, \"ticks\": \"\"}}, \"type\": \"scattercarpet\"}], \"scattergeo\": [{\"marker\": {\"colorbar\": {\"outlinewidth\": 0, \"ticks\": \"\"}}, \"type\": \"scattergeo\"}], \"scattergl\": [{\"marker\": {\"colorbar\": {\"outlinewidth\": 0, \"ticks\": \"\"}}, \"type\": \"scattergl\"}], \"scattermapbox\": [{\"marker\": {\"colorbar\": {\"outlinewidth\": 0, \"ticks\": \"\"}}, \"type\": \"scattermapbox\"}], \"scatterpolar\": [{\"marker\": {\"colorbar\": {\"outlinewidth\": 0, \"ticks\": \"\"}}, \"type\": \"scatterpolar\"}], \"scatterpolargl\": [{\"marker\": {\"colorbar\": {\"outlinewidth\": 0, \"ticks\": \"\"}}, \"type\": \"scatterpolargl\"}], \"scatterternary\": [{\"marker\": {\"colorbar\": {\"outlinewidth\": 0, \"ticks\": \"\"}}, \"type\": \"scatterternary\"}], \"surface\": [{\"colorbar\": {\"outlinewidth\": 0, \"ticks\": \"\"}, \"colorscale\": [[0.0, \"#0d0887\"], [0.1111111111111111, \"#46039f\"], [0.2222222222222222, \"#7201a8\"], [0.3333333333333333, \"#9c179e\"], [0.4444444444444444, \"#bd3786\"], [0.5555555555555556, \"#d8576b\"], [0.6666666666666666, \"#ed7953\"], [0.7777777777777778, \"#fb9f3a\"], [0.8888888888888888, \"#fdca26\"], [1.0, \"#f0f921\"]], \"type\": \"surface\"}], \"table\": [{\"cells\": {\"fill\": {\"color\": \"#EBF0F8\"}, \"line\": {\"color\": \"white\"}}, \"header\": {\"fill\": {\"color\": \"#C8D4E3\"}, \"line\": {\"color\": \"white\"}}, \"type\": \"table\"}]}, \"layout\": {\"annotationdefaults\": {\"arrowcolor\": \"#2a3f5f\", \"arrowhead\": 0, \"arrowwidth\": 1}, \"coloraxis\": {\"colorbar\": {\"outlinewidth\": 0, \"ticks\": \"\"}}, \"colorscale\": {\"diverging\": [[0, \"#8e0152\"], [0.1, \"#c51b7d\"], [0.2, \"#de77ae\"], [0.3, \"#f1b6da\"], [0.4, \"#fde0ef\"], [0.5, \"#f7f7f7\"], [0.6, \"#e6f5d0\"], [0.7, \"#b8e186\"], [0.8, \"#7fbc41\"], [0.9, \"#4d9221\"], [1, \"#276419\"]], \"sequential\": [[0.0, \"#0d0887\"], [0.1111111111111111, \"#46039f\"], [0.2222222222222222, \"#7201a8\"], [0.3333333333333333, \"#9c179e\"], [0.4444444444444444, \"#bd3786\"], [0.5555555555555556, \"#d8576b\"], [0.6666666666666666, \"#ed7953\"], [0.7777777777777778, \"#fb9f3a\"], [0.8888888888888888, \"#fdca26\"], [1.0, \"#f0f921\"]], \"sequentialminus\": [[0.0, \"#0d0887\"], [0.1111111111111111, \"#46039f\"], [0.2222222222222222, \"#7201a8\"], [0.3333333333333333, \"#9c179e\"], [0.4444444444444444, \"#bd3786\"], [0.5555555555555556, \"#d8576b\"], [0.6666666666666666, \"#ed7953\"], [0.7777777777777778, \"#fb9f3a\"], [0.8888888888888888, \"#fdca26\"], [1.0, \"#f0f921\"]]}, \"colorway\": [\"#636efa\", \"#EF553B\", \"#00cc96\", \"#ab63fa\", \"#FFA15A\", \"#19d3f3\", \"#FF6692\", \"#B6E880\", \"#FF97FF\", \"#FECB52\"], \"font\": {\"color\": \"#2a3f5f\"}, \"geo\": {\"bgcolor\": \"white\", \"lakecolor\": \"white\", \"landcolor\": \"white\", \"showlakes\": true, \"showland\": true, \"subunitcolor\": \"#C8D4E3\"}, \"hoverlabel\": {\"align\": \"left\"}, \"hovermode\": \"closest\", \"mapbox\": {\"style\": \"light\"}, \"paper_bgcolor\": \"white\", \"plot_bgcolor\": \"white\", \"polar\": {\"angularaxis\": {\"gridcolor\": \"#EBF0F8\", \"linecolor\": \"#EBF0F8\", \"ticks\": \"\"}, \"bgcolor\": \"white\", \"radialaxis\": {\"gridcolor\": \"#EBF0F8\", \"linecolor\": \"#EBF0F8\", \"ticks\": \"\"}}, \"scene\": {\"xaxis\": {\"backgroundcolor\": \"white\", \"gridcolor\": \"#DFE8F3\", \"gridwidth\": 2, \"linecolor\": \"#EBF0F8\", \"showbackground\": true, \"ticks\": \"\", \"zerolinecolor\": \"#EBF0F8\"}, \"yaxis\": {\"backgroundcolor\": \"white\", \"gridcolor\": \"#DFE8F3\", \"gridwidth\": 2, \"linecolor\": \"#EBF0F8\", \"showbackground\": true, \"ticks\": \"\", \"zerolinecolor\": \"#EBF0F8\"}, \"zaxis\": {\"backgroundcolor\": \"white\", \"gridcolor\": \"#DFE8F3\", \"gridwidth\": 2, \"linecolor\": \"#EBF0F8\", \"showbackground\": true, \"ticks\": \"\", \"zerolinecolor\": \"#EBF0F8\"}}, \"shapedefaults\": {\"line\": {\"color\": \"#2a3f5f\"}}, \"ternary\": {\"aaxis\": {\"gridcolor\": \"#DFE8F3\", \"linecolor\": \"#A2B1C6\", \"ticks\": \"\"}, \"baxis\": {\"gridcolor\": \"#DFE8F3\", \"linecolor\": \"#A2B1C6\", \"ticks\": \"\"}, \"bgcolor\": \"white\", \"caxis\": {\"gridcolor\": \"#DFE8F3\", \"linecolor\": \"#A2B1C6\", \"ticks\": \"\"}}, \"title\": {\"x\": 0.05}, \"xaxis\": {\"automargin\": true, \"gridcolor\": \"#EBF0F8\", \"linecolor\": \"#EBF0F8\", \"ticks\": \"\", \"title\": {\"standoff\": 15}, \"zerolinecolor\": \"#EBF0F8\", \"zerolinewidth\": 2}, \"yaxis\": {\"automargin\": true, \"gridcolor\": \"#EBF0F8\", \"linecolor\": \"#EBF0F8\", \"ticks\": \"\", \"title\": {\"standoff\": 15}, \"zerolinecolor\": \"#EBF0F8\", \"zerolinewidth\": 2}}}, \"title\": {\"text\": \"Gr\\u00e1fico da silhueta\"}, \"xaxis\": {\"anchor\": \"y\", \"domain\": [0.0, 0.45], \"title\": {\"text\": \"O valor do coeficiente da silhueta\"}}, \"xaxis2\": {\"anchor\": \"y2\", \"domain\": [0.55, 1.0], \"title\": {\"text\": \"PCA1\"}}, \"yaxis\": {\"anchor\": \"x\", \"domain\": [0.0, 1.0], \"title\": {\"text\": \"Observa\\u00e7\\u00f5es da silhueta de v\\u00e1rios clusters\"}}, \"yaxis2\": {\"anchor\": \"x2\", \"domain\": [0.0, 1.0], \"title\": {\"text\": \"PCA2\"}}},\n",
              "                        {\"responsive\": true}\n",
              "                    ).then(function(){\n",
              "                            \n",
              "var gd = document.getElementById('1d79927c-db9f-4b61-b30a-ef88efce4160');\n",
              "var x = new MutationObserver(function (mutations, observer) {{\n",
              "        var display = window.getComputedStyle(gd).display;\n",
              "        if (!display || display === 'none') {{\n",
              "            console.log([gd, 'removed!']);\n",
              "            Plotly.purge(gd);\n",
              "            observer.disconnect();\n",
              "        }}\n",
              "}});\n",
              "\n",
              "// Listen for the removal of the full notebook cells\n",
              "var notebookContainer = gd.closest('#notebook-container');\n",
              "if (notebookContainer) {{\n",
              "    x.observe(notebookContainer, {childList: true});\n",
              "}}\n",
              "\n",
              "// Listen for the clearing of the current output cell\n",
              "var outputEl = gd.closest('.output');\n",
              "if (outputEl) {{\n",
              "    x.observe(outputEl, {childList: true});\n",
              "}}\n",
              "\n",
              "                        })\n",
              "                };\n",
              "                \n",
              "            </script>\n",
              "        </div>\n",
              "</body>\n",
              "</html>"
            ]
          },
          "metadata": {}
        },
        {
          "output_type": "stream",
          "text": [
            "Kmeans para n_grupos = 4 A médias da  silhueta é : 0.37913226370147685\n"
          ],
          "name": "stdout"
        },
        {
          "output_type": "display_data",
          "data": {
            "text/html": [
              "<html>\n",
              "<head><meta charset=\"utf-8\" /></head>\n",
              "<body>\n",
              "    <div>\n",
              "            <script src=\"https://cdnjs.cloudflare.com/ajax/libs/mathjax/2.7.5/MathJax.js?config=TeX-AMS-MML_SVG\"></script><script type=\"text/javascript\">if (window.MathJax) {MathJax.Hub.Config({SVG: {font: \"STIX-Web\"}});}</script>\n",
              "                <script type=\"text/javascript\">window.PlotlyConfig = {MathJaxConfig: 'local'};</script>\n",
              "        <script src=\"https://cdn.plot.ly/plotly-latest.min.js\"></script>    \n",
              "            <div id=\"42bf613a-19b5-48d7-b38b-8a7fe368486e\" class=\"plotly-graph-div\" style=\"height:525px; width:100%;\"></div>\n",
              "            <script type=\"text/javascript\">\n",
              "                \n",
              "                    window.PLOTLYENV=window.PLOTLYENV || {};\n",
              "                    \n",
              "                if (document.getElementById(\"42bf613a-19b5-48d7-b38b-8a7fe368486e\")) {\n",
              "                    Plotly.newPlot(\n",
              "                        '42bf613a-19b5-48d7-b38b-8a7fe368486e',\n",
              "                        [{\"fill\": \"tozerox\", \"line\": {\"color\": \"rgb(31, 119, 180)\"}, \"mode\": \"lines\", \"type\": \"scatter\", \"x\": [0.19903258065411916, 0.22251918853654948, 0.5824228224205802, 0.5973177662512165, 0.6050205461059209, 0.6155608056588749, 0.6355031590646092, 0.6808004428435885, 0.6809998596681466, 0.6892298381176634, 0.70583440898592, 0.7142800225407919, 0.7212237413383034], \"xaxis\": \"x\", \"y\": [10, 11, 12, 13, 14, 15, 16, 17, 18, 19, 20, 21, 22], \"yaxis\": \"y\"}, {\"marker\": {\"color\": \"rgb(31, 119, 180)\", \"line\": {\"color\": \"DarkSlateGrey\", \"width\": 1}, \"size\": 18}, \"mode\": \"markers+text\", \"text\": [\"AC\", \"AL\", \"ES\", \"GO\", \"MS\", \"MT\", \"PA\", \"PB\", \"PI\", \"RO\", \"RR\", \"SE\", \"TO\"], \"type\": \"scatter\", \"x\": [-3.3776897205883727, -2.2139115414765067, -0.45788940796927013, -3.18559774027896, -3.8537506340141676, -3.4702228948777116, -0.29977103695459384, -3.036755995336658, -3.6510805750974042, -2.78875527792322, -2.2306266674976825, -3.4772189157566538, -3.684748716532453], \"xaxis\": \"x2\", \"y\": [-0.19145213587583315, 1.5948322476074273, 0.484331692142943, -0.0734957306006054, -0.1928302233856868, 0.028203375321023842, 1.5027986617666684, 0.7113701272897704, 0.5312045291467371, 1.0059006050206156, -0.1333362428864694, 0.8420282110628527, 1.1291011920632719], \"yaxis\": \"y2\"}, {\"fill\": \"tozerox\", \"line\": {\"color\": \"rgb(255, 127, 14)\"}, \"mode\": \"lines\", \"type\": \"scatter\", \"x\": [-0.035839783008998975, -0.023636070580949246, 0.14726688186129144, 0.21014593117649397, 0.23731221355365492], \"xaxis\": \"x\", \"y\": [28, 29, 30, 31, 32], \"yaxis\": \"y\"}, {\"marker\": {\"color\": \"rgb(255, 127, 14)\", \"line\": {\"color\": \"DarkSlateGrey\", \"width\": 1}, \"size\": 18}, \"mode\": \"markers+text\", \"text\": [\"AM\", \"MA\", \"PE\", \"RJ\", \"SP\"], \"type\": \"scatter\", \"x\": [5.6519064658378735, 2.9839713206385525, 5.474119452114708, 4.432531400234558, 9.034639530608295], \"xaxis\": \"x2\", \"y\": [-1.6277939886765642, 1.4044724906673753, 3.0115576251339493, 2.3828529591133787, 6.744722196204588], \"yaxis\": \"y2\"}, {\"fill\": \"tozerox\", \"line\": {\"color\": \"rgb(44, 160, 44)\"}, \"mode\": \"lines\", \"type\": \"scatter\", \"x\": [0.08984998150469294, 0.16037493793943491, 0.17350788996132388, 0.2697068773669955, 0.2790412022681598, 0.342034591645693, 0.3514546870246836, 0.3856065970411159], \"xaxis\": \"x\", \"y\": [38, 39, 40, 41, 42, 43, 44, 45], \"yaxis\": \"y\"}, {\"marker\": {\"color\": \"rgb(44, 160, 44)\", \"line\": {\"color\": \"DarkSlateGrey\", \"width\": 1}, \"size\": 18}, \"mode\": \"markers+text\", \"text\": [\"AP\", \"BA\", \"DF\", \"MG\", \"PR\", \"RN\", \"RS\", \"SC\"], \"type\": \"scatter\", \"x\": [-0.30800753073535875, 0.561306327659138, -0.8940518431660681, 0.05617797106697593, 1.3068710129256094, -1.5392683570368009, -0.9865442733231092, -0.7179547680471532], \"xaxis\": \"x2\", \"y\": [-0.2894574665092658, -1.013463188487865, -2.2885611031282567, -1.9141807238500737, -2.870167364448674, -1.4426276940461353, -1.2420872547692658, -1.6352024237096143], \"yaxis\": \"y2\"}, {\"fill\": \"tozerox\", \"line\": {\"color\": \"rgb(214, 39, 40)\"}, \"mode\": \"lines\", \"type\": \"scatter\", \"x\": [0.0], \"xaxis\": \"x\", \"y\": [51], \"yaxis\": \"y\"}, {\"marker\": {\"color\": \"rgb(214, 39, 40)\", \"line\": {\"color\": \"DarkSlateGrey\", \"width\": 1}, \"size\": 18}, \"mode\": \"markers+text\", \"text\": [\"CE\"], \"type\": \"scatter\", \"x\": [10.672322415526432], \"xaxis\": \"x2\", \"y\": [-6.458720372166291], \"yaxis\": \"y2\"}],\n",
              "                        {\"shapes\": [{\"line\": {\"color\": \"Red\", \"dash\": \"dashdot\", \"width\": 2}, \"type\": \"line\", \"x0\": 0.37913226370147685, \"x1\": 0.37913226370147685, \"xref\": \"x\", \"y0\": 0, \"y1\": 1, \"yref\": \"paper\"}], \"showlegend\": false, \"template\": {\"data\": {\"bar\": [{\"error_x\": {\"color\": \"#2a3f5f\"}, \"error_y\": {\"color\": \"#2a3f5f\"}, \"marker\": {\"line\": {\"color\": \"white\", \"width\": 0.5}}, \"type\": \"bar\"}], \"barpolar\": [{\"marker\": {\"line\": {\"color\": \"white\", \"width\": 0.5}}, \"type\": \"barpolar\"}], \"carpet\": [{\"aaxis\": {\"endlinecolor\": \"#2a3f5f\", \"gridcolor\": \"#C8D4E3\", \"linecolor\": \"#C8D4E3\", \"minorgridcolor\": \"#C8D4E3\", \"startlinecolor\": \"#2a3f5f\"}, \"baxis\": {\"endlinecolor\": \"#2a3f5f\", \"gridcolor\": \"#C8D4E3\", \"linecolor\": \"#C8D4E3\", \"minorgridcolor\": \"#C8D4E3\", \"startlinecolor\": \"#2a3f5f\"}, \"type\": \"carpet\"}], \"choropleth\": [{\"colorbar\": {\"outlinewidth\": 0, \"ticks\": \"\"}, \"type\": \"choropleth\"}], \"contour\": [{\"colorbar\": {\"outlinewidth\": 0, \"ticks\": \"\"}, \"colorscale\": [[0.0, \"#0d0887\"], [0.1111111111111111, \"#46039f\"], [0.2222222222222222, \"#7201a8\"], [0.3333333333333333, \"#9c179e\"], [0.4444444444444444, \"#bd3786\"], [0.5555555555555556, \"#d8576b\"], [0.6666666666666666, \"#ed7953\"], [0.7777777777777778, \"#fb9f3a\"], [0.8888888888888888, \"#fdca26\"], [1.0, \"#f0f921\"]], \"type\": \"contour\"}], \"contourcarpet\": [{\"colorbar\": {\"outlinewidth\": 0, \"ticks\": \"\"}, \"type\": \"contourcarpet\"}], \"heatmap\": [{\"colorbar\": {\"outlinewidth\": 0, \"ticks\": \"\"}, \"colorscale\": [[0.0, \"#0d0887\"], [0.1111111111111111, \"#46039f\"], [0.2222222222222222, \"#7201a8\"], [0.3333333333333333, \"#9c179e\"], [0.4444444444444444, \"#bd3786\"], [0.5555555555555556, \"#d8576b\"], [0.6666666666666666, \"#ed7953\"], [0.7777777777777778, \"#fb9f3a\"], [0.8888888888888888, \"#fdca26\"], [1.0, \"#f0f921\"]], \"type\": \"heatmap\"}], \"heatmapgl\": [{\"colorbar\": {\"outlinewidth\": 0, \"ticks\": \"\"}, \"colorscale\": [[0.0, \"#0d0887\"], [0.1111111111111111, \"#46039f\"], [0.2222222222222222, \"#7201a8\"], [0.3333333333333333, \"#9c179e\"], [0.4444444444444444, \"#bd3786\"], [0.5555555555555556, \"#d8576b\"], [0.6666666666666666, \"#ed7953\"], [0.7777777777777778, \"#fb9f3a\"], [0.8888888888888888, \"#fdca26\"], [1.0, \"#f0f921\"]], \"type\": \"heatmapgl\"}], \"histogram\": [{\"marker\": {\"colorbar\": {\"outlinewidth\": 0, \"ticks\": \"\"}}, \"type\": \"histogram\"}], \"histogram2d\": [{\"colorbar\": {\"outlinewidth\": 0, \"ticks\": \"\"}, \"colorscale\": [[0.0, \"#0d0887\"], [0.1111111111111111, \"#46039f\"], [0.2222222222222222, \"#7201a8\"], [0.3333333333333333, \"#9c179e\"], [0.4444444444444444, \"#bd3786\"], [0.5555555555555556, \"#d8576b\"], [0.6666666666666666, \"#ed7953\"], [0.7777777777777778, \"#fb9f3a\"], [0.8888888888888888, \"#fdca26\"], [1.0, \"#f0f921\"]], \"type\": \"histogram2d\"}], \"histogram2dcontour\": [{\"colorbar\": {\"outlinewidth\": 0, \"ticks\": \"\"}, \"colorscale\": [[0.0, \"#0d0887\"], [0.1111111111111111, \"#46039f\"], [0.2222222222222222, \"#7201a8\"], [0.3333333333333333, \"#9c179e\"], [0.4444444444444444, \"#bd3786\"], [0.5555555555555556, \"#d8576b\"], [0.6666666666666666, \"#ed7953\"], [0.7777777777777778, \"#fb9f3a\"], [0.8888888888888888, \"#fdca26\"], [1.0, \"#f0f921\"]], \"type\": \"histogram2dcontour\"}], \"mesh3d\": [{\"colorbar\": {\"outlinewidth\": 0, \"ticks\": \"\"}, \"type\": \"mesh3d\"}], \"parcoords\": [{\"line\": {\"colorbar\": {\"outlinewidth\": 0, \"ticks\": \"\"}}, \"type\": \"parcoords\"}], \"pie\": [{\"automargin\": true, \"type\": \"pie\"}], \"scatter\": [{\"marker\": {\"colorbar\": {\"outlinewidth\": 0, \"ticks\": \"\"}}, \"type\": \"scatter\"}], \"scatter3d\": [{\"line\": {\"colorbar\": {\"outlinewidth\": 0, \"ticks\": \"\"}}, \"marker\": {\"colorbar\": {\"outlinewidth\": 0, \"ticks\": \"\"}}, \"type\": \"scatter3d\"}], \"scattercarpet\": [{\"marker\": {\"colorbar\": {\"outlinewidth\": 0, \"ticks\": \"\"}}, \"type\": \"scattercarpet\"}], \"scattergeo\": [{\"marker\": {\"colorbar\": {\"outlinewidth\": 0, \"ticks\": \"\"}}, \"type\": \"scattergeo\"}], \"scattergl\": [{\"marker\": {\"colorbar\": {\"outlinewidth\": 0, \"ticks\": \"\"}}, \"type\": \"scattergl\"}], \"scattermapbox\": [{\"marker\": {\"colorbar\": {\"outlinewidth\": 0, \"ticks\": \"\"}}, \"type\": \"scattermapbox\"}], \"scatterpolar\": [{\"marker\": {\"colorbar\": {\"outlinewidth\": 0, \"ticks\": \"\"}}, \"type\": \"scatterpolar\"}], \"scatterpolargl\": [{\"marker\": {\"colorbar\": {\"outlinewidth\": 0, \"ticks\": \"\"}}, \"type\": \"scatterpolargl\"}], \"scatterternary\": [{\"marker\": {\"colorbar\": {\"outlinewidth\": 0, \"ticks\": \"\"}}, \"type\": \"scatterternary\"}], \"surface\": [{\"colorbar\": {\"outlinewidth\": 0, \"ticks\": \"\"}, \"colorscale\": [[0.0, \"#0d0887\"], [0.1111111111111111, \"#46039f\"], [0.2222222222222222, \"#7201a8\"], [0.3333333333333333, \"#9c179e\"], [0.4444444444444444, \"#bd3786\"], [0.5555555555555556, \"#d8576b\"], [0.6666666666666666, \"#ed7953\"], [0.7777777777777778, \"#fb9f3a\"], [0.8888888888888888, \"#fdca26\"], [1.0, \"#f0f921\"]], \"type\": \"surface\"}], \"table\": [{\"cells\": {\"fill\": {\"color\": \"#EBF0F8\"}, \"line\": {\"color\": \"white\"}}, \"header\": {\"fill\": {\"color\": \"#C8D4E3\"}, \"line\": {\"color\": \"white\"}}, \"type\": \"table\"}]}, \"layout\": {\"annotationdefaults\": {\"arrowcolor\": \"#2a3f5f\", \"arrowhead\": 0, \"arrowwidth\": 1}, \"coloraxis\": {\"colorbar\": {\"outlinewidth\": 0, \"ticks\": \"\"}}, \"colorscale\": {\"diverging\": [[0, \"#8e0152\"], [0.1, \"#c51b7d\"], [0.2, \"#de77ae\"], [0.3, \"#f1b6da\"], [0.4, \"#fde0ef\"], [0.5, \"#f7f7f7\"], [0.6, \"#e6f5d0\"], [0.7, \"#b8e186\"], [0.8, \"#7fbc41\"], [0.9, \"#4d9221\"], [1, \"#276419\"]], \"sequential\": [[0.0, \"#0d0887\"], [0.1111111111111111, \"#46039f\"], [0.2222222222222222, \"#7201a8\"], [0.3333333333333333, \"#9c179e\"], [0.4444444444444444, \"#bd3786\"], [0.5555555555555556, \"#d8576b\"], [0.6666666666666666, \"#ed7953\"], [0.7777777777777778, \"#fb9f3a\"], [0.8888888888888888, \"#fdca26\"], [1.0, \"#f0f921\"]], \"sequentialminus\": [[0.0, \"#0d0887\"], [0.1111111111111111, \"#46039f\"], [0.2222222222222222, \"#7201a8\"], [0.3333333333333333, \"#9c179e\"], [0.4444444444444444, \"#bd3786\"], [0.5555555555555556, \"#d8576b\"], [0.6666666666666666, \"#ed7953\"], [0.7777777777777778, \"#fb9f3a\"], [0.8888888888888888, \"#fdca26\"], [1.0, \"#f0f921\"]]}, \"colorway\": [\"#636efa\", \"#EF553B\", \"#00cc96\", \"#ab63fa\", \"#FFA15A\", \"#19d3f3\", \"#FF6692\", \"#B6E880\", \"#FF97FF\", \"#FECB52\"], \"font\": {\"color\": \"#2a3f5f\"}, \"geo\": {\"bgcolor\": \"white\", \"lakecolor\": \"white\", \"landcolor\": \"white\", \"showlakes\": true, \"showland\": true, \"subunitcolor\": \"#C8D4E3\"}, \"hoverlabel\": {\"align\": \"left\"}, \"hovermode\": \"closest\", \"mapbox\": {\"style\": \"light\"}, \"paper_bgcolor\": \"white\", \"plot_bgcolor\": \"white\", \"polar\": {\"angularaxis\": {\"gridcolor\": \"#EBF0F8\", \"linecolor\": \"#EBF0F8\", \"ticks\": \"\"}, \"bgcolor\": \"white\", \"radialaxis\": {\"gridcolor\": \"#EBF0F8\", \"linecolor\": \"#EBF0F8\", \"ticks\": \"\"}}, \"scene\": {\"xaxis\": {\"backgroundcolor\": \"white\", \"gridcolor\": \"#DFE8F3\", \"gridwidth\": 2, \"linecolor\": \"#EBF0F8\", \"showbackground\": true, \"ticks\": \"\", \"zerolinecolor\": \"#EBF0F8\"}, \"yaxis\": {\"backgroundcolor\": \"white\", \"gridcolor\": \"#DFE8F3\", \"gridwidth\": 2, \"linecolor\": \"#EBF0F8\", \"showbackground\": true, \"ticks\": \"\", \"zerolinecolor\": \"#EBF0F8\"}, \"zaxis\": {\"backgroundcolor\": \"white\", \"gridcolor\": \"#DFE8F3\", \"gridwidth\": 2, \"linecolor\": \"#EBF0F8\", \"showbackground\": true, \"ticks\": \"\", \"zerolinecolor\": \"#EBF0F8\"}}, \"shapedefaults\": {\"line\": {\"color\": \"#2a3f5f\"}}, \"ternary\": {\"aaxis\": {\"gridcolor\": \"#DFE8F3\", \"linecolor\": \"#A2B1C6\", \"ticks\": \"\"}, \"baxis\": {\"gridcolor\": \"#DFE8F3\", \"linecolor\": \"#A2B1C6\", \"ticks\": \"\"}, \"bgcolor\": \"white\", \"caxis\": {\"gridcolor\": \"#DFE8F3\", \"linecolor\": \"#A2B1C6\", \"ticks\": \"\"}}, \"title\": {\"x\": 0.05}, \"xaxis\": {\"automargin\": true, \"gridcolor\": \"#EBF0F8\", \"linecolor\": \"#EBF0F8\", \"ticks\": \"\", \"title\": {\"standoff\": 15}, \"zerolinecolor\": \"#EBF0F8\", \"zerolinewidth\": 2}, \"yaxis\": {\"automargin\": true, \"gridcolor\": \"#EBF0F8\", \"linecolor\": \"#EBF0F8\", \"ticks\": \"\", \"title\": {\"standoff\": 15}, \"zerolinecolor\": \"#EBF0F8\", \"zerolinewidth\": 2}}}, \"title\": {\"text\": \"Gr\\u00e1fico da silhueta\"}, \"xaxis\": {\"anchor\": \"y\", \"domain\": [0.0, 0.45], \"title\": {\"text\": \"O valor do coeficiente da silhueta\"}}, \"xaxis2\": {\"anchor\": \"y2\", \"domain\": [0.55, 1.0], \"title\": {\"text\": \"PCA1\"}}, \"yaxis\": {\"anchor\": \"x\", \"domain\": [0.0, 1.0], \"title\": {\"text\": \"Observa\\u00e7\\u00f5es da silhueta de v\\u00e1rios clusters\"}}, \"yaxis2\": {\"anchor\": \"x2\", \"domain\": [0.0, 1.0], \"title\": {\"text\": \"PCA2\"}}},\n",
              "                        {\"responsive\": true}\n",
              "                    ).then(function(){\n",
              "                            \n",
              "var gd = document.getElementById('42bf613a-19b5-48d7-b38b-8a7fe368486e');\n",
              "var x = new MutationObserver(function (mutations, observer) {{\n",
              "        var display = window.getComputedStyle(gd).display;\n",
              "        if (!display || display === 'none') {{\n",
              "            console.log([gd, 'removed!']);\n",
              "            Plotly.purge(gd);\n",
              "            observer.disconnect();\n",
              "        }}\n",
              "}});\n",
              "\n",
              "// Listen for the removal of the full notebook cells\n",
              "var notebookContainer = gd.closest('#notebook-container');\n",
              "if (notebookContainer) {{\n",
              "    x.observe(notebookContainer, {childList: true});\n",
              "}}\n",
              "\n",
              "// Listen for the clearing of the current output cell\n",
              "var outputEl = gd.closest('.output');\n",
              "if (outputEl) {{\n",
              "    x.observe(outputEl, {childList: true});\n",
              "}}\n",
              "\n",
              "                        })\n",
              "                };\n",
              "                \n",
              "            </script>\n",
              "        </div>\n",
              "</body>\n",
              "</html>"
            ]
          },
          "metadata": {}
        },
        {
          "output_type": "stream",
          "text": [
            "Kmeans para n_grupos = 5 A médias da  silhueta é : 0.3940445395643347\n"
          ],
          "name": "stdout"
        },
        {
          "output_type": "display_data",
          "data": {
            "text/html": [
              "<html>\n",
              "<head><meta charset=\"utf-8\" /></head>\n",
              "<body>\n",
              "    <div>\n",
              "            <script src=\"https://cdnjs.cloudflare.com/ajax/libs/mathjax/2.7.5/MathJax.js?config=TeX-AMS-MML_SVG\"></script><script type=\"text/javascript\">if (window.MathJax) {MathJax.Hub.Config({SVG: {font: \"STIX-Web\"}});}</script>\n",
              "                <script type=\"text/javascript\">window.PlotlyConfig = {MathJaxConfig: 'local'};</script>\n",
              "        <script src=\"https://cdn.plot.ly/plotly-latest.min.js\"></script>    \n",
              "            <div id=\"5b68bc7e-229f-4090-8ea4-9ba9edf7e3a3\" class=\"plotly-graph-div\" style=\"height:525px; width:100%;\"></div>\n",
              "            <script type=\"text/javascript\">\n",
              "                \n",
              "                    window.PLOTLYENV=window.PLOTLYENV || {};\n",
              "                    \n",
              "                if (document.getElementById(\"5b68bc7e-229f-4090-8ea4-9ba9edf7e3a3\")) {\n",
              "                    Plotly.newPlot(\n",
              "                        '5b68bc7e-229f-4090-8ea4-9ba9edf7e3a3',\n",
              "                        [{\"fill\": \"tozerox\", \"line\": {\"color\": \"rgb(31, 119, 180)\"}, \"mode\": \"lines\", \"type\": \"scatter\", \"x\": [0.0], \"xaxis\": \"x\", \"y\": [10], \"yaxis\": \"y\"}, {\"marker\": {\"color\": \"rgb(31, 119, 180)\", \"line\": {\"color\": \"DarkSlateGrey\", \"width\": 1}, \"size\": 18}, \"mode\": \"markers+text\", \"text\": [\"SP\"], \"type\": \"scatter\", \"x\": [9.034639530608295], \"xaxis\": \"x2\", \"y\": [6.744722196204588], \"yaxis\": \"y2\"}, {\"fill\": \"tozerox\", \"line\": {\"color\": \"rgb(255, 127, 14)\"}, \"mode\": \"lines\", \"type\": \"scatter\", \"x\": [0.19903258065411916, 0.22251918853654948, 0.5824228224205802, 0.5973177662512165, 0.6050205461059209, 0.6155608056588749, 0.6355031590646092, 0.6808004428435885, 0.6809998596681466, 0.6892298381176634, 0.70583440898592, 0.7142800225407919, 0.7212237413383034], \"xaxis\": \"x\", \"y\": [16, 17, 18, 19, 20, 21, 22, 23, 24, 25, 26, 27, 28], \"yaxis\": \"y\"}, {\"marker\": {\"color\": \"rgb(255, 127, 14)\", \"line\": {\"color\": \"DarkSlateGrey\", \"width\": 1}, \"size\": 18}, \"mode\": \"markers+text\", \"text\": [\"AC\", \"AL\", \"ES\", \"GO\", \"MS\", \"MT\", \"PA\", \"PB\", \"PI\", \"RO\", \"RR\", \"SE\", \"TO\"], \"type\": \"scatter\", \"x\": [-3.3776897205883727, -2.2139115414765067, -0.45788940796927013, -3.18559774027896, -3.8537506340141676, -3.4702228948777116, -0.29977103695459384, -3.036755995336658, -3.6510805750974042, -2.78875527792322, -2.2306266674976825, -3.4772189157566538, -3.684748716532453], \"xaxis\": \"x2\", \"y\": [-0.19145213587583315, 1.5948322476074273, 0.484331692142943, -0.0734957306006054, -0.1928302233856868, 0.028203375321023842, 1.5027986617666684, 0.7113701272897704, 0.5312045291467371, 1.0059006050206156, -0.1333362428864694, 0.8420282110628527, 1.1291011920632719], \"yaxis\": \"y2\"}, {\"fill\": \"tozerox\", \"line\": {\"color\": \"rgb(44, 160, 44)\"}, \"mode\": \"lines\", \"type\": \"scatter\", \"x\": [0.14511533947759528, 0.2285682033079071, 0.2622502712057486, 0.3019468073074037], \"xaxis\": \"x\", \"y\": [34, 35, 36, 37], \"yaxis\": \"y\"}, {\"marker\": {\"color\": \"rgb(44, 160, 44)\", \"line\": {\"color\": \"DarkSlateGrey\", \"width\": 1}, \"size\": 18}, \"mode\": \"markers+text\", \"text\": [\"AM\", \"MA\", \"PE\", \"RJ\"], \"type\": \"scatter\", \"x\": [5.6519064658378735, 2.9839713206385525, 5.474119452114708, 4.432531400234558], \"xaxis\": \"x2\", \"y\": [-1.6277939886765642, 1.4044724906673753, 3.0115576251339493, 2.3828529591133787], \"yaxis\": \"y2\"}, {\"fill\": \"tozerox\", \"line\": {\"color\": \"rgb(214, 39, 40)\"}, \"mode\": \"lines\", \"type\": \"scatter\", \"x\": [0.08984998150469294, 0.16037493793943491, 0.17350788996132388, 0.2697068773669955, 0.2790412022681598, 0.342034591645693, 0.3514546870246836, 0.3856065970411159], \"xaxis\": \"x\", \"y\": [43, 44, 45, 46, 47, 48, 49, 50], \"yaxis\": \"y\"}, {\"marker\": {\"color\": \"rgb(214, 39, 40)\", \"line\": {\"color\": \"DarkSlateGrey\", \"width\": 1}, \"size\": 18}, \"mode\": \"markers+text\", \"text\": [\"AP\", \"BA\", \"DF\", \"MG\", \"PR\", \"RN\", \"RS\", \"SC\"], \"type\": \"scatter\", \"x\": [-0.30800753073535875, 0.561306327659138, -0.8940518431660681, 0.05617797106697593, 1.3068710129256094, -1.5392683570368009, -0.9865442733231092, -0.7179547680471532], \"xaxis\": \"x2\", \"y\": [-0.2894574665092658, -1.013463188487865, -2.2885611031282567, -1.9141807238500737, -2.870167364448674, -1.4426276940461353, -1.2420872547692658, -1.6352024237096143], \"yaxis\": \"y2\"}, {\"fill\": \"tozerox\", \"line\": {\"color\": \"rgb(148, 103, 189)\"}, \"mode\": \"lines\", \"type\": \"scatter\", \"x\": [0.0], \"xaxis\": \"x\", \"y\": [56], \"yaxis\": \"y\"}, {\"marker\": {\"color\": \"rgb(148, 103, 189)\", \"line\": {\"color\": \"DarkSlateGrey\", \"width\": 1}, \"size\": 18}, \"mode\": \"markers+text\", \"text\": [\"CE\"], \"type\": \"scatter\", \"x\": [10.672322415526432], \"xaxis\": \"x2\", \"y\": [-6.458720372166291], \"yaxis\": \"y2\"}],\n",
              "                        {\"shapes\": [{\"line\": {\"color\": \"Red\", \"dash\": \"dashdot\", \"width\": 2}, \"type\": \"line\", \"x0\": 0.3940445395643347, \"x1\": 0.3940445395643347, \"xref\": \"x\", \"y0\": 0, \"y1\": 1, \"yref\": \"paper\"}], \"showlegend\": false, \"template\": {\"data\": {\"bar\": [{\"error_x\": {\"color\": \"#2a3f5f\"}, \"error_y\": {\"color\": \"#2a3f5f\"}, \"marker\": {\"line\": {\"color\": \"white\", \"width\": 0.5}}, \"type\": \"bar\"}], \"barpolar\": [{\"marker\": {\"line\": {\"color\": \"white\", \"width\": 0.5}}, \"type\": \"barpolar\"}], \"carpet\": [{\"aaxis\": {\"endlinecolor\": \"#2a3f5f\", \"gridcolor\": \"#C8D4E3\", \"linecolor\": \"#C8D4E3\", \"minorgridcolor\": \"#C8D4E3\", \"startlinecolor\": \"#2a3f5f\"}, \"baxis\": {\"endlinecolor\": \"#2a3f5f\", \"gridcolor\": \"#C8D4E3\", \"linecolor\": \"#C8D4E3\", \"minorgridcolor\": \"#C8D4E3\", \"startlinecolor\": \"#2a3f5f\"}, \"type\": \"carpet\"}], \"choropleth\": [{\"colorbar\": {\"outlinewidth\": 0, \"ticks\": \"\"}, \"type\": \"choropleth\"}], \"contour\": [{\"colorbar\": {\"outlinewidth\": 0, \"ticks\": \"\"}, \"colorscale\": [[0.0, \"#0d0887\"], [0.1111111111111111, \"#46039f\"], [0.2222222222222222, \"#7201a8\"], [0.3333333333333333, \"#9c179e\"], [0.4444444444444444, \"#bd3786\"], [0.5555555555555556, \"#d8576b\"], [0.6666666666666666, \"#ed7953\"], [0.7777777777777778, \"#fb9f3a\"], [0.8888888888888888, \"#fdca26\"], [1.0, \"#f0f921\"]], \"type\": \"contour\"}], \"contourcarpet\": [{\"colorbar\": {\"outlinewidth\": 0, \"ticks\": \"\"}, \"type\": \"contourcarpet\"}], \"heatmap\": [{\"colorbar\": {\"outlinewidth\": 0, \"ticks\": \"\"}, \"colorscale\": [[0.0, \"#0d0887\"], [0.1111111111111111, \"#46039f\"], [0.2222222222222222, \"#7201a8\"], [0.3333333333333333, \"#9c179e\"], [0.4444444444444444, \"#bd3786\"], [0.5555555555555556, \"#d8576b\"], [0.6666666666666666, \"#ed7953\"], [0.7777777777777778, \"#fb9f3a\"], [0.8888888888888888, \"#fdca26\"], [1.0, \"#f0f921\"]], \"type\": \"heatmap\"}], \"heatmapgl\": [{\"colorbar\": {\"outlinewidth\": 0, \"ticks\": \"\"}, \"colorscale\": [[0.0, \"#0d0887\"], [0.1111111111111111, \"#46039f\"], [0.2222222222222222, \"#7201a8\"], [0.3333333333333333, \"#9c179e\"], [0.4444444444444444, \"#bd3786\"], [0.5555555555555556, \"#d8576b\"], [0.6666666666666666, \"#ed7953\"], [0.7777777777777778, \"#fb9f3a\"], [0.8888888888888888, \"#fdca26\"], [1.0, \"#f0f921\"]], \"type\": \"heatmapgl\"}], \"histogram\": [{\"marker\": {\"colorbar\": {\"outlinewidth\": 0, \"ticks\": \"\"}}, \"type\": \"histogram\"}], \"histogram2d\": [{\"colorbar\": {\"outlinewidth\": 0, \"ticks\": \"\"}, \"colorscale\": [[0.0, \"#0d0887\"], [0.1111111111111111, \"#46039f\"], [0.2222222222222222, \"#7201a8\"], [0.3333333333333333, \"#9c179e\"], [0.4444444444444444, \"#bd3786\"], [0.5555555555555556, \"#d8576b\"], [0.6666666666666666, \"#ed7953\"], [0.7777777777777778, \"#fb9f3a\"], [0.8888888888888888, \"#fdca26\"], [1.0, \"#f0f921\"]], \"type\": \"histogram2d\"}], \"histogram2dcontour\": [{\"colorbar\": {\"outlinewidth\": 0, \"ticks\": \"\"}, \"colorscale\": [[0.0, \"#0d0887\"], [0.1111111111111111, \"#46039f\"], [0.2222222222222222, \"#7201a8\"], [0.3333333333333333, \"#9c179e\"], [0.4444444444444444, \"#bd3786\"], [0.5555555555555556, \"#d8576b\"], [0.6666666666666666, \"#ed7953\"], [0.7777777777777778, \"#fb9f3a\"], [0.8888888888888888, \"#fdca26\"], [1.0, \"#f0f921\"]], \"type\": \"histogram2dcontour\"}], \"mesh3d\": [{\"colorbar\": {\"outlinewidth\": 0, \"ticks\": \"\"}, \"type\": \"mesh3d\"}], \"parcoords\": [{\"line\": {\"colorbar\": {\"outlinewidth\": 0, \"ticks\": \"\"}}, \"type\": \"parcoords\"}], \"pie\": [{\"automargin\": true, \"type\": \"pie\"}], \"scatter\": [{\"marker\": {\"colorbar\": {\"outlinewidth\": 0, \"ticks\": \"\"}}, \"type\": \"scatter\"}], \"scatter3d\": [{\"line\": {\"colorbar\": {\"outlinewidth\": 0, \"ticks\": \"\"}}, \"marker\": {\"colorbar\": {\"outlinewidth\": 0, \"ticks\": \"\"}}, \"type\": \"scatter3d\"}], \"scattercarpet\": [{\"marker\": {\"colorbar\": {\"outlinewidth\": 0, \"ticks\": \"\"}}, \"type\": \"scattercarpet\"}], \"scattergeo\": [{\"marker\": {\"colorbar\": {\"outlinewidth\": 0, \"ticks\": \"\"}}, \"type\": \"scattergeo\"}], \"scattergl\": [{\"marker\": {\"colorbar\": {\"outlinewidth\": 0, \"ticks\": \"\"}}, \"type\": \"scattergl\"}], \"scattermapbox\": [{\"marker\": {\"colorbar\": {\"outlinewidth\": 0, \"ticks\": \"\"}}, \"type\": \"scattermapbox\"}], \"scatterpolar\": [{\"marker\": {\"colorbar\": {\"outlinewidth\": 0, \"ticks\": \"\"}}, \"type\": \"scatterpolar\"}], \"scatterpolargl\": [{\"marker\": {\"colorbar\": {\"outlinewidth\": 0, \"ticks\": \"\"}}, \"type\": \"scatterpolargl\"}], \"scatterternary\": [{\"marker\": {\"colorbar\": {\"outlinewidth\": 0, \"ticks\": \"\"}}, \"type\": \"scatterternary\"}], \"surface\": [{\"colorbar\": {\"outlinewidth\": 0, \"ticks\": \"\"}, \"colorscale\": [[0.0, \"#0d0887\"], [0.1111111111111111, \"#46039f\"], [0.2222222222222222, \"#7201a8\"], [0.3333333333333333, \"#9c179e\"], [0.4444444444444444, \"#bd3786\"], [0.5555555555555556, \"#d8576b\"], [0.6666666666666666, \"#ed7953\"], [0.7777777777777778, \"#fb9f3a\"], [0.8888888888888888, \"#fdca26\"], [1.0, \"#f0f921\"]], \"type\": \"surface\"}], \"table\": [{\"cells\": {\"fill\": {\"color\": \"#EBF0F8\"}, \"line\": {\"color\": \"white\"}}, \"header\": {\"fill\": {\"color\": \"#C8D4E3\"}, \"line\": {\"color\": \"white\"}}, \"type\": \"table\"}]}, \"layout\": {\"annotationdefaults\": {\"arrowcolor\": \"#2a3f5f\", \"arrowhead\": 0, \"arrowwidth\": 1}, \"coloraxis\": {\"colorbar\": {\"outlinewidth\": 0, \"ticks\": \"\"}}, \"colorscale\": {\"diverging\": [[0, \"#8e0152\"], [0.1, \"#c51b7d\"], [0.2, \"#de77ae\"], [0.3, \"#f1b6da\"], [0.4, \"#fde0ef\"], [0.5, \"#f7f7f7\"], [0.6, \"#e6f5d0\"], [0.7, \"#b8e186\"], [0.8, \"#7fbc41\"], [0.9, \"#4d9221\"], [1, \"#276419\"]], \"sequential\": [[0.0, \"#0d0887\"], [0.1111111111111111, \"#46039f\"], [0.2222222222222222, \"#7201a8\"], [0.3333333333333333, \"#9c179e\"], [0.4444444444444444, \"#bd3786\"], [0.5555555555555556, \"#d8576b\"], [0.6666666666666666, \"#ed7953\"], [0.7777777777777778, \"#fb9f3a\"], [0.8888888888888888, \"#fdca26\"], [1.0, \"#f0f921\"]], \"sequentialminus\": [[0.0, \"#0d0887\"], [0.1111111111111111, \"#46039f\"], [0.2222222222222222, \"#7201a8\"], [0.3333333333333333, \"#9c179e\"], [0.4444444444444444, \"#bd3786\"], [0.5555555555555556, \"#d8576b\"], [0.6666666666666666, \"#ed7953\"], [0.7777777777777778, \"#fb9f3a\"], [0.8888888888888888, \"#fdca26\"], [1.0, \"#f0f921\"]]}, \"colorway\": [\"#636efa\", \"#EF553B\", \"#00cc96\", \"#ab63fa\", \"#FFA15A\", \"#19d3f3\", \"#FF6692\", \"#B6E880\", \"#FF97FF\", \"#FECB52\"], \"font\": {\"color\": \"#2a3f5f\"}, \"geo\": {\"bgcolor\": \"white\", \"lakecolor\": \"white\", \"landcolor\": \"white\", \"showlakes\": true, \"showland\": true, \"subunitcolor\": \"#C8D4E3\"}, \"hoverlabel\": {\"align\": \"left\"}, \"hovermode\": \"closest\", \"mapbox\": {\"style\": \"light\"}, \"paper_bgcolor\": \"white\", \"plot_bgcolor\": \"white\", \"polar\": {\"angularaxis\": {\"gridcolor\": \"#EBF0F8\", \"linecolor\": \"#EBF0F8\", \"ticks\": \"\"}, \"bgcolor\": \"white\", \"radialaxis\": {\"gridcolor\": \"#EBF0F8\", \"linecolor\": \"#EBF0F8\", \"ticks\": \"\"}}, \"scene\": {\"xaxis\": {\"backgroundcolor\": \"white\", \"gridcolor\": \"#DFE8F3\", \"gridwidth\": 2, \"linecolor\": \"#EBF0F8\", \"showbackground\": true, \"ticks\": \"\", \"zerolinecolor\": \"#EBF0F8\"}, \"yaxis\": {\"backgroundcolor\": \"white\", \"gridcolor\": \"#DFE8F3\", \"gridwidth\": 2, \"linecolor\": \"#EBF0F8\", \"showbackground\": true, \"ticks\": \"\", \"zerolinecolor\": \"#EBF0F8\"}, \"zaxis\": {\"backgroundcolor\": \"white\", \"gridcolor\": \"#DFE8F3\", \"gridwidth\": 2, \"linecolor\": \"#EBF0F8\", \"showbackground\": true, \"ticks\": \"\", \"zerolinecolor\": \"#EBF0F8\"}}, \"shapedefaults\": {\"line\": {\"color\": \"#2a3f5f\"}}, \"ternary\": {\"aaxis\": {\"gridcolor\": \"#DFE8F3\", \"linecolor\": \"#A2B1C6\", \"ticks\": \"\"}, \"baxis\": {\"gridcolor\": \"#DFE8F3\", \"linecolor\": \"#A2B1C6\", \"ticks\": \"\"}, \"bgcolor\": \"white\", \"caxis\": {\"gridcolor\": \"#DFE8F3\", \"linecolor\": \"#A2B1C6\", \"ticks\": \"\"}}, \"title\": {\"x\": 0.05}, \"xaxis\": {\"automargin\": true, \"gridcolor\": \"#EBF0F8\", \"linecolor\": \"#EBF0F8\", \"ticks\": \"\", \"title\": {\"standoff\": 15}, \"zerolinecolor\": \"#EBF0F8\", \"zerolinewidth\": 2}, \"yaxis\": {\"automargin\": true, \"gridcolor\": \"#EBF0F8\", \"linecolor\": \"#EBF0F8\", \"ticks\": \"\", \"title\": {\"standoff\": 15}, \"zerolinecolor\": \"#EBF0F8\", \"zerolinewidth\": 2}}}, \"title\": {\"text\": \"Gr\\u00e1fico da silhueta\"}, \"xaxis\": {\"anchor\": \"y\", \"domain\": [0.0, 0.45], \"title\": {\"text\": \"O valor do coeficiente da silhueta\"}}, \"xaxis2\": {\"anchor\": \"y2\", \"domain\": [0.55, 1.0], \"title\": {\"text\": \"PCA1\"}}, \"yaxis\": {\"anchor\": \"x\", \"domain\": [0.0, 1.0], \"title\": {\"text\": \"Observa\\u00e7\\u00f5es da silhueta de v\\u00e1rios clusters\"}}, \"yaxis2\": {\"anchor\": \"x2\", \"domain\": [0.0, 1.0], \"title\": {\"text\": \"PCA2\"}}},\n",
              "                        {\"responsive\": true}\n",
              "                    ).then(function(){\n",
              "                            \n",
              "var gd = document.getElementById('5b68bc7e-229f-4090-8ea4-9ba9edf7e3a3');\n",
              "var x = new MutationObserver(function (mutations, observer) {{\n",
              "        var display = window.getComputedStyle(gd).display;\n",
              "        if (!display || display === 'none') {{\n",
              "            console.log([gd, 'removed!']);\n",
              "            Plotly.purge(gd);\n",
              "            observer.disconnect();\n",
              "        }}\n",
              "}});\n",
              "\n",
              "// Listen for the removal of the full notebook cells\n",
              "var notebookContainer = gd.closest('#notebook-container');\n",
              "if (notebookContainer) {{\n",
              "    x.observe(notebookContainer, {childList: true});\n",
              "}}\n",
              "\n",
              "// Listen for the clearing of the current output cell\n",
              "var outputEl = gd.closest('.output');\n",
              "if (outputEl) {{\n",
              "    x.observe(outputEl, {childList: true});\n",
              "}}\n",
              "\n",
              "                        })\n",
              "                };\n",
              "                \n",
              "            </script>\n",
              "        </div>\n",
              "</body>\n",
              "</html>"
            ]
          },
          "metadata": {}
        },
        {
          "output_type": "stream",
          "text": [
            "Kmeans para n_grupos = 6 A médias da  silhueta é : 0.3996132229699136\n"
          ],
          "name": "stdout"
        },
        {
          "output_type": "display_data",
          "data": {
            "text/html": [
              "<html>\n",
              "<head><meta charset=\"utf-8\" /></head>\n",
              "<body>\n",
              "    <div>\n",
              "            <script src=\"https://cdnjs.cloudflare.com/ajax/libs/mathjax/2.7.5/MathJax.js?config=TeX-AMS-MML_SVG\"></script><script type=\"text/javascript\">if (window.MathJax) {MathJax.Hub.Config({SVG: {font: \"STIX-Web\"}});}</script>\n",
              "                <script type=\"text/javascript\">window.PlotlyConfig = {MathJaxConfig: 'local'};</script>\n",
              "        <script src=\"https://cdn.plot.ly/plotly-latest.min.js\"></script>    \n",
              "            <div id=\"aa06975f-f064-460f-bf7a-557de29edc86\" class=\"plotly-graph-div\" style=\"height:525px; width:100%;\"></div>\n",
              "            <script type=\"text/javascript\">\n",
              "                \n",
              "                    window.PLOTLYENV=window.PLOTLYENV || {};\n",
              "                    \n",
              "                if (document.getElementById(\"aa06975f-f064-460f-bf7a-557de29edc86\")) {\n",
              "                    Plotly.newPlot(\n",
              "                        'aa06975f-f064-460f-bf7a-557de29edc86',\n",
              "                        [{\"fill\": \"tozerox\", \"line\": {\"color\": \"rgb(31, 119, 180)\"}, \"mode\": \"lines\", \"type\": \"scatter\", \"x\": [0.08984998150469294, 0.16037493793943491, 0.17350788996132388, 0.2697068773669955, 0.2790412022681598, 0.342034591645693, 0.3514546870246836, 0.3856065970411159], \"xaxis\": \"x\", \"y\": [10, 11, 12, 13, 14, 15, 16, 17], \"yaxis\": \"y\"}, {\"marker\": {\"color\": \"rgb(31, 119, 180)\", \"line\": {\"color\": \"DarkSlateGrey\", \"width\": 1}, \"size\": 18}, \"mode\": \"markers+text\", \"text\": [\"AP\", \"BA\", \"DF\", \"MG\", \"PR\", \"RN\", \"RS\", \"SC\"], \"type\": \"scatter\", \"x\": [-0.30800753073535875, 0.561306327659138, -0.8940518431660681, 0.05617797106697593, 1.3068710129256094, -1.5392683570368009, -0.9865442733231092, -0.7179547680471532], \"xaxis\": \"x2\", \"y\": [-0.2894574665092658, -1.013463188487865, -2.2885611031282567, -1.9141807238500737, -2.870167364448674, -1.4426276940461353, -1.2420872547692658, -1.6352024237096143], \"yaxis\": \"y2\"}, {\"fill\": \"tozerox\", \"line\": {\"color\": \"rgb(255, 127, 14)\"}, \"mode\": \"lines\", \"type\": \"scatter\", \"x\": [0.0], \"xaxis\": \"x\", \"y\": [23], \"yaxis\": \"y\"}, {\"marker\": {\"color\": \"rgb(255, 127, 14)\", \"line\": {\"color\": \"DarkSlateGrey\", \"width\": 1}, \"size\": 18}, \"mode\": \"markers+text\", \"text\": [\"PE\"], \"type\": \"scatter\", \"x\": [5.474119452114708], \"xaxis\": \"x2\", \"y\": [3.0115576251339493], \"yaxis\": \"y2\"}, {\"fill\": \"tozerox\", \"line\": {\"color\": \"rgb(44, 160, 44)\"}, \"mode\": \"lines\", \"type\": \"scatter\", \"x\": [0.19903258065411916, 0.22251918853654948, 0.5824228224205802, 0.5973177662512165, 0.6050205461059209, 0.6155608056588749, 0.6355031590646092, 0.6808004428435885, 0.6809998596681466, 0.6892298381176634, 0.70583440898592, 0.7142800225407919, 0.7212237413383034], \"xaxis\": \"x\", \"y\": [29, 30, 31, 32, 33, 34, 35, 36, 37, 38, 39, 40, 41], \"yaxis\": \"y\"}, {\"marker\": {\"color\": \"rgb(44, 160, 44)\", \"line\": {\"color\": \"DarkSlateGrey\", \"width\": 1}, \"size\": 18}, \"mode\": \"markers+text\", \"text\": [\"AC\", \"AL\", \"ES\", \"GO\", \"MS\", \"MT\", \"PA\", \"PB\", \"PI\", \"RO\", \"RR\", \"SE\", \"TO\"], \"type\": \"scatter\", \"x\": [-3.3776897205883727, -2.2139115414765067, -0.45788940796927013, -3.18559774027896, -3.8537506340141676, -3.4702228948777116, -0.29977103695459384, -3.036755995336658, -3.6510805750974042, -2.78875527792322, -2.2306266674976825, -3.4772189157566538, -3.684748716532453], \"xaxis\": \"x2\", \"y\": [-0.19145213587583315, 1.5948322476074273, 0.484331692142943, -0.0734957306006054, -0.1928302233856868, 0.028203375321023842, 1.5027986617666684, 0.7113701272897704, 0.5312045291467371, 1.0059006050206156, -0.1333362428864694, 0.8420282110628527, 1.1291011920632719], \"yaxis\": \"y2\"}, {\"fill\": \"tozerox\", \"line\": {\"color\": \"rgb(214, 39, 40)\"}, \"mode\": \"lines\", \"type\": \"scatter\", \"x\": [0.0], \"xaxis\": \"x\", \"y\": [47], \"yaxis\": \"y\"}, {\"marker\": {\"color\": \"rgb(214, 39, 40)\", \"line\": {\"color\": \"DarkSlateGrey\", \"width\": 1}, \"size\": 18}, \"mode\": \"markers+text\", \"text\": [\"CE\"], \"type\": \"scatter\", \"x\": [10.672322415526432], \"xaxis\": \"x2\", \"y\": [-6.458720372166291], \"yaxis\": \"y2\"}, {\"fill\": \"tozerox\", \"line\": {\"color\": \"rgb(148, 103, 189)\"}, \"mode\": \"lines\", \"type\": \"scatter\", \"x\": [0.0], \"xaxis\": \"x\", \"y\": [53], \"yaxis\": \"y\"}, {\"marker\": {\"color\": \"rgb(148, 103, 189)\", \"line\": {\"color\": \"DarkSlateGrey\", \"width\": 1}, \"size\": 18}, \"mode\": \"markers+text\", \"text\": [\"SP\"], \"type\": \"scatter\", \"x\": [9.034639530608295], \"xaxis\": \"x2\", \"y\": [6.744722196204588], \"yaxis\": \"y2\"}, {\"fill\": \"tozerox\", \"line\": {\"color\": \"rgb(140, 86, 75)\"}, \"mode\": \"lines\", \"type\": \"scatter\", \"x\": [0.27396794105826244, 0.3726494306810032, 0.441617701510018], \"xaxis\": \"x\", \"y\": [59, 60, 61], \"yaxis\": \"y\"}, {\"marker\": {\"color\": \"rgb(140, 86, 75)\", \"line\": {\"color\": \"DarkSlateGrey\", \"width\": 1}, \"size\": 18}, \"mode\": \"markers+text\", \"text\": [\"AM\", \"MA\", \"RJ\"], \"type\": \"scatter\", \"x\": [5.6519064658378735, 2.9839713206385525, 4.432531400234558], \"xaxis\": \"x2\", \"y\": [-1.6277939886765642, 1.4044724906673753, 2.3828529591133787], \"yaxis\": \"y2\"}],\n",
              "                        {\"shapes\": [{\"line\": {\"color\": \"Red\", \"dash\": \"dashdot\", \"width\": 2}, \"type\": \"line\", \"x0\": 0.3996132229699136, \"x1\": 0.3996132229699136, \"xref\": \"x\", \"y0\": 0, \"y1\": 1, \"yref\": \"paper\"}], \"showlegend\": false, \"template\": {\"data\": {\"bar\": [{\"error_x\": {\"color\": \"#2a3f5f\"}, \"error_y\": {\"color\": \"#2a3f5f\"}, \"marker\": {\"line\": {\"color\": \"white\", \"width\": 0.5}}, \"type\": \"bar\"}], \"barpolar\": [{\"marker\": {\"line\": {\"color\": \"white\", \"width\": 0.5}}, \"type\": \"barpolar\"}], \"carpet\": [{\"aaxis\": {\"endlinecolor\": \"#2a3f5f\", \"gridcolor\": \"#C8D4E3\", \"linecolor\": \"#C8D4E3\", \"minorgridcolor\": \"#C8D4E3\", \"startlinecolor\": \"#2a3f5f\"}, \"baxis\": {\"endlinecolor\": \"#2a3f5f\", \"gridcolor\": \"#C8D4E3\", \"linecolor\": \"#C8D4E3\", \"minorgridcolor\": \"#C8D4E3\", \"startlinecolor\": \"#2a3f5f\"}, \"type\": \"carpet\"}], \"choropleth\": [{\"colorbar\": {\"outlinewidth\": 0, \"ticks\": \"\"}, \"type\": \"choropleth\"}], \"contour\": [{\"colorbar\": {\"outlinewidth\": 0, \"ticks\": \"\"}, \"colorscale\": [[0.0, \"#0d0887\"], [0.1111111111111111, \"#46039f\"], [0.2222222222222222, \"#7201a8\"], [0.3333333333333333, \"#9c179e\"], [0.4444444444444444, \"#bd3786\"], [0.5555555555555556, \"#d8576b\"], [0.6666666666666666, \"#ed7953\"], [0.7777777777777778, \"#fb9f3a\"], [0.8888888888888888, \"#fdca26\"], [1.0, \"#f0f921\"]], \"type\": \"contour\"}], \"contourcarpet\": [{\"colorbar\": {\"outlinewidth\": 0, \"ticks\": \"\"}, \"type\": \"contourcarpet\"}], \"heatmap\": [{\"colorbar\": {\"outlinewidth\": 0, \"ticks\": \"\"}, \"colorscale\": [[0.0, \"#0d0887\"], [0.1111111111111111, \"#46039f\"], [0.2222222222222222, \"#7201a8\"], [0.3333333333333333, \"#9c179e\"], [0.4444444444444444, \"#bd3786\"], [0.5555555555555556, \"#d8576b\"], [0.6666666666666666, \"#ed7953\"], [0.7777777777777778, \"#fb9f3a\"], [0.8888888888888888, \"#fdca26\"], [1.0, \"#f0f921\"]], \"type\": \"heatmap\"}], \"heatmapgl\": [{\"colorbar\": {\"outlinewidth\": 0, \"ticks\": \"\"}, \"colorscale\": [[0.0, \"#0d0887\"], [0.1111111111111111, \"#46039f\"], [0.2222222222222222, \"#7201a8\"], [0.3333333333333333, \"#9c179e\"], [0.4444444444444444, \"#bd3786\"], [0.5555555555555556, \"#d8576b\"], [0.6666666666666666, \"#ed7953\"], [0.7777777777777778, \"#fb9f3a\"], [0.8888888888888888, \"#fdca26\"], [1.0, \"#f0f921\"]], \"type\": \"heatmapgl\"}], \"histogram\": [{\"marker\": {\"colorbar\": {\"outlinewidth\": 0, \"ticks\": \"\"}}, \"type\": \"histogram\"}], \"histogram2d\": [{\"colorbar\": {\"outlinewidth\": 0, \"ticks\": \"\"}, \"colorscale\": [[0.0, \"#0d0887\"], [0.1111111111111111, \"#46039f\"], [0.2222222222222222, \"#7201a8\"], [0.3333333333333333, \"#9c179e\"], [0.4444444444444444, \"#bd3786\"], [0.5555555555555556, \"#d8576b\"], [0.6666666666666666, \"#ed7953\"], [0.7777777777777778, \"#fb9f3a\"], [0.8888888888888888, \"#fdca26\"], [1.0, \"#f0f921\"]], \"type\": \"histogram2d\"}], \"histogram2dcontour\": [{\"colorbar\": {\"outlinewidth\": 0, \"ticks\": \"\"}, \"colorscale\": [[0.0, \"#0d0887\"], [0.1111111111111111, \"#46039f\"], [0.2222222222222222, \"#7201a8\"], [0.3333333333333333, \"#9c179e\"], [0.4444444444444444, \"#bd3786\"], [0.5555555555555556, \"#d8576b\"], [0.6666666666666666, \"#ed7953\"], [0.7777777777777778, \"#fb9f3a\"], [0.8888888888888888, \"#fdca26\"], [1.0, \"#f0f921\"]], \"type\": \"histogram2dcontour\"}], \"mesh3d\": [{\"colorbar\": {\"outlinewidth\": 0, \"ticks\": \"\"}, \"type\": \"mesh3d\"}], \"parcoords\": [{\"line\": {\"colorbar\": {\"outlinewidth\": 0, \"ticks\": \"\"}}, \"type\": \"parcoords\"}], \"pie\": [{\"automargin\": true, \"type\": \"pie\"}], \"scatter\": [{\"marker\": {\"colorbar\": {\"outlinewidth\": 0, \"ticks\": \"\"}}, \"type\": \"scatter\"}], \"scatter3d\": [{\"line\": {\"colorbar\": {\"outlinewidth\": 0, \"ticks\": \"\"}}, \"marker\": {\"colorbar\": {\"outlinewidth\": 0, \"ticks\": \"\"}}, \"type\": \"scatter3d\"}], \"scattercarpet\": [{\"marker\": {\"colorbar\": {\"outlinewidth\": 0, \"ticks\": \"\"}}, \"type\": \"scattercarpet\"}], \"scattergeo\": [{\"marker\": {\"colorbar\": {\"outlinewidth\": 0, \"ticks\": \"\"}}, \"type\": \"scattergeo\"}], \"scattergl\": [{\"marker\": {\"colorbar\": {\"outlinewidth\": 0, \"ticks\": \"\"}}, \"type\": \"scattergl\"}], \"scattermapbox\": [{\"marker\": {\"colorbar\": {\"outlinewidth\": 0, \"ticks\": \"\"}}, \"type\": \"scattermapbox\"}], \"scatterpolar\": [{\"marker\": {\"colorbar\": {\"outlinewidth\": 0, \"ticks\": \"\"}}, \"type\": \"scatterpolar\"}], \"scatterpolargl\": [{\"marker\": {\"colorbar\": {\"outlinewidth\": 0, \"ticks\": \"\"}}, \"type\": \"scatterpolargl\"}], \"scatterternary\": [{\"marker\": {\"colorbar\": {\"outlinewidth\": 0, \"ticks\": \"\"}}, \"type\": \"scatterternary\"}], \"surface\": [{\"colorbar\": {\"outlinewidth\": 0, \"ticks\": \"\"}, \"colorscale\": [[0.0, \"#0d0887\"], [0.1111111111111111, \"#46039f\"], [0.2222222222222222, \"#7201a8\"], [0.3333333333333333, \"#9c179e\"], [0.4444444444444444, \"#bd3786\"], [0.5555555555555556, \"#d8576b\"], [0.6666666666666666, \"#ed7953\"], [0.7777777777777778, \"#fb9f3a\"], [0.8888888888888888, \"#fdca26\"], [1.0, \"#f0f921\"]], \"type\": \"surface\"}], \"table\": [{\"cells\": {\"fill\": {\"color\": \"#EBF0F8\"}, \"line\": {\"color\": \"white\"}}, \"header\": {\"fill\": {\"color\": \"#C8D4E3\"}, \"line\": {\"color\": \"white\"}}, \"type\": \"table\"}]}, \"layout\": {\"annotationdefaults\": {\"arrowcolor\": \"#2a3f5f\", \"arrowhead\": 0, \"arrowwidth\": 1}, \"coloraxis\": {\"colorbar\": {\"outlinewidth\": 0, \"ticks\": \"\"}}, \"colorscale\": {\"diverging\": [[0, \"#8e0152\"], [0.1, \"#c51b7d\"], [0.2, \"#de77ae\"], [0.3, \"#f1b6da\"], [0.4, \"#fde0ef\"], [0.5, \"#f7f7f7\"], [0.6, \"#e6f5d0\"], [0.7, \"#b8e186\"], [0.8, \"#7fbc41\"], [0.9, \"#4d9221\"], [1, \"#276419\"]], \"sequential\": [[0.0, \"#0d0887\"], [0.1111111111111111, \"#46039f\"], [0.2222222222222222, \"#7201a8\"], [0.3333333333333333, \"#9c179e\"], [0.4444444444444444, \"#bd3786\"], [0.5555555555555556, \"#d8576b\"], [0.6666666666666666, \"#ed7953\"], [0.7777777777777778, \"#fb9f3a\"], [0.8888888888888888, \"#fdca26\"], [1.0, \"#f0f921\"]], \"sequentialminus\": [[0.0, \"#0d0887\"], [0.1111111111111111, \"#46039f\"], [0.2222222222222222, \"#7201a8\"], [0.3333333333333333, \"#9c179e\"], [0.4444444444444444, \"#bd3786\"], [0.5555555555555556, \"#d8576b\"], [0.6666666666666666, \"#ed7953\"], [0.7777777777777778, \"#fb9f3a\"], [0.8888888888888888, \"#fdca26\"], [1.0, \"#f0f921\"]]}, \"colorway\": [\"#636efa\", \"#EF553B\", \"#00cc96\", \"#ab63fa\", \"#FFA15A\", \"#19d3f3\", \"#FF6692\", \"#B6E880\", \"#FF97FF\", \"#FECB52\"], \"font\": {\"color\": \"#2a3f5f\"}, \"geo\": {\"bgcolor\": \"white\", \"lakecolor\": \"white\", \"landcolor\": \"white\", \"showlakes\": true, \"showland\": true, \"subunitcolor\": \"#C8D4E3\"}, \"hoverlabel\": {\"align\": \"left\"}, \"hovermode\": \"closest\", \"mapbox\": {\"style\": \"light\"}, \"paper_bgcolor\": \"white\", \"plot_bgcolor\": \"white\", \"polar\": {\"angularaxis\": {\"gridcolor\": \"#EBF0F8\", \"linecolor\": \"#EBF0F8\", \"ticks\": \"\"}, \"bgcolor\": \"white\", \"radialaxis\": {\"gridcolor\": \"#EBF0F8\", \"linecolor\": \"#EBF0F8\", \"ticks\": \"\"}}, \"scene\": {\"xaxis\": {\"backgroundcolor\": \"white\", \"gridcolor\": \"#DFE8F3\", \"gridwidth\": 2, \"linecolor\": \"#EBF0F8\", \"showbackground\": true, \"ticks\": \"\", \"zerolinecolor\": \"#EBF0F8\"}, \"yaxis\": {\"backgroundcolor\": \"white\", \"gridcolor\": \"#DFE8F3\", \"gridwidth\": 2, \"linecolor\": \"#EBF0F8\", \"showbackground\": true, \"ticks\": \"\", \"zerolinecolor\": \"#EBF0F8\"}, \"zaxis\": {\"backgroundcolor\": \"white\", \"gridcolor\": \"#DFE8F3\", \"gridwidth\": 2, \"linecolor\": \"#EBF0F8\", \"showbackground\": true, \"ticks\": \"\", \"zerolinecolor\": \"#EBF0F8\"}}, \"shapedefaults\": {\"line\": {\"color\": \"#2a3f5f\"}}, \"ternary\": {\"aaxis\": {\"gridcolor\": \"#DFE8F3\", \"linecolor\": \"#A2B1C6\", \"ticks\": \"\"}, \"baxis\": {\"gridcolor\": \"#DFE8F3\", \"linecolor\": \"#A2B1C6\", \"ticks\": \"\"}, \"bgcolor\": \"white\", \"caxis\": {\"gridcolor\": \"#DFE8F3\", \"linecolor\": \"#A2B1C6\", \"ticks\": \"\"}}, \"title\": {\"x\": 0.05}, \"xaxis\": {\"automargin\": true, \"gridcolor\": \"#EBF0F8\", \"linecolor\": \"#EBF0F8\", \"ticks\": \"\", \"title\": {\"standoff\": 15}, \"zerolinecolor\": \"#EBF0F8\", \"zerolinewidth\": 2}, \"yaxis\": {\"automargin\": true, \"gridcolor\": \"#EBF0F8\", \"linecolor\": \"#EBF0F8\", \"ticks\": \"\", \"title\": {\"standoff\": 15}, \"zerolinecolor\": \"#EBF0F8\", \"zerolinewidth\": 2}}}, \"title\": {\"text\": \"Gr\\u00e1fico da silhueta\"}, \"xaxis\": {\"anchor\": \"y\", \"domain\": [0.0, 0.45], \"title\": {\"text\": \"O valor do coeficiente da silhueta\"}}, \"xaxis2\": {\"anchor\": \"y2\", \"domain\": [0.55, 1.0], \"title\": {\"text\": \"PCA1\"}}, \"yaxis\": {\"anchor\": \"x\", \"domain\": [0.0, 1.0], \"title\": {\"text\": \"Observa\\u00e7\\u00f5es da silhueta de v\\u00e1rios clusters\"}}, \"yaxis2\": {\"anchor\": \"x2\", \"domain\": [0.0, 1.0], \"title\": {\"text\": \"PCA2\"}}},\n",
              "                        {\"responsive\": true}\n",
              "                    ).then(function(){\n",
              "                            \n",
              "var gd = document.getElementById('aa06975f-f064-460f-bf7a-557de29edc86');\n",
              "var x = new MutationObserver(function (mutations, observer) {{\n",
              "        var display = window.getComputedStyle(gd).display;\n",
              "        if (!display || display === 'none') {{\n",
              "            console.log([gd, 'removed!']);\n",
              "            Plotly.purge(gd);\n",
              "            observer.disconnect();\n",
              "        }}\n",
              "}});\n",
              "\n",
              "// Listen for the removal of the full notebook cells\n",
              "var notebookContainer = gd.closest('#notebook-container');\n",
              "if (notebookContainer) {{\n",
              "    x.observe(notebookContainer, {childList: true});\n",
              "}}\n",
              "\n",
              "// Listen for the clearing of the current output cell\n",
              "var outputEl = gd.closest('.output');\n",
              "if (outputEl) {{\n",
              "    x.observe(outputEl, {childList: true});\n",
              "}}\n",
              "\n",
              "                        })\n",
              "                };\n",
              "                \n",
              "            </script>\n",
              "        </div>\n",
              "</body>\n",
              "</html>"
            ]
          },
          "metadata": {}
        },
        {
          "output_type": "stream",
          "text": [
            "Kmeans para n_grupos = 7 A médias da  silhueta é : 0.37900166343069125\n"
          ],
          "name": "stdout"
        },
        {
          "output_type": "display_data",
          "data": {
            "text/html": [
              "<html>\n",
              "<head><meta charset=\"utf-8\" /></head>\n",
              "<body>\n",
              "    <div>\n",
              "            <script src=\"https://cdnjs.cloudflare.com/ajax/libs/mathjax/2.7.5/MathJax.js?config=TeX-AMS-MML_SVG\"></script><script type=\"text/javascript\">if (window.MathJax) {MathJax.Hub.Config({SVG: {font: \"STIX-Web\"}});}</script>\n",
              "                <script type=\"text/javascript\">window.PlotlyConfig = {MathJaxConfig: 'local'};</script>\n",
              "        <script src=\"https://cdn.plot.ly/plotly-latest.min.js\"></script>    \n",
              "            <div id=\"c3971f0c-4016-4b52-b3b4-6147e4eb46e4\" class=\"plotly-graph-div\" style=\"height:525px; width:100%;\"></div>\n",
              "            <script type=\"text/javascript\">\n",
              "                \n",
              "                    window.PLOTLYENV=window.PLOTLYENV || {};\n",
              "                    \n",
              "                if (document.getElementById(\"c3971f0c-4016-4b52-b3b4-6147e4eb46e4\")) {\n",
              "                    Plotly.newPlot(\n",
              "                        'c3971f0c-4016-4b52-b3b4-6147e4eb46e4',\n",
              "                        [{\"fill\": \"tozerox\", \"line\": {\"color\": \"rgb(31, 119, 180)\"}, \"mode\": \"lines\", \"type\": \"scatter\", \"x\": [0.30749854442690877, 0.32991229274012396, 0.3344202843423111, 0.4018851141057959, 0.4302176135716903], \"xaxis\": \"x\", \"y\": [10, 11, 12, 13, 14], \"yaxis\": \"y\"}, {\"marker\": {\"color\": \"rgb(31, 119, 180)\", \"line\": {\"color\": \"DarkSlateGrey\", \"width\": 1}, \"size\": 18}, \"mode\": \"markers+text\", \"text\": [\"AP\", \"BA\", \"RN\", \"RS\", \"SC\"], \"type\": \"scatter\", \"x\": [-0.30800753073535875, 0.561306327659138, -1.5392683570368009, -0.9865442733231092, -0.7179547680471532], \"xaxis\": \"x2\", \"y\": [-0.2894574665092658, -1.013463188487865, -1.4426276940461353, -1.2420872547692658, -1.6352024237096143], \"yaxis\": \"y2\"}, {\"fill\": \"tozerox\", \"line\": {\"color\": \"rgb(255, 127, 14)\"}, \"mode\": \"lines\", \"type\": \"scatter\", \"x\": [0.0], \"xaxis\": \"x\", \"y\": [20], \"yaxis\": \"y\"}, {\"marker\": {\"color\": \"rgb(255, 127, 14)\", \"line\": {\"color\": \"DarkSlateGrey\", \"width\": 1}, \"size\": 18}, \"mode\": \"markers+text\", \"text\": [\"PE\"], \"type\": \"scatter\", \"x\": [5.474119452114708], \"xaxis\": \"x2\", \"y\": [3.0115576251339493], \"yaxis\": \"y2\"}, {\"fill\": \"tozerox\", \"line\": {\"color\": \"rgb(44, 160, 44)\"}, \"mode\": \"lines\", \"type\": \"scatter\", \"x\": [0.06370246429718213, 0.19573652618605955, 0.5462256115187011, 0.5592426296398068, 0.5641112449093997, 0.6092736988621233, 0.6210324569574046, 0.6417449967344802, 0.6571925431262011, 0.65976875093943, 0.6755532843376018, 0.69122709477348, 0.6962139732643584], \"xaxis\": \"x\", \"y\": [26, 27, 28, 29, 30, 31, 32, 33, 34, 35, 36, 37, 38], \"yaxis\": \"y\"}, {\"marker\": {\"color\": \"rgb(44, 160, 44)\", \"line\": {\"color\": \"DarkSlateGrey\", \"width\": 1}, \"size\": 18}, \"mode\": \"markers+text\", \"text\": [\"AC\", \"AL\", \"ES\", \"GO\", \"MS\", \"MT\", \"PA\", \"PB\", \"PI\", \"RO\", \"RR\", \"SE\", \"TO\"], \"type\": \"scatter\", \"x\": [-3.3776897205883727, -2.2139115414765067, -0.45788940796927013, -3.18559774027896, -3.8537506340141676, -3.4702228948777116, -0.29977103695459384, -3.036755995336658, -3.6510805750974042, -2.78875527792322, -2.2306266674976825, -3.4772189157566538, -3.684748716532453], \"xaxis\": \"x2\", \"y\": [-0.19145213587583315, 1.5948322476074273, 0.484331692142943, -0.0734957306006054, -0.1928302233856868, 0.028203375321023842, 1.5027986617666684, 0.7113701272897704, 0.5312045291467371, 1.0059006050206156, -0.1333362428864694, 0.8420282110628527, 1.1291011920632719], \"yaxis\": \"y2\"}, {\"fill\": \"tozerox\", \"line\": {\"color\": \"rgb(214, 39, 40)\"}, \"mode\": \"lines\", \"type\": \"scatter\", \"x\": [0.0], \"xaxis\": \"x\", \"y\": [44], \"yaxis\": \"y\"}, {\"marker\": {\"color\": \"rgb(214, 39, 40)\", \"line\": {\"color\": \"DarkSlateGrey\", \"width\": 1}, \"size\": 18}, \"mode\": \"markers+text\", \"text\": [\"CE\"], \"type\": \"scatter\", \"x\": [10.672322415526432], \"xaxis\": \"x2\", \"y\": [-6.458720372166291], \"yaxis\": \"y2\"}, {\"fill\": \"tozerox\", \"line\": {\"color\": \"rgb(148, 103, 189)\"}, \"mode\": \"lines\", \"type\": \"scatter\", \"x\": [0.0], \"xaxis\": \"x\", \"y\": [50], \"yaxis\": \"y\"}, {\"marker\": {\"color\": \"rgb(148, 103, 189)\", \"line\": {\"color\": \"DarkSlateGrey\", \"width\": 1}, \"size\": 18}, \"mode\": \"markers+text\", \"text\": [\"SP\"], \"type\": \"scatter\", \"x\": [9.034639530608295], \"xaxis\": \"x2\", \"y\": [6.744722196204588], \"yaxis\": \"y2\"}, {\"fill\": \"tozerox\", \"line\": {\"color\": \"rgb(140, 86, 75)\"}, \"mode\": \"lines\", \"type\": \"scatter\", \"x\": [0.26145314288368465, 0.30156177880512497, 0.38411107494758556], \"xaxis\": \"x\", \"y\": [56, 57, 58], \"yaxis\": \"y\"}, {\"marker\": {\"color\": \"rgb(140, 86, 75)\", \"line\": {\"color\": \"DarkSlateGrey\", \"width\": 1}, \"size\": 18}, \"mode\": \"markers+text\", \"text\": [\"AM\", \"MA\", \"RJ\"], \"type\": \"scatter\", \"x\": [5.6519064658378735, 2.9839713206385525, 4.432531400234558], \"xaxis\": \"x2\", \"y\": [-1.6277939886765642, 1.4044724906673753, 2.3828529591133787], \"yaxis\": \"y2\"}, {\"fill\": \"tozerox\", \"line\": {\"color\": \"rgb(227, 119, 194)\"}, \"mode\": \"lines\", \"type\": \"scatter\", \"x\": [-0.18773865067886242, 0.19751364762337326, 0.29118479431469935], \"xaxis\": \"x\", \"y\": [64, 65, 66], \"yaxis\": \"y\"}, {\"marker\": {\"color\": \"rgb(227, 119, 194)\", \"line\": {\"color\": \"DarkSlateGrey\", \"width\": 1}, \"size\": 18}, \"mode\": \"markers+text\", \"text\": [\"DF\", \"MG\", \"PR\"], \"type\": \"scatter\", \"x\": [-0.8940518431660681, 0.05617797106697593, 1.3068710129256094], \"xaxis\": \"x2\", \"y\": [-2.2885611031282567, -1.9141807238500737, -2.870167364448674], \"yaxis\": \"y2\"}],\n",
              "                        {\"shapes\": [{\"line\": {\"color\": \"Red\", \"dash\": \"dashdot\", \"width\": 2}, \"type\": \"line\", \"x0\": 0.37900166343069125, \"x1\": 0.37900166343069125, \"xref\": \"x\", \"y0\": 0, \"y1\": 1, \"yref\": \"paper\"}], \"showlegend\": false, \"template\": {\"data\": {\"bar\": [{\"error_x\": {\"color\": \"#2a3f5f\"}, \"error_y\": {\"color\": \"#2a3f5f\"}, \"marker\": {\"line\": {\"color\": \"white\", \"width\": 0.5}}, \"type\": \"bar\"}], \"barpolar\": [{\"marker\": {\"line\": {\"color\": \"white\", \"width\": 0.5}}, \"type\": \"barpolar\"}], \"carpet\": [{\"aaxis\": {\"endlinecolor\": \"#2a3f5f\", \"gridcolor\": \"#C8D4E3\", \"linecolor\": \"#C8D4E3\", \"minorgridcolor\": \"#C8D4E3\", \"startlinecolor\": \"#2a3f5f\"}, \"baxis\": {\"endlinecolor\": \"#2a3f5f\", \"gridcolor\": \"#C8D4E3\", \"linecolor\": \"#C8D4E3\", \"minorgridcolor\": \"#C8D4E3\", \"startlinecolor\": \"#2a3f5f\"}, \"type\": \"carpet\"}], \"choropleth\": [{\"colorbar\": {\"outlinewidth\": 0, \"ticks\": \"\"}, \"type\": \"choropleth\"}], \"contour\": [{\"colorbar\": {\"outlinewidth\": 0, \"ticks\": \"\"}, \"colorscale\": [[0.0, \"#0d0887\"], [0.1111111111111111, \"#46039f\"], [0.2222222222222222, \"#7201a8\"], [0.3333333333333333, \"#9c179e\"], [0.4444444444444444, \"#bd3786\"], [0.5555555555555556, \"#d8576b\"], [0.6666666666666666, \"#ed7953\"], [0.7777777777777778, \"#fb9f3a\"], [0.8888888888888888, \"#fdca26\"], [1.0, \"#f0f921\"]], \"type\": \"contour\"}], \"contourcarpet\": [{\"colorbar\": {\"outlinewidth\": 0, \"ticks\": \"\"}, \"type\": \"contourcarpet\"}], \"heatmap\": [{\"colorbar\": {\"outlinewidth\": 0, \"ticks\": \"\"}, \"colorscale\": [[0.0, \"#0d0887\"], [0.1111111111111111, \"#46039f\"], [0.2222222222222222, \"#7201a8\"], [0.3333333333333333, \"#9c179e\"], [0.4444444444444444, \"#bd3786\"], [0.5555555555555556, \"#d8576b\"], [0.6666666666666666, \"#ed7953\"], [0.7777777777777778, \"#fb9f3a\"], [0.8888888888888888, \"#fdca26\"], [1.0, \"#f0f921\"]], \"type\": \"heatmap\"}], \"heatmapgl\": [{\"colorbar\": {\"outlinewidth\": 0, \"ticks\": \"\"}, \"colorscale\": [[0.0, \"#0d0887\"], [0.1111111111111111, \"#46039f\"], [0.2222222222222222, \"#7201a8\"], [0.3333333333333333, \"#9c179e\"], [0.4444444444444444, \"#bd3786\"], [0.5555555555555556, \"#d8576b\"], [0.6666666666666666, \"#ed7953\"], [0.7777777777777778, \"#fb9f3a\"], [0.8888888888888888, \"#fdca26\"], [1.0, \"#f0f921\"]], \"type\": \"heatmapgl\"}], \"histogram\": [{\"marker\": {\"colorbar\": {\"outlinewidth\": 0, \"ticks\": \"\"}}, \"type\": \"histogram\"}], \"histogram2d\": [{\"colorbar\": {\"outlinewidth\": 0, \"ticks\": \"\"}, \"colorscale\": [[0.0, \"#0d0887\"], [0.1111111111111111, \"#46039f\"], [0.2222222222222222, \"#7201a8\"], [0.3333333333333333, \"#9c179e\"], [0.4444444444444444, \"#bd3786\"], [0.5555555555555556, \"#d8576b\"], [0.6666666666666666, \"#ed7953\"], [0.7777777777777778, \"#fb9f3a\"], [0.8888888888888888, \"#fdca26\"], [1.0, \"#f0f921\"]], \"type\": \"histogram2d\"}], \"histogram2dcontour\": [{\"colorbar\": {\"outlinewidth\": 0, \"ticks\": \"\"}, \"colorscale\": [[0.0, \"#0d0887\"], [0.1111111111111111, \"#46039f\"], [0.2222222222222222, \"#7201a8\"], [0.3333333333333333, \"#9c179e\"], [0.4444444444444444, \"#bd3786\"], [0.5555555555555556, \"#d8576b\"], [0.6666666666666666, \"#ed7953\"], [0.7777777777777778, \"#fb9f3a\"], [0.8888888888888888, \"#fdca26\"], [1.0, \"#f0f921\"]], \"type\": \"histogram2dcontour\"}], \"mesh3d\": [{\"colorbar\": {\"outlinewidth\": 0, \"ticks\": \"\"}, \"type\": \"mesh3d\"}], \"parcoords\": [{\"line\": {\"colorbar\": {\"outlinewidth\": 0, \"ticks\": \"\"}}, \"type\": \"parcoords\"}], \"pie\": [{\"automargin\": true, \"type\": \"pie\"}], \"scatter\": [{\"marker\": {\"colorbar\": {\"outlinewidth\": 0, \"ticks\": \"\"}}, \"type\": \"scatter\"}], \"scatter3d\": [{\"line\": {\"colorbar\": {\"outlinewidth\": 0, \"ticks\": \"\"}}, \"marker\": {\"colorbar\": {\"outlinewidth\": 0, \"ticks\": \"\"}}, \"type\": \"scatter3d\"}], \"scattercarpet\": [{\"marker\": {\"colorbar\": {\"outlinewidth\": 0, \"ticks\": \"\"}}, \"type\": \"scattercarpet\"}], \"scattergeo\": [{\"marker\": {\"colorbar\": {\"outlinewidth\": 0, \"ticks\": \"\"}}, \"type\": \"scattergeo\"}], \"scattergl\": [{\"marker\": {\"colorbar\": {\"outlinewidth\": 0, \"ticks\": \"\"}}, \"type\": \"scattergl\"}], \"scattermapbox\": [{\"marker\": {\"colorbar\": {\"outlinewidth\": 0, \"ticks\": \"\"}}, \"type\": \"scattermapbox\"}], \"scatterpolar\": [{\"marker\": {\"colorbar\": {\"outlinewidth\": 0, \"ticks\": \"\"}}, \"type\": \"scatterpolar\"}], \"scatterpolargl\": [{\"marker\": {\"colorbar\": {\"outlinewidth\": 0, \"ticks\": \"\"}}, \"type\": \"scatterpolargl\"}], \"scatterternary\": [{\"marker\": {\"colorbar\": {\"outlinewidth\": 0, \"ticks\": \"\"}}, \"type\": \"scatterternary\"}], \"surface\": [{\"colorbar\": {\"outlinewidth\": 0, \"ticks\": \"\"}, \"colorscale\": [[0.0, \"#0d0887\"], [0.1111111111111111, \"#46039f\"], [0.2222222222222222, \"#7201a8\"], [0.3333333333333333, \"#9c179e\"], [0.4444444444444444, \"#bd3786\"], [0.5555555555555556, \"#d8576b\"], [0.6666666666666666, \"#ed7953\"], [0.7777777777777778, \"#fb9f3a\"], [0.8888888888888888, \"#fdca26\"], [1.0, \"#f0f921\"]], \"type\": \"surface\"}], \"table\": [{\"cells\": {\"fill\": {\"color\": \"#EBF0F8\"}, \"line\": {\"color\": \"white\"}}, \"header\": {\"fill\": {\"color\": \"#C8D4E3\"}, \"line\": {\"color\": \"white\"}}, \"type\": \"table\"}]}, \"layout\": {\"annotationdefaults\": {\"arrowcolor\": \"#2a3f5f\", \"arrowhead\": 0, \"arrowwidth\": 1}, \"coloraxis\": {\"colorbar\": {\"outlinewidth\": 0, \"ticks\": \"\"}}, \"colorscale\": {\"diverging\": [[0, \"#8e0152\"], [0.1, \"#c51b7d\"], [0.2, \"#de77ae\"], [0.3, \"#f1b6da\"], [0.4, \"#fde0ef\"], [0.5, \"#f7f7f7\"], [0.6, \"#e6f5d0\"], [0.7, \"#b8e186\"], [0.8, \"#7fbc41\"], [0.9, \"#4d9221\"], [1, \"#276419\"]], \"sequential\": [[0.0, \"#0d0887\"], [0.1111111111111111, \"#46039f\"], [0.2222222222222222, \"#7201a8\"], [0.3333333333333333, \"#9c179e\"], [0.4444444444444444, \"#bd3786\"], [0.5555555555555556, \"#d8576b\"], [0.6666666666666666, \"#ed7953\"], [0.7777777777777778, \"#fb9f3a\"], [0.8888888888888888, \"#fdca26\"], [1.0, \"#f0f921\"]], \"sequentialminus\": [[0.0, \"#0d0887\"], [0.1111111111111111, \"#46039f\"], [0.2222222222222222, \"#7201a8\"], [0.3333333333333333, \"#9c179e\"], [0.4444444444444444, \"#bd3786\"], [0.5555555555555556, \"#d8576b\"], [0.6666666666666666, \"#ed7953\"], [0.7777777777777778, \"#fb9f3a\"], [0.8888888888888888, \"#fdca26\"], [1.0, \"#f0f921\"]]}, \"colorway\": [\"#636efa\", \"#EF553B\", \"#00cc96\", \"#ab63fa\", \"#FFA15A\", \"#19d3f3\", \"#FF6692\", \"#B6E880\", \"#FF97FF\", \"#FECB52\"], \"font\": {\"color\": \"#2a3f5f\"}, \"geo\": {\"bgcolor\": \"white\", \"lakecolor\": \"white\", \"landcolor\": \"white\", \"showlakes\": true, \"showland\": true, \"subunitcolor\": \"#C8D4E3\"}, \"hoverlabel\": {\"align\": \"left\"}, \"hovermode\": \"closest\", \"mapbox\": {\"style\": \"light\"}, \"paper_bgcolor\": \"white\", \"plot_bgcolor\": \"white\", \"polar\": {\"angularaxis\": {\"gridcolor\": \"#EBF0F8\", \"linecolor\": \"#EBF0F8\", \"ticks\": \"\"}, \"bgcolor\": \"white\", \"radialaxis\": {\"gridcolor\": \"#EBF0F8\", \"linecolor\": \"#EBF0F8\", \"ticks\": \"\"}}, \"scene\": {\"xaxis\": {\"backgroundcolor\": \"white\", \"gridcolor\": \"#DFE8F3\", \"gridwidth\": 2, \"linecolor\": \"#EBF0F8\", \"showbackground\": true, \"ticks\": \"\", \"zerolinecolor\": \"#EBF0F8\"}, \"yaxis\": {\"backgroundcolor\": \"white\", \"gridcolor\": \"#DFE8F3\", \"gridwidth\": 2, \"linecolor\": \"#EBF0F8\", \"showbackground\": true, \"ticks\": \"\", \"zerolinecolor\": \"#EBF0F8\"}, \"zaxis\": {\"backgroundcolor\": \"white\", \"gridcolor\": \"#DFE8F3\", \"gridwidth\": 2, \"linecolor\": \"#EBF0F8\", \"showbackground\": true, \"ticks\": \"\", \"zerolinecolor\": \"#EBF0F8\"}}, \"shapedefaults\": {\"line\": {\"color\": \"#2a3f5f\"}}, \"ternary\": {\"aaxis\": {\"gridcolor\": \"#DFE8F3\", \"linecolor\": \"#A2B1C6\", \"ticks\": \"\"}, \"baxis\": {\"gridcolor\": \"#DFE8F3\", \"linecolor\": \"#A2B1C6\", \"ticks\": \"\"}, \"bgcolor\": \"white\", \"caxis\": {\"gridcolor\": \"#DFE8F3\", \"linecolor\": \"#A2B1C6\", \"ticks\": \"\"}}, \"title\": {\"x\": 0.05}, \"xaxis\": {\"automargin\": true, \"gridcolor\": \"#EBF0F8\", \"linecolor\": \"#EBF0F8\", \"ticks\": \"\", \"title\": {\"standoff\": 15}, \"zerolinecolor\": \"#EBF0F8\", \"zerolinewidth\": 2}, \"yaxis\": {\"automargin\": true, \"gridcolor\": \"#EBF0F8\", \"linecolor\": \"#EBF0F8\", \"ticks\": \"\", \"title\": {\"standoff\": 15}, \"zerolinecolor\": \"#EBF0F8\", \"zerolinewidth\": 2}}}, \"title\": {\"text\": \"Gr\\u00e1fico da silhueta\"}, \"xaxis\": {\"anchor\": \"y\", \"domain\": [0.0, 0.45], \"title\": {\"text\": \"O valor do coeficiente da silhueta\"}}, \"xaxis2\": {\"anchor\": \"y2\", \"domain\": [0.55, 1.0], \"title\": {\"text\": \"PCA1\"}}, \"yaxis\": {\"anchor\": \"x\", \"domain\": [0.0, 1.0], \"title\": {\"text\": \"Observa\\u00e7\\u00f5es da silhueta de v\\u00e1rios clusters\"}}, \"yaxis2\": {\"anchor\": \"x2\", \"domain\": [0.0, 1.0], \"title\": {\"text\": \"PCA2\"}}},\n",
              "                        {\"responsive\": true}\n",
              "                    ).then(function(){\n",
              "                            \n",
              "var gd = document.getElementById('c3971f0c-4016-4b52-b3b4-6147e4eb46e4');\n",
              "var x = new MutationObserver(function (mutations, observer) {{\n",
              "        var display = window.getComputedStyle(gd).display;\n",
              "        if (!display || display === 'none') {{\n",
              "            console.log([gd, 'removed!']);\n",
              "            Plotly.purge(gd);\n",
              "            observer.disconnect();\n",
              "        }}\n",
              "}});\n",
              "\n",
              "// Listen for the removal of the full notebook cells\n",
              "var notebookContainer = gd.closest('#notebook-container');\n",
              "if (notebookContainer) {{\n",
              "    x.observe(notebookContainer, {childList: true});\n",
              "}}\n",
              "\n",
              "// Listen for the clearing of the current output cell\n",
              "var outputEl = gd.closest('.output');\n",
              "if (outputEl) {{\n",
              "    x.observe(outputEl, {childList: true});\n",
              "}}\n",
              "\n",
              "                        })\n",
              "                };\n",
              "                \n",
              "            </script>\n",
              "        </div>\n",
              "</body>\n",
              "</html>"
            ]
          },
          "metadata": {}
        }
      ]
    },
    {
      "cell_type": "markdown",
      "metadata": {
        "id": "CNfCIhx7dQZq"
      },
      "source": [
        "### HC"
      ]
    },
    {
      "cell_type": "markdown",
      "metadata": {
        "id": "GpklMcuqdQZq"
      },
      "source": [
        "Também realizamos o gráfico da silhueta de 2 até 7 grupos no método HC.Podemos perceber que o melhor resultado encontrado para o algoritmo HC foi utilizando 3 grupos, pois foi o maior valor do coeficiente de silhueta e não existe nenhuma observação com valor do coeficiente  negativo nesse caso. Comparado ao Kmeans, o HC apresentou um melhor resultado na média do coeficiente de silhueta, portanto conseguiu agrupar melhor as observações do mesmo grupo e com a melhor separação entre grupos."
      ]
    },
    {
      "cell_type": "code",
      "metadata": {
        "id": "LMffBFXsdQZs",
        "colab": {
          "base_uri": "https://localhost:8080/",
          "height": 1000
        },
        "outputId": "f340cc47-12dd-4430-ea21-37f5aa674825"
      },
      "source": [
        "from sklearn import metrics\n",
        "from sklearn.metrics import pairwise_distances\n",
        "from plotly.subplots import make_subplots\n",
        "import plotly\n",
        "range_n_clusters = [2,3,4,5,6,7]\n",
        "\n",
        "colors = plotly.colors.DEFAULT_PLOTLY_COLORS\n",
        "import matplotlib.cm as cm\n",
        "for n_clusters in range_n_clusters:\n",
        "    # Criando um subplot com 1 linha e 2 colunas\n",
        "    fig = make_subplots(rows=1, cols=2)        \n",
        "    \n",
        "    fig.update_xaxes(tickvals=[-0.1, 0, 0.5, 1],range=[-0.1,1],\n",
        "    selector=dict(type=\"scatter\", mode=\"lines\"))\n",
        "    fig.update_yaxes(range=[0, len(X) + (n_clusters + 1) * 10],\n",
        "    selector=dict(type=\"scatter\", mode=\"lines\"))\n",
        "    fig.update_layout(showlegend=False)\n",
        "    \n",
        "    clusterer = AgglomerativeClustering(n_clusters = n_clusters, affinity = 'euclidean', linkage = 'ward')\n",
        "    cluster_labels = clusterer.fit_predict(X)\n",
        "    \n",
        "    # Calculando o valor da silhueta\n",
        "    silhouette_avg = metrics.silhouette_score(X, cluster_labels)\n",
        "    print(\"O agrupmento para n_grupos =\", n_clusters,\"A médias da  silhueta é :\", silhouette_avg)\n",
        "    fig.update_layout(shapes=[                  \n",
        "        dict(\n",
        "            type= 'line',\n",
        "            yref= 'paper', y0= 0, y1= 1,\n",
        "            xref= 'x', x0= silhouette_avg, x1= silhouette_avg,\n",
        "            line=dict(\n",
        "                color=\"Red\",\n",
        "                width=2,\n",
        "                dash=\"dashdot\",\n",
        "            )\n",
        "        )])  \n",
        "    # Compute the silhouette scores for each sample\n",
        "    sample_silhouette_values = metrics.silhouette_samples(X, cluster_labels)\n",
        "    \n",
        "    fig.update_layout( xaxis_title=\"O valor do coeficiente da silhueta\",\n",
        "                  yaxis_title=\"Observações da silhueta de vários clusters\",\n",
        "                 title=\"Gráfico da silhueta\",\n",
        "                 template = 'plotly_white')\n",
        "    fig.update_xaxes(title_text=\"PCA1\", row=1, col=2)\n",
        "    fig.update_yaxes(title_text=\"PCA2\", row=1, col=2)\n",
        "    y_lower = 10\n",
        "  \n",
        "    for i in range(n_clusters):\n",
        "        # Aggregate the silhouette scores for samples belonging to\n",
        "        # cluster i, and sort them\n",
        "        ith_cluster_silhouette_values = sample_silhouette_values[cluster_labels == i]\n",
        "\n",
        "        ith_cluster_silhouette_values.sort()\n",
        "\n",
        "        size_cluster_i = ith_cluster_silhouette_values.shape[0]\n",
        "        y_upper = y_lower + size_cluster_i\n",
        "        \n",
        "        fig.add_trace(go.Scatter(x=ith_cluster_silhouette_values,y=np.arange(y_lower, y_upper)\n",
        "                                 , fill='tozerox', mode = 'lines',\n",
        "                                 line=dict(\n",
        "                                      color=colors[i]\n",
        "                                 )), row=1, col=1)         \n",
        "        y_lower = y_upper + 5  # 10 for the 0 samples\n",
        "        \n",
        "        resultado = pd.DataFrame(np.vstack((np.array(ts_all_limited.index.values),np.array(cluster_labels)))).T\n",
        "        resultado.columns = ['estado','grupo']\n",
        "        resultado[\"PCA1\"] = X[:,0]\n",
        "        resultado[\"PCA2\"] = X[:,1]               \n",
        "        resultado = resultado[resultado[\"grupo\"]==i]\n",
        "\n",
        "        fig2 = go.Scatter(x = resultado[\"PCA1\"].values, y= resultado[\"PCA2\"].values,\n",
        "                          mode=\"markers+text\",\n",
        "                          text = resultado[\"estado\"].values,\n",
        "                          marker=dict(\n",
        "                                size=18,\n",
        "                                color=colors[i],\n",
        "                                line=dict(\n",
        "                                    color='DarkSlateGrey',\n",
        "                                    width=1\n",
        "                                )\n",
        "                            ))\n",
        "        fig.add_trace( fig2, row=1, col=2)\n",
        "    fig.show()\n",
        "    "
      ],
      "execution_count": null,
      "outputs": [
        {
          "output_type": "stream",
          "text": [
            "O agrupmento para n_grupos = 2 A médias da  silhueta é : 0.5012421227508266\n"
          ],
          "name": "stdout"
        },
        {
          "output_type": "display_data",
          "data": {
            "text/html": [
              "<html>\n",
              "<head><meta charset=\"utf-8\" /></head>\n",
              "<body>\n",
              "    <div>\n",
              "            <script src=\"https://cdnjs.cloudflare.com/ajax/libs/mathjax/2.7.5/MathJax.js?config=TeX-AMS-MML_SVG\"></script><script type=\"text/javascript\">if (window.MathJax) {MathJax.Hub.Config({SVG: {font: \"STIX-Web\"}});}</script>\n",
              "                <script type=\"text/javascript\">window.PlotlyConfig = {MathJaxConfig: 'local'};</script>\n",
              "        <script src=\"https://cdn.plot.ly/plotly-latest.min.js\"></script>    \n",
              "            <div id=\"39183fa9-5df0-4bb2-82e1-72526a3d62a3\" class=\"plotly-graph-div\" style=\"height:525px; width:100%;\"></div>\n",
              "            <script type=\"text/javascript\">\n",
              "                \n",
              "                    window.PLOTLYENV=window.PLOTLYENV || {};\n",
              "                    \n",
              "                if (document.getElementById(\"39183fa9-5df0-4bb2-82e1-72526a3d62a3\")) {\n",
              "                    Plotly.newPlot(\n",
              "                        '39183fa9-5df0-4bb2-82e1-72526a3d62a3',\n",
              "                        [{\"fill\": \"tozerox\", \"line\": {\"color\": \"rgb(31, 119, 180)\"}, \"mode\": \"lines\", \"type\": \"scatter\", \"x\": [-0.12021698085520748, 0.06597894434101838, 0.10741663841596558, 0.11867974275546213, 0.16901011095562304, 0.19934761241730525], \"xaxis\": \"x\", \"y\": [10, 11, 12, 13, 14, 15], \"yaxis\": \"y\"}, {\"marker\": {\"color\": \"rgb(31, 119, 180)\", \"line\": {\"color\": \"DarkSlateGrey\", \"width\": 1}, \"size\": 18}, \"mode\": \"markers+text\", \"text\": [\"AM\", \"CE\", \"MA\", \"PE\", \"RJ\", \"SP\"], \"type\": \"scatter\", \"x\": [5.6519064658378735, 10.672322415526432, 2.9839713206385525, 5.474119452114708, 4.432531400234558, 9.034639530608295], \"xaxis\": \"x2\", \"y\": [-1.6277939886765642, -6.458720372166291, 1.4044724906673753, 3.0115576251339493, 2.3828529591133787, 6.744722196204588], \"yaxis\": \"y2\"}, {\"fill\": \"tozerox\", \"line\": {\"color\": \"rgb(255, 127, 14)\"}, \"mode\": \"lines\", \"type\": \"scatter\", \"x\": [0.34719495299842357, 0.46853737361294373, 0.4892875995626787, 0.5037181328329107, 0.5108618261304283, 0.5357912931823502, 0.5359287321775311, 0.5803335737991006, 0.5898167075991225, 0.6032694241195506, 0.6570389977402955, 0.7011181236531829, 0.7075001308819643, 0.7083237460465608, 0.7097344039664261, 0.7143181625852418, 0.7224008026924362, 0.7233078985907375, 0.7245978073408366, 0.729949470881455, 0.7302920858479744], \"xaxis\": \"x\", \"y\": [21, 22, 23, 24, 25, 26, 27, 28, 29, 30, 31, 32, 33, 34, 35, 36, 37, 38, 39, 40, 41], \"yaxis\": \"y\"}, {\"marker\": {\"color\": \"rgb(255, 127, 14)\", \"line\": {\"color\": \"DarkSlateGrey\", \"width\": 1}, \"size\": 18}, \"mode\": \"markers+text\", \"text\": [\"AC\", \"AL\", \"AP\", \"BA\", \"DF\", \"ES\", \"GO\", \"MG\", \"MS\", \"MT\", \"PA\", \"PB\", \"PI\", \"PR\", \"RN\", \"RO\", \"RR\", \"RS\", \"SC\", \"SE\", \"TO\"], \"type\": \"scatter\", \"x\": [-3.3776897205883727, -2.2139115414765067, -0.30800753073535875, 0.561306327659138, -0.8940518431660681, -0.45788940796927013, -3.18559774027896, 0.05617797106697593, -3.8537506340141676, -3.4702228948777116, -0.29977103695459384, -3.036755995336658, -3.6510805750974042, 1.3068710129256094, -1.5392683570368009, -2.78875527792322, -2.2306266674976825, -0.9865442733231092, -0.7179547680471532, -3.4772189157566538, -3.684748716532453], \"xaxis\": \"x2\", \"y\": [-0.19145213587583315, 1.5948322476074273, -0.2894574665092658, -1.013463188487865, -2.2885611031282567, 0.484331692142943, -0.0734957306006054, -1.9141807238500737, -0.1928302233856868, 0.028203375321023842, 1.5027986617666684, 0.7113701272897704, 0.5312045291467371, -2.870167364448674, -1.4426276940461353, 1.0059006050206156, -0.1333362428864694, -1.2420872547692658, -1.6352024237096143, 0.8420282110628527, 1.1291011920632719], \"yaxis\": \"y2\"}],\n",
              "                        {\"shapes\": [{\"line\": {\"color\": \"Red\", \"dash\": \"dashdot\", \"width\": 2}, \"type\": \"line\", \"x0\": 0.5012421227508266, \"x1\": 0.5012421227508266, \"xref\": \"x\", \"y0\": 0, \"y1\": 1, \"yref\": \"paper\"}], \"showlegend\": false, \"template\": {\"data\": {\"bar\": [{\"error_x\": {\"color\": \"#2a3f5f\"}, \"error_y\": {\"color\": \"#2a3f5f\"}, \"marker\": {\"line\": {\"color\": \"white\", \"width\": 0.5}}, \"type\": \"bar\"}], \"barpolar\": [{\"marker\": {\"line\": {\"color\": \"white\", \"width\": 0.5}}, \"type\": \"barpolar\"}], \"carpet\": [{\"aaxis\": {\"endlinecolor\": \"#2a3f5f\", \"gridcolor\": \"#C8D4E3\", \"linecolor\": \"#C8D4E3\", \"minorgridcolor\": \"#C8D4E3\", \"startlinecolor\": \"#2a3f5f\"}, \"baxis\": {\"endlinecolor\": \"#2a3f5f\", \"gridcolor\": \"#C8D4E3\", \"linecolor\": \"#C8D4E3\", \"minorgridcolor\": \"#C8D4E3\", \"startlinecolor\": \"#2a3f5f\"}, \"type\": \"carpet\"}], \"choropleth\": [{\"colorbar\": {\"outlinewidth\": 0, \"ticks\": \"\"}, \"type\": \"choropleth\"}], \"contour\": [{\"colorbar\": {\"outlinewidth\": 0, \"ticks\": \"\"}, \"colorscale\": [[0.0, \"#0d0887\"], [0.1111111111111111, \"#46039f\"], [0.2222222222222222, \"#7201a8\"], [0.3333333333333333, \"#9c179e\"], [0.4444444444444444, \"#bd3786\"], [0.5555555555555556, \"#d8576b\"], [0.6666666666666666, \"#ed7953\"], [0.7777777777777778, \"#fb9f3a\"], [0.8888888888888888, \"#fdca26\"], [1.0, \"#f0f921\"]], \"type\": \"contour\"}], \"contourcarpet\": [{\"colorbar\": {\"outlinewidth\": 0, \"ticks\": \"\"}, \"type\": \"contourcarpet\"}], \"heatmap\": [{\"colorbar\": {\"outlinewidth\": 0, \"ticks\": \"\"}, \"colorscale\": [[0.0, \"#0d0887\"], [0.1111111111111111, \"#46039f\"], [0.2222222222222222, \"#7201a8\"], [0.3333333333333333, \"#9c179e\"], [0.4444444444444444, \"#bd3786\"], [0.5555555555555556, \"#d8576b\"], [0.6666666666666666, \"#ed7953\"], [0.7777777777777778, \"#fb9f3a\"], [0.8888888888888888, \"#fdca26\"], [1.0, \"#f0f921\"]], \"type\": \"heatmap\"}], \"heatmapgl\": [{\"colorbar\": {\"outlinewidth\": 0, \"ticks\": \"\"}, \"colorscale\": [[0.0, \"#0d0887\"], [0.1111111111111111, \"#46039f\"], [0.2222222222222222, \"#7201a8\"], [0.3333333333333333, \"#9c179e\"], [0.4444444444444444, \"#bd3786\"], [0.5555555555555556, \"#d8576b\"], [0.6666666666666666, \"#ed7953\"], [0.7777777777777778, \"#fb9f3a\"], [0.8888888888888888, \"#fdca26\"], [1.0, \"#f0f921\"]], \"type\": \"heatmapgl\"}], \"histogram\": [{\"marker\": {\"colorbar\": {\"outlinewidth\": 0, \"ticks\": \"\"}}, \"type\": \"histogram\"}], \"histogram2d\": [{\"colorbar\": {\"outlinewidth\": 0, \"ticks\": \"\"}, \"colorscale\": [[0.0, \"#0d0887\"], [0.1111111111111111, \"#46039f\"], [0.2222222222222222, \"#7201a8\"], [0.3333333333333333, \"#9c179e\"], [0.4444444444444444, \"#bd3786\"], [0.5555555555555556, \"#d8576b\"], [0.6666666666666666, \"#ed7953\"], [0.7777777777777778, \"#fb9f3a\"], [0.8888888888888888, \"#fdca26\"], [1.0, \"#f0f921\"]], \"type\": \"histogram2d\"}], \"histogram2dcontour\": [{\"colorbar\": {\"outlinewidth\": 0, \"ticks\": \"\"}, \"colorscale\": [[0.0, \"#0d0887\"], [0.1111111111111111, \"#46039f\"], [0.2222222222222222, \"#7201a8\"], [0.3333333333333333, \"#9c179e\"], [0.4444444444444444, \"#bd3786\"], [0.5555555555555556, \"#d8576b\"], [0.6666666666666666, \"#ed7953\"], [0.7777777777777778, \"#fb9f3a\"], [0.8888888888888888, \"#fdca26\"], [1.0, \"#f0f921\"]], \"type\": \"histogram2dcontour\"}], \"mesh3d\": [{\"colorbar\": {\"outlinewidth\": 0, \"ticks\": \"\"}, \"type\": \"mesh3d\"}], \"parcoords\": [{\"line\": {\"colorbar\": {\"outlinewidth\": 0, \"ticks\": \"\"}}, \"type\": \"parcoords\"}], \"pie\": [{\"automargin\": true, \"type\": \"pie\"}], \"scatter\": [{\"marker\": {\"colorbar\": {\"outlinewidth\": 0, \"ticks\": \"\"}}, \"type\": \"scatter\"}], \"scatter3d\": [{\"line\": {\"colorbar\": {\"outlinewidth\": 0, \"ticks\": \"\"}}, \"marker\": {\"colorbar\": {\"outlinewidth\": 0, \"ticks\": \"\"}}, \"type\": \"scatter3d\"}], \"scattercarpet\": [{\"marker\": {\"colorbar\": {\"outlinewidth\": 0, \"ticks\": \"\"}}, \"type\": \"scattercarpet\"}], \"scattergeo\": [{\"marker\": {\"colorbar\": {\"outlinewidth\": 0, \"ticks\": \"\"}}, \"type\": \"scattergeo\"}], \"scattergl\": [{\"marker\": {\"colorbar\": {\"outlinewidth\": 0, \"ticks\": \"\"}}, \"type\": \"scattergl\"}], \"scattermapbox\": [{\"marker\": {\"colorbar\": {\"outlinewidth\": 0, \"ticks\": \"\"}}, \"type\": \"scattermapbox\"}], \"scatterpolar\": [{\"marker\": {\"colorbar\": {\"outlinewidth\": 0, \"ticks\": \"\"}}, \"type\": \"scatterpolar\"}], \"scatterpolargl\": [{\"marker\": {\"colorbar\": {\"outlinewidth\": 0, \"ticks\": \"\"}}, \"type\": \"scatterpolargl\"}], \"scatterternary\": [{\"marker\": {\"colorbar\": {\"outlinewidth\": 0, \"ticks\": \"\"}}, \"type\": \"scatterternary\"}], \"surface\": [{\"colorbar\": {\"outlinewidth\": 0, \"ticks\": \"\"}, \"colorscale\": [[0.0, \"#0d0887\"], [0.1111111111111111, \"#46039f\"], [0.2222222222222222, \"#7201a8\"], [0.3333333333333333, \"#9c179e\"], [0.4444444444444444, \"#bd3786\"], [0.5555555555555556, \"#d8576b\"], [0.6666666666666666, \"#ed7953\"], [0.7777777777777778, \"#fb9f3a\"], [0.8888888888888888, \"#fdca26\"], [1.0, \"#f0f921\"]], \"type\": \"surface\"}], \"table\": [{\"cells\": {\"fill\": {\"color\": \"#EBF0F8\"}, \"line\": {\"color\": \"white\"}}, \"header\": {\"fill\": {\"color\": \"#C8D4E3\"}, \"line\": {\"color\": \"white\"}}, \"type\": \"table\"}]}, \"layout\": {\"annotationdefaults\": {\"arrowcolor\": \"#2a3f5f\", \"arrowhead\": 0, \"arrowwidth\": 1}, \"coloraxis\": {\"colorbar\": {\"outlinewidth\": 0, \"ticks\": \"\"}}, \"colorscale\": {\"diverging\": [[0, \"#8e0152\"], [0.1, \"#c51b7d\"], [0.2, \"#de77ae\"], [0.3, \"#f1b6da\"], [0.4, \"#fde0ef\"], [0.5, \"#f7f7f7\"], [0.6, \"#e6f5d0\"], [0.7, \"#b8e186\"], [0.8, \"#7fbc41\"], [0.9, \"#4d9221\"], [1, \"#276419\"]], \"sequential\": [[0.0, \"#0d0887\"], [0.1111111111111111, \"#46039f\"], [0.2222222222222222, \"#7201a8\"], [0.3333333333333333, \"#9c179e\"], [0.4444444444444444, \"#bd3786\"], [0.5555555555555556, \"#d8576b\"], [0.6666666666666666, \"#ed7953\"], [0.7777777777777778, \"#fb9f3a\"], [0.8888888888888888, \"#fdca26\"], [1.0, \"#f0f921\"]], \"sequentialminus\": [[0.0, \"#0d0887\"], [0.1111111111111111, \"#46039f\"], [0.2222222222222222, \"#7201a8\"], [0.3333333333333333, \"#9c179e\"], [0.4444444444444444, \"#bd3786\"], [0.5555555555555556, \"#d8576b\"], [0.6666666666666666, \"#ed7953\"], [0.7777777777777778, \"#fb9f3a\"], [0.8888888888888888, \"#fdca26\"], [1.0, \"#f0f921\"]]}, \"colorway\": [\"#636efa\", \"#EF553B\", \"#00cc96\", \"#ab63fa\", \"#FFA15A\", \"#19d3f3\", \"#FF6692\", \"#B6E880\", \"#FF97FF\", \"#FECB52\"], \"font\": {\"color\": \"#2a3f5f\"}, \"geo\": {\"bgcolor\": \"white\", \"lakecolor\": \"white\", \"landcolor\": \"white\", \"showlakes\": true, \"showland\": true, \"subunitcolor\": \"#C8D4E3\"}, \"hoverlabel\": {\"align\": \"left\"}, \"hovermode\": \"closest\", \"mapbox\": {\"style\": \"light\"}, \"paper_bgcolor\": \"white\", \"plot_bgcolor\": \"white\", \"polar\": {\"angularaxis\": {\"gridcolor\": \"#EBF0F8\", \"linecolor\": \"#EBF0F8\", \"ticks\": \"\"}, \"bgcolor\": \"white\", \"radialaxis\": {\"gridcolor\": \"#EBF0F8\", \"linecolor\": \"#EBF0F8\", \"ticks\": \"\"}}, \"scene\": {\"xaxis\": {\"backgroundcolor\": \"white\", \"gridcolor\": \"#DFE8F3\", \"gridwidth\": 2, \"linecolor\": \"#EBF0F8\", \"showbackground\": true, \"ticks\": \"\", \"zerolinecolor\": \"#EBF0F8\"}, \"yaxis\": {\"backgroundcolor\": \"white\", \"gridcolor\": \"#DFE8F3\", \"gridwidth\": 2, \"linecolor\": \"#EBF0F8\", \"showbackground\": true, \"ticks\": \"\", \"zerolinecolor\": \"#EBF0F8\"}, \"zaxis\": {\"backgroundcolor\": \"white\", \"gridcolor\": \"#DFE8F3\", \"gridwidth\": 2, \"linecolor\": \"#EBF0F8\", \"showbackground\": true, \"ticks\": \"\", \"zerolinecolor\": \"#EBF0F8\"}}, \"shapedefaults\": {\"line\": {\"color\": \"#2a3f5f\"}}, \"ternary\": {\"aaxis\": {\"gridcolor\": \"#DFE8F3\", \"linecolor\": \"#A2B1C6\", \"ticks\": \"\"}, \"baxis\": {\"gridcolor\": \"#DFE8F3\", \"linecolor\": \"#A2B1C6\", \"ticks\": \"\"}, \"bgcolor\": \"white\", \"caxis\": {\"gridcolor\": \"#DFE8F3\", \"linecolor\": \"#A2B1C6\", \"ticks\": \"\"}}, \"title\": {\"x\": 0.05}, \"xaxis\": {\"automargin\": true, \"gridcolor\": \"#EBF0F8\", \"linecolor\": \"#EBF0F8\", \"ticks\": \"\", \"title\": {\"standoff\": 15}, \"zerolinecolor\": \"#EBF0F8\", \"zerolinewidth\": 2}, \"yaxis\": {\"automargin\": true, \"gridcolor\": \"#EBF0F8\", \"linecolor\": \"#EBF0F8\", \"ticks\": \"\", \"title\": {\"standoff\": 15}, \"zerolinecolor\": \"#EBF0F8\", \"zerolinewidth\": 2}}}, \"title\": {\"text\": \"Gr\\u00e1fico da silhueta\"}, \"xaxis\": {\"anchor\": \"y\", \"domain\": [0.0, 0.45], \"title\": {\"text\": \"O valor do coeficiente da silhueta\"}}, \"xaxis2\": {\"anchor\": \"y2\", \"domain\": [0.55, 1.0], \"title\": {\"text\": \"PCA1\"}}, \"yaxis\": {\"anchor\": \"x\", \"domain\": [0.0, 1.0], \"title\": {\"text\": \"Observa\\u00e7\\u00f5es da silhueta de v\\u00e1rios clusters\"}}, \"yaxis2\": {\"anchor\": \"x2\", \"domain\": [0.0, 1.0], \"title\": {\"text\": \"PCA2\"}}},\n",
              "                        {\"responsive\": true}\n",
              "                    ).then(function(){\n",
              "                            \n",
              "var gd = document.getElementById('39183fa9-5df0-4bb2-82e1-72526a3d62a3');\n",
              "var x = new MutationObserver(function (mutations, observer) {{\n",
              "        var display = window.getComputedStyle(gd).display;\n",
              "        if (!display || display === 'none') {{\n",
              "            console.log([gd, 'removed!']);\n",
              "            Plotly.purge(gd);\n",
              "            observer.disconnect();\n",
              "        }}\n",
              "}});\n",
              "\n",
              "// Listen for the removal of the full notebook cells\n",
              "var notebookContainer = gd.closest('#notebook-container');\n",
              "if (notebookContainer) {{\n",
              "    x.observe(notebookContainer, {childList: true});\n",
              "}}\n",
              "\n",
              "// Listen for the clearing of the current output cell\n",
              "var outputEl = gd.closest('.output');\n",
              "if (outputEl) {{\n",
              "    x.observe(outputEl, {childList: true});\n",
              "}}\n",
              "\n",
              "                        })\n",
              "                };\n",
              "                \n",
              "            </script>\n",
              "        </div>\n",
              "</body>\n",
              "</html>"
            ]
          },
          "metadata": {}
        },
        {
          "output_type": "stream",
          "text": [
            "O agrupmento para n_grupos = 3 A médias da  silhueta é : 0.48638046171308863\n"
          ],
          "name": "stdout"
        },
        {
          "output_type": "display_data",
          "data": {
            "text/html": [
              "<html>\n",
              "<head><meta charset=\"utf-8\" /></head>\n",
              "<body>\n",
              "    <div>\n",
              "            <script src=\"https://cdnjs.cloudflare.com/ajax/libs/mathjax/2.7.5/MathJax.js?config=TeX-AMS-MML_SVG\"></script><script type=\"text/javascript\">if (window.MathJax) {MathJax.Hub.Config({SVG: {font: \"STIX-Web\"}});}</script>\n",
              "                <script type=\"text/javascript\">window.PlotlyConfig = {MathJaxConfig: 'local'};</script>\n",
              "        <script src=\"https://cdn.plot.ly/plotly-latest.min.js\"></script>    \n",
              "            <div id=\"6012ed9f-81f6-490e-b782-b62d51fde5b7\" class=\"plotly-graph-div\" style=\"height:525px; width:100%;\"></div>\n",
              "            <script type=\"text/javascript\">\n",
              "                \n",
              "                    window.PLOTLYENV=window.PLOTLYENV || {};\n",
              "                    \n",
              "                if (document.getElementById(\"6012ed9f-81f6-490e-b782-b62d51fde5b7\")) {\n",
              "                    Plotly.newPlot(\n",
              "                        '6012ed9f-81f6-490e-b782-b62d51fde5b7',\n",
              "                        [{\"fill\": \"tozerox\", \"line\": {\"color\": \"rgb(31, 119, 180)\"}, \"mode\": \"lines\", \"type\": \"scatter\", \"x\": [0.31680944653900656, 0.42659643151673704, 0.43988448343040376, 0.4495512331782812, 0.4607304434335923, 0.4648724518923238, 0.5004444343513954, 0.526656877846101, 0.5504900886983906, 0.5627968745177147, 0.6173293856792816, 0.6772347838422745, 0.6794930148227674, 0.6796954138519562, 0.685901292684248, 0.6875459418639425, 0.6962481139695955, 0.6989369651878024, 0.7018874975702876, 0.7040140188147317, 0.7064003083447655], \"xaxis\": \"x\", \"y\": [10, 11, 12, 13, 14, 15, 16, 17, 18, 19, 20, 21, 22, 23, 24, 25, 26, 27, 28, 29, 30], \"yaxis\": \"y\"}, {\"marker\": {\"color\": \"rgb(31, 119, 180)\", \"line\": {\"color\": \"DarkSlateGrey\", \"width\": 1}, \"size\": 18}, \"mode\": \"markers+text\", \"text\": [\"AC\", \"AL\", \"AP\", \"BA\", \"DF\", \"ES\", \"GO\", \"MG\", \"MS\", \"MT\", \"PA\", \"PB\", \"PI\", \"PR\", \"RN\", \"RO\", \"RR\", \"RS\", \"SC\", \"SE\", \"TO\"], \"type\": \"scatter\", \"x\": [-3.3776897205883727, -2.2139115414765067, -0.30800753073535875, 0.561306327659138, -0.8940518431660681, -0.45788940796927013, -3.18559774027896, 0.05617797106697593, -3.8537506340141676, -3.4702228948777116, -0.29977103695459384, -3.036755995336658, -3.6510805750974042, 1.3068710129256094, -1.5392683570368009, -2.78875527792322, -2.2306266674976825, -0.9865442733231092, -0.7179547680471532, -3.4772189157566538, -3.684748716532453], \"xaxis\": \"x2\", \"y\": [-0.19145213587583315, 1.5948322476074273, -0.2894574665092658, -1.013463188487865, -2.2885611031282567, 0.484331692142943, -0.0734957306006054, -1.9141807238500737, -0.1928302233856868, 0.028203375321023842, 1.5027986617666684, 0.7113701272897704, 0.5312045291467371, -2.870167364448674, -1.4426276940461353, 1.0059006050206156, -0.1333362428864694, -1.2420872547692658, -1.6352024237096143, 0.8420282110628527, 1.1291011920632719], \"yaxis\": \"y2\"}, {\"fill\": \"tozerox\", \"line\": {\"color\": \"rgb(255, 127, 14)\"}, \"mode\": \"lines\", \"type\": \"scatter\", \"x\": [0.05241193296561356, 0.15702422263980617, 0.21505649592510243, 0.2154093161078075, 0.2588509965794624], \"xaxis\": \"x\", \"y\": [36, 37, 38, 39, 40], \"yaxis\": \"y\"}, {\"marker\": {\"color\": \"rgb(255, 127, 14)\", \"line\": {\"color\": \"DarkSlateGrey\", \"width\": 1}, \"size\": 18}, \"mode\": \"markers+text\", \"text\": [\"AM\", \"MA\", \"PE\", \"RJ\", \"SP\"], \"type\": \"scatter\", \"x\": [5.6519064658378735, 2.9839713206385525, 5.474119452114708, 4.432531400234558, 9.034639530608295], \"xaxis\": \"x2\", \"y\": [-1.6277939886765642, 1.4044724906673753, 3.0115576251339493, 2.3828529591133787, 6.744722196204588], \"yaxis\": \"y2\"}, {\"fill\": \"tozerox\", \"line\": {\"color\": \"rgb(44, 160, 44)\"}, \"mode\": \"lines\", \"type\": \"scatter\", \"x\": [0.0], \"xaxis\": \"x\", \"y\": [46], \"yaxis\": \"y\"}, {\"marker\": {\"color\": \"rgb(44, 160, 44)\", \"line\": {\"color\": \"DarkSlateGrey\", \"width\": 1}, \"size\": 18}, \"mode\": \"markers+text\", \"text\": [\"CE\"], \"type\": \"scatter\", \"x\": [10.672322415526432], \"xaxis\": \"x2\", \"y\": [-6.458720372166291], \"yaxis\": \"y2\"}],\n",
              "                        {\"shapes\": [{\"line\": {\"color\": \"Red\", \"dash\": \"dashdot\", \"width\": 2}, \"type\": \"line\", \"x0\": 0.48638046171308863, \"x1\": 0.48638046171308863, \"xref\": \"x\", \"y0\": 0, \"y1\": 1, \"yref\": \"paper\"}], \"showlegend\": false, \"template\": {\"data\": {\"bar\": [{\"error_x\": {\"color\": \"#2a3f5f\"}, \"error_y\": {\"color\": \"#2a3f5f\"}, \"marker\": {\"line\": {\"color\": \"white\", \"width\": 0.5}}, \"type\": \"bar\"}], \"barpolar\": [{\"marker\": {\"line\": {\"color\": \"white\", \"width\": 0.5}}, \"type\": \"barpolar\"}], \"carpet\": [{\"aaxis\": {\"endlinecolor\": \"#2a3f5f\", \"gridcolor\": \"#C8D4E3\", \"linecolor\": \"#C8D4E3\", \"minorgridcolor\": \"#C8D4E3\", \"startlinecolor\": \"#2a3f5f\"}, \"baxis\": {\"endlinecolor\": \"#2a3f5f\", \"gridcolor\": \"#C8D4E3\", \"linecolor\": \"#C8D4E3\", \"minorgridcolor\": \"#C8D4E3\", \"startlinecolor\": \"#2a3f5f\"}, \"type\": \"carpet\"}], \"choropleth\": [{\"colorbar\": {\"outlinewidth\": 0, \"ticks\": \"\"}, \"type\": \"choropleth\"}], \"contour\": [{\"colorbar\": {\"outlinewidth\": 0, \"ticks\": \"\"}, \"colorscale\": [[0.0, \"#0d0887\"], [0.1111111111111111, \"#46039f\"], [0.2222222222222222, \"#7201a8\"], [0.3333333333333333, \"#9c179e\"], [0.4444444444444444, \"#bd3786\"], [0.5555555555555556, \"#d8576b\"], [0.6666666666666666, \"#ed7953\"], [0.7777777777777778, \"#fb9f3a\"], [0.8888888888888888, \"#fdca26\"], [1.0, \"#f0f921\"]], \"type\": \"contour\"}], \"contourcarpet\": [{\"colorbar\": {\"outlinewidth\": 0, \"ticks\": \"\"}, \"type\": \"contourcarpet\"}], \"heatmap\": [{\"colorbar\": {\"outlinewidth\": 0, \"ticks\": \"\"}, \"colorscale\": [[0.0, \"#0d0887\"], [0.1111111111111111, \"#46039f\"], [0.2222222222222222, \"#7201a8\"], [0.3333333333333333, \"#9c179e\"], [0.4444444444444444, \"#bd3786\"], [0.5555555555555556, \"#d8576b\"], [0.6666666666666666, \"#ed7953\"], [0.7777777777777778, \"#fb9f3a\"], [0.8888888888888888, \"#fdca26\"], [1.0, \"#f0f921\"]], \"type\": \"heatmap\"}], \"heatmapgl\": [{\"colorbar\": {\"outlinewidth\": 0, \"ticks\": \"\"}, \"colorscale\": [[0.0, \"#0d0887\"], [0.1111111111111111, \"#46039f\"], [0.2222222222222222, \"#7201a8\"], [0.3333333333333333, \"#9c179e\"], [0.4444444444444444, \"#bd3786\"], [0.5555555555555556, \"#d8576b\"], [0.6666666666666666, \"#ed7953\"], [0.7777777777777778, \"#fb9f3a\"], [0.8888888888888888, \"#fdca26\"], [1.0, \"#f0f921\"]], \"type\": \"heatmapgl\"}], \"histogram\": [{\"marker\": {\"colorbar\": {\"outlinewidth\": 0, \"ticks\": \"\"}}, \"type\": \"histogram\"}], \"histogram2d\": [{\"colorbar\": {\"outlinewidth\": 0, \"ticks\": \"\"}, \"colorscale\": [[0.0, \"#0d0887\"], [0.1111111111111111, \"#46039f\"], [0.2222222222222222, \"#7201a8\"], [0.3333333333333333, \"#9c179e\"], [0.4444444444444444, \"#bd3786\"], [0.5555555555555556, \"#d8576b\"], [0.6666666666666666, \"#ed7953\"], [0.7777777777777778, \"#fb9f3a\"], [0.8888888888888888, \"#fdca26\"], [1.0, \"#f0f921\"]], \"type\": \"histogram2d\"}], \"histogram2dcontour\": [{\"colorbar\": {\"outlinewidth\": 0, \"ticks\": \"\"}, \"colorscale\": [[0.0, \"#0d0887\"], [0.1111111111111111, \"#46039f\"], [0.2222222222222222, \"#7201a8\"], [0.3333333333333333, \"#9c179e\"], [0.4444444444444444, \"#bd3786\"], [0.5555555555555556, \"#d8576b\"], [0.6666666666666666, \"#ed7953\"], [0.7777777777777778, \"#fb9f3a\"], [0.8888888888888888, \"#fdca26\"], [1.0, \"#f0f921\"]], \"type\": \"histogram2dcontour\"}], \"mesh3d\": [{\"colorbar\": {\"outlinewidth\": 0, \"ticks\": \"\"}, \"type\": \"mesh3d\"}], \"parcoords\": [{\"line\": {\"colorbar\": {\"outlinewidth\": 0, \"ticks\": \"\"}}, \"type\": \"parcoords\"}], \"pie\": [{\"automargin\": true, \"type\": \"pie\"}], \"scatter\": [{\"marker\": {\"colorbar\": {\"outlinewidth\": 0, \"ticks\": \"\"}}, \"type\": \"scatter\"}], \"scatter3d\": [{\"line\": {\"colorbar\": {\"outlinewidth\": 0, \"ticks\": \"\"}}, \"marker\": {\"colorbar\": {\"outlinewidth\": 0, \"ticks\": \"\"}}, \"type\": \"scatter3d\"}], \"scattercarpet\": [{\"marker\": {\"colorbar\": {\"outlinewidth\": 0, \"ticks\": \"\"}}, \"type\": \"scattercarpet\"}], \"scattergeo\": [{\"marker\": {\"colorbar\": {\"outlinewidth\": 0, \"ticks\": \"\"}}, \"type\": \"scattergeo\"}], \"scattergl\": [{\"marker\": {\"colorbar\": {\"outlinewidth\": 0, \"ticks\": \"\"}}, \"type\": \"scattergl\"}], \"scattermapbox\": [{\"marker\": {\"colorbar\": {\"outlinewidth\": 0, \"ticks\": \"\"}}, \"type\": \"scattermapbox\"}], \"scatterpolar\": [{\"marker\": {\"colorbar\": {\"outlinewidth\": 0, \"ticks\": \"\"}}, \"type\": \"scatterpolar\"}], \"scatterpolargl\": [{\"marker\": {\"colorbar\": {\"outlinewidth\": 0, \"ticks\": \"\"}}, \"type\": \"scatterpolargl\"}], \"scatterternary\": [{\"marker\": {\"colorbar\": {\"outlinewidth\": 0, \"ticks\": \"\"}}, \"type\": \"scatterternary\"}], \"surface\": [{\"colorbar\": {\"outlinewidth\": 0, \"ticks\": \"\"}, \"colorscale\": [[0.0, \"#0d0887\"], [0.1111111111111111, \"#46039f\"], [0.2222222222222222, \"#7201a8\"], [0.3333333333333333, \"#9c179e\"], [0.4444444444444444, \"#bd3786\"], [0.5555555555555556, \"#d8576b\"], [0.6666666666666666, \"#ed7953\"], [0.7777777777777778, \"#fb9f3a\"], [0.8888888888888888, \"#fdca26\"], [1.0, \"#f0f921\"]], \"type\": \"surface\"}], \"table\": [{\"cells\": {\"fill\": {\"color\": \"#EBF0F8\"}, \"line\": {\"color\": \"white\"}}, \"header\": {\"fill\": {\"color\": \"#C8D4E3\"}, \"line\": {\"color\": \"white\"}}, \"type\": \"table\"}]}, \"layout\": {\"annotationdefaults\": {\"arrowcolor\": \"#2a3f5f\", \"arrowhead\": 0, \"arrowwidth\": 1}, \"coloraxis\": {\"colorbar\": {\"outlinewidth\": 0, \"ticks\": \"\"}}, \"colorscale\": {\"diverging\": [[0, \"#8e0152\"], [0.1, \"#c51b7d\"], [0.2, \"#de77ae\"], [0.3, \"#f1b6da\"], [0.4, \"#fde0ef\"], [0.5, \"#f7f7f7\"], [0.6, \"#e6f5d0\"], [0.7, \"#b8e186\"], [0.8, \"#7fbc41\"], [0.9, \"#4d9221\"], [1, \"#276419\"]], \"sequential\": [[0.0, \"#0d0887\"], [0.1111111111111111, \"#46039f\"], [0.2222222222222222, \"#7201a8\"], [0.3333333333333333, \"#9c179e\"], [0.4444444444444444, \"#bd3786\"], [0.5555555555555556, \"#d8576b\"], [0.6666666666666666, \"#ed7953\"], [0.7777777777777778, \"#fb9f3a\"], [0.8888888888888888, \"#fdca26\"], [1.0, \"#f0f921\"]], \"sequentialminus\": [[0.0, \"#0d0887\"], [0.1111111111111111, \"#46039f\"], [0.2222222222222222, \"#7201a8\"], [0.3333333333333333, \"#9c179e\"], [0.4444444444444444, \"#bd3786\"], [0.5555555555555556, \"#d8576b\"], [0.6666666666666666, \"#ed7953\"], [0.7777777777777778, \"#fb9f3a\"], [0.8888888888888888, \"#fdca26\"], [1.0, \"#f0f921\"]]}, \"colorway\": [\"#636efa\", \"#EF553B\", \"#00cc96\", \"#ab63fa\", \"#FFA15A\", \"#19d3f3\", \"#FF6692\", \"#B6E880\", \"#FF97FF\", \"#FECB52\"], \"font\": {\"color\": \"#2a3f5f\"}, \"geo\": {\"bgcolor\": \"white\", \"lakecolor\": \"white\", \"landcolor\": \"white\", \"showlakes\": true, \"showland\": true, \"subunitcolor\": \"#C8D4E3\"}, \"hoverlabel\": {\"align\": \"left\"}, \"hovermode\": \"closest\", \"mapbox\": {\"style\": \"light\"}, \"paper_bgcolor\": \"white\", \"plot_bgcolor\": \"white\", \"polar\": {\"angularaxis\": {\"gridcolor\": \"#EBF0F8\", \"linecolor\": \"#EBF0F8\", \"ticks\": \"\"}, \"bgcolor\": \"white\", \"radialaxis\": {\"gridcolor\": \"#EBF0F8\", \"linecolor\": \"#EBF0F8\", \"ticks\": \"\"}}, \"scene\": {\"xaxis\": {\"backgroundcolor\": \"white\", \"gridcolor\": \"#DFE8F3\", \"gridwidth\": 2, \"linecolor\": \"#EBF0F8\", \"showbackground\": true, \"ticks\": \"\", \"zerolinecolor\": \"#EBF0F8\"}, \"yaxis\": {\"backgroundcolor\": \"white\", \"gridcolor\": \"#DFE8F3\", \"gridwidth\": 2, \"linecolor\": \"#EBF0F8\", \"showbackground\": true, \"ticks\": \"\", \"zerolinecolor\": \"#EBF0F8\"}, \"zaxis\": {\"backgroundcolor\": \"white\", \"gridcolor\": \"#DFE8F3\", \"gridwidth\": 2, \"linecolor\": \"#EBF0F8\", \"showbackground\": true, \"ticks\": \"\", \"zerolinecolor\": \"#EBF0F8\"}}, \"shapedefaults\": {\"line\": {\"color\": \"#2a3f5f\"}}, \"ternary\": {\"aaxis\": {\"gridcolor\": \"#DFE8F3\", \"linecolor\": \"#A2B1C6\", \"ticks\": \"\"}, \"baxis\": {\"gridcolor\": \"#DFE8F3\", \"linecolor\": \"#A2B1C6\", \"ticks\": \"\"}, \"bgcolor\": \"white\", \"caxis\": {\"gridcolor\": \"#DFE8F3\", \"linecolor\": \"#A2B1C6\", \"ticks\": \"\"}}, \"title\": {\"x\": 0.05}, \"xaxis\": {\"automargin\": true, \"gridcolor\": \"#EBF0F8\", \"linecolor\": \"#EBF0F8\", \"ticks\": \"\", \"title\": {\"standoff\": 15}, \"zerolinecolor\": \"#EBF0F8\", \"zerolinewidth\": 2}, \"yaxis\": {\"automargin\": true, \"gridcolor\": \"#EBF0F8\", \"linecolor\": \"#EBF0F8\", \"ticks\": \"\", \"title\": {\"standoff\": 15}, \"zerolinecolor\": \"#EBF0F8\", \"zerolinewidth\": 2}}}, \"title\": {\"text\": \"Gr\\u00e1fico da silhueta\"}, \"xaxis\": {\"anchor\": \"y\", \"domain\": [0.0, 0.45], \"title\": {\"text\": \"O valor do coeficiente da silhueta\"}}, \"xaxis2\": {\"anchor\": \"y2\", \"domain\": [0.55, 1.0], \"title\": {\"text\": \"PCA1\"}}, \"yaxis\": {\"anchor\": \"x\", \"domain\": [0.0, 1.0], \"title\": {\"text\": \"Observa\\u00e7\\u00f5es da silhueta de v\\u00e1rios clusters\"}}, \"yaxis2\": {\"anchor\": \"x2\", \"domain\": [0.0, 1.0], \"title\": {\"text\": \"PCA2\"}}},\n",
              "                        {\"responsive\": true}\n",
              "                    ).then(function(){\n",
              "                            \n",
              "var gd = document.getElementById('6012ed9f-81f6-490e-b782-b62d51fde5b7');\n",
              "var x = new MutationObserver(function (mutations, observer) {{\n",
              "        var display = window.getComputedStyle(gd).display;\n",
              "        if (!display || display === 'none') {{\n",
              "            console.log([gd, 'removed!']);\n",
              "            Plotly.purge(gd);\n",
              "            observer.disconnect();\n",
              "        }}\n",
              "}});\n",
              "\n",
              "// Listen for the removal of the full notebook cells\n",
              "var notebookContainer = gd.closest('#notebook-container');\n",
              "if (notebookContainer) {{\n",
              "    x.observe(notebookContainer, {childList: true});\n",
              "}}\n",
              "\n",
              "// Listen for the clearing of the current output cell\n",
              "var outputEl = gd.closest('.output');\n",
              "if (outputEl) {{\n",
              "    x.observe(outputEl, {childList: true});\n",
              "}}\n",
              "\n",
              "                        })\n",
              "                };\n",
              "                \n",
              "            </script>\n",
              "        </div>\n",
              "</body>\n",
              "</html>"
            ]
          },
          "metadata": {}
        },
        {
          "output_type": "stream",
          "text": [
            "O agrupmento para n_grupos = 4 A médias da  silhueta é : 0.36411195433131843\n"
          ],
          "name": "stdout"
        },
        {
          "output_type": "display_data",
          "data": {
            "text/html": [
              "<html>\n",
              "<head><meta charset=\"utf-8\" /></head>\n",
              "<body>\n",
              "    <div>\n",
              "            <script src=\"https://cdnjs.cloudflare.com/ajax/libs/mathjax/2.7.5/MathJax.js?config=TeX-AMS-MML_SVG\"></script><script type=\"text/javascript\">if (window.MathJax) {MathJax.Hub.Config({SVG: {font: \"STIX-Web\"}});}</script>\n",
              "                <script type=\"text/javascript\">window.PlotlyConfig = {MathJaxConfig: 'local'};</script>\n",
              "        <script src=\"https://cdn.plot.ly/plotly-latest.min.js\"></script>    \n",
              "            <div id=\"c7f0dbcc-ebb0-43b9-8690-0be8b105d867\" class=\"plotly-graph-div\" style=\"height:525px; width:100%;\"></div>\n",
              "            <script type=\"text/javascript\">\n",
              "                \n",
              "                    window.PLOTLYENV=window.PLOTLYENV || {};\n",
              "                    \n",
              "                if (document.getElementById(\"c7f0dbcc-ebb0-43b9-8690-0be8b105d867\")) {\n",
              "                    Plotly.newPlot(\n",
              "                        'c7f0dbcc-ebb0-43b9-8690-0be8b105d867',\n",
              "                        [{\"fill\": \"tozerox\", \"line\": {\"color\": \"rgb(31, 119, 180)\"}, \"mode\": \"lines\", \"type\": \"scatter\", \"x\": [-0.07281407157620051, -0.02856727298211161, 0.11730970458108596, 0.17804075485122328, 0.2222493062602153], \"xaxis\": \"x\", \"y\": [10, 11, 12, 13, 14], \"yaxis\": \"y\"}, {\"marker\": {\"color\": \"rgb(31, 119, 180)\", \"line\": {\"color\": \"DarkSlateGrey\", \"width\": 1}, \"size\": 18}, \"mode\": \"markers+text\", \"text\": [\"AM\", \"MA\", \"PE\", \"RJ\", \"SP\"], \"type\": \"scatter\", \"x\": [5.6519064658378735, 2.9839713206385525, 5.474119452114708, 4.432531400234558, 9.034639530608295], \"xaxis\": \"x2\", \"y\": [-1.6277939886765642, 1.4044724906673753, 3.0115576251339493, 2.3828529591133787, 6.744722196204588], \"yaxis\": \"y2\"}, {\"fill\": \"tozerox\", \"line\": {\"color\": \"rgb(255, 127, 14)\"}, \"mode\": \"lines\", \"type\": \"scatter\", \"x\": [-0.17145695921076476, -0.1536160166374469, 0.13210576556030082, 0.18670851702886232, 0.21683045620357802, 0.27001352294140785, 0.2709253024617529, 0.2966179333936806, 0.3269380725913402, 0.3274443523581837], \"xaxis\": \"x\", \"y\": [20, 21, 22, 23, 24, 25, 26, 27, 28, 29], \"yaxis\": \"y\"}, {\"marker\": {\"color\": \"rgb(255, 127, 14)\", \"line\": {\"color\": \"DarkSlateGrey\", \"width\": 1}, \"size\": 18}, \"mode\": \"markers+text\", \"text\": [\"AP\", \"BA\", \"DF\", \"ES\", \"MG\", \"PA\", \"PR\", \"RN\", \"RS\", \"SC\"], \"type\": \"scatter\", \"x\": [-0.30800753073535875, 0.561306327659138, -0.8940518431660681, -0.45788940796927013, 0.05617797106697593, -0.29977103695459384, 1.3068710129256094, -1.5392683570368009, -0.9865442733231092, -0.7179547680471532], \"xaxis\": \"x2\", \"y\": [-0.2894574665092658, -1.013463188487865, -2.2885611031282567, 0.484331692142943, -1.9141807238500737, 1.5027986617666684, -2.870167364448674, -1.4426276940461353, -1.2420872547692658, -1.6352024237096143], \"yaxis\": \"y2\"}, {\"fill\": \"tozerox\", \"line\": {\"color\": \"rgb(44, 160, 44)\"}, \"mode\": \"lines\", \"type\": \"scatter\", \"x\": [0.0], \"xaxis\": \"x\", \"y\": [35], \"yaxis\": \"y\"}, {\"marker\": {\"color\": \"rgb(44, 160, 44)\", \"line\": {\"color\": \"DarkSlateGrey\", \"width\": 1}, \"size\": 18}, \"mode\": \"markers+text\", \"text\": [\"CE\"], \"type\": \"scatter\", \"x\": [10.672322415526432], \"xaxis\": \"x2\", \"y\": [-6.458720372166291], \"yaxis\": \"y2\"}, {\"fill\": \"tozerox\", \"line\": {\"color\": \"rgb(214, 39, 40)\"}, \"mode\": \"lines\", \"type\": \"scatter\", \"x\": [0.5741108711538632, 0.587919569179525, 0.6651452147085809, 0.6657724588097415, 0.7029136288653249, 0.7082648580996614, 0.7429594767142739, 0.7435837981149926, 0.7585059131532857, 0.7809688400271037, 0.7821487702941374], \"xaxis\": \"x\", \"y\": [41, 42, 43, 44, 45, 46, 47, 48, 49, 50, 51], \"yaxis\": \"y\"}, {\"marker\": {\"color\": \"rgb(214, 39, 40)\", \"line\": {\"color\": \"DarkSlateGrey\", \"width\": 1}, \"size\": 18}, \"mode\": \"markers+text\", \"text\": [\"AC\", \"AL\", \"GO\", \"MS\", \"MT\", \"PB\", \"PI\", \"RO\", \"RR\", \"SE\", \"TO\"], \"type\": \"scatter\", \"x\": [-3.3776897205883727, -2.2139115414765067, -3.18559774027896, -3.8537506340141676, -3.4702228948777116, -3.036755995336658, -3.6510805750974042, -2.78875527792322, -2.2306266674976825, -3.4772189157566538, -3.684748716532453], \"xaxis\": \"x2\", \"y\": [-0.19145213587583315, 1.5948322476074273, -0.0734957306006054, -0.1928302233856868, 0.028203375321023842, 0.7113701272897704, 0.5312045291467371, 1.0059006050206156, -0.1333362428864694, 0.8420282110628527, 1.1291011920632719], \"yaxis\": \"y2\"}],\n",
              "                        {\"shapes\": [{\"line\": {\"color\": \"Red\", \"dash\": \"dashdot\", \"width\": 2}, \"type\": \"line\", \"x0\": 0.36411195433131843, \"x1\": 0.36411195433131843, \"xref\": \"x\", \"y0\": 0, \"y1\": 1, \"yref\": \"paper\"}], \"showlegend\": false, \"template\": {\"data\": {\"bar\": [{\"error_x\": {\"color\": \"#2a3f5f\"}, \"error_y\": {\"color\": \"#2a3f5f\"}, \"marker\": {\"line\": {\"color\": \"white\", \"width\": 0.5}}, \"type\": \"bar\"}], \"barpolar\": [{\"marker\": {\"line\": {\"color\": \"white\", \"width\": 0.5}}, \"type\": \"barpolar\"}], \"carpet\": [{\"aaxis\": {\"endlinecolor\": \"#2a3f5f\", \"gridcolor\": \"#C8D4E3\", \"linecolor\": \"#C8D4E3\", \"minorgridcolor\": \"#C8D4E3\", \"startlinecolor\": \"#2a3f5f\"}, \"baxis\": {\"endlinecolor\": \"#2a3f5f\", \"gridcolor\": \"#C8D4E3\", \"linecolor\": \"#C8D4E3\", \"minorgridcolor\": \"#C8D4E3\", \"startlinecolor\": \"#2a3f5f\"}, \"type\": \"carpet\"}], \"choropleth\": [{\"colorbar\": {\"outlinewidth\": 0, \"ticks\": \"\"}, \"type\": \"choropleth\"}], \"contour\": [{\"colorbar\": {\"outlinewidth\": 0, \"ticks\": \"\"}, \"colorscale\": [[0.0, \"#0d0887\"], [0.1111111111111111, \"#46039f\"], [0.2222222222222222, \"#7201a8\"], [0.3333333333333333, \"#9c179e\"], [0.4444444444444444, \"#bd3786\"], [0.5555555555555556, \"#d8576b\"], [0.6666666666666666, \"#ed7953\"], [0.7777777777777778, \"#fb9f3a\"], [0.8888888888888888, \"#fdca26\"], [1.0, \"#f0f921\"]], \"type\": \"contour\"}], \"contourcarpet\": [{\"colorbar\": {\"outlinewidth\": 0, \"ticks\": \"\"}, \"type\": \"contourcarpet\"}], \"heatmap\": [{\"colorbar\": {\"outlinewidth\": 0, \"ticks\": \"\"}, \"colorscale\": [[0.0, \"#0d0887\"], [0.1111111111111111, \"#46039f\"], [0.2222222222222222, \"#7201a8\"], [0.3333333333333333, \"#9c179e\"], [0.4444444444444444, \"#bd3786\"], [0.5555555555555556, \"#d8576b\"], [0.6666666666666666, \"#ed7953\"], [0.7777777777777778, \"#fb9f3a\"], [0.8888888888888888, \"#fdca26\"], [1.0, \"#f0f921\"]], \"type\": \"heatmap\"}], \"heatmapgl\": [{\"colorbar\": {\"outlinewidth\": 0, \"ticks\": \"\"}, \"colorscale\": [[0.0, \"#0d0887\"], [0.1111111111111111, \"#46039f\"], [0.2222222222222222, \"#7201a8\"], [0.3333333333333333, \"#9c179e\"], [0.4444444444444444, \"#bd3786\"], [0.5555555555555556, \"#d8576b\"], [0.6666666666666666, \"#ed7953\"], [0.7777777777777778, \"#fb9f3a\"], [0.8888888888888888, \"#fdca26\"], [1.0, \"#f0f921\"]], \"type\": \"heatmapgl\"}], \"histogram\": [{\"marker\": {\"colorbar\": {\"outlinewidth\": 0, \"ticks\": \"\"}}, \"type\": \"histogram\"}], \"histogram2d\": [{\"colorbar\": {\"outlinewidth\": 0, \"ticks\": \"\"}, \"colorscale\": [[0.0, \"#0d0887\"], [0.1111111111111111, \"#46039f\"], [0.2222222222222222, \"#7201a8\"], [0.3333333333333333, \"#9c179e\"], [0.4444444444444444, \"#bd3786\"], [0.5555555555555556, \"#d8576b\"], [0.6666666666666666, \"#ed7953\"], [0.7777777777777778, \"#fb9f3a\"], [0.8888888888888888, \"#fdca26\"], [1.0, \"#f0f921\"]], \"type\": \"histogram2d\"}], \"histogram2dcontour\": [{\"colorbar\": {\"outlinewidth\": 0, \"ticks\": \"\"}, \"colorscale\": [[0.0, \"#0d0887\"], [0.1111111111111111, \"#46039f\"], [0.2222222222222222, \"#7201a8\"], [0.3333333333333333, \"#9c179e\"], [0.4444444444444444, \"#bd3786\"], [0.5555555555555556, \"#d8576b\"], [0.6666666666666666, \"#ed7953\"], [0.7777777777777778, \"#fb9f3a\"], [0.8888888888888888, \"#fdca26\"], [1.0, \"#f0f921\"]], \"type\": \"histogram2dcontour\"}], \"mesh3d\": [{\"colorbar\": {\"outlinewidth\": 0, \"ticks\": \"\"}, \"type\": \"mesh3d\"}], \"parcoords\": [{\"line\": {\"colorbar\": {\"outlinewidth\": 0, \"ticks\": \"\"}}, \"type\": \"parcoords\"}], \"pie\": [{\"automargin\": true, \"type\": \"pie\"}], \"scatter\": [{\"marker\": {\"colorbar\": {\"outlinewidth\": 0, \"ticks\": \"\"}}, \"type\": \"scatter\"}], \"scatter3d\": [{\"line\": {\"colorbar\": {\"outlinewidth\": 0, \"ticks\": \"\"}}, \"marker\": {\"colorbar\": {\"outlinewidth\": 0, \"ticks\": \"\"}}, \"type\": \"scatter3d\"}], \"scattercarpet\": [{\"marker\": {\"colorbar\": {\"outlinewidth\": 0, \"ticks\": \"\"}}, \"type\": \"scattercarpet\"}], \"scattergeo\": [{\"marker\": {\"colorbar\": {\"outlinewidth\": 0, \"ticks\": \"\"}}, \"type\": \"scattergeo\"}], \"scattergl\": [{\"marker\": {\"colorbar\": {\"outlinewidth\": 0, \"ticks\": \"\"}}, \"type\": \"scattergl\"}], \"scattermapbox\": [{\"marker\": {\"colorbar\": {\"outlinewidth\": 0, \"ticks\": \"\"}}, \"type\": \"scattermapbox\"}], \"scatterpolar\": [{\"marker\": {\"colorbar\": {\"outlinewidth\": 0, \"ticks\": \"\"}}, \"type\": \"scatterpolar\"}], \"scatterpolargl\": [{\"marker\": {\"colorbar\": {\"outlinewidth\": 0, \"ticks\": \"\"}}, \"type\": \"scatterpolargl\"}], \"scatterternary\": [{\"marker\": {\"colorbar\": {\"outlinewidth\": 0, \"ticks\": \"\"}}, \"type\": \"scatterternary\"}], \"surface\": [{\"colorbar\": {\"outlinewidth\": 0, \"ticks\": \"\"}, \"colorscale\": [[0.0, \"#0d0887\"], [0.1111111111111111, \"#46039f\"], [0.2222222222222222, \"#7201a8\"], [0.3333333333333333, \"#9c179e\"], [0.4444444444444444, \"#bd3786\"], [0.5555555555555556, \"#d8576b\"], [0.6666666666666666, \"#ed7953\"], [0.7777777777777778, \"#fb9f3a\"], [0.8888888888888888, \"#fdca26\"], [1.0, \"#f0f921\"]], \"type\": \"surface\"}], \"table\": [{\"cells\": {\"fill\": {\"color\": \"#EBF0F8\"}, \"line\": {\"color\": \"white\"}}, \"header\": {\"fill\": {\"color\": \"#C8D4E3\"}, \"line\": {\"color\": \"white\"}}, \"type\": \"table\"}]}, \"layout\": {\"annotationdefaults\": {\"arrowcolor\": \"#2a3f5f\", \"arrowhead\": 0, \"arrowwidth\": 1}, \"coloraxis\": {\"colorbar\": {\"outlinewidth\": 0, \"ticks\": \"\"}}, \"colorscale\": {\"diverging\": [[0, \"#8e0152\"], [0.1, \"#c51b7d\"], [0.2, \"#de77ae\"], [0.3, \"#f1b6da\"], [0.4, \"#fde0ef\"], [0.5, \"#f7f7f7\"], [0.6, \"#e6f5d0\"], [0.7, \"#b8e186\"], [0.8, \"#7fbc41\"], [0.9, \"#4d9221\"], [1, \"#276419\"]], \"sequential\": [[0.0, \"#0d0887\"], [0.1111111111111111, \"#46039f\"], [0.2222222222222222, \"#7201a8\"], [0.3333333333333333, \"#9c179e\"], [0.4444444444444444, \"#bd3786\"], [0.5555555555555556, \"#d8576b\"], [0.6666666666666666, \"#ed7953\"], [0.7777777777777778, \"#fb9f3a\"], [0.8888888888888888, \"#fdca26\"], [1.0, \"#f0f921\"]], \"sequentialminus\": [[0.0, \"#0d0887\"], [0.1111111111111111, \"#46039f\"], [0.2222222222222222, \"#7201a8\"], [0.3333333333333333, \"#9c179e\"], [0.4444444444444444, \"#bd3786\"], [0.5555555555555556, \"#d8576b\"], [0.6666666666666666, \"#ed7953\"], [0.7777777777777778, \"#fb9f3a\"], [0.8888888888888888, \"#fdca26\"], [1.0, \"#f0f921\"]]}, \"colorway\": [\"#636efa\", \"#EF553B\", \"#00cc96\", \"#ab63fa\", \"#FFA15A\", \"#19d3f3\", \"#FF6692\", \"#B6E880\", \"#FF97FF\", \"#FECB52\"], \"font\": {\"color\": \"#2a3f5f\"}, \"geo\": {\"bgcolor\": \"white\", \"lakecolor\": \"white\", \"landcolor\": \"white\", \"showlakes\": true, \"showland\": true, \"subunitcolor\": \"#C8D4E3\"}, \"hoverlabel\": {\"align\": \"left\"}, \"hovermode\": \"closest\", \"mapbox\": {\"style\": \"light\"}, \"paper_bgcolor\": \"white\", \"plot_bgcolor\": \"white\", \"polar\": {\"angularaxis\": {\"gridcolor\": \"#EBF0F8\", \"linecolor\": \"#EBF0F8\", \"ticks\": \"\"}, \"bgcolor\": \"white\", \"radialaxis\": {\"gridcolor\": \"#EBF0F8\", \"linecolor\": \"#EBF0F8\", \"ticks\": \"\"}}, \"scene\": {\"xaxis\": {\"backgroundcolor\": \"white\", \"gridcolor\": \"#DFE8F3\", \"gridwidth\": 2, \"linecolor\": \"#EBF0F8\", \"showbackground\": true, \"ticks\": \"\", \"zerolinecolor\": \"#EBF0F8\"}, \"yaxis\": {\"backgroundcolor\": \"white\", \"gridcolor\": \"#DFE8F3\", \"gridwidth\": 2, \"linecolor\": \"#EBF0F8\", \"showbackground\": true, \"ticks\": \"\", \"zerolinecolor\": \"#EBF0F8\"}, \"zaxis\": {\"backgroundcolor\": \"white\", \"gridcolor\": \"#DFE8F3\", \"gridwidth\": 2, \"linecolor\": \"#EBF0F8\", \"showbackground\": true, \"ticks\": \"\", \"zerolinecolor\": \"#EBF0F8\"}}, \"shapedefaults\": {\"line\": {\"color\": \"#2a3f5f\"}}, \"ternary\": {\"aaxis\": {\"gridcolor\": \"#DFE8F3\", \"linecolor\": \"#A2B1C6\", \"ticks\": \"\"}, \"baxis\": {\"gridcolor\": \"#DFE8F3\", \"linecolor\": \"#A2B1C6\", \"ticks\": \"\"}, \"bgcolor\": \"white\", \"caxis\": {\"gridcolor\": \"#DFE8F3\", \"linecolor\": \"#A2B1C6\", \"ticks\": \"\"}}, \"title\": {\"x\": 0.05}, \"xaxis\": {\"automargin\": true, \"gridcolor\": \"#EBF0F8\", \"linecolor\": \"#EBF0F8\", \"ticks\": \"\", \"title\": {\"standoff\": 15}, \"zerolinecolor\": \"#EBF0F8\", \"zerolinewidth\": 2}, \"yaxis\": {\"automargin\": true, \"gridcolor\": \"#EBF0F8\", \"linecolor\": \"#EBF0F8\", \"ticks\": \"\", \"title\": {\"standoff\": 15}, \"zerolinecolor\": \"#EBF0F8\", \"zerolinewidth\": 2}}}, \"title\": {\"text\": \"Gr\\u00e1fico da silhueta\"}, \"xaxis\": {\"anchor\": \"y\", \"domain\": [0.0, 0.45], \"title\": {\"text\": \"O valor do coeficiente da silhueta\"}}, \"xaxis2\": {\"anchor\": \"y2\", \"domain\": [0.55, 1.0], \"title\": {\"text\": \"PCA1\"}}, \"yaxis\": {\"anchor\": \"x\", \"domain\": [0.0, 1.0], \"title\": {\"text\": \"Observa\\u00e7\\u00f5es da silhueta de v\\u00e1rios clusters\"}}, \"yaxis2\": {\"anchor\": \"x2\", \"domain\": [0.0, 1.0], \"title\": {\"text\": \"PCA2\"}}},\n",
              "                        {\"responsive\": true}\n",
              "                    ).then(function(){\n",
              "                            \n",
              "var gd = document.getElementById('c7f0dbcc-ebb0-43b9-8690-0be8b105d867');\n",
              "var x = new MutationObserver(function (mutations, observer) {{\n",
              "        var display = window.getComputedStyle(gd).display;\n",
              "        if (!display || display === 'none') {{\n",
              "            console.log([gd, 'removed!']);\n",
              "            Plotly.purge(gd);\n",
              "            observer.disconnect();\n",
              "        }}\n",
              "}});\n",
              "\n",
              "// Listen for the removal of the full notebook cells\n",
              "var notebookContainer = gd.closest('#notebook-container');\n",
              "if (notebookContainer) {{\n",
              "    x.observe(notebookContainer, {childList: true});\n",
              "}}\n",
              "\n",
              "// Listen for the clearing of the current output cell\n",
              "var outputEl = gd.closest('.output');\n",
              "if (outputEl) {{\n",
              "    x.observe(outputEl, {childList: true});\n",
              "}}\n",
              "\n",
              "                        })\n",
              "                };\n",
              "                \n",
              "            </script>\n",
              "        </div>\n",
              "</body>\n",
              "</html>"
            ]
          },
          "metadata": {}
        },
        {
          "output_type": "stream",
          "text": [
            "O agrupmento para n_grupos = 5 A médias da  silhueta é : 0.3801435812066816\n"
          ],
          "name": "stdout"
        },
        {
          "output_type": "display_data",
          "data": {
            "text/html": [
              "<html>\n",
              "<head><meta charset=\"utf-8\" /></head>\n",
              "<body>\n",
              "    <div>\n",
              "            <script src=\"https://cdnjs.cloudflare.com/ajax/libs/mathjax/2.7.5/MathJax.js?config=TeX-AMS-MML_SVG\"></script><script type=\"text/javascript\">if (window.MathJax) {MathJax.Hub.Config({SVG: {font: \"STIX-Web\"}});}</script>\n",
              "                <script type=\"text/javascript\">window.PlotlyConfig = {MathJaxConfig: 'local'};</script>\n",
              "        <script src=\"https://cdn.plot.ly/plotly-latest.min.js\"></script>    \n",
              "            <div id=\"067f97db-5f92-4709-b5e6-f5232a7c274c\" class=\"plotly-graph-div\" style=\"height:525px; width:100%;\"></div>\n",
              "            <script type=\"text/javascript\">\n",
              "                \n",
              "                    window.PLOTLYENV=window.PLOTLYENV || {};\n",
              "                    \n",
              "                if (document.getElementById(\"067f97db-5f92-4709-b5e6-f5232a7c274c\")) {\n",
              "                    Plotly.newPlot(\n",
              "                        '067f97db-5f92-4709-b5e6-f5232a7c274c',\n",
              "                        [{\"fill\": \"tozerox\", \"line\": {\"color\": \"rgb(31, 119, 180)\"}, \"mode\": \"lines\", \"type\": \"scatter\", \"x\": [0.15151532693176192, 0.1876514114299444, 0.23633254977122364, 0.2735730586360884], \"xaxis\": \"x\", \"y\": [10, 11, 12, 13], \"yaxis\": \"y\"}, {\"marker\": {\"color\": \"rgb(31, 119, 180)\", \"line\": {\"color\": \"DarkSlateGrey\", \"width\": 1}, \"size\": 18}, \"mode\": \"markers+text\", \"text\": [\"AM\", \"MA\", \"PE\", \"RJ\"], \"type\": \"scatter\", \"x\": [5.6519064658378735, 2.9839713206385525, 5.474119452114708, 4.432531400234558], \"xaxis\": \"x2\", \"y\": [-1.6277939886765642, 1.4044724906673753, 3.0115576251339493, 2.3828529591133787], \"yaxis\": \"y2\"}, {\"fill\": \"tozerox\", \"line\": {\"color\": \"rgb(255, 127, 14)\"}, \"mode\": \"lines\", \"type\": \"scatter\", \"x\": [-0.17145695921076476, -0.1536160166374469, 0.13210576556030082, 0.18670851702886232, 0.21683045620357802, 0.27001352294140785, 0.2709253024617529, 0.2966179333936806, 0.3269380725913402, 0.3274443523581837], \"xaxis\": \"x\", \"y\": [19, 20, 21, 22, 23, 24, 25, 26, 27, 28], \"yaxis\": \"y\"}, {\"marker\": {\"color\": \"rgb(255, 127, 14)\", \"line\": {\"color\": \"DarkSlateGrey\", \"width\": 1}, \"size\": 18}, \"mode\": \"markers+text\", \"text\": [\"AP\", \"BA\", \"DF\", \"ES\", \"MG\", \"PA\", \"PR\", \"RN\", \"RS\", \"SC\"], \"type\": \"scatter\", \"x\": [-0.30800753073535875, 0.561306327659138, -0.8940518431660681, -0.45788940796927013, 0.05617797106697593, -0.29977103695459384, 1.3068710129256094, -1.5392683570368009, -0.9865442733231092, -0.7179547680471532], \"xaxis\": \"x2\", \"y\": [-0.2894574665092658, -1.013463188487865, -2.2885611031282567, 0.484331692142943, -1.9141807238500737, 1.5027986617666684, -2.870167364448674, -1.4426276940461353, -1.2420872547692658, -1.6352024237096143], \"yaxis\": \"y2\"}, {\"fill\": \"tozerox\", \"line\": {\"color\": \"rgb(44, 160, 44)\"}, \"mode\": \"lines\", \"type\": \"scatter\", \"x\": [0.0], \"xaxis\": \"x\", \"y\": [34], \"yaxis\": \"y\"}, {\"marker\": {\"color\": \"rgb(44, 160, 44)\", \"line\": {\"color\": \"DarkSlateGrey\", \"width\": 1}, \"size\": 18}, \"mode\": \"markers+text\", \"text\": [\"CE\"], \"type\": \"scatter\", \"x\": [10.672322415526432], \"xaxis\": \"x2\", \"y\": [-6.458720372166291], \"yaxis\": \"y2\"}, {\"fill\": \"tozerox\", \"line\": {\"color\": \"rgb(214, 39, 40)\"}, \"mode\": \"lines\", \"type\": \"scatter\", \"x\": [0.5741108711538632, 0.587919569179525, 0.6651452147085809, 0.6657724588097415, 0.7029136288653249, 0.7082648580996614, 0.7429594767142739, 0.7435837981149926, 0.7585059131532857, 0.7809688400271037, 0.7821487702941374], \"xaxis\": \"x\", \"y\": [40, 41, 42, 43, 44, 45, 46, 47, 48, 49, 50], \"yaxis\": \"y\"}, {\"marker\": {\"color\": \"rgb(214, 39, 40)\", \"line\": {\"color\": \"DarkSlateGrey\", \"width\": 1}, \"size\": 18}, \"mode\": \"markers+text\", \"text\": [\"AC\", \"AL\", \"GO\", \"MS\", \"MT\", \"PB\", \"PI\", \"RO\", \"RR\", \"SE\", \"TO\"], \"type\": \"scatter\", \"x\": [-3.3776897205883727, -2.2139115414765067, -3.18559774027896, -3.8537506340141676, -3.4702228948777116, -3.036755995336658, -3.6510805750974042, -2.78875527792322, -2.2306266674976825, -3.4772189157566538, -3.684748716532453], \"xaxis\": \"x2\", \"y\": [-0.19145213587583315, 1.5948322476074273, -0.0734957306006054, -0.1928302233856868, 0.028203375321023842, 0.7113701272897704, 0.5312045291467371, 1.0059006050206156, -0.1333362428864694, 0.8420282110628527, 1.1291011920632719], \"yaxis\": \"y2\"}, {\"fill\": \"tozerox\", \"line\": {\"color\": \"rgb(148, 103, 189)\"}, \"mode\": \"lines\", \"type\": \"scatter\", \"x\": [0.0], \"xaxis\": \"x\", \"y\": [56], \"yaxis\": \"y\"}, {\"marker\": {\"color\": \"rgb(148, 103, 189)\", \"line\": {\"color\": \"DarkSlateGrey\", \"width\": 1}, \"size\": 18}, \"mode\": \"markers+text\", \"text\": [\"SP\"], \"type\": \"scatter\", \"x\": [9.034639530608295], \"xaxis\": \"x2\", \"y\": [6.744722196204588], \"yaxis\": \"y2\"}],\n",
              "                        {\"shapes\": [{\"line\": {\"color\": \"Red\", \"dash\": \"dashdot\", \"width\": 2}, \"type\": \"line\", \"x0\": 0.3801435812066816, \"x1\": 0.3801435812066816, \"xref\": \"x\", \"y0\": 0, \"y1\": 1, \"yref\": \"paper\"}], \"showlegend\": false, \"template\": {\"data\": {\"bar\": [{\"error_x\": {\"color\": \"#2a3f5f\"}, \"error_y\": {\"color\": \"#2a3f5f\"}, \"marker\": {\"line\": {\"color\": \"white\", \"width\": 0.5}}, \"type\": \"bar\"}], \"barpolar\": [{\"marker\": {\"line\": {\"color\": \"white\", \"width\": 0.5}}, \"type\": \"barpolar\"}], \"carpet\": [{\"aaxis\": {\"endlinecolor\": \"#2a3f5f\", \"gridcolor\": \"#C8D4E3\", \"linecolor\": \"#C8D4E3\", \"minorgridcolor\": \"#C8D4E3\", \"startlinecolor\": \"#2a3f5f\"}, \"baxis\": {\"endlinecolor\": \"#2a3f5f\", \"gridcolor\": \"#C8D4E3\", \"linecolor\": \"#C8D4E3\", \"minorgridcolor\": \"#C8D4E3\", \"startlinecolor\": \"#2a3f5f\"}, \"type\": \"carpet\"}], \"choropleth\": [{\"colorbar\": {\"outlinewidth\": 0, \"ticks\": \"\"}, \"type\": \"choropleth\"}], \"contour\": [{\"colorbar\": {\"outlinewidth\": 0, \"ticks\": \"\"}, \"colorscale\": [[0.0, \"#0d0887\"], [0.1111111111111111, \"#46039f\"], [0.2222222222222222, \"#7201a8\"], [0.3333333333333333, \"#9c179e\"], [0.4444444444444444, \"#bd3786\"], [0.5555555555555556, \"#d8576b\"], [0.6666666666666666, \"#ed7953\"], [0.7777777777777778, \"#fb9f3a\"], [0.8888888888888888, \"#fdca26\"], [1.0, \"#f0f921\"]], \"type\": \"contour\"}], \"contourcarpet\": [{\"colorbar\": {\"outlinewidth\": 0, \"ticks\": \"\"}, \"type\": \"contourcarpet\"}], \"heatmap\": [{\"colorbar\": {\"outlinewidth\": 0, \"ticks\": \"\"}, \"colorscale\": [[0.0, \"#0d0887\"], [0.1111111111111111, \"#46039f\"], [0.2222222222222222, \"#7201a8\"], [0.3333333333333333, \"#9c179e\"], [0.4444444444444444, \"#bd3786\"], [0.5555555555555556, \"#d8576b\"], [0.6666666666666666, \"#ed7953\"], [0.7777777777777778, \"#fb9f3a\"], [0.8888888888888888, \"#fdca26\"], [1.0, \"#f0f921\"]], \"type\": \"heatmap\"}], \"heatmapgl\": [{\"colorbar\": {\"outlinewidth\": 0, \"ticks\": \"\"}, \"colorscale\": [[0.0, \"#0d0887\"], [0.1111111111111111, \"#46039f\"], [0.2222222222222222, \"#7201a8\"], [0.3333333333333333, \"#9c179e\"], [0.4444444444444444, \"#bd3786\"], [0.5555555555555556, \"#d8576b\"], [0.6666666666666666, \"#ed7953\"], [0.7777777777777778, \"#fb9f3a\"], [0.8888888888888888, \"#fdca26\"], [1.0, \"#f0f921\"]], \"type\": \"heatmapgl\"}], \"histogram\": [{\"marker\": {\"colorbar\": {\"outlinewidth\": 0, \"ticks\": \"\"}}, \"type\": \"histogram\"}], \"histogram2d\": [{\"colorbar\": {\"outlinewidth\": 0, \"ticks\": \"\"}, \"colorscale\": [[0.0, \"#0d0887\"], [0.1111111111111111, \"#46039f\"], [0.2222222222222222, \"#7201a8\"], [0.3333333333333333, \"#9c179e\"], [0.4444444444444444, \"#bd3786\"], [0.5555555555555556, \"#d8576b\"], [0.6666666666666666, \"#ed7953\"], [0.7777777777777778, \"#fb9f3a\"], [0.8888888888888888, \"#fdca26\"], [1.0, \"#f0f921\"]], \"type\": \"histogram2d\"}], \"histogram2dcontour\": [{\"colorbar\": {\"outlinewidth\": 0, \"ticks\": \"\"}, \"colorscale\": [[0.0, \"#0d0887\"], [0.1111111111111111, \"#46039f\"], [0.2222222222222222, \"#7201a8\"], [0.3333333333333333, \"#9c179e\"], [0.4444444444444444, \"#bd3786\"], [0.5555555555555556, \"#d8576b\"], [0.6666666666666666, \"#ed7953\"], [0.7777777777777778, \"#fb9f3a\"], [0.8888888888888888, \"#fdca26\"], [1.0, \"#f0f921\"]], \"type\": \"histogram2dcontour\"}], \"mesh3d\": [{\"colorbar\": {\"outlinewidth\": 0, \"ticks\": \"\"}, \"type\": \"mesh3d\"}], \"parcoords\": [{\"line\": {\"colorbar\": {\"outlinewidth\": 0, \"ticks\": \"\"}}, \"type\": \"parcoords\"}], \"pie\": [{\"automargin\": true, \"type\": \"pie\"}], \"scatter\": [{\"marker\": {\"colorbar\": {\"outlinewidth\": 0, \"ticks\": \"\"}}, \"type\": \"scatter\"}], \"scatter3d\": [{\"line\": {\"colorbar\": {\"outlinewidth\": 0, \"ticks\": \"\"}}, \"marker\": {\"colorbar\": {\"outlinewidth\": 0, \"ticks\": \"\"}}, \"type\": \"scatter3d\"}], \"scattercarpet\": [{\"marker\": {\"colorbar\": {\"outlinewidth\": 0, \"ticks\": \"\"}}, \"type\": \"scattercarpet\"}], \"scattergeo\": [{\"marker\": {\"colorbar\": {\"outlinewidth\": 0, \"ticks\": \"\"}}, \"type\": \"scattergeo\"}], \"scattergl\": [{\"marker\": {\"colorbar\": {\"outlinewidth\": 0, \"ticks\": \"\"}}, \"type\": \"scattergl\"}], \"scattermapbox\": [{\"marker\": {\"colorbar\": {\"outlinewidth\": 0, \"ticks\": \"\"}}, \"type\": \"scattermapbox\"}], \"scatterpolar\": [{\"marker\": {\"colorbar\": {\"outlinewidth\": 0, \"ticks\": \"\"}}, \"type\": \"scatterpolar\"}], \"scatterpolargl\": [{\"marker\": {\"colorbar\": {\"outlinewidth\": 0, \"ticks\": \"\"}}, \"type\": \"scatterpolargl\"}], \"scatterternary\": [{\"marker\": {\"colorbar\": {\"outlinewidth\": 0, \"ticks\": \"\"}}, \"type\": \"scatterternary\"}], \"surface\": [{\"colorbar\": {\"outlinewidth\": 0, \"ticks\": \"\"}, \"colorscale\": [[0.0, \"#0d0887\"], [0.1111111111111111, \"#46039f\"], [0.2222222222222222, \"#7201a8\"], [0.3333333333333333, \"#9c179e\"], [0.4444444444444444, \"#bd3786\"], [0.5555555555555556, \"#d8576b\"], [0.6666666666666666, \"#ed7953\"], [0.7777777777777778, \"#fb9f3a\"], [0.8888888888888888, \"#fdca26\"], [1.0, \"#f0f921\"]], \"type\": \"surface\"}], \"table\": [{\"cells\": {\"fill\": {\"color\": \"#EBF0F8\"}, \"line\": {\"color\": \"white\"}}, \"header\": {\"fill\": {\"color\": \"#C8D4E3\"}, \"line\": {\"color\": \"white\"}}, \"type\": \"table\"}]}, \"layout\": {\"annotationdefaults\": {\"arrowcolor\": \"#2a3f5f\", \"arrowhead\": 0, \"arrowwidth\": 1}, \"coloraxis\": {\"colorbar\": {\"outlinewidth\": 0, \"ticks\": \"\"}}, \"colorscale\": {\"diverging\": [[0, \"#8e0152\"], [0.1, \"#c51b7d\"], [0.2, \"#de77ae\"], [0.3, \"#f1b6da\"], [0.4, \"#fde0ef\"], [0.5, \"#f7f7f7\"], [0.6, \"#e6f5d0\"], [0.7, \"#b8e186\"], [0.8, \"#7fbc41\"], [0.9, \"#4d9221\"], [1, \"#276419\"]], \"sequential\": [[0.0, \"#0d0887\"], [0.1111111111111111, \"#46039f\"], [0.2222222222222222, \"#7201a8\"], [0.3333333333333333, \"#9c179e\"], [0.4444444444444444, \"#bd3786\"], [0.5555555555555556, \"#d8576b\"], [0.6666666666666666, \"#ed7953\"], [0.7777777777777778, \"#fb9f3a\"], [0.8888888888888888, \"#fdca26\"], [1.0, \"#f0f921\"]], \"sequentialminus\": [[0.0, \"#0d0887\"], [0.1111111111111111, \"#46039f\"], [0.2222222222222222, \"#7201a8\"], [0.3333333333333333, \"#9c179e\"], [0.4444444444444444, \"#bd3786\"], [0.5555555555555556, \"#d8576b\"], [0.6666666666666666, \"#ed7953\"], [0.7777777777777778, \"#fb9f3a\"], [0.8888888888888888, \"#fdca26\"], [1.0, \"#f0f921\"]]}, \"colorway\": [\"#636efa\", \"#EF553B\", \"#00cc96\", \"#ab63fa\", \"#FFA15A\", \"#19d3f3\", \"#FF6692\", \"#B6E880\", \"#FF97FF\", \"#FECB52\"], \"font\": {\"color\": \"#2a3f5f\"}, \"geo\": {\"bgcolor\": \"white\", \"lakecolor\": \"white\", \"landcolor\": \"white\", \"showlakes\": true, \"showland\": true, \"subunitcolor\": \"#C8D4E3\"}, \"hoverlabel\": {\"align\": \"left\"}, \"hovermode\": \"closest\", \"mapbox\": {\"style\": \"light\"}, \"paper_bgcolor\": \"white\", \"plot_bgcolor\": \"white\", \"polar\": {\"angularaxis\": {\"gridcolor\": \"#EBF0F8\", \"linecolor\": \"#EBF0F8\", \"ticks\": \"\"}, \"bgcolor\": \"white\", \"radialaxis\": {\"gridcolor\": \"#EBF0F8\", \"linecolor\": \"#EBF0F8\", \"ticks\": \"\"}}, \"scene\": {\"xaxis\": {\"backgroundcolor\": \"white\", \"gridcolor\": \"#DFE8F3\", \"gridwidth\": 2, \"linecolor\": \"#EBF0F8\", \"showbackground\": true, \"ticks\": \"\", \"zerolinecolor\": \"#EBF0F8\"}, \"yaxis\": {\"backgroundcolor\": \"white\", \"gridcolor\": \"#DFE8F3\", \"gridwidth\": 2, \"linecolor\": \"#EBF0F8\", \"showbackground\": true, \"ticks\": \"\", \"zerolinecolor\": \"#EBF0F8\"}, \"zaxis\": {\"backgroundcolor\": \"white\", \"gridcolor\": \"#DFE8F3\", \"gridwidth\": 2, \"linecolor\": \"#EBF0F8\", \"showbackground\": true, \"ticks\": \"\", \"zerolinecolor\": \"#EBF0F8\"}}, \"shapedefaults\": {\"line\": {\"color\": \"#2a3f5f\"}}, \"ternary\": {\"aaxis\": {\"gridcolor\": \"#DFE8F3\", \"linecolor\": \"#A2B1C6\", \"ticks\": \"\"}, \"baxis\": {\"gridcolor\": \"#DFE8F3\", \"linecolor\": \"#A2B1C6\", \"ticks\": \"\"}, \"bgcolor\": \"white\", \"caxis\": {\"gridcolor\": \"#DFE8F3\", \"linecolor\": \"#A2B1C6\", \"ticks\": \"\"}}, \"title\": {\"x\": 0.05}, \"xaxis\": {\"automargin\": true, \"gridcolor\": \"#EBF0F8\", \"linecolor\": \"#EBF0F8\", \"ticks\": \"\", \"title\": {\"standoff\": 15}, \"zerolinecolor\": \"#EBF0F8\", \"zerolinewidth\": 2}, \"yaxis\": {\"automargin\": true, \"gridcolor\": \"#EBF0F8\", \"linecolor\": \"#EBF0F8\", \"ticks\": \"\", \"title\": {\"standoff\": 15}, \"zerolinecolor\": \"#EBF0F8\", \"zerolinewidth\": 2}}}, \"title\": {\"text\": \"Gr\\u00e1fico da silhueta\"}, \"xaxis\": {\"anchor\": \"y\", \"domain\": [0.0, 0.45], \"title\": {\"text\": \"O valor do coeficiente da silhueta\"}}, \"xaxis2\": {\"anchor\": \"y2\", \"domain\": [0.55, 1.0], \"title\": {\"text\": \"PCA1\"}}, \"yaxis\": {\"anchor\": \"x\", \"domain\": [0.0, 1.0], \"title\": {\"text\": \"Observa\\u00e7\\u00f5es da silhueta de v\\u00e1rios clusters\"}}, \"yaxis2\": {\"anchor\": \"x2\", \"domain\": [0.0, 1.0], \"title\": {\"text\": \"PCA2\"}}},\n",
              "                        {\"responsive\": true}\n",
              "                    ).then(function(){\n",
              "                            \n",
              "var gd = document.getElementById('067f97db-5f92-4709-b5e6-f5232a7c274c');\n",
              "var x = new MutationObserver(function (mutations, observer) {{\n",
              "        var display = window.getComputedStyle(gd).display;\n",
              "        if (!display || display === 'none') {{\n",
              "            console.log([gd, 'removed!']);\n",
              "            Plotly.purge(gd);\n",
              "            observer.disconnect();\n",
              "        }}\n",
              "}});\n",
              "\n",
              "// Listen for the removal of the full notebook cells\n",
              "var notebookContainer = gd.closest('#notebook-container');\n",
              "if (notebookContainer) {{\n",
              "    x.observe(notebookContainer, {childList: true});\n",
              "}}\n",
              "\n",
              "// Listen for the clearing of the current output cell\n",
              "var outputEl = gd.closest('.output');\n",
              "if (outputEl) {{\n",
              "    x.observe(outputEl, {childList: true});\n",
              "}}\n",
              "\n",
              "                        })\n",
              "                };\n",
              "                \n",
              "            </script>\n",
              "        </div>\n",
              "</body>\n",
              "</html>"
            ]
          },
          "metadata": {}
        },
        {
          "output_type": "stream",
          "text": [
            "O agrupmento para n_grupos = 6 A médias da  silhueta é : 0.3872438388531633\n"
          ],
          "name": "stdout"
        },
        {
          "output_type": "display_data",
          "data": {
            "text/html": [
              "<html>\n",
              "<head><meta charset=\"utf-8\" /></head>\n",
              "<body>\n",
              "    <div>\n",
              "            <script src=\"https://cdnjs.cloudflare.com/ajax/libs/mathjax/2.7.5/MathJax.js?config=TeX-AMS-MML_SVG\"></script><script type=\"text/javascript\">if (window.MathJax) {MathJax.Hub.Config({SVG: {font: \"STIX-Web\"}});}</script>\n",
              "                <script type=\"text/javascript\">window.PlotlyConfig = {MathJaxConfig: 'local'};</script>\n",
              "        <script src=\"https://cdn.plot.ly/plotly-latest.min.js\"></script>    \n",
              "            <div id=\"29c7a0a8-fffb-4290-a068-f932882a45dc\" class=\"plotly-graph-div\" style=\"height:525px; width:100%;\"></div>\n",
              "            <script type=\"text/javascript\">\n",
              "                \n",
              "                    window.PLOTLYENV=window.PLOTLYENV || {};\n",
              "                    \n",
              "                if (document.getElementById(\"29c7a0a8-fffb-4290-a068-f932882a45dc\")) {\n",
              "                    Plotly.newPlot(\n",
              "                        '29c7a0a8-fffb-4290-a068-f932882a45dc',\n",
              "                        [{\"fill\": \"tozerox\", \"line\": {\"color\": \"rgb(31, 119, 180)\"}, \"mode\": \"lines\", \"type\": \"scatter\", \"x\": [-0.17145695921076476, -0.1536160166374469, 0.13210576556030082, 0.18670851702886232, 0.21683045620357802, 0.27001352294140785, 0.2709253024617529, 0.2966179333936806, 0.3269380725913402, 0.3274443523581837], \"xaxis\": \"x\", \"y\": [10, 11, 12, 13, 14, 15, 16, 17, 18, 19], \"yaxis\": \"y\"}, {\"marker\": {\"color\": \"rgb(31, 119, 180)\", \"line\": {\"color\": \"DarkSlateGrey\", \"width\": 1}, \"size\": 18}, \"mode\": \"markers+text\", \"text\": [\"AP\", \"BA\", \"DF\", \"ES\", \"MG\", \"PA\", \"PR\", \"RN\", \"RS\", \"SC\"], \"type\": \"scatter\", \"x\": [-0.30800753073535875, 0.561306327659138, -0.8940518431660681, -0.45788940796927013, 0.05617797106697593, -0.29977103695459384, 1.3068710129256094, -1.5392683570368009, -0.9865442733231092, -0.7179547680471532], \"xaxis\": \"x2\", \"y\": [-0.2894574665092658, -1.013463188487865, -2.2885611031282567, 0.484331692142943, -1.9141807238500737, 1.5027986617666684, -2.870167364448674, -1.4426276940461353, -1.2420872547692658, -1.6352024237096143], \"yaxis\": \"y2\"}, {\"fill\": \"tozerox\", \"line\": {\"color\": \"rgb(255, 127, 14)\"}, \"mode\": \"lines\", \"type\": \"scatter\", \"x\": [0.27940328957148813, 0.3393747163259346, 0.4220012973266026], \"xaxis\": \"x\", \"y\": [25, 26, 27], \"yaxis\": \"y\"}, {\"marker\": {\"color\": \"rgb(255, 127, 14)\", \"line\": {\"color\": \"DarkSlateGrey\", \"width\": 1}, \"size\": 18}, \"mode\": \"markers+text\", \"text\": [\"AM\", \"MA\", \"RJ\"], \"type\": \"scatter\", \"x\": [5.6519064658378735, 2.9839713206385525, 4.432531400234558], \"xaxis\": \"x2\", \"y\": [-1.6277939886765642, 1.4044724906673753, 2.3828529591133787], \"yaxis\": \"y2\"}, {\"fill\": \"tozerox\", \"line\": {\"color\": \"rgb(44, 160, 44)\"}, \"mode\": \"lines\", \"type\": \"scatter\", \"x\": [0.0], \"xaxis\": \"x\", \"y\": [33], \"yaxis\": \"y\"}, {\"marker\": {\"color\": \"rgb(44, 160, 44)\", \"line\": {\"color\": \"DarkSlateGrey\", \"width\": 1}, \"size\": 18}, \"mode\": \"markers+text\", \"text\": [\"PE\"], \"type\": \"scatter\", \"x\": [5.474119452114708], \"xaxis\": \"x2\", \"y\": [3.0115576251339493], \"yaxis\": \"y2\"}, {\"fill\": \"tozerox\", \"line\": {\"color\": \"rgb(214, 39, 40)\"}, \"mode\": \"lines\", \"type\": \"scatter\", \"x\": [0.5741108711538632, 0.587919569179525, 0.6651452147085809, 0.6657724588097415, 0.7029136288653249, 0.7082648580996614, 0.7429594767142739, 0.7435837981149926, 0.7585059131532857, 0.7809688400271037, 0.7821487702941374], \"xaxis\": \"x\", \"y\": [39, 40, 41, 42, 43, 44, 45, 46, 47, 48, 49], \"yaxis\": \"y\"}, {\"marker\": {\"color\": \"rgb(214, 39, 40)\", \"line\": {\"color\": \"DarkSlateGrey\", \"width\": 1}, \"size\": 18}, \"mode\": \"markers+text\", \"text\": [\"AC\", \"AL\", \"GO\", \"MS\", \"MT\", \"PB\", \"PI\", \"RO\", \"RR\", \"SE\", \"TO\"], \"type\": \"scatter\", \"x\": [-3.3776897205883727, -2.2139115414765067, -3.18559774027896, -3.8537506340141676, -3.4702228948777116, -3.036755995336658, -3.6510805750974042, -2.78875527792322, -2.2306266674976825, -3.4772189157566538, -3.684748716532453], \"xaxis\": \"x2\", \"y\": [-0.19145213587583315, 1.5948322476074273, -0.0734957306006054, -0.1928302233856868, 0.028203375321023842, 0.7113701272897704, 0.5312045291467371, 1.0059006050206156, -0.1333362428864694, 0.8420282110628527, 1.1291011920632719], \"yaxis\": \"y2\"}, {\"fill\": \"tozerox\", \"line\": {\"color\": \"rgb(148, 103, 189)\"}, \"mode\": \"lines\", \"type\": \"scatter\", \"x\": [0.0], \"xaxis\": \"x\", \"y\": [55], \"yaxis\": \"y\"}, {\"marker\": {\"color\": \"rgb(148, 103, 189)\", \"line\": {\"color\": \"DarkSlateGrey\", \"width\": 1}, \"size\": 18}, \"mode\": \"markers+text\", \"text\": [\"SP\"], \"type\": \"scatter\", \"x\": [9.034639530608295], \"xaxis\": \"x2\", \"y\": [6.744722196204588], \"yaxis\": \"y2\"}, {\"fill\": \"tozerox\", \"line\": {\"color\": \"rgb(140, 86, 75)\"}, \"mode\": \"lines\", \"type\": \"scatter\", \"x\": [0.0], \"xaxis\": \"x\", \"y\": [61], \"yaxis\": \"y\"}, {\"marker\": {\"color\": \"rgb(140, 86, 75)\", \"line\": {\"color\": \"DarkSlateGrey\", \"width\": 1}, \"size\": 18}, \"mode\": \"markers+text\", \"text\": [\"CE\"], \"type\": \"scatter\", \"x\": [10.672322415526432], \"xaxis\": \"x2\", \"y\": [-6.458720372166291], \"yaxis\": \"y2\"}],\n",
              "                        {\"shapes\": [{\"line\": {\"color\": \"Red\", \"dash\": \"dashdot\", \"width\": 2}, \"type\": \"line\", \"x0\": 0.3872438388531633, \"x1\": 0.3872438388531633, \"xref\": \"x\", \"y0\": 0, \"y1\": 1, \"yref\": \"paper\"}], \"showlegend\": false, \"template\": {\"data\": {\"bar\": [{\"error_x\": {\"color\": \"#2a3f5f\"}, \"error_y\": {\"color\": \"#2a3f5f\"}, \"marker\": {\"line\": {\"color\": \"white\", \"width\": 0.5}}, \"type\": \"bar\"}], \"barpolar\": [{\"marker\": {\"line\": {\"color\": \"white\", \"width\": 0.5}}, \"type\": \"barpolar\"}], \"carpet\": [{\"aaxis\": {\"endlinecolor\": \"#2a3f5f\", \"gridcolor\": \"#C8D4E3\", \"linecolor\": \"#C8D4E3\", \"minorgridcolor\": \"#C8D4E3\", \"startlinecolor\": \"#2a3f5f\"}, \"baxis\": {\"endlinecolor\": \"#2a3f5f\", \"gridcolor\": \"#C8D4E3\", \"linecolor\": \"#C8D4E3\", \"minorgridcolor\": \"#C8D4E3\", \"startlinecolor\": \"#2a3f5f\"}, \"type\": \"carpet\"}], \"choropleth\": [{\"colorbar\": {\"outlinewidth\": 0, \"ticks\": \"\"}, \"type\": \"choropleth\"}], \"contour\": [{\"colorbar\": {\"outlinewidth\": 0, \"ticks\": \"\"}, \"colorscale\": [[0.0, \"#0d0887\"], [0.1111111111111111, \"#46039f\"], [0.2222222222222222, \"#7201a8\"], [0.3333333333333333, \"#9c179e\"], [0.4444444444444444, \"#bd3786\"], [0.5555555555555556, \"#d8576b\"], [0.6666666666666666, \"#ed7953\"], [0.7777777777777778, \"#fb9f3a\"], [0.8888888888888888, \"#fdca26\"], [1.0, \"#f0f921\"]], \"type\": \"contour\"}], \"contourcarpet\": [{\"colorbar\": {\"outlinewidth\": 0, \"ticks\": \"\"}, \"type\": \"contourcarpet\"}], \"heatmap\": [{\"colorbar\": {\"outlinewidth\": 0, \"ticks\": \"\"}, \"colorscale\": [[0.0, \"#0d0887\"], [0.1111111111111111, \"#46039f\"], [0.2222222222222222, \"#7201a8\"], [0.3333333333333333, \"#9c179e\"], [0.4444444444444444, \"#bd3786\"], [0.5555555555555556, \"#d8576b\"], [0.6666666666666666, \"#ed7953\"], [0.7777777777777778, \"#fb9f3a\"], [0.8888888888888888, \"#fdca26\"], [1.0, \"#f0f921\"]], \"type\": \"heatmap\"}], \"heatmapgl\": [{\"colorbar\": {\"outlinewidth\": 0, \"ticks\": \"\"}, \"colorscale\": [[0.0, \"#0d0887\"], [0.1111111111111111, \"#46039f\"], [0.2222222222222222, \"#7201a8\"], [0.3333333333333333, \"#9c179e\"], [0.4444444444444444, \"#bd3786\"], [0.5555555555555556, \"#d8576b\"], [0.6666666666666666, \"#ed7953\"], [0.7777777777777778, \"#fb9f3a\"], [0.8888888888888888, \"#fdca26\"], [1.0, \"#f0f921\"]], \"type\": \"heatmapgl\"}], \"histogram\": [{\"marker\": {\"colorbar\": {\"outlinewidth\": 0, \"ticks\": \"\"}}, \"type\": \"histogram\"}], \"histogram2d\": [{\"colorbar\": {\"outlinewidth\": 0, \"ticks\": \"\"}, \"colorscale\": [[0.0, \"#0d0887\"], [0.1111111111111111, \"#46039f\"], [0.2222222222222222, \"#7201a8\"], [0.3333333333333333, \"#9c179e\"], [0.4444444444444444, \"#bd3786\"], [0.5555555555555556, \"#d8576b\"], [0.6666666666666666, \"#ed7953\"], [0.7777777777777778, \"#fb9f3a\"], [0.8888888888888888, \"#fdca26\"], [1.0, \"#f0f921\"]], \"type\": \"histogram2d\"}], \"histogram2dcontour\": [{\"colorbar\": {\"outlinewidth\": 0, \"ticks\": \"\"}, \"colorscale\": [[0.0, \"#0d0887\"], [0.1111111111111111, \"#46039f\"], [0.2222222222222222, \"#7201a8\"], [0.3333333333333333, \"#9c179e\"], [0.4444444444444444, \"#bd3786\"], [0.5555555555555556, \"#d8576b\"], [0.6666666666666666, \"#ed7953\"], [0.7777777777777778, \"#fb9f3a\"], [0.8888888888888888, \"#fdca26\"], [1.0, \"#f0f921\"]], \"type\": \"histogram2dcontour\"}], \"mesh3d\": [{\"colorbar\": {\"outlinewidth\": 0, \"ticks\": \"\"}, \"type\": \"mesh3d\"}], \"parcoords\": [{\"line\": {\"colorbar\": {\"outlinewidth\": 0, \"ticks\": \"\"}}, \"type\": \"parcoords\"}], \"pie\": [{\"automargin\": true, \"type\": \"pie\"}], \"scatter\": [{\"marker\": {\"colorbar\": {\"outlinewidth\": 0, \"ticks\": \"\"}}, \"type\": \"scatter\"}], \"scatter3d\": [{\"line\": {\"colorbar\": {\"outlinewidth\": 0, \"ticks\": \"\"}}, \"marker\": {\"colorbar\": {\"outlinewidth\": 0, \"ticks\": \"\"}}, \"type\": \"scatter3d\"}], \"scattercarpet\": [{\"marker\": {\"colorbar\": {\"outlinewidth\": 0, \"ticks\": \"\"}}, \"type\": \"scattercarpet\"}], \"scattergeo\": [{\"marker\": {\"colorbar\": {\"outlinewidth\": 0, \"ticks\": \"\"}}, \"type\": \"scattergeo\"}], \"scattergl\": [{\"marker\": {\"colorbar\": {\"outlinewidth\": 0, \"ticks\": \"\"}}, \"type\": \"scattergl\"}], \"scattermapbox\": [{\"marker\": {\"colorbar\": {\"outlinewidth\": 0, \"ticks\": \"\"}}, \"type\": \"scattermapbox\"}], \"scatterpolar\": [{\"marker\": {\"colorbar\": {\"outlinewidth\": 0, \"ticks\": \"\"}}, \"type\": \"scatterpolar\"}], \"scatterpolargl\": [{\"marker\": {\"colorbar\": {\"outlinewidth\": 0, \"ticks\": \"\"}}, \"type\": \"scatterpolargl\"}], \"scatterternary\": [{\"marker\": {\"colorbar\": {\"outlinewidth\": 0, \"ticks\": \"\"}}, \"type\": \"scatterternary\"}], \"surface\": [{\"colorbar\": {\"outlinewidth\": 0, \"ticks\": \"\"}, \"colorscale\": [[0.0, \"#0d0887\"], [0.1111111111111111, \"#46039f\"], [0.2222222222222222, \"#7201a8\"], [0.3333333333333333, \"#9c179e\"], [0.4444444444444444, \"#bd3786\"], [0.5555555555555556, \"#d8576b\"], [0.6666666666666666, \"#ed7953\"], [0.7777777777777778, \"#fb9f3a\"], [0.8888888888888888, \"#fdca26\"], [1.0, \"#f0f921\"]], \"type\": \"surface\"}], \"table\": [{\"cells\": {\"fill\": {\"color\": \"#EBF0F8\"}, \"line\": {\"color\": \"white\"}}, \"header\": {\"fill\": {\"color\": \"#C8D4E3\"}, \"line\": {\"color\": \"white\"}}, \"type\": \"table\"}]}, \"layout\": {\"annotationdefaults\": {\"arrowcolor\": \"#2a3f5f\", \"arrowhead\": 0, \"arrowwidth\": 1}, \"coloraxis\": {\"colorbar\": {\"outlinewidth\": 0, \"ticks\": \"\"}}, \"colorscale\": {\"diverging\": [[0, \"#8e0152\"], [0.1, \"#c51b7d\"], [0.2, \"#de77ae\"], [0.3, \"#f1b6da\"], [0.4, \"#fde0ef\"], [0.5, \"#f7f7f7\"], [0.6, \"#e6f5d0\"], [0.7, \"#b8e186\"], [0.8, \"#7fbc41\"], [0.9, \"#4d9221\"], [1, \"#276419\"]], \"sequential\": [[0.0, \"#0d0887\"], [0.1111111111111111, \"#46039f\"], [0.2222222222222222, \"#7201a8\"], [0.3333333333333333, \"#9c179e\"], [0.4444444444444444, \"#bd3786\"], [0.5555555555555556, \"#d8576b\"], [0.6666666666666666, \"#ed7953\"], [0.7777777777777778, \"#fb9f3a\"], [0.8888888888888888, \"#fdca26\"], [1.0, \"#f0f921\"]], \"sequentialminus\": [[0.0, \"#0d0887\"], [0.1111111111111111, \"#46039f\"], [0.2222222222222222, \"#7201a8\"], [0.3333333333333333, \"#9c179e\"], [0.4444444444444444, \"#bd3786\"], [0.5555555555555556, \"#d8576b\"], [0.6666666666666666, \"#ed7953\"], [0.7777777777777778, \"#fb9f3a\"], [0.8888888888888888, \"#fdca26\"], [1.0, \"#f0f921\"]]}, \"colorway\": [\"#636efa\", \"#EF553B\", \"#00cc96\", \"#ab63fa\", \"#FFA15A\", \"#19d3f3\", \"#FF6692\", \"#B6E880\", \"#FF97FF\", \"#FECB52\"], \"font\": {\"color\": \"#2a3f5f\"}, \"geo\": {\"bgcolor\": \"white\", \"lakecolor\": \"white\", \"landcolor\": \"white\", \"showlakes\": true, \"showland\": true, \"subunitcolor\": \"#C8D4E3\"}, \"hoverlabel\": {\"align\": \"left\"}, \"hovermode\": \"closest\", \"mapbox\": {\"style\": \"light\"}, \"paper_bgcolor\": \"white\", \"plot_bgcolor\": \"white\", \"polar\": {\"angularaxis\": {\"gridcolor\": \"#EBF0F8\", \"linecolor\": \"#EBF0F8\", \"ticks\": \"\"}, \"bgcolor\": \"white\", \"radialaxis\": {\"gridcolor\": \"#EBF0F8\", \"linecolor\": \"#EBF0F8\", \"ticks\": \"\"}}, \"scene\": {\"xaxis\": {\"backgroundcolor\": \"white\", \"gridcolor\": \"#DFE8F3\", \"gridwidth\": 2, \"linecolor\": \"#EBF0F8\", \"showbackground\": true, \"ticks\": \"\", \"zerolinecolor\": \"#EBF0F8\"}, \"yaxis\": {\"backgroundcolor\": \"white\", \"gridcolor\": \"#DFE8F3\", \"gridwidth\": 2, \"linecolor\": \"#EBF0F8\", \"showbackground\": true, \"ticks\": \"\", \"zerolinecolor\": \"#EBF0F8\"}, \"zaxis\": {\"backgroundcolor\": \"white\", \"gridcolor\": \"#DFE8F3\", \"gridwidth\": 2, \"linecolor\": \"#EBF0F8\", \"showbackground\": true, \"ticks\": \"\", \"zerolinecolor\": \"#EBF0F8\"}}, \"shapedefaults\": {\"line\": {\"color\": \"#2a3f5f\"}}, \"ternary\": {\"aaxis\": {\"gridcolor\": \"#DFE8F3\", \"linecolor\": \"#A2B1C6\", \"ticks\": \"\"}, \"baxis\": {\"gridcolor\": \"#DFE8F3\", \"linecolor\": \"#A2B1C6\", \"ticks\": \"\"}, \"bgcolor\": \"white\", \"caxis\": {\"gridcolor\": \"#DFE8F3\", \"linecolor\": \"#A2B1C6\", \"ticks\": \"\"}}, \"title\": {\"x\": 0.05}, \"xaxis\": {\"automargin\": true, \"gridcolor\": \"#EBF0F8\", \"linecolor\": \"#EBF0F8\", \"ticks\": \"\", \"title\": {\"standoff\": 15}, \"zerolinecolor\": \"#EBF0F8\", \"zerolinewidth\": 2}, \"yaxis\": {\"automargin\": true, \"gridcolor\": \"#EBF0F8\", \"linecolor\": \"#EBF0F8\", \"ticks\": \"\", \"title\": {\"standoff\": 15}, \"zerolinecolor\": \"#EBF0F8\", \"zerolinewidth\": 2}}}, \"title\": {\"text\": \"Gr\\u00e1fico da silhueta\"}, \"xaxis\": {\"anchor\": \"y\", \"domain\": [0.0, 0.45], \"title\": {\"text\": \"O valor do coeficiente da silhueta\"}}, \"xaxis2\": {\"anchor\": \"y2\", \"domain\": [0.55, 1.0], \"title\": {\"text\": \"PCA1\"}}, \"yaxis\": {\"anchor\": \"x\", \"domain\": [0.0, 1.0], \"title\": {\"text\": \"Observa\\u00e7\\u00f5es da silhueta de v\\u00e1rios clusters\"}}, \"yaxis2\": {\"anchor\": \"x2\", \"domain\": [0.0, 1.0], \"title\": {\"text\": \"PCA2\"}}},\n",
              "                        {\"responsive\": true}\n",
              "                    ).then(function(){\n",
              "                            \n",
              "var gd = document.getElementById('29c7a0a8-fffb-4290-a068-f932882a45dc');\n",
              "var x = new MutationObserver(function (mutations, observer) {{\n",
              "        var display = window.getComputedStyle(gd).display;\n",
              "        if (!display || display === 'none') {{\n",
              "            console.log([gd, 'removed!']);\n",
              "            Plotly.purge(gd);\n",
              "            observer.disconnect();\n",
              "        }}\n",
              "}});\n",
              "\n",
              "// Listen for the removal of the full notebook cells\n",
              "var notebookContainer = gd.closest('#notebook-container');\n",
              "if (notebookContainer) {{\n",
              "    x.observe(notebookContainer, {childList: true});\n",
              "}}\n",
              "\n",
              "// Listen for the clearing of the current output cell\n",
              "var outputEl = gd.closest('.output');\n",
              "if (outputEl) {{\n",
              "    x.observe(outputEl, {childList: true});\n",
              "}}\n",
              "\n",
              "                        })\n",
              "                };\n",
              "                \n",
              "            </script>\n",
              "        </div>\n",
              "</body>\n",
              "</html>"
            ]
          },
          "metadata": {}
        },
        {
          "output_type": "stream",
          "text": [
            "O agrupmento para n_grupos = 7 A médias da  silhueta é : 0.3829551117131214\n"
          ],
          "name": "stdout"
        },
        {
          "output_type": "display_data",
          "data": {
            "text/html": [
              "<html>\n",
              "<head><meta charset=\"utf-8\" /></head>\n",
              "<body>\n",
              "    <div>\n",
              "            <script src=\"https://cdnjs.cloudflare.com/ajax/libs/mathjax/2.7.5/MathJax.js?config=TeX-AMS-MML_SVG\"></script><script type=\"text/javascript\">if (window.MathJax) {MathJax.Hub.Config({SVG: {font: \"STIX-Web\"}});}</script>\n",
              "                <script type=\"text/javascript\">window.PlotlyConfig = {MathJaxConfig: 'local'};</script>\n",
              "        <script src=\"https://cdn.plot.ly/plotly-latest.min.js\"></script>    \n",
              "            <div id=\"746537fb-139c-423c-9b5d-2928b44296eb\" class=\"plotly-graph-div\" style=\"height:525px; width:100%;\"></div>\n",
              "            <script type=\"text/javascript\">\n",
              "                \n",
              "                    window.PLOTLYENV=window.PLOTLYENV || {};\n",
              "                    \n",
              "                if (document.getElementById(\"746537fb-139c-423c-9b5d-2928b44296eb\")) {\n",
              "                    Plotly.newPlot(\n",
              "                        '746537fb-139c-423c-9b5d-2928b44296eb',\n",
              "                        [{\"fill\": \"tozerox\", \"line\": {\"color\": \"rgb(31, 119, 180)\"}, \"mode\": \"lines\", \"type\": \"scatter\", \"x\": [-0.15545241631143672, -0.07286152406825337, 0.049315454501252576, 0.2969191627381117, 0.31563790132985303, 0.36038748608655663, 0.3638695142028963, 0.38105999212318686], \"xaxis\": \"x\", \"y\": [10, 11, 12, 13, 14, 15, 16, 17], \"yaxis\": \"y\"}, {\"marker\": {\"color\": \"rgb(31, 119, 180)\", \"line\": {\"color\": \"DarkSlateGrey\", \"width\": 1}, \"size\": 18}, \"mode\": \"markers+text\", \"text\": [\"AP\", \"BA\", \"DF\", \"ES\", \"PA\", \"RN\", \"RS\", \"SC\"], \"type\": \"scatter\", \"x\": [-0.30800753073535875, 0.561306327659138, -0.8940518431660681, -0.45788940796927013, -0.29977103695459384, -1.5392683570368009, -0.9865442733231092, -0.7179547680471532], \"xaxis\": \"x2\", \"y\": [-0.2894574665092658, -1.013463188487865, -2.2885611031282567, 0.484331692142943, 1.5027986617666684, -1.4426276940461353, -1.2420872547692658, -1.6352024237096143], \"yaxis\": \"y2\"}, {\"fill\": \"tozerox\", \"line\": {\"color\": \"rgb(255, 127, 14)\"}, \"mode\": \"lines\", \"type\": \"scatter\", \"x\": [0.22441327751486428, 0.30116913106234, 0.39102736537155813], \"xaxis\": \"x\", \"y\": [23, 24, 25], \"yaxis\": \"y\"}, {\"marker\": {\"color\": \"rgb(255, 127, 14)\", \"line\": {\"color\": \"DarkSlateGrey\", \"width\": 1}, \"size\": 18}, \"mode\": \"markers+text\", \"text\": [\"AM\", \"MA\", \"RJ\"], \"type\": \"scatter\", \"x\": [5.6519064658378735, 2.9839713206385525, 4.432531400234558], \"xaxis\": \"x2\", \"y\": [-1.6277939886765642, 1.4044724906673753, 2.3828529591133787], \"yaxis\": \"y2\"}, {\"fill\": \"tozerox\", \"line\": {\"color\": \"rgb(44, 160, 44)\"}, \"mode\": \"lines\", \"type\": \"scatter\", \"x\": [0.08960391371199097, 0.2913944899776593], \"xaxis\": \"x\", \"y\": [31, 32], \"yaxis\": \"y\"}, {\"marker\": {\"color\": \"rgb(44, 160, 44)\", \"line\": {\"color\": \"DarkSlateGrey\", \"width\": 1}, \"size\": 18}, \"mode\": \"markers+text\", \"text\": [\"MG\", \"PR\"], \"type\": \"scatter\", \"x\": [0.05617797106697593, 1.3068710129256094], \"xaxis\": \"x2\", \"y\": [-1.9141807238500737, -2.870167364448674], \"yaxis\": \"y2\"}, {\"fill\": \"tozerox\", \"line\": {\"color\": \"rgb(214, 39, 40)\"}, \"mode\": \"lines\", \"type\": \"scatter\", \"x\": [0.5347063000952, 0.5683476790022839, 0.6397106381921368, 0.6577292498340188, 0.6825058662627528, 0.6920887835923596, 0.7233938867247681, 0.7303926364454502, 0.739733155161016, 0.7659835443874414, 0.768712528316271], \"xaxis\": \"x\", \"y\": [38, 39, 40, 41, 42, 43, 44, 45, 46, 47, 48], \"yaxis\": \"y\"}, {\"marker\": {\"color\": \"rgb(214, 39, 40)\", \"line\": {\"color\": \"DarkSlateGrey\", \"width\": 1}, \"size\": 18}, \"mode\": \"markers+text\", \"text\": [\"AC\", \"AL\", \"GO\", \"MS\", \"MT\", \"PB\", \"PI\", \"RO\", \"RR\", \"SE\", \"TO\"], \"type\": \"scatter\", \"x\": [-3.3776897205883727, -2.2139115414765067, -3.18559774027896, -3.8537506340141676, -3.4702228948777116, -3.036755995336658, -3.6510805750974042, -2.78875527792322, -2.2306266674976825, -3.4772189157566538, -3.684748716532453], \"xaxis\": \"x2\", \"y\": [-0.19145213587583315, 1.5948322476074273, -0.0734957306006054, -0.1928302233856868, 0.028203375321023842, 0.7113701272897704, 0.5312045291467371, 1.0059006050206156, -0.1333362428864694, 0.8420282110628527, 1.1291011920632719], \"yaxis\": \"y2\"}, {\"fill\": \"tozerox\", \"line\": {\"color\": \"rgb(148, 103, 189)\"}, \"mode\": \"lines\", \"type\": \"scatter\", \"x\": [0.0], \"xaxis\": \"x\", \"y\": [54], \"yaxis\": \"y\"}, {\"marker\": {\"color\": \"rgb(148, 103, 189)\", \"line\": {\"color\": \"DarkSlateGrey\", \"width\": 1}, \"size\": 18}, \"mode\": \"markers+text\", \"text\": [\"SP\"], \"type\": \"scatter\", \"x\": [9.034639530608295], \"xaxis\": \"x2\", \"y\": [6.744722196204588], \"yaxis\": \"y2\"}, {\"fill\": \"tozerox\", \"line\": {\"color\": \"rgb(140, 86, 75)\"}, \"mode\": \"lines\", \"type\": \"scatter\", \"x\": [0.0], \"xaxis\": \"x\", \"y\": [60], \"yaxis\": \"y\"}, {\"marker\": {\"color\": \"rgb(140, 86, 75)\", \"line\": {\"color\": \"DarkSlateGrey\", \"width\": 1}, \"size\": 18}, \"mode\": \"markers+text\", \"text\": [\"CE\"], \"type\": \"scatter\", \"x\": [10.672322415526432], \"xaxis\": \"x2\", \"y\": [-6.458720372166291], \"yaxis\": \"y2\"}, {\"fill\": \"tozerox\", \"line\": {\"color\": \"rgb(227, 119, 194)\"}, \"mode\": \"lines\", \"type\": \"scatter\", \"x\": [0.0], \"xaxis\": \"x\", \"y\": [66], \"yaxis\": \"y\"}, {\"marker\": {\"color\": \"rgb(227, 119, 194)\", \"line\": {\"color\": \"DarkSlateGrey\", \"width\": 1}, \"size\": 18}, \"mode\": \"markers+text\", \"text\": [\"PE\"], \"type\": \"scatter\", \"x\": [5.474119452114708], \"xaxis\": \"x2\", \"y\": [3.0115576251339493], \"yaxis\": \"y2\"}],\n",
              "                        {\"shapes\": [{\"line\": {\"color\": \"Red\", \"dash\": \"dashdot\", \"width\": 2}, \"type\": \"line\", \"x0\": 0.3829551117131214, \"x1\": 0.3829551117131214, \"xref\": \"x\", \"y0\": 0, \"y1\": 1, \"yref\": \"paper\"}], \"showlegend\": false, \"template\": {\"data\": {\"bar\": [{\"error_x\": {\"color\": \"#2a3f5f\"}, \"error_y\": {\"color\": \"#2a3f5f\"}, \"marker\": {\"line\": {\"color\": \"white\", \"width\": 0.5}}, \"type\": \"bar\"}], \"barpolar\": [{\"marker\": {\"line\": {\"color\": \"white\", \"width\": 0.5}}, \"type\": \"barpolar\"}], \"carpet\": [{\"aaxis\": {\"endlinecolor\": \"#2a3f5f\", \"gridcolor\": \"#C8D4E3\", \"linecolor\": \"#C8D4E3\", \"minorgridcolor\": \"#C8D4E3\", \"startlinecolor\": \"#2a3f5f\"}, \"baxis\": {\"endlinecolor\": \"#2a3f5f\", \"gridcolor\": \"#C8D4E3\", \"linecolor\": \"#C8D4E3\", \"minorgridcolor\": \"#C8D4E3\", \"startlinecolor\": \"#2a3f5f\"}, \"type\": \"carpet\"}], \"choropleth\": [{\"colorbar\": {\"outlinewidth\": 0, \"ticks\": \"\"}, \"type\": \"choropleth\"}], \"contour\": [{\"colorbar\": {\"outlinewidth\": 0, \"ticks\": \"\"}, \"colorscale\": [[0.0, \"#0d0887\"], [0.1111111111111111, \"#46039f\"], [0.2222222222222222, \"#7201a8\"], [0.3333333333333333, \"#9c179e\"], [0.4444444444444444, \"#bd3786\"], [0.5555555555555556, \"#d8576b\"], [0.6666666666666666, \"#ed7953\"], [0.7777777777777778, \"#fb9f3a\"], [0.8888888888888888, \"#fdca26\"], [1.0, \"#f0f921\"]], \"type\": \"contour\"}], \"contourcarpet\": [{\"colorbar\": {\"outlinewidth\": 0, \"ticks\": \"\"}, \"type\": \"contourcarpet\"}], \"heatmap\": [{\"colorbar\": {\"outlinewidth\": 0, \"ticks\": \"\"}, \"colorscale\": [[0.0, \"#0d0887\"], [0.1111111111111111, \"#46039f\"], [0.2222222222222222, \"#7201a8\"], [0.3333333333333333, \"#9c179e\"], [0.4444444444444444, \"#bd3786\"], [0.5555555555555556, \"#d8576b\"], [0.6666666666666666, \"#ed7953\"], [0.7777777777777778, \"#fb9f3a\"], [0.8888888888888888, \"#fdca26\"], [1.0, \"#f0f921\"]], \"type\": \"heatmap\"}], \"heatmapgl\": [{\"colorbar\": {\"outlinewidth\": 0, \"ticks\": \"\"}, \"colorscale\": [[0.0, \"#0d0887\"], [0.1111111111111111, \"#46039f\"], [0.2222222222222222, \"#7201a8\"], [0.3333333333333333, \"#9c179e\"], [0.4444444444444444, \"#bd3786\"], [0.5555555555555556, \"#d8576b\"], [0.6666666666666666, \"#ed7953\"], [0.7777777777777778, \"#fb9f3a\"], [0.8888888888888888, \"#fdca26\"], [1.0, \"#f0f921\"]], \"type\": \"heatmapgl\"}], \"histogram\": [{\"marker\": {\"colorbar\": {\"outlinewidth\": 0, \"ticks\": \"\"}}, \"type\": \"histogram\"}], \"histogram2d\": [{\"colorbar\": {\"outlinewidth\": 0, \"ticks\": \"\"}, \"colorscale\": [[0.0, \"#0d0887\"], [0.1111111111111111, \"#46039f\"], [0.2222222222222222, \"#7201a8\"], [0.3333333333333333, \"#9c179e\"], [0.4444444444444444, \"#bd3786\"], [0.5555555555555556, \"#d8576b\"], [0.6666666666666666, \"#ed7953\"], [0.7777777777777778, \"#fb9f3a\"], [0.8888888888888888, \"#fdca26\"], [1.0, \"#f0f921\"]], \"type\": \"histogram2d\"}], \"histogram2dcontour\": [{\"colorbar\": {\"outlinewidth\": 0, \"ticks\": \"\"}, \"colorscale\": [[0.0, \"#0d0887\"], [0.1111111111111111, \"#46039f\"], [0.2222222222222222, \"#7201a8\"], [0.3333333333333333, \"#9c179e\"], [0.4444444444444444, \"#bd3786\"], [0.5555555555555556, \"#d8576b\"], [0.6666666666666666, \"#ed7953\"], [0.7777777777777778, \"#fb9f3a\"], [0.8888888888888888, \"#fdca26\"], [1.0, \"#f0f921\"]], \"type\": \"histogram2dcontour\"}], \"mesh3d\": [{\"colorbar\": {\"outlinewidth\": 0, \"ticks\": \"\"}, \"type\": \"mesh3d\"}], \"parcoords\": [{\"line\": {\"colorbar\": {\"outlinewidth\": 0, \"ticks\": \"\"}}, \"type\": \"parcoords\"}], \"pie\": [{\"automargin\": true, \"type\": \"pie\"}], \"scatter\": [{\"marker\": {\"colorbar\": {\"outlinewidth\": 0, \"ticks\": \"\"}}, \"type\": \"scatter\"}], \"scatter3d\": [{\"line\": {\"colorbar\": {\"outlinewidth\": 0, \"ticks\": \"\"}}, \"marker\": {\"colorbar\": {\"outlinewidth\": 0, \"ticks\": \"\"}}, \"type\": \"scatter3d\"}], \"scattercarpet\": [{\"marker\": {\"colorbar\": {\"outlinewidth\": 0, \"ticks\": \"\"}}, \"type\": \"scattercarpet\"}], \"scattergeo\": [{\"marker\": {\"colorbar\": {\"outlinewidth\": 0, \"ticks\": \"\"}}, \"type\": \"scattergeo\"}], \"scattergl\": [{\"marker\": {\"colorbar\": {\"outlinewidth\": 0, \"ticks\": \"\"}}, \"type\": \"scattergl\"}], \"scattermapbox\": [{\"marker\": {\"colorbar\": {\"outlinewidth\": 0, \"ticks\": \"\"}}, \"type\": \"scattermapbox\"}], \"scatterpolar\": [{\"marker\": {\"colorbar\": {\"outlinewidth\": 0, \"ticks\": \"\"}}, \"type\": \"scatterpolar\"}], \"scatterpolargl\": [{\"marker\": {\"colorbar\": {\"outlinewidth\": 0, \"ticks\": \"\"}}, \"type\": \"scatterpolargl\"}], \"scatterternary\": [{\"marker\": {\"colorbar\": {\"outlinewidth\": 0, \"ticks\": \"\"}}, \"type\": \"scatterternary\"}], \"surface\": [{\"colorbar\": {\"outlinewidth\": 0, \"ticks\": \"\"}, \"colorscale\": [[0.0, \"#0d0887\"], [0.1111111111111111, \"#46039f\"], [0.2222222222222222, \"#7201a8\"], [0.3333333333333333, \"#9c179e\"], [0.4444444444444444, \"#bd3786\"], [0.5555555555555556, \"#d8576b\"], [0.6666666666666666, \"#ed7953\"], [0.7777777777777778, \"#fb9f3a\"], [0.8888888888888888, \"#fdca26\"], [1.0, \"#f0f921\"]], \"type\": \"surface\"}], \"table\": [{\"cells\": {\"fill\": {\"color\": \"#EBF0F8\"}, \"line\": {\"color\": \"white\"}}, \"header\": {\"fill\": {\"color\": \"#C8D4E3\"}, \"line\": {\"color\": \"white\"}}, \"type\": \"table\"}]}, \"layout\": {\"annotationdefaults\": {\"arrowcolor\": \"#2a3f5f\", \"arrowhead\": 0, \"arrowwidth\": 1}, \"coloraxis\": {\"colorbar\": {\"outlinewidth\": 0, \"ticks\": \"\"}}, \"colorscale\": {\"diverging\": [[0, \"#8e0152\"], [0.1, \"#c51b7d\"], [0.2, \"#de77ae\"], [0.3, \"#f1b6da\"], [0.4, \"#fde0ef\"], [0.5, \"#f7f7f7\"], [0.6, \"#e6f5d0\"], [0.7, \"#b8e186\"], [0.8, \"#7fbc41\"], [0.9, \"#4d9221\"], [1, \"#276419\"]], \"sequential\": [[0.0, \"#0d0887\"], [0.1111111111111111, \"#46039f\"], [0.2222222222222222, \"#7201a8\"], [0.3333333333333333, \"#9c179e\"], [0.4444444444444444, \"#bd3786\"], [0.5555555555555556, \"#d8576b\"], [0.6666666666666666, \"#ed7953\"], [0.7777777777777778, \"#fb9f3a\"], [0.8888888888888888, \"#fdca26\"], [1.0, \"#f0f921\"]], \"sequentialminus\": [[0.0, \"#0d0887\"], [0.1111111111111111, \"#46039f\"], [0.2222222222222222, \"#7201a8\"], [0.3333333333333333, \"#9c179e\"], [0.4444444444444444, \"#bd3786\"], [0.5555555555555556, \"#d8576b\"], [0.6666666666666666, \"#ed7953\"], [0.7777777777777778, \"#fb9f3a\"], [0.8888888888888888, \"#fdca26\"], [1.0, \"#f0f921\"]]}, \"colorway\": [\"#636efa\", \"#EF553B\", \"#00cc96\", \"#ab63fa\", \"#FFA15A\", \"#19d3f3\", \"#FF6692\", \"#B6E880\", \"#FF97FF\", \"#FECB52\"], \"font\": {\"color\": \"#2a3f5f\"}, \"geo\": {\"bgcolor\": \"white\", \"lakecolor\": \"white\", \"landcolor\": \"white\", \"showlakes\": true, \"showland\": true, \"subunitcolor\": \"#C8D4E3\"}, \"hoverlabel\": {\"align\": \"left\"}, \"hovermode\": \"closest\", \"mapbox\": {\"style\": \"light\"}, \"paper_bgcolor\": \"white\", \"plot_bgcolor\": \"white\", \"polar\": {\"angularaxis\": {\"gridcolor\": \"#EBF0F8\", \"linecolor\": \"#EBF0F8\", \"ticks\": \"\"}, \"bgcolor\": \"white\", \"radialaxis\": {\"gridcolor\": \"#EBF0F8\", \"linecolor\": \"#EBF0F8\", \"ticks\": \"\"}}, \"scene\": {\"xaxis\": {\"backgroundcolor\": \"white\", \"gridcolor\": \"#DFE8F3\", \"gridwidth\": 2, \"linecolor\": \"#EBF0F8\", \"showbackground\": true, \"ticks\": \"\", \"zerolinecolor\": \"#EBF0F8\"}, \"yaxis\": {\"backgroundcolor\": \"white\", \"gridcolor\": \"#DFE8F3\", \"gridwidth\": 2, \"linecolor\": \"#EBF0F8\", \"showbackground\": true, \"ticks\": \"\", \"zerolinecolor\": \"#EBF0F8\"}, \"zaxis\": {\"backgroundcolor\": \"white\", \"gridcolor\": \"#DFE8F3\", \"gridwidth\": 2, \"linecolor\": \"#EBF0F8\", \"showbackground\": true, \"ticks\": \"\", \"zerolinecolor\": \"#EBF0F8\"}}, \"shapedefaults\": {\"line\": {\"color\": \"#2a3f5f\"}}, \"ternary\": {\"aaxis\": {\"gridcolor\": \"#DFE8F3\", \"linecolor\": \"#A2B1C6\", \"ticks\": \"\"}, \"baxis\": {\"gridcolor\": \"#DFE8F3\", \"linecolor\": \"#A2B1C6\", \"ticks\": \"\"}, \"bgcolor\": \"white\", \"caxis\": {\"gridcolor\": \"#DFE8F3\", \"linecolor\": \"#A2B1C6\", \"ticks\": \"\"}}, \"title\": {\"x\": 0.05}, \"xaxis\": {\"automargin\": true, \"gridcolor\": \"#EBF0F8\", \"linecolor\": \"#EBF0F8\", \"ticks\": \"\", \"title\": {\"standoff\": 15}, \"zerolinecolor\": \"#EBF0F8\", \"zerolinewidth\": 2}, \"yaxis\": {\"automargin\": true, \"gridcolor\": \"#EBF0F8\", \"linecolor\": \"#EBF0F8\", \"ticks\": \"\", \"title\": {\"standoff\": 15}, \"zerolinecolor\": \"#EBF0F8\", \"zerolinewidth\": 2}}}, \"title\": {\"text\": \"Gr\\u00e1fico da silhueta\"}, \"xaxis\": {\"anchor\": \"y\", \"domain\": [0.0, 0.45], \"title\": {\"text\": \"O valor do coeficiente da silhueta\"}}, \"xaxis2\": {\"anchor\": \"y2\", \"domain\": [0.55, 1.0], \"title\": {\"text\": \"PCA1\"}}, \"yaxis\": {\"anchor\": \"x\", \"domain\": [0.0, 1.0], \"title\": {\"text\": \"Observa\\u00e7\\u00f5es da silhueta de v\\u00e1rios clusters\"}}, \"yaxis2\": {\"anchor\": \"x2\", \"domain\": [0.0, 1.0], \"title\": {\"text\": \"PCA2\"}}},\n",
              "                        {\"responsive\": true}\n",
              "                    ).then(function(){\n",
              "                            \n",
              "var gd = document.getElementById('746537fb-139c-423c-9b5d-2928b44296eb');\n",
              "var x = new MutationObserver(function (mutations, observer) {{\n",
              "        var display = window.getComputedStyle(gd).display;\n",
              "        if (!display || display === 'none') {{\n",
              "            console.log([gd, 'removed!']);\n",
              "            Plotly.purge(gd);\n",
              "            observer.disconnect();\n",
              "        }}\n",
              "}});\n",
              "\n",
              "// Listen for the removal of the full notebook cells\n",
              "var notebookContainer = gd.closest('#notebook-container');\n",
              "if (notebookContainer) {{\n",
              "    x.observe(notebookContainer, {childList: true});\n",
              "}}\n",
              "\n",
              "// Listen for the clearing of the current output cell\n",
              "var outputEl = gd.closest('.output');\n",
              "if (outputEl) {{\n",
              "    x.observe(outputEl, {childList: true});\n",
              "}}\n",
              "\n",
              "                        })\n",
              "                };\n",
              "                \n",
              "            </script>\n",
              "        </div>\n",
              "</body>\n",
              "</html>"
            ]
          },
          "metadata": {}
        }
      ]
    },
    {
      "cell_type": "markdown",
      "metadata": {
        "id": "0gNQ6ZyYdQZy"
      },
      "source": [
        "## Recomendação"
      ]
    },
    {
      "cell_type": "markdown",
      "metadata": {
        "id": "09ezgIyadQZz"
      },
      "source": [
        "Vale ressaltar que o estado do Ceará, no método HC, foi o único estado que ficou em um único grupo, separado do restante. Na análise explorátoria, já foi possível identificar que a curva de crescimento desse estado está alta quando comparada com os outros estados. Nesse caso, parece que as medidas adotadas no Ceará poderiam ser revistas, para que se reduza o crescimento de novos casos, por meio de medidas mais restritivas, tais como lockdown, que poderiam reduzir a quantidade de casos novos entre as pessoas daquele estado."
      ]
    }
  ]
}